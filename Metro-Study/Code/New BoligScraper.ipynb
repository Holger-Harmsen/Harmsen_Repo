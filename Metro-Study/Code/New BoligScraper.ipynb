{
 "metadata": {
  "language_info": {
   "codemirror_mode": {
    "name": "ipython",
    "version": 3
   },
   "file_extension": ".py",
   "mimetype": "text/x-python",
   "name": "python",
   "nbconvert_exporter": "python",
   "pygments_lexer": "ipython3",
   "version": "3.7.4-final"
  },
  "orig_nbformat": 2,
  "kernelspec": {
   "name": "python_defaultSpec_1597855852253",
   "display_name": "Python 3.7.4 64-bit ('base': conda)"
  }
 },
 "nbformat": 4,
 "nbformat_minor": 2,
 "cells": [
  {
   "cell_type": "code",
   "execution_count": 77,
   "metadata": {},
   "outputs": [],
   "source": [
    "import numpy as np\n",
    "import pandas as pd\n",
    "import datetime\n",
    "from dateutil.parser import parse\n",
    "import requests, re, time\n",
    "import pandas_datareader\n",
    "import pickle\n",
    "import math\n",
    "\n",
    "import matplotlib.pyplot as plt\n",
    "%matplotlib inline\n",
    "from matplotlib.lines import Line2D\n",
    "import matplotlib.patches as mpatches\n",
    "import seaborn as sns \n",
    "\n",
    "import statsmodels.api as sm\n",
    "import json\n",
    "from pandas.io.json import json_normalize\n",
    "from bs4 import BeautifulSoup\n",
    "from selenium import webdriver\n",
    "import time\n",
    "\n",
    "import geopy.distance"
   ]
  },
  {
   "cell_type": "code",
   "execution_count": 2,
   "metadata": {},
   "outputs": [],
   "source": [
    "### Define our Connector\n",
    "\n",
    "import requests,os,time\n",
    "def ratelimit(dt):\n",
    "    \"A function that handles the rate of your calls.\"\n",
    "    time.sleep(dt) # sleep one second.\n",
    "\n",
    "class Connector():\n",
    "  def __init__(self,logfile,overwrite_log=False,connector_type='requests',session=False,path2selenium='',n_tries = 5,timeout=30,waiting_time=0.5):\n",
    "    \"\"\"This Class implements a method for reliable connection to the internet and monitoring. \n",
    "    It handles simple errors due to connection problems, and logs a range of information for basic quality assessments\n",
    "    \n",
    "    Keyword arguments:\n",
    "    logfile -- path to the logfile\n",
    "    overwrite_log -- bool, defining if logfile should be cleared (rarely the case). \n",
    "    connector_type -- use the 'requests' module or the 'selenium'. Will have different since the selenium webdriver does not have a similar response object when using the get method, and monitoring the behavior cannot be automated in the same way.\n",
    "    session -- requests.session object. For defining custom headers and proxies.\n",
    "    path2selenium -- str, sets the path to the geckodriver needed when using selenium.\n",
    "    n_tries -- int, defines the number of retries the *get* method will try to avoid random connection errors.\n",
    "    timeout -- int, seconds the get request will wait for the server to respond, again to avoid connection errors.\n",
    "    \"\"\"\n",
    "    \n",
    "    ## Initialization function defining parameters. \n",
    "    self.n_tries = n_tries # For avoiding triviel error e.g. connection errors, this defines how many times it will retry.\n",
    "    self.timeout = timeout # Defining the maximum time to wait for a server to response.\n",
    "    self.waiting_time = waiting_time # define simple rate_limit parameter.\n",
    "    ## not implemented here, if you use selenium.\n",
    "    if connector_type=='selenium':\n",
    "      assert path2selenium!='', \"You need to specify the path to you geckodriver if you want to use Selenium\"\n",
    "      from selenium import webdriver \n",
    "      ## HIN download the latest geckodriver here: https://github.com/mozilla/geckodriver/releases\n",
    "\n",
    "      assert os.path.isfile(path2selenium),'You need to insert a valid path2selenium the path to your geckodriver. You can download the latest geckodriver here: https://github.com/mozilla/geckodriver/releases'\n",
    "      self.browser = webdriver.Firefox(executable_path=path2selenium) # start the browser with a path to the geckodriver.\n",
    "\n",
    "    self.connector_type = connector_type # set the connector_type\n",
    "    \n",
    "    if session: # set the custom session\n",
    "      self.session = session\n",
    "    else:\n",
    "      self.session = requests.session()\n",
    "    self.logfilename = logfile # set the logfile path\n",
    "    ## define header for the logfile\n",
    "    header = ['id','project','connector_type','t', 'delta_t', 'url', 'redirect_url','response_size', 'response_code','success','error']\n",
    "    if os.path.isfile(logfile):        \n",
    "      if overwrite_log==True:\n",
    "        self.log = open(logfile,'w')\n",
    "        self.log.write(';'.join(header))\n",
    "      else:\n",
    "        self.log = open(logfile,'a')\n",
    "    else:\n",
    "      self.log = open(logfile,'w')\n",
    "      self.log.write(';'.join(header))\n",
    "    ## load log \n",
    "    with open(logfile,'r') as f: # open file\n",
    "        \n",
    "      l = f.read().split('\\n') # read and split file by newlines.\n",
    "      ## set id\n",
    "      if len(l)<=1:\n",
    "        self.id = 0\n",
    "      else:\n",
    "        self.id = int(l[-1][0])+1\n",
    "            \n",
    "  def get(self,url,project_name):\n",
    "    \"\"\"Method for connector reliably to the internet, with multiple tries and simple error handling, as well as default logging function.\n",
    "    Input url and the project name for the log (i.e. is it part of mapping the domain, or is it the part of the final stage in the data collection).\n",
    "    \n",
    "    Keyword arguments:\n",
    "    url -- str, url\n",
    "    project_name -- str, Name used for analyzing the log. Use case could be the 'Mapping of domain','Meta_data_collection','main data collection'. \n",
    "    \"\"\"\n",
    "     \n",
    "    project_name = project_name.replace(';','-') # make sure the default csv seperator is not in the project_name.\n",
    "    if self.connector_type=='requests': # Determine connector method.\n",
    "      for _ in range(self.n_tries): # for loop defining number of retries with the requests method.\n",
    "        ratelimit(self.waiting_time)\n",
    "        t = time.time()\n",
    "        try: # error handling \n",
    "          response = self.session.get(url,timeout = self.timeout) # make get call\n",
    "\n",
    "          err = '' # define python error variable as empty assumming success.\n",
    "          success = True # define success variable\n",
    "          redirect_url = response.url # log current url, after potential redirects \n",
    "          dt = t - time.time() # define delta-time waiting for the server and downloading content.\n",
    "          size = len(response.text) # define variable for size of html content of the response.\n",
    "          response_code = response.status_code # log status code.\n",
    "          ## log...\n",
    "          call_id = self.id # get current unique identifier for the call\n",
    "          self.id+=1 # increment call id\n",
    "          #['id','project_name','connector_type','t', 'delta_t', 'url', 'redirect_url','response_size', 'response_code','success','error']\n",
    "          row = [call_id,project_name,self.connector_type,t,dt,url,redirect_url,size,response_code,success,err] # define row to be written in the log.\n",
    "          self.log.write('\\n'+';'.join(map(str,row))) # write log.\n",
    "          self.log.flush()\n",
    "          return response,call_id # return response and unique identifier.\n",
    "\n",
    "        except Exception as e: # define error condition\n",
    "          err = str(e) # python error\n",
    "          response_code = '' # blank response code \n",
    "          success = False # call success = False\n",
    "          size = 0 # content is empty.\n",
    "          redirect_url = '' # redirect url empty \n",
    "          dt = t - time.time() # define delta t\n",
    "\n",
    "          ## log...\n",
    "          call_id = self.id # define unique identifier\n",
    "          self.id+=1 # increment call_id\n",
    "\n",
    "          row = [call_id,project_name,self.connector_type,t,dt,url,redirect_url,size,response_code,success,err] # define row\n",
    "          self.log.write('\\n'+';'.join(map(str,row))) # write row to log.\n",
    "          self.log.flush()\n",
    "    else:\n",
    "      t = time.time()\n",
    "      ratelimit(self.waiting_time)\n",
    "      self.browser.get(url) # use selenium get method\n",
    "      ## log\n",
    "      call_id = self.id # define unique identifier for the call. \n",
    "      self.id+=1 # increment the call_id\n",
    "      err = '' # blank error message\n",
    "      success = '' # success blank\n",
    "      redirect_url = self.browser.current_url # redirect url.\n",
    "      dt = t - time.time() # get time for get method ... NOTE: not necessarily the complete load time.\n",
    "      size = len(self.browser.page_source) # get size of content ... NOTE: not necessarily correct, since selenium works in the background, and could still be loading.\n",
    "      response_code = '' # empty response code.\n",
    "      row = [call_id,project_name,self.connector_type,t,dt,url,redirect_url,size,response_code,success,err] # define row \n",
    "      self.log.write('\\n'+';'.join(map(str,row))) # write row to log file.\n",
    "      self.log.flush()\n",
    "    # Using selenium it will not return a response object, instead you should call the browser object of the connector.\n",
    "    ## connector.browser.page_source will give you the html.\n",
    "      return None,call_id"
   ]
  },
  {
   "cell_type": "code",
   "execution_count": 3,
   "metadata": {},
   "outputs": [],
   "source": [
    "path2gecko = '/Users/holger/Documents/Python/Harmsen_Repo/Metro-Study/Gecko/geckodriver'\n",
    "connector = Connector('Boliga Scrape.csv',overwrite_log=True,path2selenium=path2gecko,connector_type='requests')"
   ]
  },
  {
   "cell_type": "code",
   "execution_count": 4,
   "metadata": {},
   "outputs": [],
   "source": [
    "url = 'https://api.boliga.dk/api/v2/sold/search/results?propertyType=3&municipality=101&salesDateMin=1992&salesDateMax=today&sort=date-d&page=1&street='\n",
    "\n",
    "r, _ = connector.get(url, 'Boliga Scrape')"
   ]
  },
  {
   "cell_type": "code",
   "execution_count": 5,
   "metadata": {},
   "outputs": [],
   "source": [
    "data = r.json()"
   ]
  },
  {
   "cell_type": "code",
   "execution_count": 6,
   "metadata": {},
   "outputs": [
    {
     "output_type": "execute_result",
     "data": {
      "text/plain": "dict_keys(['meta', 'results'])"
     },
     "metadata": {},
     "execution_count": 6
    }
   ],
   "source": [
    "data.keys()"
   ]
  },
  {
   "cell_type": "code",
   "execution_count": 7,
   "metadata": {},
   "outputs": [
    {
     "output_type": "execute_result",
     "data": {
      "text/plain": "{'pageIndex': 1,\n 'pageSize': 50,\n 'totalCount': 55540,\n 'totalPages': 1111,\n 'minPage': 1,\n 'maxPage': 6,\n 'countFrom': 1,\n 'countTo': 50}"
     },
     "metadata": {},
     "execution_count": 7
    }
   ],
   "source": [
    "data['meta']"
   ]
  },
  {
   "cell_type": "code",
   "execution_count": 8,
   "metadata": {},
   "outputs": [
    {
     "output_type": "execute_result",
     "data": {
      "text/plain": "dict_keys(['estateId', 'address', 'zipCode', 'price', 'soldDate', 'propertyType', 'saleType', 'sqmPrice', 'rooms', 'size', 'buildYear', 'change', 'guid', 'latitude', 'longitude', 'municipalityCode', 'estateCode', 'city', 'groupKey', 'canGetVR'])"
     },
     "metadata": {},
     "execution_count": 8
    }
   ],
   "source": [
    "data['results'][1].keys()"
   ]
  },
  {
   "cell_type": "code",
   "execution_count": 26,
   "metadata": {},
   "outputs": [],
   "source": [
    "def ApartmentScraper(pages,municipality):\n",
    "    Apartmentlist = [] \n",
    "    start_time = time.time()\n",
    "\n",
    "    for i in range(1,pages+1):\n",
    "        if i % 50 == 0:\n",
    "            print(f'Iteration: {i}')\n",
    "        url = f'https://api.boliga.dk/api/v2/sold/search/results?propertyType=3&municipality={municipality}&salesDateMin=1992&salesDateMax=today&sort=date-d&page={i}&street='\n",
    "\n",
    "        try: \n",
    "            r, _ = connector.get(url, 'Boliga Scrape')\n",
    "            Apartmentlist.append(r.json())\n",
    "        except Exception as e:\n",
    "            print(e)\n",
    "        \n",
    "    time.sleep(0.2)\n",
    "    print(f'Time elapsed: {time.time()-start_time: .2f}')\n",
    "    return Apartmentlist"
   ]
  },
  {
   "cell_type": "code",
   "execution_count": 31,
   "metadata": {
    "tags": []
   },
   "outputs": [
    {
     "output_type": "stream",
     "name": "stdout",
     "text": "Iteration: 50\nIteration: 100\nIteration: 150\nIteration: 200\nIteration: 250\nIteration: 300\nIteration: 350\nIteration: 400\nIteration: 450\nIteration: 500\nIteration: 550\nIteration: 600\nIteration: 650\nIteration: 700\nIteration: 750\nIteration: 800\nIteration: 850\nIteration: 900\nIteration: 950\nIteration: 1000\nIteration: 1050\nIteration: 1100\nTime elapsed:  994.20\n"
    }
   ],
   "source": [
    "CPH_Apartments = ApartmentScraper(1110,101) # Copenhagen: Municipality 101\n",
    "CPH_Apartments_df = pd.concat([pd.DataFrame(data['results']) for data in CPH_Apartments])"
   ]
  },
  {
   "cell_type": "code",
   "execution_count": 32,
   "metadata": {
    "tags": []
   },
   "outputs": [
    {
     "output_type": "stream",
     "name": "stdout",
     "text": "Iteration: 50\nIteration: 100\nIteration: 150\nIteration: 200\nTime elapsed:  216.59\n"
    }
   ],
   "source": [
    "FRB_Apartments = ApartmentScraper(247,147) # Copenhagen: Municipality 147\n",
    "FRB_Apartments_df = pd.concat([pd.DataFrame(data['results']) for data in FRB_Apartments])"
   ]
  },
  {
   "cell_type": "code",
   "execution_count": 33,
   "metadata": {},
   "outputs": [],
   "source": [
    "Apartments = pd.concat([CPH_Apartments_df,FRB_Apartments_df],ignore_index=True)\n",
    "Apartments.to_pickle('/Users/holger/Documents/Python/Harmsen_Repo/Metro-Study/Pickles/Apartment Data API.pkl')"
   ]
  },
  {
   "cell_type": "markdown",
   "metadata": {},
   "source": [
    "## Working with the data"
   ]
  },
  {
   "cell_type": "code",
   "execution_count": 91,
   "metadata": {},
   "outputs": [],
   "source": [
    "Apartments = pd.read_pickle('/Users/holger/Documents/Python/Harmsen_Repo/Metro-Study/Pickles/Apartment Data API.pkl')"
   ]
  },
  {
   "cell_type": "code",
   "execution_count": 92,
   "metadata": {},
   "outputs": [
    {
     "output_type": "execute_result",
     "data": {
      "text/plain": "   estateId                         address  zipCode    price  \\\n0   1677218           Brofogedvej 14, 3. th     2400  3195000   \n1   1670734  Nordre Frihavnsgade 55, st. tv     2100  4000000   \n\n                   soldDate  propertyType   saleType  sqmPrice  rooms  size  \\\n0  2020-08-05T22:00:00.000Z             3  Alm. Salg  48409.09    3.0    66   \n1  2020-08-05T22:00:00.000Z             3  Alm. Salg  50000.00    3.0    80   \n\n   buildYear    change                                  guid  latitude  \\\n0       1899  3.231018  4B11F5D0-1CEC-4D45-8CA0-DB28989FCF66  55.70392   \n1       1893  2.695764  4300D256-CF8C-4573-ACDA-98F771473FEA  55.70270   \n\n   longitude  municipalityCode  estateCode          city groupKey  canGetVR  \n0  12.531980               101       73963  København NV     None      True  \n1  12.583746               101      396657   København Ø     None      True  ",
      "text/html": "<div>\n<style scoped>\n    .dataframe tbody tr th:only-of-type {\n        vertical-align: middle;\n    }\n\n    .dataframe tbody tr th {\n        vertical-align: top;\n    }\n\n    .dataframe thead th {\n        text-align: right;\n    }\n</style>\n<table border=\"1\" class=\"dataframe\">\n  <thead>\n    <tr style=\"text-align: right;\">\n      <th></th>\n      <th>estateId</th>\n      <th>address</th>\n      <th>zipCode</th>\n      <th>price</th>\n      <th>soldDate</th>\n      <th>propertyType</th>\n      <th>saleType</th>\n      <th>sqmPrice</th>\n      <th>rooms</th>\n      <th>size</th>\n      <th>buildYear</th>\n      <th>change</th>\n      <th>guid</th>\n      <th>latitude</th>\n      <th>longitude</th>\n      <th>municipalityCode</th>\n      <th>estateCode</th>\n      <th>city</th>\n      <th>groupKey</th>\n      <th>canGetVR</th>\n    </tr>\n  </thead>\n  <tbody>\n    <tr>\n      <td>0</td>\n      <td>1677218</td>\n      <td>Brofogedvej 14, 3. th</td>\n      <td>2400</td>\n      <td>3195000</td>\n      <td>2020-08-05T22:00:00.000Z</td>\n      <td>3</td>\n      <td>Alm. Salg</td>\n      <td>48409.09</td>\n      <td>3.0</td>\n      <td>66</td>\n      <td>1899</td>\n      <td>3.231018</td>\n      <td>4B11F5D0-1CEC-4D45-8CA0-DB28989FCF66</td>\n      <td>55.70392</td>\n      <td>12.531980</td>\n      <td>101</td>\n      <td>73963</td>\n      <td>København NV</td>\n      <td>None</td>\n      <td>True</td>\n    </tr>\n    <tr>\n      <td>1</td>\n      <td>1670734</td>\n      <td>Nordre Frihavnsgade 55, st. tv</td>\n      <td>2100</td>\n      <td>4000000</td>\n      <td>2020-08-05T22:00:00.000Z</td>\n      <td>3</td>\n      <td>Alm. Salg</td>\n      <td>50000.00</td>\n      <td>3.0</td>\n      <td>80</td>\n      <td>1893</td>\n      <td>2.695764</td>\n      <td>4300D256-CF8C-4573-ACDA-98F771473FEA</td>\n      <td>55.70270</td>\n      <td>12.583746</td>\n      <td>101</td>\n      <td>396657</td>\n      <td>København Ø</td>\n      <td>None</td>\n      <td>True</td>\n    </tr>\n  </tbody>\n</table>\n</div>"
     },
     "metadata": {},
     "execution_count": 92
    }
   ],
   "source": [
    "Apartments.head(n=2)"
   ]
  },
  {
   "cell_type": "code",
   "execution_count": 99,
   "metadata": {},
   "outputs": [],
   "source": [
    "Apartments.rename(columns={'address':'Address','price':'Price','sqmPrice':'Price_sq_m','rooms':'Rooms','size':'sq_m'},inplace=True)\n",
    "\n",
    "Apartments['Address'] = Apartments['Address'] + ', ' + Apartments['city'] #Including area and city in address, so it resembles the scraper.\n",
    "Apartments['Address transformed'] = [re.sub(',[^>]+,', '',i)\n",
    "for i in Apartments['Address']\n",
    "    ]\n",
    "\n",
    "Apartments['Price_mio'] = Apartments['Price']/10**6\n",
    "Apartments['Price_sq_m_1000'] = Apartments['Price_sq_m']/10**3\n",
    "\n",
    "# Date sold\n",
    "dates = [i[:10] for i in Apartments['soldDate']]\n",
    "Apartments['Date_sold'] = [datetime.datetime(year=int(i[:4]),month=int(i[5:7]),day=int(i[8:]),)\n",
    "    for i in dates\n",
    "]\n",
    "\n",
    "Apartments['Coordinates'] = [(Apartments['latitude'][i],Apartments['longitude'][i]) for i in range(0,len(Apartments))]\n",
    "\n",
    "Apartments['Rooms'] = [int(i) for i in Apartments['Rooms']]"
   ]
  },
  {
   "cell_type": "code",
   "execution_count": null,
   "metadata": {},
   "outputs": [],
   "source": []
  },
  {
   "cell_type": "code",
   "execution_count": 100,
   "metadata": {},
   "outputs": [
    {
     "output_type": "execute_result",
     "data": {
      "text/plain": "       estateId                                            Address  zipCode  \\\n0       1677218  Brofogedvej 14, 3. th, København NV, København...     2400   \n1       1670734  Nordre Frihavnsgade 55, st. tv, København Ø, K...     2100   \n2             0  A.C. Meyers Vænge 5, st. tv, København SV, Køb...     2450   \n3       1663437  Bremensgade 25, 1. th, København S, København ...     2300   \n4             0  Nørre Søgade 19, 5. tv, København K, København...     1370   \n...         ...                                                ...      ...   \n67845         0  Moltkesvej 61, st. th, Frederiksberg, Frederik...     2000   \n67846         0  Sankt Thomas Alle 11, 4. th, Frederiksberg C, ...     1824   \n67847         0  Wilkensvej 7, 5. tv, Frederiksberg, Frederiksb...     2000   \n67848         0  Carl Bernhards Vej 3A, st, Frederiksberg C, Fr...     1817   \n67849         0  Kong Georgs Vej 11, 1, Frederiksberg, Frederik...     2000   \n\n         Price                  soldDate  propertyType   saleType  Price_sq_m  \\\n0      3195000  2020-08-05T22:00:00.000Z             3  Alm. Salg  48409.0900   \n1      4000000  2020-08-05T22:00:00.000Z             3  Alm. Salg  50000.0000   \n2      2650000  2020-08-04T22:00:00.000Z             3  Fam. Salg  18794.3260   \n3      3270000  2020-08-04T22:00:00.000Z             3  Alm. Salg  40875.0000   \n4      3162500  2020-08-03T22:00:00.000Z             3  Fam. Salg  28750.0000   \n...        ...                       ...           ...        ...         ...   \n67845   690000  1992-01-25T23:00:00.000Z             3  Alm. Salg   7840.9090   \n67846   725800  1992-01-23T23:00:00.000Z             3  Alm. Salg   6598.1816   \n67847   535000  1992-01-19T23:00:00.000Z             3  Alm. Salg   8492.0630   \n67848   750000  1992-01-16T23:00:00.000Z             3  Alm. Salg   3260.8696   \n67849  2965000  1992-01-16T23:00:00.000Z             3  Alm. Salg  29650.0000   \n\n       Rooms  sq_m  ...  estateCode             city groupKey  canGetVR  \\\n0          3    66  ...       73963     København NV     None      True   \n1          3    80  ...      396657      København Ø     None      True   \n2          5   141  ...      771610     København SV     None      True   \n3          4    80  ...       70522      København S     None      True   \n4          4   110  ...      793451      København K     None      True   \n...      ...   ...  ...         ...              ...      ...       ...   \n67845      4    88  ...       80573    Frederiksberg      NaN      True   \n67846      4   110  ...      198310  Frederiksberg C      NaN      True   \n67847      2    63  ...      137834    Frederiksberg      NaN      True   \n67848      7   230  ...      199430  Frederiksberg C      NaN      True   \n67849      3   100  ...       68654    Frederiksberg      NaN      True   \n\n                         Address transformed  Price_mio  Price_sq_m_1000  \\\n0                Brofogedvej 14 København NV     3.1950        48.409090   \n1         Nordre Frihavnsgade 55 København Ø     4.0000        50.000000   \n2           A.C. Meyers Vænge 5 København SV     2.6500        18.794326   \n3                 Bremensgade 25 København S     3.2700        40.875000   \n4                Nørre Søgade 19 København K     3.1625        28.750000   \n...                                      ...        ...              ...   \n67845            Moltkesvej 61 Frederiksberg     0.6900         7.840909   \n67846   Sankt Thomas Alle 11 Frederiksberg C     0.7258         6.598182   \n67847             Wilkensvej 7 Frederiksberg     0.5350         8.492063   \n67848  Carl Bernhards Vej 3A Frederiksberg C     0.7500         3.260870   \n67849       Kong Georgs Vej 11 Frederiksberg     2.9650        29.650000   \n\n       Date_sold             Coordinates  Area  \n0     2020-08-05    (55.70392, 12.53198)    NV  \n1     2020-08-05    (55.7027, 12.583746)     Ø  \n2     2020-08-04  (55.652477, 12.543737)   NaN  \n3     2020-08-04   (55.66606, 12.617712)     S  \n4     2020-08-03    (55.6845, 12.563928)     K  \n...          ...                     ...   ...  \n67845 1992-01-25   (55.68591, 12.508274)   FRB  \n67846 1992-01-23  (55.674374, 12.546298)   FRB  \n67847 1992-01-19   (55.68207, 12.516475)   FRB  \n67848 1992-01-16  (55.672497, 12.544128)   FRB  \n67849 1992-01-16  (55.687294, 12.537809)   FRB  \n\n[67850 rows x 26 columns]",
      "text/html": "<div>\n<style scoped>\n    .dataframe tbody tr th:only-of-type {\n        vertical-align: middle;\n    }\n\n    .dataframe tbody tr th {\n        vertical-align: top;\n    }\n\n    .dataframe thead th {\n        text-align: right;\n    }\n</style>\n<table border=\"1\" class=\"dataframe\">\n  <thead>\n    <tr style=\"text-align: right;\">\n      <th></th>\n      <th>estateId</th>\n      <th>Address</th>\n      <th>zipCode</th>\n      <th>Price</th>\n      <th>soldDate</th>\n      <th>propertyType</th>\n      <th>saleType</th>\n      <th>Price_sq_m</th>\n      <th>Rooms</th>\n      <th>sq_m</th>\n      <th>...</th>\n      <th>estateCode</th>\n      <th>city</th>\n      <th>groupKey</th>\n      <th>canGetVR</th>\n      <th>Address transformed</th>\n      <th>Price_mio</th>\n      <th>Price_sq_m_1000</th>\n      <th>Date_sold</th>\n      <th>Coordinates</th>\n      <th>Area</th>\n    </tr>\n  </thead>\n  <tbody>\n    <tr>\n      <td>0</td>\n      <td>1677218</td>\n      <td>Brofogedvej 14, 3. th, København NV, København...</td>\n      <td>2400</td>\n      <td>3195000</td>\n      <td>2020-08-05T22:00:00.000Z</td>\n      <td>3</td>\n      <td>Alm. Salg</td>\n      <td>48409.0900</td>\n      <td>3</td>\n      <td>66</td>\n      <td>...</td>\n      <td>73963</td>\n      <td>København NV</td>\n      <td>None</td>\n      <td>True</td>\n      <td>Brofogedvej 14 København NV</td>\n      <td>3.1950</td>\n      <td>48.409090</td>\n      <td>2020-08-05</td>\n      <td>(55.70392, 12.53198)</td>\n      <td>NV</td>\n    </tr>\n    <tr>\n      <td>1</td>\n      <td>1670734</td>\n      <td>Nordre Frihavnsgade 55, st. tv, København Ø, K...</td>\n      <td>2100</td>\n      <td>4000000</td>\n      <td>2020-08-05T22:00:00.000Z</td>\n      <td>3</td>\n      <td>Alm. Salg</td>\n      <td>50000.0000</td>\n      <td>3</td>\n      <td>80</td>\n      <td>...</td>\n      <td>396657</td>\n      <td>København Ø</td>\n      <td>None</td>\n      <td>True</td>\n      <td>Nordre Frihavnsgade 55 København Ø</td>\n      <td>4.0000</td>\n      <td>50.000000</td>\n      <td>2020-08-05</td>\n      <td>(55.7027, 12.583746)</td>\n      <td>Ø</td>\n    </tr>\n    <tr>\n      <td>2</td>\n      <td>0</td>\n      <td>A.C. Meyers Vænge 5, st. tv, København SV, Køb...</td>\n      <td>2450</td>\n      <td>2650000</td>\n      <td>2020-08-04T22:00:00.000Z</td>\n      <td>3</td>\n      <td>Fam. Salg</td>\n      <td>18794.3260</td>\n      <td>5</td>\n      <td>141</td>\n      <td>...</td>\n      <td>771610</td>\n      <td>København SV</td>\n      <td>None</td>\n      <td>True</td>\n      <td>A.C. Meyers Vænge 5 København SV</td>\n      <td>2.6500</td>\n      <td>18.794326</td>\n      <td>2020-08-04</td>\n      <td>(55.652477, 12.543737)</td>\n      <td>NaN</td>\n    </tr>\n    <tr>\n      <td>3</td>\n      <td>1663437</td>\n      <td>Bremensgade 25, 1. th, København S, København ...</td>\n      <td>2300</td>\n      <td>3270000</td>\n      <td>2020-08-04T22:00:00.000Z</td>\n      <td>3</td>\n      <td>Alm. Salg</td>\n      <td>40875.0000</td>\n      <td>4</td>\n      <td>80</td>\n      <td>...</td>\n      <td>70522</td>\n      <td>København S</td>\n      <td>None</td>\n      <td>True</td>\n      <td>Bremensgade 25 København S</td>\n      <td>3.2700</td>\n      <td>40.875000</td>\n      <td>2020-08-04</td>\n      <td>(55.66606, 12.617712)</td>\n      <td>S</td>\n    </tr>\n    <tr>\n      <td>4</td>\n      <td>0</td>\n      <td>Nørre Søgade 19, 5. tv, København K, København...</td>\n      <td>1370</td>\n      <td>3162500</td>\n      <td>2020-08-03T22:00:00.000Z</td>\n      <td>3</td>\n      <td>Fam. Salg</td>\n      <td>28750.0000</td>\n      <td>4</td>\n      <td>110</td>\n      <td>...</td>\n      <td>793451</td>\n      <td>København K</td>\n      <td>None</td>\n      <td>True</td>\n      <td>Nørre Søgade 19 København K</td>\n      <td>3.1625</td>\n      <td>28.750000</td>\n      <td>2020-08-03</td>\n      <td>(55.6845, 12.563928)</td>\n      <td>K</td>\n    </tr>\n    <tr>\n      <td>...</td>\n      <td>...</td>\n      <td>...</td>\n      <td>...</td>\n      <td>...</td>\n      <td>...</td>\n      <td>...</td>\n      <td>...</td>\n      <td>...</td>\n      <td>...</td>\n      <td>...</td>\n      <td>...</td>\n      <td>...</td>\n      <td>...</td>\n      <td>...</td>\n      <td>...</td>\n      <td>...</td>\n      <td>...</td>\n      <td>...</td>\n      <td>...</td>\n      <td>...</td>\n      <td>...</td>\n    </tr>\n    <tr>\n      <td>67845</td>\n      <td>0</td>\n      <td>Moltkesvej 61, st. th, Frederiksberg, Frederik...</td>\n      <td>2000</td>\n      <td>690000</td>\n      <td>1992-01-25T23:00:00.000Z</td>\n      <td>3</td>\n      <td>Alm. Salg</td>\n      <td>7840.9090</td>\n      <td>4</td>\n      <td>88</td>\n      <td>...</td>\n      <td>80573</td>\n      <td>Frederiksberg</td>\n      <td>NaN</td>\n      <td>True</td>\n      <td>Moltkesvej 61 Frederiksberg</td>\n      <td>0.6900</td>\n      <td>7.840909</td>\n      <td>1992-01-25</td>\n      <td>(55.68591, 12.508274)</td>\n      <td>FRB</td>\n    </tr>\n    <tr>\n      <td>67846</td>\n      <td>0</td>\n      <td>Sankt Thomas Alle 11, 4. th, Frederiksberg C, ...</td>\n      <td>1824</td>\n      <td>725800</td>\n      <td>1992-01-23T23:00:00.000Z</td>\n      <td>3</td>\n      <td>Alm. Salg</td>\n      <td>6598.1816</td>\n      <td>4</td>\n      <td>110</td>\n      <td>...</td>\n      <td>198310</td>\n      <td>Frederiksberg C</td>\n      <td>NaN</td>\n      <td>True</td>\n      <td>Sankt Thomas Alle 11 Frederiksberg C</td>\n      <td>0.7258</td>\n      <td>6.598182</td>\n      <td>1992-01-23</td>\n      <td>(55.674374, 12.546298)</td>\n      <td>FRB</td>\n    </tr>\n    <tr>\n      <td>67847</td>\n      <td>0</td>\n      <td>Wilkensvej 7, 5. tv, Frederiksberg, Frederiksb...</td>\n      <td>2000</td>\n      <td>535000</td>\n      <td>1992-01-19T23:00:00.000Z</td>\n      <td>3</td>\n      <td>Alm. Salg</td>\n      <td>8492.0630</td>\n      <td>2</td>\n      <td>63</td>\n      <td>...</td>\n      <td>137834</td>\n      <td>Frederiksberg</td>\n      <td>NaN</td>\n      <td>True</td>\n      <td>Wilkensvej 7 Frederiksberg</td>\n      <td>0.5350</td>\n      <td>8.492063</td>\n      <td>1992-01-19</td>\n      <td>(55.68207, 12.516475)</td>\n      <td>FRB</td>\n    </tr>\n    <tr>\n      <td>67848</td>\n      <td>0</td>\n      <td>Carl Bernhards Vej 3A, st, Frederiksberg C, Fr...</td>\n      <td>1817</td>\n      <td>750000</td>\n      <td>1992-01-16T23:00:00.000Z</td>\n      <td>3</td>\n      <td>Alm. Salg</td>\n      <td>3260.8696</td>\n      <td>7</td>\n      <td>230</td>\n      <td>...</td>\n      <td>199430</td>\n      <td>Frederiksberg C</td>\n      <td>NaN</td>\n      <td>True</td>\n      <td>Carl Bernhards Vej 3A Frederiksberg C</td>\n      <td>0.7500</td>\n      <td>3.260870</td>\n      <td>1992-01-16</td>\n      <td>(55.672497, 12.544128)</td>\n      <td>FRB</td>\n    </tr>\n    <tr>\n      <td>67849</td>\n      <td>0</td>\n      <td>Kong Georgs Vej 11, 1, Frederiksberg, Frederik...</td>\n      <td>2000</td>\n      <td>2965000</td>\n      <td>1992-01-16T23:00:00.000Z</td>\n      <td>3</td>\n      <td>Alm. Salg</td>\n      <td>29650.0000</td>\n      <td>3</td>\n      <td>100</td>\n      <td>...</td>\n      <td>68654</td>\n      <td>Frederiksberg</td>\n      <td>NaN</td>\n      <td>True</td>\n      <td>Kong Georgs Vej 11 Frederiksberg</td>\n      <td>2.9650</td>\n      <td>29.650000</td>\n      <td>1992-01-16</td>\n      <td>(55.687294, 12.537809)</td>\n      <td>FRB</td>\n    </tr>\n  </tbody>\n</table>\n<p>67850 rows × 26 columns</p>\n</div>"
     },
     "metadata": {},
     "execution_count": 100
    }
   ],
   "source": [
    "Apartments"
   ]
  },
  {
   "cell_type": "code",
   "execution_count": 95,
   "metadata": {},
   "outputs": [],
   "source": [
    "# Inferring the area from the last part of the address:\n",
    "Apartments['Area'] = 'NaN'\n",
    "for i in range(0,len(Apartments)):\n",
    "    if Apartments['city'][i][-1] == 'N':\n",
    "        Apartments['Area'][i] = 'N'\n",
    "        # Solving issue with differentiating between NV and V:\n",
    "    elif Apartments['city'][i][-2:] == 'NV':\n",
    "        if Apartments['city'][i][-2] == ' V':\n",
    "            Apartments['Area'][i] = 'V'\n",
    "        else: \n",
    "            Apartments['Area'][i] = 'NV'\n",
    "    elif Apartments['city'][i][-1] == 'Ø':\n",
    "        Apartments['Area'][i] = 'Ø'\n",
    "    elif Apartments['city'][i][-1] == 'K':\n",
    "        Apartments['Area'][i] = 'K'\n",
    "    elif Apartments['city'][i][-1] == 'S':\n",
    "        Apartments['Area'][i] = 'S'\n",
    "    elif Apartments['city'][i][-5:] == 'Valby':\n",
    "        Apartments['Area'][i] = 'Valby'\n",
    "    elif Apartments['city'][i][-13:] == 'Frederiksberg':\n",
    "        Apartments['Area'][i] = 'FRB'\n",
    "    elif Apartments['city'][i][-1:] == 'C':\n",
    "        Apartments['Area'][i] = 'FRB'"
   ]
  },
  {
   "cell_type": "code",
   "execution_count": 96,
   "metadata": {},
   "outputs": [
    {
     "output_type": "execute_result",
     "data": {
      "text/plain": "       estateId                                       Address  zipCode  \\\n0       1677218           Brofogedvej 14, 3. th, København NV     2400   \n1       1670734   Nordre Frihavnsgade 55, st. tv, København Ø     2100   \n2             0     A.C. Meyers Vænge 5, st. tv, København SV     2450   \n3       1663437            Bremensgade 25, 1. th, København S     2300   \n4             0           Nørre Søgade 19, 5. tv, København K     1370   \n...         ...                                           ...      ...   \n67845         0          Moltkesvej 61, st. th, Frederiksberg     2000   \n67846         0  Sankt Thomas Alle 11, 4. th, Frederiksberg C     1824   \n67847         0            Wilkensvej 7, 5. tv, Frederiksberg     2000   \n67848         0    Carl Bernhards Vej 3A, st, Frederiksberg C     1817   \n67849         0          Kong Georgs Vej 11, 1, Frederiksberg     2000   \n\n         Price                  soldDate  propertyType   saleType  Price_sq_m  \\\n0      3195000  2020-08-05T22:00:00.000Z             3  Alm. Salg  48409.0900   \n1      4000000  2020-08-05T22:00:00.000Z             3  Alm. Salg  50000.0000   \n2      2650000  2020-08-04T22:00:00.000Z             3  Fam. Salg  18794.3260   \n3      3270000  2020-08-04T22:00:00.000Z             3  Alm. Salg  40875.0000   \n4      3162500  2020-08-03T22:00:00.000Z             3  Fam. Salg  28750.0000   \n...        ...                       ...           ...        ...         ...   \n67845   690000  1992-01-25T23:00:00.000Z             3  Alm. Salg   7840.9090   \n67846   725800  1992-01-23T23:00:00.000Z             3  Alm. Salg   6598.1816   \n67847   535000  1992-01-19T23:00:00.000Z             3  Alm. Salg   8492.0630   \n67848   750000  1992-01-16T23:00:00.000Z             3  Alm. Salg   3260.8696   \n67849  2965000  1992-01-16T23:00:00.000Z             3  Alm. Salg  29650.0000   \n\n       Rooms  sq_m  ...  estateCode             city groupKey  canGetVR  \\\n0        3.0    66  ...       73963     København NV     None      True   \n1        3.0    80  ...      396657      København Ø     None      True   \n2        5.0   141  ...      771610     København SV     None      True   \n3        4.0    80  ...       70522      København S     None      True   \n4        4.0   110  ...      793451      København K     None      True   \n...      ...   ...  ...         ...              ...      ...       ...   \n67845    4.0    88  ...       80573    Frederiksberg      NaN      True   \n67846    4.0   110  ...      198310  Frederiksberg C      NaN      True   \n67847    2.0    63  ...      137834    Frederiksberg      NaN      True   \n67848    7.0   230  ...      199430  Frederiksberg C      NaN      True   \n67849    3.0   100  ...       68654    Frederiksberg      NaN      True   \n\n                         Address transformed  Price_mio  Price_sq_m_1000  \\\n0                Brofogedvej 14 København NV     3.1950        48.409090   \n1         Nordre Frihavnsgade 55 København Ø     4.0000        50.000000   \n2           A.C. Meyers Vænge 5 København SV     2.6500        18.794326   \n3                 Bremensgade 25 København S     3.2700        40.875000   \n4                Nørre Søgade 19 København K     3.1625        28.750000   \n...                                      ...        ...              ...   \n67845            Moltkesvej 61 Frederiksberg     0.6900         7.840909   \n67846   Sankt Thomas Alle 11 Frederiksberg C     0.7258         6.598182   \n67847             Wilkensvej 7 Frederiksberg     0.5350         8.492063   \n67848  Carl Bernhards Vej 3A Frederiksberg C     0.7500         3.260870   \n67849       Kong Georgs Vej 11 Frederiksberg     2.9650        29.650000   \n\n       Date_sold             Coordinates  Area  \n0     2020-08-05    (55.70392, 12.53198)    NV  \n1     2020-08-05    (55.7027, 12.583746)     Ø  \n2     2020-08-04  (55.652477, 12.543737)   NaN  \n3     2020-08-04   (55.66606, 12.617712)     S  \n4     2020-08-03    (55.6845, 12.563928)     K  \n...          ...                     ...   ...  \n67845 1992-01-25   (55.68591, 12.508274)   FRB  \n67846 1992-01-23  (55.674374, 12.546298)   FRB  \n67847 1992-01-19   (55.68207, 12.516475)   FRB  \n67848 1992-01-16  (55.672497, 12.544128)   FRB  \n67849 1992-01-16  (55.687294, 12.537809)   FRB  \n\n[67850 rows x 26 columns]",
      "text/html": "<div>\n<style scoped>\n    .dataframe tbody tr th:only-of-type {\n        vertical-align: middle;\n    }\n\n    .dataframe tbody tr th {\n        vertical-align: top;\n    }\n\n    .dataframe thead th {\n        text-align: right;\n    }\n</style>\n<table border=\"1\" class=\"dataframe\">\n  <thead>\n    <tr style=\"text-align: right;\">\n      <th></th>\n      <th>estateId</th>\n      <th>Address</th>\n      <th>zipCode</th>\n      <th>Price</th>\n      <th>soldDate</th>\n      <th>propertyType</th>\n      <th>saleType</th>\n      <th>Price_sq_m</th>\n      <th>Rooms</th>\n      <th>sq_m</th>\n      <th>...</th>\n      <th>estateCode</th>\n      <th>city</th>\n      <th>groupKey</th>\n      <th>canGetVR</th>\n      <th>Address transformed</th>\n      <th>Price_mio</th>\n      <th>Price_sq_m_1000</th>\n      <th>Date_sold</th>\n      <th>Coordinates</th>\n      <th>Area</th>\n    </tr>\n  </thead>\n  <tbody>\n    <tr>\n      <td>0</td>\n      <td>1677218</td>\n      <td>Brofogedvej 14, 3. th, København NV</td>\n      <td>2400</td>\n      <td>3195000</td>\n      <td>2020-08-05T22:00:00.000Z</td>\n      <td>3</td>\n      <td>Alm. Salg</td>\n      <td>48409.0900</td>\n      <td>3.0</td>\n      <td>66</td>\n      <td>...</td>\n      <td>73963</td>\n      <td>København NV</td>\n      <td>None</td>\n      <td>True</td>\n      <td>Brofogedvej 14 København NV</td>\n      <td>3.1950</td>\n      <td>48.409090</td>\n      <td>2020-08-05</td>\n      <td>(55.70392, 12.53198)</td>\n      <td>NV</td>\n    </tr>\n    <tr>\n      <td>1</td>\n      <td>1670734</td>\n      <td>Nordre Frihavnsgade 55, st. tv, København Ø</td>\n      <td>2100</td>\n      <td>4000000</td>\n      <td>2020-08-05T22:00:00.000Z</td>\n      <td>3</td>\n      <td>Alm. Salg</td>\n      <td>50000.0000</td>\n      <td>3.0</td>\n      <td>80</td>\n      <td>...</td>\n      <td>396657</td>\n      <td>København Ø</td>\n      <td>None</td>\n      <td>True</td>\n      <td>Nordre Frihavnsgade 55 København Ø</td>\n      <td>4.0000</td>\n      <td>50.000000</td>\n      <td>2020-08-05</td>\n      <td>(55.7027, 12.583746)</td>\n      <td>Ø</td>\n    </tr>\n    <tr>\n      <td>2</td>\n      <td>0</td>\n      <td>A.C. Meyers Vænge 5, st. tv, København SV</td>\n      <td>2450</td>\n      <td>2650000</td>\n      <td>2020-08-04T22:00:00.000Z</td>\n      <td>3</td>\n      <td>Fam. Salg</td>\n      <td>18794.3260</td>\n      <td>5.0</td>\n      <td>141</td>\n      <td>...</td>\n      <td>771610</td>\n      <td>København SV</td>\n      <td>None</td>\n      <td>True</td>\n      <td>A.C. Meyers Vænge 5 København SV</td>\n      <td>2.6500</td>\n      <td>18.794326</td>\n      <td>2020-08-04</td>\n      <td>(55.652477, 12.543737)</td>\n      <td>NaN</td>\n    </tr>\n    <tr>\n      <td>3</td>\n      <td>1663437</td>\n      <td>Bremensgade 25, 1. th, København S</td>\n      <td>2300</td>\n      <td>3270000</td>\n      <td>2020-08-04T22:00:00.000Z</td>\n      <td>3</td>\n      <td>Alm. Salg</td>\n      <td>40875.0000</td>\n      <td>4.0</td>\n      <td>80</td>\n      <td>...</td>\n      <td>70522</td>\n      <td>København S</td>\n      <td>None</td>\n      <td>True</td>\n      <td>Bremensgade 25 København S</td>\n      <td>3.2700</td>\n      <td>40.875000</td>\n      <td>2020-08-04</td>\n      <td>(55.66606, 12.617712)</td>\n      <td>S</td>\n    </tr>\n    <tr>\n      <td>4</td>\n      <td>0</td>\n      <td>Nørre Søgade 19, 5. tv, København K</td>\n      <td>1370</td>\n      <td>3162500</td>\n      <td>2020-08-03T22:00:00.000Z</td>\n      <td>3</td>\n      <td>Fam. Salg</td>\n      <td>28750.0000</td>\n      <td>4.0</td>\n      <td>110</td>\n      <td>...</td>\n      <td>793451</td>\n      <td>København K</td>\n      <td>None</td>\n      <td>True</td>\n      <td>Nørre Søgade 19 København K</td>\n      <td>3.1625</td>\n      <td>28.750000</td>\n      <td>2020-08-03</td>\n      <td>(55.6845, 12.563928)</td>\n      <td>K</td>\n    </tr>\n    <tr>\n      <td>...</td>\n      <td>...</td>\n      <td>...</td>\n      <td>...</td>\n      <td>...</td>\n      <td>...</td>\n      <td>...</td>\n      <td>...</td>\n      <td>...</td>\n      <td>...</td>\n      <td>...</td>\n      <td>...</td>\n      <td>...</td>\n      <td>...</td>\n      <td>...</td>\n      <td>...</td>\n      <td>...</td>\n      <td>...</td>\n      <td>...</td>\n      <td>...</td>\n      <td>...</td>\n      <td>...</td>\n    </tr>\n    <tr>\n      <td>67845</td>\n      <td>0</td>\n      <td>Moltkesvej 61, st. th, Frederiksberg</td>\n      <td>2000</td>\n      <td>690000</td>\n      <td>1992-01-25T23:00:00.000Z</td>\n      <td>3</td>\n      <td>Alm. Salg</td>\n      <td>7840.9090</td>\n      <td>4.0</td>\n      <td>88</td>\n      <td>...</td>\n      <td>80573</td>\n      <td>Frederiksberg</td>\n      <td>NaN</td>\n      <td>True</td>\n      <td>Moltkesvej 61 Frederiksberg</td>\n      <td>0.6900</td>\n      <td>7.840909</td>\n      <td>1992-01-25</td>\n      <td>(55.68591, 12.508274)</td>\n      <td>FRB</td>\n    </tr>\n    <tr>\n      <td>67846</td>\n      <td>0</td>\n      <td>Sankt Thomas Alle 11, 4. th, Frederiksberg C</td>\n      <td>1824</td>\n      <td>725800</td>\n      <td>1992-01-23T23:00:00.000Z</td>\n      <td>3</td>\n      <td>Alm. Salg</td>\n      <td>6598.1816</td>\n      <td>4.0</td>\n      <td>110</td>\n      <td>...</td>\n      <td>198310</td>\n      <td>Frederiksberg C</td>\n      <td>NaN</td>\n      <td>True</td>\n      <td>Sankt Thomas Alle 11 Frederiksberg C</td>\n      <td>0.7258</td>\n      <td>6.598182</td>\n      <td>1992-01-23</td>\n      <td>(55.674374, 12.546298)</td>\n      <td>FRB</td>\n    </tr>\n    <tr>\n      <td>67847</td>\n      <td>0</td>\n      <td>Wilkensvej 7, 5. tv, Frederiksberg</td>\n      <td>2000</td>\n      <td>535000</td>\n      <td>1992-01-19T23:00:00.000Z</td>\n      <td>3</td>\n      <td>Alm. Salg</td>\n      <td>8492.0630</td>\n      <td>2.0</td>\n      <td>63</td>\n      <td>...</td>\n      <td>137834</td>\n      <td>Frederiksberg</td>\n      <td>NaN</td>\n      <td>True</td>\n      <td>Wilkensvej 7 Frederiksberg</td>\n      <td>0.5350</td>\n      <td>8.492063</td>\n      <td>1992-01-19</td>\n      <td>(55.68207, 12.516475)</td>\n      <td>FRB</td>\n    </tr>\n    <tr>\n      <td>67848</td>\n      <td>0</td>\n      <td>Carl Bernhards Vej 3A, st, Frederiksberg C</td>\n      <td>1817</td>\n      <td>750000</td>\n      <td>1992-01-16T23:00:00.000Z</td>\n      <td>3</td>\n      <td>Alm. Salg</td>\n      <td>3260.8696</td>\n      <td>7.0</td>\n      <td>230</td>\n      <td>...</td>\n      <td>199430</td>\n      <td>Frederiksberg C</td>\n      <td>NaN</td>\n      <td>True</td>\n      <td>Carl Bernhards Vej 3A Frederiksberg C</td>\n      <td>0.7500</td>\n      <td>3.260870</td>\n      <td>1992-01-16</td>\n      <td>(55.672497, 12.544128)</td>\n      <td>FRB</td>\n    </tr>\n    <tr>\n      <td>67849</td>\n      <td>0</td>\n      <td>Kong Georgs Vej 11, 1, Frederiksberg</td>\n      <td>2000</td>\n      <td>2965000</td>\n      <td>1992-01-16T23:00:00.000Z</td>\n      <td>3</td>\n      <td>Alm. Salg</td>\n      <td>29650.0000</td>\n      <td>3.0</td>\n      <td>100</td>\n      <td>...</td>\n      <td>68654</td>\n      <td>Frederiksberg</td>\n      <td>NaN</td>\n      <td>True</td>\n      <td>Kong Georgs Vej 11 Frederiksberg</td>\n      <td>2.9650</td>\n      <td>29.650000</td>\n      <td>1992-01-16</td>\n      <td>(55.687294, 12.537809)</td>\n      <td>FRB</td>\n    </tr>\n  </tbody>\n</table>\n<p>67850 rows × 26 columns</p>\n</div>"
     },
     "metadata": {},
     "execution_count": 96
    }
   ],
   "source": [
    "Apartments"
   ]
  },
  {
   "cell_type": "code",
   "execution_count": null,
   "metadata": {},
   "outputs": [],
   "source": []
  }
 ]
}