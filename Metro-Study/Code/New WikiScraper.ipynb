{
 "metadata": {
  "language_info": {
   "codemirror_mode": {
    "name": "ipython",
    "version": 3
   },
   "file_extension": ".py",
   "mimetype": "text/x-python",
   "name": "python",
   "nbconvert_exporter": "python",
   "pygments_lexer": "ipython3",
   "version": 3
  },
  "orig_nbformat": 2,
  "kernelspec": {
   "name": "python_defaultSpec_1596623474770",
   "display_name": "Python 3.7.4 64-bit ('base': conda)"
  }
 },
 "nbformat": 4,
 "nbformat_minor": 2,
 "cells": [
  {
   "cell_type": "code",
   "execution_count": 16,
   "metadata": {},
   "outputs": [],
   "source": [
    "import numpy as np\n",
    "import pandas as pd\n",
    "import datetime\n",
    "from dateutil.parser import parse\n",
    "import requests, re, time\n",
    "import pandas_datareader\n",
    "import pickle\n",
    "import math\n",
    "\n",
    "import matplotlib.pyplot as plt\n",
    "%matplotlib inline\n",
    "from matplotlib.lines import Line2D\n",
    "import matplotlib.patches as mpatches\n",
    "import seaborn as sns \n",
    "\n",
    "import statsmodels.api as sm\n",
    "import json\n",
    "from pandas.io.json import json_normalize\n",
    "from bs4 import BeautifulSoup\n",
    "from selenium import webdriver\n",
    "import time\n",
    "\n",
    "import geopy.distance"
   ]
  },
  {
   "cell_type": "code",
   "execution_count": 37,
   "metadata": {},
   "outputs": [],
   "source": [
    "path2gecko = '/Users/holger/Documents/Python/Harmsen_Repo/Metro-Study/Gecko/geckodriver'\n",
    "browser = webdriver.Firefox(executable_path=path2gecko) # start the browser with a path to the geckodriver."
   ]
  },
  {
   "cell_type": "code",
   "execution_count": 40,
   "metadata": {},
   "outputs": [],
   "source": [
    "def WikiScraper(no_metros):\n",
    "    url_base='https://da.wikipedia.org/wiki/Stationer_p%C3%A5_K%C3%B8benhavns_Metro'\n",
    "    site = browser.get(url_base)\n",
    "    html = site.text\n",
    "    time.sleep(1)\n",
    "\n",
    "    # Creating DataFrame and dictionary for information-storing:\n",
    "    data = pd.DataFrame()\n",
    "    dic_list = []\n",
    "\n",
    "    for i in range(1,no_metros+1):\n",
    "        link = browser.find_element_by_xpath(f'/html/body/div[3]/div[3]/div[5]/div/table[1]/tbody/tr[{i}]/td[1]/a')\n",
    "        link.click()\n",
    "        time.sleep(2)\n",
    "        soup = BeautifulSoup(html,'lxml')\n",
    "        Header = soup.title\n",
    "\n",
    "\n",
    "        # READ INFORMATION\n",
    "        # 1) Appending all information to DataFrame\n",
    "        table = pd.read_html(browser.page_source)[0]\n",
    "        data[f'Traits_{i}'] = table.iloc[:,0]\n",
    "        data[f'{i}'] = table.iloc[:,1]\n",
    "        data = pd.concat(data,['Header',Header],ignore_index=True)\n",
    "\n",
    "        # 2) Creating a dictionary with all information:\n",
    "        dic = {}\n",
    "        for j in range(0,len(data[f'Traits_{i}'])):\n",
    "            dic[str(data[f'Traits_{i}'][j])] = str(data[f'{i}'][j])\n",
    "\n",
    "        dic_list.append(dic)\n",
    "\n",
    "        # RETURN \n",
    "        browser.get(url_base)\n",
    "        time.sleep(2)\n",
    "\n",
    "\n",
    "    return [data, dic_list]"
   ]
  },
  {
   "cell_type": "code",
   "execution_count": 41,
   "metadata": {},
   "outputs": [
    {
     "output_type": "error",
     "ename": "AttributeError",
     "evalue": "'NoneType' object has no attribute 'text'",
     "traceback": [
      "\u001b[0;31m---------------------------------------------------------------------------\u001b[0m",
      "\u001b[0;31mAttributeError\u001b[0m                            Traceback (most recent call last)",
      "\u001b[0;32m<ipython-input-41-5d05e9a0a634>\u001b[0m in \u001b[0;36m<module>\u001b[0;34m\u001b[0m\n\u001b[0;32m----> 1\u001b[0;31m \u001b[0mMetros\u001b[0m \u001b[0;34m=\u001b[0m \u001b[0mWikiScraper\u001b[0m\u001b[0;34m(\u001b[0m\u001b[0;36m1\u001b[0m\u001b[0;34m)\u001b[0m\u001b[0;34m\u001b[0m\u001b[0;34m\u001b[0m\u001b[0m\n\u001b[0m",
      "\u001b[0;32m<ipython-input-40-99b03ce26ae9>\u001b[0m in \u001b[0;36mWikiScraper\u001b[0;34m(no_metros)\u001b[0m\n\u001b[1;32m      2\u001b[0m     \u001b[0murl_base\u001b[0m\u001b[0;34m=\u001b[0m\u001b[0;34m'https://da.wikipedia.org/wiki/Stationer_p%C3%A5_K%C3%B8benhavns_Metro'\u001b[0m\u001b[0;34m\u001b[0m\u001b[0;34m\u001b[0m\u001b[0m\n\u001b[1;32m      3\u001b[0m     \u001b[0msite\u001b[0m \u001b[0;34m=\u001b[0m \u001b[0mbrowser\u001b[0m\u001b[0;34m.\u001b[0m\u001b[0mget\u001b[0m\u001b[0;34m(\u001b[0m\u001b[0murl_base\u001b[0m\u001b[0;34m)\u001b[0m\u001b[0;34m\u001b[0m\u001b[0;34m\u001b[0m\u001b[0m\n\u001b[0;32m----> 4\u001b[0;31m     \u001b[0mhtml\u001b[0m \u001b[0;34m=\u001b[0m \u001b[0msite\u001b[0m\u001b[0;34m.\u001b[0m\u001b[0mtext\u001b[0m\u001b[0;34m\u001b[0m\u001b[0;34m\u001b[0m\u001b[0m\n\u001b[0m\u001b[1;32m      5\u001b[0m     \u001b[0mtime\u001b[0m\u001b[0;34m.\u001b[0m\u001b[0msleep\u001b[0m\u001b[0;34m(\u001b[0m\u001b[0;36m1\u001b[0m\u001b[0;34m)\u001b[0m\u001b[0;34m\u001b[0m\u001b[0;34m\u001b[0m\u001b[0m\n\u001b[1;32m      6\u001b[0m \u001b[0;34m\u001b[0m\u001b[0m\n",
      "\u001b[0;31mAttributeError\u001b[0m: 'NoneType' object has no attribute 'text'"
     ]
    }
   ],
   "source": [
    "Metros = WikiScraper(1)"
   ]
  },
  {
   "cell_type": "code",
   "execution_count": 28,
   "metadata": {},
   "outputs": [
    {
     "output_type": "execute_result",
     "data": {
      "text/plain": "[{'nan': 'nan',\n  'Overblik': 'Overblik',\n  'Land': 'Danmark',\n  'Adresse': 'Godthåbsvej 312000 Frederiksberg',\n  'Kommune': 'Frederiksberg Kommune',\n  'Jernbane': 'Cityringen',\n  'Nabostationer': 'Nuuks Plads Station, Frederiksberg Station',\n  'Forkortelse': 'Amh',\n  'Afstand': '11,3 km fra Københavns Hovedbanegård (mod uret rundt)',\n  'Åbningsdato': '29. september 2019[1]',\n  'Takstzone': '1',\n  'Perron(er)': '1',\n  'Perronspor': '2',\n  'Koordinater': '55°41′9″N 12°31′58″Ø\\ufeff / \\ufeff55.68583°N 12.53278°ØKoordinater: 55°41′9″N 12°31′58″Ø\\ufeff / \\ufeff55.68583°N 12.53278°Ø (kort)',\n  'Transport': 'Transport',\n  'Metro': 'nan',\n  'Buslinjer': '2A',\n  'Information med symbolet hentes fra Wikidata.\\xa0[ redigér på Wikidata ]': 'Information med symbolet hentes fra Wikidata.\\xa0[ redigér på Wikidata ]'}]"
     },
     "metadata": {},
     "execution_count": 28
    }
   ],
   "source": [
    "Metros[1]"
   ]
  },
  {
   "cell_type": "code",
   "execution_count": null,
   "metadata": {},
   "outputs": [],
   "source": []
  }
 ]
}