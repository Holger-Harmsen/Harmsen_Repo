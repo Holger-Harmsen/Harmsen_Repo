{
 "metadata": {
  "language_info": {
   "codemirror_mode": {
    "name": "ipython",
    "version": 3
   },
   "file_extension": ".py",
   "mimetype": "text/x-python",
   "name": "python",
   "nbconvert_exporter": "python",
   "pygments_lexer": "ipython3",
   "version": 3
  },
  "orig_nbformat": 2,
  "kernelspec": {
   "name": "python_defaultSpec_1596622272439",
   "display_name": "Python 3.7.4 64-bit ('base': conda)"
  }
 },
 "nbformat": 4,
 "nbformat_minor": 2,
 "cells": [
  {
   "cell_type": "code",
   "execution_count": 15,
   "metadata": {},
   "outputs": [],
   "source": [
    "import numpy as np\n",
    "import pandas as pd\n",
    "import datetime\n",
    "from dateutil.parser import parse\n",
    "import requests, re, time\n",
    "import pandas_datareader\n",
    "import pickle\n",
    "import math\n",
    "\n",
    "import matplotlib.pyplot as plt\n",
    "%matplotlib inline\n",
    "from matplotlib.lines import Line2D\n",
    "import matplotlib.patches as mpatches\n",
    "import seaborn as sns \n",
    "\n",
    "import statsmodels.api as sm\n",
    "import statsmodels.formula.api as smf\n",
    "from statsmodels.iolib.summary2 import summary_col\n",
    "import linearmodels as ln\n",
    "from pystout import pystout\n",
    "\n",
    "\n",
    "\n",
    "import json\n",
    "from pandas.io.json import json_normalize\n",
    "from bs4 import BeautifulSoup\n",
    "from selenium import webdriver\n",
    "import time\n",
    "\n",
    "import geopy.distance"
   ]
  },
  {
   "cell_type": "code",
   "execution_count": 16,
   "metadata": {},
   "outputs": [],
   "source": [
    "Apartments = pickle.load(open('/Users/holger/Documents/Python/Harmsen_Repo/Metro-Study/Pickles/Apartment Data 4.pkl','rb'))\n",
    "Apartments['Year Sold'] = [i.year for i in Apartments['Date_sold']]\n",
    "Apartments['Closest Metro dist'] = [i['Distance'] for i in Apartments['Closest Metro']]\n",
    "Apartments['Cityring'] = [i['Cityring'] for i in Apartments['Closest Metro']]\n",
    "Apartments['sq_m'] = (Apartments['Price']/1000)/Apartments['Price_sq_m_1000']"
   ]
  },
  {
   "cell_type": "code",
   "execution_count": 17,
   "metadata": {},
   "outputs": [],
   "source": [
    "Event = Apartments.copy()"
   ]
  },
  {
   "cell_type": "code",
   "execution_count": 18,
   "metadata": {},
   "outputs": [],
   "source": [
    "Event['Opened'] = 0\n",
    "for i in range(0,len(Event)):\n",
    "    if Event['Year Sold'][i] == 2020:\n",
    "        Event['Opened'][i] = 1"
   ]
  },
  {
   "cell_type": "code",
   "execution_count": 19,
   "metadata": {},
   "outputs": [],
   "source": [
    "# Generating Close-dummy:\n",
    "Event['Close to Metro'] = 0\n",
    "for i in range(0,len(Event)):\n",
    "    if Event['Closest Metro dist'][i] < 0.5:\n",
    "        Event['Close to Metro'][i] = 1"
   ]
  },
  {
   "cell_type": "code",
   "execution_count": 20,
   "metadata": {},
   "outputs": [],
   "source": [
    "# Generating location dummies:\n",
    "Event['Metro_loc'] = [i['Metro'] for i in Event['Closest Metro']]\n",
    "Event['log_Price'] = np.log(Event['Price'])\n",
    "area_dummy = pd.get_dummies(Event['Area'])\n",
    "year_dummy = pd.get_dummies(Event['Year Sold'])"
   ]
  },
  {
   "cell_type": "markdown",
   "metadata": {},
   "source": [
    "Deleting dummy-columns for reference-variables. In the area-dummy I remove those areas not defined for those to be the control-variable - all area-dummies are thus evaluated relative to this.\n",
    "In the year-dummy I delete both 2019 and 2020; 2020, because this year is already represented by the Opened-dummy, and 2019 for this year to be the control in the year dummy-vector. All year-dummies are thus evaluated relative to 2019"
   ]
  },
  {
   "cell_type": "code",
   "execution_count": 21,
   "metadata": {},
   "outputs": [],
   "source": [
    "area_dummy['Other'] = area_dummy['NaN']\n",
    "del area_dummy['NaN']"
   ]
  },
  {
   "cell_type": "code",
   "execution_count": 22,
   "metadata": {},
   "outputs": [],
   "source": [
    "year_dummy.columns = [str(i) for i in year_dummy.columns] # Setting columns to strings for pystout-module to work later.\n",
    "del year_dummy['2019'] # For reference-year\n",
    "del year_dummy['2020'] # Included in Opened-variable instead"
   ]
  },
  {
   "cell_type": "code",
   "execution_count": 23,
   "metadata": {},
   "outputs": [],
   "source": [
    "# Generating regression-data:\n",
    "X = pd.DataFrame()\n",
    "X['Rooms'] = Event['Rooms']\n",
    "X['Close'] = Event['Close to Metro']\n",
    "X['Cityring'] = Event['Cityring']\n",
    "X['Opened'] = Event['Opened']\n",
    "X['sq_m'] = Event['sq_m']\n",
    "\n",
    "X['OpenedXClose'] = Event['Opened']*Event['Close to Metro']\n",
    "X['OpenedXCityring'] = Event['Opened']*Event['Cityring']\n",
    "X['CityringXClose'] = Event['Close to Metro']*Event['Cityring']\n",
    "\n",
    "X['OpenedXCityringXClose'] = Event['Close to Metro'] * Event['Opened'] * Event['Cityring']\n",
    "X = pd.merge(X,area_dummy,left_index=True,right_index=True)\n",
    "X = pd.merge(X,year_dummy,left_index=True,right_index=True)"
   ]
  },
  {
   "cell_type": "markdown",
   "metadata": {},
   "source": [
    "## Describing data:"
   ]
  },
  {
   "cell_type": "code",
   "execution_count": 24,
   "metadata": {},
   "outputs": [],
   "source": [
    "# Removing irrelevant description-variables.\n",
    "describe = np.transpose(X.describe())\n",
    "del describe['min']\n",
    "del describe['25%']\n",
    "del describe['50%']\n",
    "del describe['75%']\n",
    "del describe['max']\n",
    "del describe['count']"
   ]
  },
  {
   "cell_type": "code",
   "execution_count": 25,
   "metadata": {},
   "outputs": [],
   "source": [
    "# Setting up a three-rowed table of descriptions:\n",
    "first = describe[:17]\n",
    "first['Variable'] = first.index.to_list()\n",
    "first.reset_index(inplace=True)\n",
    "del first['index']\n",
    "\n",
    "second = describe[17:30]\n",
    "second['Variable'] = second.index.to_list()\n",
    "second.reset_index(inplace=True)\n",
    "del second['index']\n",
    "\n",
    "third = describe[30:]\n",
    "third['Variable'] = third.index.to_list()\n",
    "third.reset_index(inplace=True)\n",
    "del third['index']"
   ]
  },
  {
   "cell_type": "code",
   "execution_count": 26,
   "metadata": {},
   "outputs": [],
   "source": [
    "table = pd.merge(first,second,how='outer',left_index=True,right_index=True)\n",
    "table = pd.merge(table,third,how='outer',left_index=True,right_index=True)"
   ]
  },
  {
   "cell_type": "code",
   "execution_count": 27,
   "metadata": {},
   "outputs": [],
   "source": [
    "table_sorted = table[['Variable_x','mean_x','std_x','Variable_y','mean_y','std_y','Variable','mean','std']]\n",
    "table_sorted.columns = ['var1', 'mean1', 'std1', 'var2', 'mean2', 'std2','var3','mean3','std3']\n",
    "table_sorted = table_sorted.round(decimals=3)"
   ]
  },
  {
   "cell_type": "code",
   "execution_count": 28,
   "metadata": {},
   "outputs": [
    {
     "output_type": "execute_result",
     "data": {
      "text/plain": "                     var1   mean1    std1  var2  mean2   std2  var3  mean3  \\\n0                   Rooms   2.795   1.126  1994  0.003  0.057  2007  0.016   \n1                   Close   0.435   0.496  1995  0.005  0.068  2008  0.011   \n2                Cityring   0.419   0.493  1996  0.007  0.083  2009  0.016   \n3                  Opened   0.099   0.299  1997  0.008  0.089  2010  0.020   \n4                    sq_m  84.954  38.281  1998  0.008  0.086  2011  0.022   \n5            OpenedXClose   0.046   0.210  1999  0.007  0.086  2012  0.028   \n6         OpenedXCityring   0.044   0.206  2000  0.008  0.087  2013  0.033   \n7          CityringXClose   0.213   0.410  2001  0.007  0.086  2014  0.054   \n8   OpenedXCityringXClose   0.024   0.153  2002  0.010  0.097  2015  0.068   \n9                     FRB   0.037   0.188  2003  0.011  0.106  2016  0.078   \n10                      K   0.109   0.311  2004  0.016  0.125  2017  0.098   \n11                      N   0.091   0.288  2005  0.022  0.146  2018  0.101   \n12                      S   0.247   0.431  2006  0.017  0.129   NaN    NaN   \n13                      V   0.187   0.390   NaN    NaN    NaN   NaN    NaN   \n14                  Valby   0.068   0.251   NaN    NaN    NaN   NaN    NaN   \n15                      Ø   0.158   0.365   NaN    NaN    NaN   NaN    NaN   \n16                  Other   0.104   0.305   NaN    NaN    NaN   NaN    NaN   \n\n     std3  \n0   0.125  \n1   0.106  \n2   0.125  \n3   0.139  \n4   0.145  \n5   0.165  \n6   0.179  \n7   0.227  \n8   0.252  \n9   0.268  \n10  0.298  \n11  0.301  \n12    NaN  \n13    NaN  \n14    NaN  \n15    NaN  \n16    NaN  ",
      "text/html": "<div>\n<style scoped>\n    .dataframe tbody tr th:only-of-type {\n        vertical-align: middle;\n    }\n\n    .dataframe tbody tr th {\n        vertical-align: top;\n    }\n\n    .dataframe thead th {\n        text-align: right;\n    }\n</style>\n<table border=\"1\" class=\"dataframe\">\n  <thead>\n    <tr style=\"text-align: right;\">\n      <th></th>\n      <th>var1</th>\n      <th>mean1</th>\n      <th>std1</th>\n      <th>var2</th>\n      <th>mean2</th>\n      <th>std2</th>\n      <th>var3</th>\n      <th>mean3</th>\n      <th>std3</th>\n    </tr>\n  </thead>\n  <tbody>\n    <tr>\n      <td>0</td>\n      <td>Rooms</td>\n      <td>2.795</td>\n      <td>1.126</td>\n      <td>1994</td>\n      <td>0.003</td>\n      <td>0.057</td>\n      <td>2007</td>\n      <td>0.016</td>\n      <td>0.125</td>\n    </tr>\n    <tr>\n      <td>1</td>\n      <td>Close</td>\n      <td>0.435</td>\n      <td>0.496</td>\n      <td>1995</td>\n      <td>0.005</td>\n      <td>0.068</td>\n      <td>2008</td>\n      <td>0.011</td>\n      <td>0.106</td>\n    </tr>\n    <tr>\n      <td>2</td>\n      <td>Cityring</td>\n      <td>0.419</td>\n      <td>0.493</td>\n      <td>1996</td>\n      <td>0.007</td>\n      <td>0.083</td>\n      <td>2009</td>\n      <td>0.016</td>\n      <td>0.125</td>\n    </tr>\n    <tr>\n      <td>3</td>\n      <td>Opened</td>\n      <td>0.099</td>\n      <td>0.299</td>\n      <td>1997</td>\n      <td>0.008</td>\n      <td>0.089</td>\n      <td>2010</td>\n      <td>0.020</td>\n      <td>0.139</td>\n    </tr>\n    <tr>\n      <td>4</td>\n      <td>sq_m</td>\n      <td>84.954</td>\n      <td>38.281</td>\n      <td>1998</td>\n      <td>0.008</td>\n      <td>0.086</td>\n      <td>2011</td>\n      <td>0.022</td>\n      <td>0.145</td>\n    </tr>\n    <tr>\n      <td>5</td>\n      <td>OpenedXClose</td>\n      <td>0.046</td>\n      <td>0.210</td>\n      <td>1999</td>\n      <td>0.007</td>\n      <td>0.086</td>\n      <td>2012</td>\n      <td>0.028</td>\n      <td>0.165</td>\n    </tr>\n    <tr>\n      <td>6</td>\n      <td>OpenedXCityring</td>\n      <td>0.044</td>\n      <td>0.206</td>\n      <td>2000</td>\n      <td>0.008</td>\n      <td>0.087</td>\n      <td>2013</td>\n      <td>0.033</td>\n      <td>0.179</td>\n    </tr>\n    <tr>\n      <td>7</td>\n      <td>CityringXClose</td>\n      <td>0.213</td>\n      <td>0.410</td>\n      <td>2001</td>\n      <td>0.007</td>\n      <td>0.086</td>\n      <td>2014</td>\n      <td>0.054</td>\n      <td>0.227</td>\n    </tr>\n    <tr>\n      <td>8</td>\n      <td>OpenedXCityringXClose</td>\n      <td>0.024</td>\n      <td>0.153</td>\n      <td>2002</td>\n      <td>0.010</td>\n      <td>0.097</td>\n      <td>2015</td>\n      <td>0.068</td>\n      <td>0.252</td>\n    </tr>\n    <tr>\n      <td>9</td>\n      <td>FRB</td>\n      <td>0.037</td>\n      <td>0.188</td>\n      <td>2003</td>\n      <td>0.011</td>\n      <td>0.106</td>\n      <td>2016</td>\n      <td>0.078</td>\n      <td>0.268</td>\n    </tr>\n    <tr>\n      <td>10</td>\n      <td>K</td>\n      <td>0.109</td>\n      <td>0.311</td>\n      <td>2004</td>\n      <td>0.016</td>\n      <td>0.125</td>\n      <td>2017</td>\n      <td>0.098</td>\n      <td>0.298</td>\n    </tr>\n    <tr>\n      <td>11</td>\n      <td>N</td>\n      <td>0.091</td>\n      <td>0.288</td>\n      <td>2005</td>\n      <td>0.022</td>\n      <td>0.146</td>\n      <td>2018</td>\n      <td>0.101</td>\n      <td>0.301</td>\n    </tr>\n    <tr>\n      <td>12</td>\n      <td>S</td>\n      <td>0.247</td>\n      <td>0.431</td>\n      <td>2006</td>\n      <td>0.017</td>\n      <td>0.129</td>\n      <td>NaN</td>\n      <td>NaN</td>\n      <td>NaN</td>\n    </tr>\n    <tr>\n      <td>13</td>\n      <td>V</td>\n      <td>0.187</td>\n      <td>0.390</td>\n      <td>NaN</td>\n      <td>NaN</td>\n      <td>NaN</td>\n      <td>NaN</td>\n      <td>NaN</td>\n      <td>NaN</td>\n    </tr>\n    <tr>\n      <td>14</td>\n      <td>Valby</td>\n      <td>0.068</td>\n      <td>0.251</td>\n      <td>NaN</td>\n      <td>NaN</td>\n      <td>NaN</td>\n      <td>NaN</td>\n      <td>NaN</td>\n      <td>NaN</td>\n    </tr>\n    <tr>\n      <td>15</td>\n      <td>Ø</td>\n      <td>0.158</td>\n      <td>0.365</td>\n      <td>NaN</td>\n      <td>NaN</td>\n      <td>NaN</td>\n      <td>NaN</td>\n      <td>NaN</td>\n      <td>NaN</td>\n    </tr>\n    <tr>\n      <td>16</td>\n      <td>Other</td>\n      <td>0.104</td>\n      <td>0.305</td>\n      <td>NaN</td>\n      <td>NaN</td>\n      <td>NaN</td>\n      <td>NaN</td>\n      <td>NaN</td>\n      <td>NaN</td>\n    </tr>\n  </tbody>\n</table>\n</div>"
     },
     "metadata": {},
     "execution_count": 28
    }
   ],
   "source": [
    "table_sorted"
   ]
  },
  {
   "cell_type": "code",
   "execution_count": 60,
   "metadata": {
    "tags": []
   },
   "outputs": [
    {
     "output_type": "stream",
     "name": "stdout",
     "text": "\\begin{tabular}{llrrlrrlrr}\n\\toprule\n{} &                   var1 &   mean1 &    std1 &  var2 &  mean2 &   std2 &  var3 &  mean3 &   std3 \\\\\n\\midrule\n0  &                  Rooms &   2.795 &   1.126 &  1994 &  0.003 &  0.057 &  2007 &  0.016 &  0.125 \\\\\n1  &                  Close &   0.435 &   0.496 &  1995 &  0.005 &  0.068 &  2008 &  0.011 &  0.106 \\\\\n2  &               Cityring &   0.419 &   0.493 &  1996 &  0.007 &  0.083 &  2009 &  0.016 &  0.125 \\\\\n3  &                 Opened &   0.099 &   0.299 &  1997 &  0.008 &  0.089 &  2010 &  0.020 &  0.139 \\\\\n4  &                   sq\\_m &  84.954 &  38.281 &  1998 &  0.008 &  0.086 &  2011 &  0.022 &  0.145 \\\\\n5  &           OpenedXClose &   0.046 &   0.210 &  1999 &  0.007 &  0.086 &  2012 &  0.028 &  0.165 \\\\\n6  &        OpenedXCityring &   0.044 &   0.206 &  2000 &  0.008 &  0.087 &  2013 &  0.033 &  0.179 \\\\\n7  &         CityringXClose &   0.213 &   0.410 &  2001 &  0.007 &  0.086 &  2014 &  0.054 &  0.227 \\\\\n8  &  OpenedXCityringXClose &   0.024 &   0.153 &  2002 &  0.010 &  0.097 &  2015 &  0.068 &  0.252 \\\\\n9  &                    FRB &   0.037 &   0.188 &  2003 &  0.011 &  0.106 &  2016 &  0.078 &  0.268 \\\\\n10 &                      K &   0.109 &   0.311 &  2004 &  0.016 &  0.125 &  2017 &  0.098 &  0.298 \\\\\n11 &                      N &   0.091 &   0.288 &  2005 &  0.022 &  0.146 &  2018 &  0.101 &  0.301 \\\\\n12 &                      S &   0.247 &   0.431 &  2006 &  0.017 &  0.129 &   NaN &    NaN &    NaN \\\\\n13 &                      V &   0.187 &   0.390 &   NaN &    NaN &    NaN &   NaN &    NaN &    NaN \\\\\n14 &                  Valby &   0.068 &   0.251 &   NaN &    NaN &    NaN &   NaN &    NaN &    NaN \\\\\n15 &                      Ø &   0.158 &   0.365 &   NaN &    NaN &    NaN &   NaN &    NaN &    NaN \\\\\n16 &                  Other &   0.104 &   0.305 &   NaN &    NaN &    NaN &   NaN &    NaN &    NaN \\\\\n\\bottomrule\n\\end{tabular}\n\n"
    }
   ],
   "source": [
    "# Printing LaTeX-code for the assignment:\n",
    "print(table_sorted.to_latex())"
   ]
  },
  {
   "cell_type": "markdown",
   "metadata": {},
   "source": [
    "## Regressing on data:"
   ]
  },
  {
   "cell_type": "code",
   "execution_count": 61,
   "metadata": {},
   "outputs": [],
   "source": [
    "# Deleting 'Other'-location variable from vector for this to be the control.\n",
    "del X['Other']"
   ]
  },
  {
   "cell_type": "code",
   "execution_count": 62,
   "metadata": {
    "tags": []
   },
   "outputs": [
    {
     "output_type": "stream",
     "name": "stdout",
     "text": "OLS Regression Results                            \n==============================================================================\nDep. Variable:              log_Price   R-squared:                       0.649\nModel:                            OLS   Adj. R-squared:                  0.649\nMethod:                 Least Squares   F-statistic:                     1653.\nDate:                Wed, 05 Aug 2020   Prob (F-statistic):               0.00\nTime:                        08:34:32   Log-Likelihood:                -29856.\nNo. Observations:               56949   AIC:                         5.980e+04\nDf Residuals:                   56907   BIC:                         6.017e+04\nDf Model:                          41                                         \nCovariance Type:                  HC1                                         \n=========================================================================================\n                            coef    std err          z      P>|z|      [0.025      0.975]\n-----------------------------------------------------------------------------------------\nconst                    13.7503      0.009   1476.681      0.000      13.732      13.769\nRooms                     0.0588      0.009      6.476      0.000       0.041       0.077\nClose                     0.0549      0.005     10.828      0.000       0.045       0.065\nCityring                  0.0326      0.006      5.434      0.000       0.021       0.044\nOpened                   -0.0218      0.010     -2.116      0.034      -0.042      -0.002\nsq_m                      0.0092      0.000     26.109      0.000       0.008       0.010\nOpenedXClose             -0.0033      0.016     -0.214      0.831      -0.034       0.027\nOpenedXCityring          -0.0140      0.017     -0.818      0.413      -0.048       0.020\nCityringXClose           -0.0952      0.008    -12.250      0.000      -0.110      -0.080\nOpenedXCityringXClose     0.0545      0.026      2.123      0.034       0.004       0.105\nFRB                       0.2309      0.011     20.990      0.000       0.209       0.252\nK                         0.3382      0.010     33.845      0.000       0.319       0.358\nN                         0.0915      0.010      9.431      0.000       0.073       0.111\nS                         0.1137      0.007     16.660      0.000       0.100       0.127\nV                         0.1417      0.007     19.367      0.000       0.127       0.156\nValby                    -0.0022      0.008     -0.268      0.788      -0.019       0.014\nØ                         0.2050      0.008     26.130      0.000       0.190       0.220\n1994                     -1.9806      0.034    -57.482      0.000      -2.048      -1.913\n1995                     -1.9745      0.030    -66.266      0.000      -2.033      -1.916\n1996                     -1.7727      0.028    -62.669      0.000      -1.828      -1.717\n1997                     -1.6451      0.019    -87.720      0.000      -1.682      -1.608\n1998                     -1.4682      0.024    -61.424      0.000      -1.515      -1.421\n1999                     -1.2490      0.022    -56.565      0.000      -1.292      -1.206\n2000                     -1.1158      0.020    -56.695      0.000      -1.154      -1.077\n2001                     -0.9847      0.020    -49.334      0.000      -1.024      -0.946\n2002                     -0.8003      0.020    -40.344      0.000      -0.839      -0.761\n2003                     -0.7332      0.015    -49.182      0.000      -0.762      -0.704\n2004                     -0.6492      0.014    -46.656      0.000      -0.677      -0.622\n2005                     -0.4241      0.012    -35.520      0.000      -0.447      -0.401\n2006                     -0.2157      0.015    -14.437      0.000      -0.245      -0.186\n2007                     -0.2929      0.012    -23.908      0.000      -0.317      -0.269\n2008                     -0.4278      0.016    -26.917      0.000      -0.459      -0.397\n2009                     -0.5564      0.020    -28.515      0.000      -0.595      -0.518\n2010                     -0.5160      0.015    -34.245      0.000      -0.546      -0.486\n2011                     -0.4577      0.015    -30.534      0.000      -0.487      -0.428\n2012                     -0.4992      0.012    -43.234      0.000      -0.522      -0.477\n2013                     -0.3479      0.010    -35.647      0.000      -0.367      -0.329\n2014                     -0.2748      0.008    -36.334      0.000      -0.290      -0.260\n2015                     -0.1686      0.007    -24.242      0.000      -0.182      -0.155\n2016                     -0.0802      0.007    -12.246      0.000      -0.093      -0.067\n2017                      0.0082      0.006      1.277      0.202      -0.004       0.021\n2018                     -0.0062      0.006     -0.959      0.338      -0.019       0.006\n==============================================================================\nOmnibus:                    28696.555   Durbin-Watson:                   1.919\nProb(Omnibus):                  0.000   Jarque-Bera (JB):          1001943.512\nSkew:                          -1.795   Prob(JB):                         0.00\nKurtosis:                      23.233   Cond. No.                     1.66e+03\n==============================================================================\n\nWarnings:\n[1] Standard Errors are heteroscedasticity robust (HC1)\n[2] The condition number is large, 1.66e+03. This might indicate that there are\nstrong multicollinearity or other numerical problems.\n"
    }
   ],
   "source": [
    "# Regressing:\n",
    "X = sm.add_constant(X)\n",
    "model = sm.OLS(Event['log_Price'],X)\n",
    "results_1 = model.fit(cov_type='HC1')\n",
    "print(results_1.summary())"
   ]
  },
  {
   "cell_type": "code",
   "execution_count": 63,
   "metadata": {},
   "outputs": [],
   "source": [
    "pystout(models=[results_1],\n",
    "        file='/Users/holger/Documents/Python/Harmsen_Repo/Metro-Study/Tex files/Metro Regressions 1.tex',\n",
    "        digits=3,\n",
    "        endog_names=['Opening'],\n",
    "        varlabels={'const':'Constant','displacement':'Disp','mpg':'MPG'},\n",
    "        mgroups={'y = log(Price per sq. m, DKK)':[1,3]},\n",
    "        modstat={'nobs':'Obs','rsquared_adj':'Adj. R\\sym{2}','fvalue':'F-stat'}\n",
    "        )"
   ]
  }
 ]
}