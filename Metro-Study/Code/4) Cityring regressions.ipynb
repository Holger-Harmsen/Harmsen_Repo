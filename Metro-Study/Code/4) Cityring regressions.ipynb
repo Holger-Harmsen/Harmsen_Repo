{
 "metadata": {
  "language_info": {
   "codemirror_mode": {
    "name": "ipython",
    "version": 3
   },
   "file_extension": ".py",
   "mimetype": "text/x-python",
   "name": "python",
   "nbconvert_exporter": "python",
   "pygments_lexer": "ipython3",
   "version": 3
  },
  "orig_nbformat": 2,
  "kernelspec": {
   "name": "python_defaultSpec_1596280406909",
   "display_name": "Python 3.7.4 64-bit ('base': conda)"
  }
 },
 "nbformat": 4,
 "nbformat_minor": 2,
 "cells": [
  {
   "cell_type": "code",
   "execution_count": null,
   "metadata": {},
   "outputs": [],
   "source": [
    "import numpy as np\n",
    "import pandas as pd\n",
    "import datetime\n",
    "from dateutil.parser import parse\n",
    "import requests, re, time\n",
    "import pandas_datareader\n",
    "import pickle\n",
    "import math\n",
    "\n",
    "import matplotlib.pyplot as plt\n",
    "%matplotlib inline\n",
    "from matplotlib.lines import Line2D\n",
    "import matplotlib.patches as mpatches\n",
    "import seaborn as sns \n",
    "\n",
    "import statsmodels.api as sm\n",
    "import statsmodels.formula.api as smf\n",
    "from statsmodels.iolib.summary2 import summary_col\n",
    "import linearmodels as ln\n",
    "from pystout import pystout\n",
    "\n",
    "\n",
    "\n",
    "import json\n",
    "from pandas.io.json import json_normalize\n",
    "from bs4 import BeautifulSoup\n",
    "from selenium import webdriver\n",
    "import time\n",
    "\n",
    "import geopy.distance"
   ]
  },
  {
   "cell_type": "markdown",
   "metadata": {},
   "source": [
    "# EVENT: CITYRING PROPOSED"
   ]
  },
  {
   "cell_type": "code",
   "execution_count": null,
   "metadata": {},
   "outputs": [],
   "source": [
    "Apartments = pickle.load(open('/Users/holger/Documents/Python/Harmsen_Repo/Metro-Study/Pickles/Apartment Data 4.pkl','rb'))\n",
    "Apartments['Year Sold'] = [i.year for i in Apartments['Date_sold']]\n",
    "Apartments['Closest Metro dist'] = [i['Distance'] for i in Apartments['Closest Metro']]\n",
    "Apartments['Cityring'] = [i['Cityring'] for i in Apartments['Closest Metro']]\n",
    "Cityring = Apartments[(Apartments['Cityring'] == 1)]"
   ]
  },
  {
   "cell_type": "code",
   "execution_count": null,
   "metadata": {},
   "outputs": [],
   "source": [
    "Cityring_03 = Cityring[(Cityring['Year Sold'] == 2003)]\n",
    "Cityring_05 = Cityring[(Cityring['Year Sold'] == 2005)]\n",
    "\n",
    "Event = pd.concat([Cityring_03,Cityring_06],ignore_index=True)"
   ]
  },
  {
   "cell_type": "code",
   "execution_count": null,
   "metadata": {},
   "outputs": [],
   "source": [
    "# Generating Announcement-Dummy:\n",
    "\n",
    "Event['Announced'] = 0\n",
    "for i in range(0,len(Event)):\n",
    "    if Event['Year Sold'][i] == 2003:\n",
    "        Event['Announced'][i] = 0\n",
    "    elif Event['Year Sold'][i] == 2005:\n",
    "        Event['Announced'][i] = 1"
   ]
  },
  {
   "cell_type": "code",
   "execution_count": null,
   "metadata": {},
   "outputs": [],
   "source": [
    "# Generating Close-dummy:\n",
    "Event['Close to Metro'] = 0\n",
    "for i in range(0,len(Event)):\n",
    "    if Event['Closest Metro dist'][i] < 0.5:\n",
    "        Event['Close to Metro'][i] = 1"
   ]
  },
  {
   "cell_type": "code",
   "execution_count": null,
   "metadata": {},
   "outputs": [],
   "source": [
    "# Generating location dummies:\n",
    "Event['Metro_loc'] = [i['Metro'] for i in Event['Closest Metro']]\n",
    "Event['log_price_sq_m_1000'] = np.log(Event['Price_sq_m_1000'])\n",
    "#loc_dummy = pd.get_dummies(Event['Metro_loc'])\n",
    "area_dummy = pd.get_dummies(Event['Area'])\n",
    "del area_dummy['NaN']"
   ]
  },
  {
   "cell_type": "code",
   "execution_count": null,
   "metadata": {},
   "outputs": [],
   "source": [
    "X = pd.DataFrame()\n",
    "X['Rooms'] = Event['Rooms']\n",
    "X['Close to Metro'] = Event['Close to Metro']\n",
    "X['Announced'] = Event['Announced']\n",
    "X['AnnouncedXClose'] = X['Close to Metro'] * X['Announced']\n",
    "X = pd.merge(X,area_dummy,left_index=True,right_index=True)"
   ]
  },
  {
   "cell_type": "code",
   "execution_count": null,
   "metadata": {
    "tags": []
   },
   "outputs": [],
   "source": [
    "X = sm.add_constant(X)\n",
    "model = sm.OLS(Event['log_price_sq_m_1000'],X)\n",
    "results_04 = model.fit()\n",
    "print(results_04.summary())\n",
    "# PROBLEM: 2004 VAR IKKE KLAR I LOKATION!"
   ]
  },
  {
   "cell_type": "markdown",
   "metadata": {},
   "source": [
    "# EVENT: Cityring-Law voted through"
   ]
  },
  {
   "cell_type": "code",
   "execution_count": null,
   "metadata": {},
   "outputs": [],
   "source": [
    "Apartments = pickle.load(open('/Users/holger/Documents/Python/Harmsen_Repo/Metro-Study/Pickles/Apartment Data 4.pkl','rb'))\n",
    "Apartments['Year Sold'] = [i.year for i in Apartments['Date_sold']]\n",
    "Apartments['Closest Metro dist'] = [i['Distance'] for i in Apartments['Closest Metro']]\n",
    "Apartments['Cityring'] = [i['Cityring'] for i in Apartments['Closest Metro']]"
   ]
  },
  {
   "cell_type": "code",
   "execution_count": null,
   "metadata": {},
   "outputs": [],
   "source": [
    "Cityring = Apartments[(Apartments['Cityring'] == 1)]\n",
    "Cityring.reset_index(inplace=True)"
   ]
  },
  {
   "cell_type": "code",
   "execution_count": null,
   "metadata": {},
   "outputs": [],
   "source": [
    "C2018 = Cityring[(Cityring['Year Sold'] == 2006)]\n",
    "C2020 = Cityring[(Cityring['Year Sold'] == 2008)]"
   ]
  },
  {
   "cell_type": "code",
   "execution_count": null,
   "metadata": {},
   "outputs": [],
   "source": [
    "Event = pd.concat([C2018,C2020],ignore_index=True)"
   ]
  },
  {
   "cell_type": "code",
   "execution_count": null,
   "metadata": {},
   "outputs": [],
   "source": [
    "Event['Announced'] = 0\n",
    "for i in range(0,len(Event)):\n",
    "    if Event['Year Sold'][i] == 2006: \n",
    "        Event['Announced'][i] = 0\n",
    "    elif Event['Year Sold'][i] == 2008:\n",
    "        Event['Announced'][i] = 1"
   ]
  },
  {
   "cell_type": "code",
   "execution_count": null,
   "metadata": {},
   "outputs": [],
   "source": [
    "# Generating Close-dummy:\n",
    "Event['Close to Metro'] = 0\n",
    "for i in range(0,len(Event)):\n",
    "    if Event['Closest Metro dist'][i] < 0.5:\n",
    "        Event['Close to Metro'][i] = 1"
   ]
  },
  {
   "cell_type": "code",
   "execution_count": null,
   "metadata": {},
   "outputs": [],
   "source": [
    "# Generating location dummies:\n",
    "Event['Metro_loc'] = [i['Metro'] for i in Event['Closest Metro']]\n",
    "Event['log_price_sq_m_1000'] = np.log(Event['Price_sq_m_1000'])\n",
    "area_dummy = pd.get_dummies(Event['Area'])\n",
    "del area_dummy['NaN']"
   ]
  },
  {
   "cell_type": "code",
   "execution_count": null,
   "metadata": {},
   "outputs": [],
   "source": [
    "X = pd.DataFrame()\n",
    "X['Rooms'] = Event['Rooms']\n",
    "X['Close to Metro'] = Event['Close to Metro']\n",
    "X['Announced'] = Event['Announced']\n",
    "X['AnnouncedXClose'] = X['Close to Metro'] * X['Announced']\n",
    "X = pd.merge(X,area_dummy,left_index=True,right_index=True)"
   ]
  },
  {
   "cell_type": "code",
   "execution_count": null,
   "metadata": {
    "tags": []
   },
   "outputs": [],
   "source": [
    "X = sm.add_constant(X)\n",
    "model = sm.OLS(Event['log_price_sq_m_1000'],X)\n",
    "results_07 = model.fit()\n",
    "print(results_07.summary())\n",
    "# TAKEAWAY: NOT SIGNIFICANT"
   ]
  },
  {
   "cell_type": "markdown",
   "metadata": {},
   "source": [
    "# EVENT: BUILDING FINISHED"
   ]
  },
  {
   "cell_type": "code",
   "execution_count": null,
   "metadata": {},
   "outputs": [],
   "source": [
    "Apartments = pickle.load(open('/Users/holger/Documents/Python/Harmsen_Repo/Metro-Study/Pickles/Apartment Data 4.pkl','rb'))\n",
    "Apartments['Year Sold'] = [i.year for i in Apartments['Date_sold']]\n",
    "Apartments['Closest Metro dist'] = [i['Distance'] for i in Apartments['Closest Metro']]\n",
    "Apartments['Cityring'] = [i['Cityring'] for i in Apartments['Closest Metro']]"
   ]
  },
  {
   "cell_type": "code",
   "execution_count": null,
   "metadata": {},
   "outputs": [],
   "source": [
    "Cityring = Apartments[(Apartments['Cityring'] == 1)]\n",
    "Cityring.reset_index(inplace=True)"
   ]
  },
  {
   "cell_type": "code",
   "execution_count": null,
   "metadata": {},
   "outputs": [],
   "source": [
    "C2018 = Cityring[(Cityring['Year Sold'] == 2018)]\n",
    "C2020 = Cityring[(Cityring['Year Sold'] == 2020)]"
   ]
  },
  {
   "cell_type": "code",
   "execution_count": null,
   "metadata": {},
   "outputs": [],
   "source": [
    "Event = pd.concat([C2018,C2020],ignore_index=True)"
   ]
  },
  {
   "cell_type": "code",
   "execution_count": null,
   "metadata": {},
   "outputs": [],
   "source": [
    "Event['Announced'] = 0\n",
    "for i in range(0,len(Event)):\n",
    "    if Event['Year Sold'][i] == 2018: \n",
    "        Event['Announced'][i] = 0\n",
    "    elif Event['Year Sold'][i] == 2020:\n",
    "        Event['Announced'][i] = 1"
   ]
  },
  {
   "cell_type": "code",
   "execution_count": null,
   "metadata": {},
   "outputs": [],
   "source": [
    "# Generating Close-dummy:\n",
    "Event['Close to Metro'] = 0\n",
    "for i in range(0,len(Event)):\n",
    "    if Event['Closest Metro dist'][i] < 0.5:\n",
    "        Event['Close to Metro'][i] = 1"
   ]
  },
  {
   "cell_type": "code",
   "execution_count": null,
   "metadata": {},
   "outputs": [],
   "source": [
    "# Generating location dummies:\n",
    "Event['log_price_sq_m_1000'] = np.log(Event['Price_sq_m_1000'])\n",
    "area_dummy = pd.get_dummies(Event['Area'])\n",
    "del area_dummy['NaN']"
   ]
  },
  {
   "cell_type": "code",
   "execution_count": null,
   "metadata": {},
   "outputs": [],
   "source": [
    "X = pd.DataFrame()\n",
    "X['Rooms'] = Event['Rooms']\n",
    "X['Close to Metro'] = Event['Close to Metro']\n",
    "X['Announced'] = Event['Announced']\n",
    "X['AnnouncedXClose'] = Event['Close to Metro'] * Event['Announced']\n",
    "X = pd.merge(X,area_dummy,left_index=True,right_index=True)"
   ]
  },
  {
   "cell_type": "code",
   "execution_count": null,
   "metadata": {
    "tags": []
   },
   "outputs": [],
   "source": [
    "X = sm.add_constant(X)\n",
    "model = sm.OLS(Event['log_price_sq_m_1000'],X)\n",
    "results_19 = model.fit()\n",
    "print(results_19.summary())\n",
    "# TAKEAWAY: SIGNIFICANT"
   ]
  },
  {
   "cell_type": "code",
   "execution_count": null,
   "metadata": {},
   "outputs": [],
   "source": [
    "pystout(models=[results_04,results_07,results_19],\n",
    "        file='/Users/holger/Documents/Python/Harmsen_Repo/Metro-Study/Tex files/Metro Regressions.tex',\n",
    "        digits=3,\n",
    "        endog_names=['Announcement','Law passed','Opened'],\n",
    "        varlabels={'const':'Constant','displacement':'Disp','mpg':'MPG'},\n",
    "        mgroups={'y = log(Price per sq. m, DKK)':[1,3]},\n",
    "        modstat={'nobs':'Obs','rsquared_adj':'Adj. R\\sym{2}','fvalue':'F-stat'}\n",
    "        )"
   ]
  },
  {
   "cell_type": "markdown",
   "metadata": {},
   "source": [
    "# MODEL 1: ALL APARTMENTS"
   ]
  },
  {
   "cell_type": "code",
   "execution_count": null,
   "metadata": {},
   "outputs": [],
   "source": [
    "Apartments = pickle.load(open('/Users/holger/Documents/Python/Harmsen_Repo/Metro-Study/Pickles/Apartment Data 4.pkl','rb'))\n",
    "Apartments['Year Sold'] = [i.year for i in Apartments['Date_sold']]\n",
    "Apartments['Closest Metro dist'] = [i['Distance'] for i in Apartments['Closest Metro']]\n",
    "Apartments['Cityring'] = [i['Cityring'] for i in Apartments['Closest Metro']]"
   ]
  },
  {
   "cell_type": "code",
   "execution_count": null,
   "metadata": {},
   "outputs": [],
   "source": [
    "Event = Apartments.copy()"
   ]
  },
  {
   "cell_type": "code",
   "execution_count": null,
   "metadata": {},
   "outputs": [],
   "source": [
    "Event['Opened'] = 0\n",
    "for i in range(0,len(Event)):\n",
    "    if Event['Year Sold'][i] == 2020:\n",
    "        Event['Opened'][i] = 1"
   ]
  },
  {
   "cell_type": "code",
   "execution_count": null,
   "metadata": {},
   "outputs": [],
   "source": [
    "# Generating Close-dummy:\n",
    "Event['Close to Metro'] = 0\n",
    "for i in range(0,len(Event)):\n",
    "    if Event['Closest Metro dist'][i] < 0.5:\n",
    "        Event['Close to Metro'][i] = 1"
   ]
  },
  {
   "cell_type": "code",
   "execution_count": null,
   "metadata": {},
   "outputs": [],
   "source": [
    "# Generating location dummies:\n",
    "Event['Metro_loc'] = [i['Metro'] for i in Event['Closest Metro']]\n",
    "Event['log_price_sq_m_1000'] = np.log(Event['Price_sq_m_1000'])\n",
    "area_dummy = pd.get_dummies(Event['Area'])\n",
    "year_dummy = pd.get_dummies(Event['Year Sold'])"
   ]
  },
  {
   "cell_type": "markdown",
   "metadata": {},
   "source": [
    "Deleting dummy-columns for reference-variables. In the area-dummy I remove those areas not defined for those to be the control - all area-dummies are thus evaluated relative to this.\n",
    "In the year-dummy I delete both 2019 and 2020; 2020, because this year is already represented by the Opened-dummy, and 2019 for this year to be the control in the year dummy-vector. All year-dummies are thus evaluated relative to 2019"
   ]
  },
  {
   "cell_type": "code",
   "execution_count": null,
   "metadata": {},
   "outputs": [],
   "source": [
    "area_dummy['Other'] = area_dummy['NaN']\n",
    "del area_dummy['NaN']"
   ]
  },
  {
   "cell_type": "code",
   "execution_count": null,
   "metadata": {},
   "outputs": [],
   "source": [
    "del year_dummy[year_dummy.columns[-1]]\n",
    "del year_dummy[year_dummy.columns[-1]]"
   ]
  },
  {
   "cell_type": "code",
   "execution_count": null,
   "metadata": {},
   "outputs": [],
   "source": [
    "X = pd.DataFrame()\n",
    "X['Rooms'] = Event['Rooms']\n",
    "X['Close'] = Event['Close to Metro']\n",
    "X['Cityring'] = Event['Cityring']\n",
    "X['Opened'] = Event['Opened']\n",
    "\n",
    "\n",
    "X['OpenedXClose'] = Event['Opened']*Event['Close to Metro']\n",
    "X['OpenedXCityring'] = Event['Opened']*Event['Cityring']\n",
    "X['CityringXClose'] = Event['Close to Metro']*Event['Cityring']\n",
    "\n",
    "X['OpenedXCityringXClose'] = Event['Close to Metro'] * Event['Opened'] * Event['Cityring']\n",
    "X = pd.merge(X,area_dummy,left_index=True,right_index=True)\n",
    "X = pd.merge(X,year_dummy,left_index=True,right_index=True)"
   ]
  },
  {
   "cell_type": "code",
   "execution_count": null,
   "metadata": {
    "tags": []
   },
   "outputs": [],
   "source": [
    "describe = np.transpose(X.describe())\n",
    "del describe['min']\n",
    "del describe['25%']\n",
    "del describe['50%']\n",
    "del describe['75%']\n",
    "del describe['max']\n",
    "del describe['count']"
   ]
  },
  {
   "cell_type": "code",
   "execution_count": null,
   "metadata": {},
   "outputs": [],
   "source": [
    "first = describe[:16]\n",
    "first['Variable'] = first.index.to_list()\n",
    "first.reset_index(inplace=True)\n",
    "del first['index']\n",
    "\n",
    "second = describe[16:30]\n",
    "second['Variable'] = second.index.to_list()\n",
    "second.reset_index(inplace=True)\n",
    "del second['index']\n",
    "\n",
    "third = describe[30:]\n",
    "third['Variable'] = third.index.to_list()\n",
    "third.reset_index(inplace=True)\n",
    "del third['index']"
   ]
  },
  {
   "cell_type": "code",
   "execution_count": null,
   "metadata": {},
   "outputs": [],
   "source": [
    "table = pd.merge(first,second,how='outer',left_index=True,right_index=True)\n",
    "table = pd.merge(table,third,how='outer',left_index=True,right_index=True)"
   ]
  },
  {
   "cell_type": "code",
   "execution_count": null,
   "metadata": {},
   "outputs": [],
   "source": [
    "table_sorted = table[['Variable_x','mean_x','std_x','Variable_y','mean_y','std_y','Variable','mean','std']]\n",
    "table_sorted.columns = ['var1', 'mean1', 'std1', 'var2', 'mean2', 'std2','var3','mean3','std3']\n",
    "table_sorted = table_sorted.round(decimals=3)"
   ]
  },
  {
   "cell_type": "code",
   "execution_count": null,
   "metadata": {},
   "outputs": [],
   "source": [
    "table_sorted"
   ]
  },
  {
   "cell_type": "code",
   "execution_count": null,
   "metadata": {
    "tags": []
   },
   "outputs": [],
   "source": [
    "print(table_sorted.to_latex())"
   ]
  },
  {
   "cell_type": "code",
   "execution_count": null,
   "metadata": {},
   "outputs": [],
   "source": [
    "# Deleting 'Other'-location variable from vector for this to be the control.\n",
    "del X['Other']"
   ]
  },
  {
   "cell_type": "code",
   "execution_count": null,
   "metadata": {
    "tags": []
   },
   "outputs": [],
   "source": [
    "X = sm.add_constant(X)\n",
    "model = sm.OLS(Event['log_price_sq_m_1000'],X)\n",
    "results = model.fit(cov_type='HC1')\n",
    "print(results.summary())"
   ]
  },
  {
   "cell_type": "code",
   "execution_count": null,
   "metadata": {},
   "outputs": [],
   "source": [
    "pystout(models=[results],\n",
    "        file='/Users/holger/Documents/Python/Harmsen_Repo/Metro-Study/Tex files/Metro Regressions Model 1.tex',\n",
    "        digits=3,\n",
    "        endog_names=['Opening'],\n",
    "        varlabels={'const':'Constant','displacement':'Disp','mpg':'MPG'},\n",
    "        mgroups={'y = log(Price per sq. m, DKK)':[1,3]},\n",
    "        modstat={'nobs':'Obs','rsquared_adj':'Adj. R\\sym{2}','fvalue':'F-stat'}\n",
    "        )"
   ]
  },
  {
   "cell_type": "code",
   "execution_count": null,
   "metadata": {},
   "outputs": [],
   "source": []
  }
 ]
}