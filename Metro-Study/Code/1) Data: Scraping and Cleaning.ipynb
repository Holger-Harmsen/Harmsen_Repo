{
 "cells": [
  {
   "cell_type": "code",
   "execution_count": 22,
   "metadata": {},
   "outputs": [],
   "source": [
    "import numpy as np\n",
    "import pandas as pd\n",
    "import datetime\n",
    "from dateutil.parser import parse\n",
    "import requests, re, time\n",
    "import pandas_datareader\n",
    "import pickle\n",
    "import math\n",
    "\n",
    "import matplotlib.pyplot as plt\n",
    "%matplotlib inline\n",
    "from matplotlib.lines import Line2D\n",
    "import matplotlib.patches as mpatches\n",
    "import seaborn as sns \n",
    "\n",
    "import statsmodels.api as sm\n",
    "import json\n",
    "from pandas.io.json import json_normalize\n",
    "from bs4 import BeautifulSoup\n",
    "from selenium import webdriver\n",
    "import time\n",
    "\n",
    "import geopy.distance"
   ]
  },
  {
   "cell_type": "markdown",
   "metadata": {},
   "source": [
    "### Spørgsmål:\n",
    "\n",
    "- Min scraper logger kun én gang; bliver på samme side, og klikker blot videre.\n",
    "- Evt. blot scrape Wikipedia?\n",
    "- Antal sider som alene?\n",
    "- Ekstra fifs? Det skal være godt!\n"
   ]
  },
  {
   "cell_type": "markdown",
   "metadata": {},
   "source": [
    "# The Impact of Metro-Construction: An Event Study"
   ]
  },
  {
   "cell_type": "markdown",
   "metadata": {},
   "source": [
    "In the following, I seek to find the effect on the price of Copenhagen apartments from the construction of a nearby metro. \n",
    "\n",
    "First, I scrape data of all sold condos in Copenhagen since 1992 using Boliga.dk\n",
    "\n",
    "Second, I use Google's Geocoding-API to convert the found addresses to coordinates. This will help me in step four.\n",
    "\n",
    "Third, I scrape Wikipedia for information on Copenhagen Metro stations.\n",
    "\n",
    "Fourth, I want to find the cloest metro to each apartment, and estimate the distance between the two. This is found to be most easily done by finding coordinates to each apartment and metro, calculate the distance between each apartment and its closest metro and therefrom infer a distance. As the found distance is in the form of a straight line, one must keep in line that the actual walking/cycling distance is longer.\n",
    "\n",
    "Fifth, I must take relevant factors into account in an econometric analysis.\n",
    "\n",
    "This enables me to isolate the effect on the price of a condo from construction of a nearby metro station."
   ]
  },
  {
   "cell_type": "markdown",
   "metadata": {},
   "source": []
  },
  {
   "cell_type": "markdown",
   "metadata": {},
   "source": [
    "# 1) Scraping sales-data from Boliga.dk"
   ]
  },
  {
   "cell_type": "markdown",
   "metadata": {},
   "source": [
    "## 1.1) Scraping"
   ]
  },
  {
   "cell_type": "code",
   "execution_count": 6,
   "metadata": {},
   "outputs": [],
   "source": [
    "### Define our Connector\n",
    "\n",
    "import requests,os,time\n",
    "def ratelimit(dt):\n",
    "    \"A function that handles the rate of your calls.\"\n",
    "    time.sleep(dt) # sleep one second.\n",
    "\n",
    "class Connector():\n",
    "  def __init__(self,logfile,overwrite_log=False,connector_type='requests',session=False,path2selenium='',n_tries = 5,timeout=30,waiting_time=0.5):\n",
    "    \"\"\"This Class implements a method for reliable connection to the internet and monitoring. \n",
    "    It handles simple errors due to connection problems, and logs a range of information for basic quality assessments\n",
    "    \n",
    "    Keyword arguments:\n",
    "    logfile -- path to the logfile\n",
    "    overwrite_log -- bool, defining if logfile should be cleared (rarely the case). \n",
    "    connector_type -- use the 'requests' module or the 'selenium'. Will have different since the selenium webdriver does not have a similar response object when using the get method, and monitoring the behavior cannot be automated in the same way.\n",
    "    session -- requests.session object. For defining custom headers and proxies.\n",
    "    path2selenium -- str, sets the path to the geckodriver needed when using selenium.\n",
    "    n_tries -- int, defines the number of retries the *get* method will try to avoid random connection errors.\n",
    "    timeout -- int, seconds the get request will wait for the server to respond, again to avoid connection errors.\n",
    "    \"\"\"\n",
    "    \n",
    "    ## Initialization function defining parameters. \n",
    "    self.n_tries = n_tries # For avoiding triviel error e.g. connection errors, this defines how many times it will retry.\n",
    "    self.timeout = timeout # Defining the maximum time to wait for a server to response.\n",
    "    self.waiting_time = waiting_time # define simple rate_limit parameter.\n",
    "    ## not implemented here, if you use selenium.\n",
    "    if connector_type=='selenium':\n",
    "      assert path2selenium!='', \"You need to specify the path to you geckodriver if you want to use Selenium\"\n",
    "      from selenium import webdriver \n",
    "      ## HIN download the latest geckodriver here: https://github.com/mozilla/geckodriver/releases\n",
    "\n",
    "      assert os.path.isfile(path2selenium),'You need to insert a valid path2selenium the path to your geckodriver. You can download the latest geckodriver here: https://github.com/mozilla/geckodriver/releases'\n",
    "      self.browser = webdriver.Firefox(executable_path=path2selenium) # start the browser with a path to the geckodriver.\n",
    "\n",
    "    self.connector_type = connector_type # set the connector_type\n",
    "    \n",
    "    if session: # set the custom session\n",
    "      self.session = session\n",
    "    else:\n",
    "      self.session = requests.session()\n",
    "    self.logfilename = logfile # set the logfile path\n",
    "    ## define header for the logfile\n",
    "    header = ['id','project','connector_type','t', 'delta_t', 'url', 'redirect_url','response_size', 'response_code','success','error']\n",
    "    if os.path.isfile(logfile):        \n",
    "      if overwrite_log==True:\n",
    "        self.log = open(logfile,'w')\n",
    "        self.log.write(';'.join(header))\n",
    "      else:\n",
    "        self.log = open(logfile,'a')\n",
    "    else:\n",
    "      self.log = open(logfile,'w')\n",
    "      self.log.write(';'.join(header))\n",
    "    ## load log \n",
    "    with open(logfile,'r') as f: # open file\n",
    "        \n",
    "      l = f.read().split('\\n') # read and split file by newlines.\n",
    "      ## set id\n",
    "      if len(l)<=1:\n",
    "        self.id = 0\n",
    "      else:\n",
    "        self.id = int(l[-1][0])+1\n",
    "            \n",
    "  def get(self,url,project_name):\n",
    "    \"\"\"Method for connector reliably to the internet, with multiple tries and simple error handling, as well as default logging function.\n",
    "    Input url and the project name for the log (i.e. is it part of mapping the domain, or is it the part of the final stage in the data collection).\n",
    "    \n",
    "    Keyword arguments:\n",
    "    url -- str, url\n",
    "    project_name -- str, Name used for analyzing the log. Use case could be the 'Mapping of domain','Meta_data_collection','main data collection'. \n",
    "    \"\"\"\n",
    "     \n",
    "    project_name = project_name.replace(';','-') # make sure the default csv seperator is not in the project_name.\n",
    "    if self.connector_type=='requests': # Determine connector method.\n",
    "      for _ in range(self.n_tries): # for loop defining number of retries with the requests method.\n",
    "        ratelimit(self.waiting_time)\n",
    "        t = time.time()\n",
    "        try: # error handling \n",
    "          response = self.session.get(url,timeout = self.timeout) # make get call\n",
    "\n",
    "          err = '' # define python error variable as empty assumming success.\n",
    "          success = True # define success variable\n",
    "          redirect_url = response.url # log current url, after potential redirects \n",
    "          dt = t - time.time() # define delta-time waiting for the server and downloading content.\n",
    "          size = len(response.text) # define variable for size of html content of the response.\n",
    "          response_code = response.status_code # log status code.\n",
    "          ## log...\n",
    "          call_id = self.id # get current unique identifier for the call\n",
    "          self.id+=1 # increment call id\n",
    "          #['id','project_name','connector_type','t', 'delta_t', 'url', 'redirect_url','response_size', 'response_code','success','error']\n",
    "          row = [call_id,project_name,self.connector_type,t,dt,url,redirect_url,size,response_code,success,err] # define row to be written in the log.\n",
    "          self.log.write('\\n'+';'.join(map(str,row))) # write log.\n",
    "          self.log.flush()\n",
    "          return response,call_id # return response and unique identifier.\n",
    "\n",
    "        except Exception as e: # define error condition\n",
    "          err = str(e) # python error\n",
    "          response_code = '' # blank response code \n",
    "          success = False # call success = False\n",
    "          size = 0 # content is empty.\n",
    "          redirect_url = '' # redirect url empty \n",
    "          dt = t - time.time() # define delta t\n",
    "\n",
    "          ## log...\n",
    "          call_id = self.id # define unique identifier\n",
    "          self.id+=1 # increment call_id\n",
    "\n",
    "          row = [call_id,project_name,self.connector_type,t,dt,url,redirect_url,size,response_code,success,err] # define row\n",
    "          self.log.write('\\n'+';'.join(map(str,row))) # write row to log.\n",
    "          self.log.flush()\n",
    "    else:\n",
    "      t = time.time()\n",
    "      ratelimit(self.waiting_time)\n",
    "      self.browser.get(url) # use selenium get method\n",
    "      ## log\n",
    "      call_id = self.id # define unique identifier for the call. \n",
    "      self.id+=1 # increment the call_id\n",
    "      err = '' # blank error message\n",
    "      success = '' # success blank\n",
    "      redirect_url = self.browser.current_url # redirect url.\n",
    "      dt = t - time.time() # get time for get method ... NOTE: not necessarily the complete load time.\n",
    "      size = len(self.browser.page_source) # get size of content ... NOTE: not necessarily correct, since selenium works in the background, and could still be loading.\n",
    "      response_code = '' # empty response code.\n",
    "      row = [call_id,project_name,self.connector_type,t,dt,url,redirect_url,size,response_code,success,err] # define row \n",
    "      self.log.write('\\n'+';'.join(map(str,row))) # write row to log file.\n",
    "      self.log.flush()\n",
    "    # Using selenium it will not return a response object, instead you should call the browser object of the connector.\n",
    "    ## connector.browser.page_source will give you the html.\n",
    "      return None,call_id"
   ]
  },
  {
   "cell_type": "markdown",
   "metadata": {},
   "source": [
    "### Defining aiding functions for later use in the scraper:"
   ]
  },
  {
   "cell_type": "code",
   "execution_count": 45,
   "metadata": {},
   "outputs": [],
   "source": [
    "path2gecko = '/Users/holger/Documents/Python/Harmsen_Repo/Metro-Study/Gecko/geckodriver'\n",
    "\n",
    "def Cookie_Clicker(i): #Accepting cookies:\n",
    "    if i==True:\n",
    "        cookies = connector.browser.find_element_by_xpath('//*[@id=\"coiAccept\"]')\n",
    "        cookies.click()\n",
    "        \n",
    "def Next_Page(i):\n",
    "    if i==True:\n",
    "        next_button = connector.browser.find_element_by_link_text('Næste')\n",
    "        next_button.click()"
   ]
  },
  {
   "cell_type": "markdown",
   "metadata": {},
   "source": [
    "### Defining the scraping-function:"
   ]
  },
  {
   "cell_type": "code",
   "execution_count": 60,
   "metadata": {},
   "outputs": [],
   "source": [
    "connector = Connector('ApartmentScrape.csv',overwrite_log=True,path2selenium=path2gecko,connector_type='selenium')\n",
    "\n",
    "def Scraper(pages,url):\n",
    "    url_base = url\n",
    "    \n",
    "    connector.get(url_base,'ApartmentScrape')\n",
    "\n",
    "    #Waiting for cookies-pop-up:\n",
    "    time.sleep(10)\n",
    "\n",
    "    #Accepting cookies:\n",
    "    Cookie_Clicker(True)\n",
    "\n",
    "    #Wait for load:\n",
    "    time.sleep(5)\n",
    "\n",
    "    #Pull table\n",
    "    df = pd.read_html(connector.browser.page_source)[0]\n",
    "    time.sleep(2)\n",
    "\n",
    "    #Looping over number of wanted pages:\n",
    "    for i in range(0,pages-1): # Minus one as we already scraped the initial page.\n",
    "        if i%100 == 0:\n",
    "            print(f'Page {i} finished')\n",
    "        try:\n",
    "            Next_Page(True)\n",
    "            time.sleep(1)\n",
    "            df_i = pd.read_html(connector.browser.page_source)[0]\n",
    "            df = pd.concat([df,df_i],ignore_index=True)\n",
    "        except:\n",
    "            print('Error')\n",
    "        \n",
    "    return df"
   ]
  },
  {
   "cell_type": "markdown",
   "metadata": {},
   "source": [
    "### Calling scraper:"
   ]
  },
  {
   "cell_type": "code",
   "execution_count": 47,
   "metadata": {
    "tags": []
   },
   "outputs": [
    {
     "output_type": "stream",
     "name": "stdout",
     "text": "Page 0 finished\nPage 100 finished\nPage 200 finished\nPage 300 finished\nPage 400 finished\nPage 500 finished\nPage 600 finished\nPage 700 finished\nPage 800 finished\nPage 900 finished\nPage 1000 finished\nPage 1100 finished\n"
    }
   ],
   "source": [
    "# Scraping Copenhagen\n",
    "url_broaderCPH = 'https://www.boliga.dk/salg/resultater?propertyType=3&salesDateMin=1992&street=&municipality=101&page=1&sort=date-d'\n",
    "\n",
    "df_broaderCPH = Scraper(1110,url_broaderCPH)"
   ]
  },
  {
   "cell_type": "code",
   "execution_count": 54,
   "metadata": {},
   "outputs": [
    {
     "output_type": "execute_result",
     "data": {
      "text/plain": "   id          project connector_type             t   delta_t  \\\n0   0  ApartmentScrape       selenium  1.597676e+09 -3.304246   \n\n                                                 url  \\\n0  https://www.boliga.dk/salg/resultater?property...   \n\n                                        redirect_url  response_size  \\\n0  https://www.boliga.dk/salg/resultater?property...         787113   \n\n   response_code  success  error  \n0            NaN      NaN    NaN  ",
      "text/html": "<div>\n<style scoped>\n    .dataframe tbody tr th:only-of-type {\n        vertical-align: middle;\n    }\n\n    .dataframe tbody tr th {\n        vertical-align: top;\n    }\n\n    .dataframe thead th {\n        text-align: right;\n    }\n</style>\n<table border=\"1\" class=\"dataframe\">\n  <thead>\n    <tr style=\"text-align: right;\">\n      <th></th>\n      <th>id</th>\n      <th>project</th>\n      <th>connector_type</th>\n      <th>t</th>\n      <th>delta_t</th>\n      <th>url</th>\n      <th>redirect_url</th>\n      <th>response_size</th>\n      <th>response_code</th>\n      <th>success</th>\n      <th>error</th>\n    </tr>\n  </thead>\n  <tbody>\n    <tr>\n      <td>0</td>\n      <td>0</td>\n      <td>ApartmentScrape</td>\n      <td>selenium</td>\n      <td>1.597676e+09</td>\n      <td>-3.304246</td>\n      <td>https://www.boliga.dk/salg/resultater?property...</td>\n      <td>https://www.boliga.dk/salg/resultater?property...</td>\n      <td>787113</td>\n      <td>NaN</td>\n      <td>NaN</td>\n      <td>NaN</td>\n    </tr>\n  </tbody>\n</table>\n</div>"
     },
     "metadata": {},
     "execution_count": 54
    }
   ],
   "source": [
    "log_CPH = pd.read_csv('ApartmentScrape.csv',sep=';')\n",
    "log_CPH"
   ]
  },
  {
   "cell_type": "code",
   "execution_count": 55,
   "metadata": {},
   "outputs": [],
   "source": [
    "df_broaderCPH.to_pickle('/Users/holger/Documents/Python/Harmsen_Repo/Metro-Study/Pickles/Scrape broaderCPH raw.pkl')\n",
    "log_CPH.to_pickle('/Users/holger/Documents/Python/Harmsen_Repo/Metro-Study/Pickles/log CPH_scrape.pkl')"
   ]
  },
  {
   "cell_type": "code",
   "execution_count": 61,
   "metadata": {
    "tags": []
   },
   "outputs": [
    {
     "output_type": "stream",
     "name": "stdout",
     "text": "Page 0 finished\nPage 100 finished\nPage 200 finished\n"
    }
   ],
   "source": [
    "# Scraping Frederiksberg\n",
    "url_FRB = 'https://www.boliga.dk/salg/resultater?propertyType=3&salesDateMin=1992&street=&municipality=147&page=1&sort=date-d'\n",
    "\n",
    "df_FRB = Scraper(247,url_FRB)"
   ]
  },
  {
   "cell_type": "code",
   "execution_count": 62,
   "metadata": {},
   "outputs": [
    {
     "output_type": "execute_result",
     "data": {
      "text/plain": "   id          project connector_type             t   delta_t  \\\n0   0  ApartmentScrape       selenium  1.597678e+09 -2.934624   \n\n                                                 url  \\\n0  https://www.boliga.dk/salg/resultater?property...   \n\n                                        redirect_url  response_size  \\\n0  https://www.boliga.dk/salg/resultater?property...         787445   \n\n   response_code  success  error  \n0            NaN      NaN    NaN  ",
      "text/html": "<div>\n<style scoped>\n    .dataframe tbody tr th:only-of-type {\n        vertical-align: middle;\n    }\n\n    .dataframe tbody tr th {\n        vertical-align: top;\n    }\n\n    .dataframe thead th {\n        text-align: right;\n    }\n</style>\n<table border=\"1\" class=\"dataframe\">\n  <thead>\n    <tr style=\"text-align: right;\">\n      <th></th>\n      <th>id</th>\n      <th>project</th>\n      <th>connector_type</th>\n      <th>t</th>\n      <th>delta_t</th>\n      <th>url</th>\n      <th>redirect_url</th>\n      <th>response_size</th>\n      <th>response_code</th>\n      <th>success</th>\n      <th>error</th>\n    </tr>\n  </thead>\n  <tbody>\n    <tr>\n      <td>0</td>\n      <td>0</td>\n      <td>ApartmentScrape</td>\n      <td>selenium</td>\n      <td>1.597678e+09</td>\n      <td>-2.934624</td>\n      <td>https://www.boliga.dk/salg/resultater?property...</td>\n      <td>https://www.boliga.dk/salg/resultater?property...</td>\n      <td>787445</td>\n      <td>NaN</td>\n      <td>NaN</td>\n      <td>NaN</td>\n    </tr>\n  </tbody>\n</table>\n</div>"
     },
     "metadata": {},
     "execution_count": 62
    }
   ],
   "source": [
    "log_FRB = pd.read_csv('ApartmentScrape.csv',sep=';')\n",
    "log_FRB"
   ]
  },
  {
   "cell_type": "code",
   "execution_count": 63,
   "metadata": {},
   "outputs": [],
   "source": [
    "df_FRB.to_pickle('/Users/holger/Documents/Python/Harmsen_Repo/Metro-Study/Pickles/Scrape FRB raw.pkl')\n",
    "log_FRB.to_pickle('/Users/holger/Documents/Python/Harmsen_Repo/Metro-Study/Pickles/log FRB_scrape.pkl')"
   ]
  },
  {
   "cell_type": "code",
   "execution_count": 64,
   "metadata": {},
   "outputs": [],
   "source": [
    "df_Total = pd.concat([df_broaderCPH,df_FRB],ignore_index=True)"
   ]
  },
  {
   "cell_type": "code",
   "execution_count": 67,
   "metadata": {
    "tags": []
   },
   "outputs": [
    {
     "output_type": "stream",
     "name": "stdout",
     "text": "Total dataframe has 67850 rows.\n"
    },
    {
     "output_type": "execute_result",
     "data": {
      "text/plain": "                                            Adresse            Købesum  \\\n0          Brofogedvej 14, 3. th, 2400 København NV  Købesum 3.195.000   \n1  Nordre Frihavnsgade 55, st. tv, 2100 København Ø  Købesum 4.000.000   \n2    A.C. Meyers Vænge 5, st. tv, 2450 København SV  Købesum 2.650.000   \n\n              Salgsdato                               Boligtype  \\\n0  Salgsdato 06-08-2020  Boligtype Ejerlejlighed EEjerlejlighed   \n1  Salgsdato 06-08-2020  Boligtype Ejerlejlighed EEjerlejlighed   \n2  Salgsdato 05-08-2020  Boligtype Ejerlejlighed EEjerlejlighed   \n\n          Kr. / m²    Værelser         m²       Byggeår  \\\n0  Kr. / m² 48.409  Værelser 3   m² 66 m²  Byggeår 1899   \n1  Kr. / m² 50.000  Værelser 3   m² 80 m²  Byggeår 1893   \n2  Kr. / m² 18.794  Værelser 5  m² 141 m²  Byggeår 2006   \n\n  Den procentuelle forskel mellem seneste udbudspris og salgsprisen %  \\\n0                                   Prisjustering 3%                    \n1                                   Prisjustering 3%                    \n2                                      Prisjustering                    \n\n                                          Unnamed: 9  \n0  BoligrapporterBoligrapporterFå de bedste argum...  \n1  BoligrapporterBoligrapporterFå de bedste argum...  \n2  BoligrapporterBoligrapporterFå de bedste argum...  ",
      "text/html": "<div>\n<style scoped>\n    .dataframe tbody tr th:only-of-type {\n        vertical-align: middle;\n    }\n\n    .dataframe tbody tr th {\n        vertical-align: top;\n    }\n\n    .dataframe thead th {\n        text-align: right;\n    }\n</style>\n<table border=\"1\" class=\"dataframe\">\n  <thead>\n    <tr style=\"text-align: right;\">\n      <th></th>\n      <th>Adresse</th>\n      <th>Købesum</th>\n      <th>Salgsdato</th>\n      <th>Boligtype</th>\n      <th>Kr. / m²</th>\n      <th>Værelser</th>\n      <th>m²</th>\n      <th>Byggeår</th>\n      <th>Den procentuelle forskel mellem seneste udbudspris og salgsprisen %</th>\n      <th>Unnamed: 9</th>\n    </tr>\n  </thead>\n  <tbody>\n    <tr>\n      <td>0</td>\n      <td>Brofogedvej 14, 3. th, 2400 København NV</td>\n      <td>Købesum 3.195.000</td>\n      <td>Salgsdato 06-08-2020</td>\n      <td>Boligtype Ejerlejlighed EEjerlejlighed</td>\n      <td>Kr. / m² 48.409</td>\n      <td>Værelser 3</td>\n      <td>m² 66 m²</td>\n      <td>Byggeår 1899</td>\n      <td>Prisjustering 3%</td>\n      <td>BoligrapporterBoligrapporterFå de bedste argum...</td>\n    </tr>\n    <tr>\n      <td>1</td>\n      <td>Nordre Frihavnsgade 55, st. tv, 2100 København Ø</td>\n      <td>Købesum 4.000.000</td>\n      <td>Salgsdato 06-08-2020</td>\n      <td>Boligtype Ejerlejlighed EEjerlejlighed</td>\n      <td>Kr. / m² 50.000</td>\n      <td>Værelser 3</td>\n      <td>m² 80 m²</td>\n      <td>Byggeår 1893</td>\n      <td>Prisjustering 3%</td>\n      <td>BoligrapporterBoligrapporterFå de bedste argum...</td>\n    </tr>\n    <tr>\n      <td>2</td>\n      <td>A.C. Meyers Vænge 5, st. tv, 2450 København SV</td>\n      <td>Købesum 2.650.000</td>\n      <td>Salgsdato 05-08-2020</td>\n      <td>Boligtype Ejerlejlighed EEjerlejlighed</td>\n      <td>Kr. / m² 18.794</td>\n      <td>Værelser 5</td>\n      <td>m² 141 m²</td>\n      <td>Byggeår 2006</td>\n      <td>Prisjustering</td>\n      <td>BoligrapporterBoligrapporterFå de bedste argum...</td>\n    </tr>\n  </tbody>\n</table>\n</div>"
     },
     "metadata": {},
     "execution_count": 67
    }
   ],
   "source": [
    "print(f'Total dataframe has {len(df_Total)} rows.')\n",
    "df_Total.head(n=3)"
   ]
  },
  {
   "cell_type": "markdown",
   "metadata": {},
   "source": [
    "## 1.2) Working with the data:"
   ]
  },
  {
   "cell_type": "code",
   "execution_count": null,
   "metadata": {},
   "outputs": [],
   "source": [
    "Apartments = pd.DataFrame()\n",
    "Apartments['Address'] = df_Total['Adresse']\n",
    "\n",
    "# Translating to english and datetime\n",
    "dates = [i[10:] for i in df_Total['Salgsdato']]\n",
    "Apartments['Date_sold'] = [datetime.datetime(year=int(i[6:]),month=int(i[3:5]),day=int(i[:2]),)\n",
    "    for i in dates\n",
    "]\n",
    "\n",
    "Apartments['Price'] = [int(i[8:].replace('.',''))\n",
    "    for i in df_Total['Købesum']\n",
    "]\n",
    "\n",
    "Apartments['Price_sq_m'] = [int(i[9:].replace('.',''))\n",
    "    for i in df_Total['Kr. / m²']\n",
    "]\n",
    "\n",
    "Apartments['Rooms'] = [int(i[9:])\n",
    "    for i in df_Total['Værelser']\n",
    "]\n",
    "\n",
    "Apartments.to_pickle('/Users/holger/Documents/Python/Harmsen_Repo/Metro-Study/Pickles/Apartment Data 1.pkl')"
   ]
  },
  {
   "cell_type": "code",
   "execution_count": 44,
   "metadata": {},
   "outputs": [
    {
     "output_type": "execute_result",
     "data": {
      "text/plain": "                                     Address  Date_sold    Price  \\\n0     Bogholder Allé 15, 3. tv, 2720 Vanløse 2020-07-16  2340000   \n1     Theklavej 49, 2. 79, 2400 København NV 2020-07-16  1550000   \n2  Rådmandsgade 48A, 2. th, 2200 København N 2020-07-16   816000   \n\n   Price_sq_m_1000  Rooms  \n0           33.429      3  \n1           38.750      1  \n2           14.836      2  ",
      "text/html": "<div>\n<style scoped>\n    .dataframe tbody tr th:only-of-type {\n        vertical-align: middle;\n    }\n\n    .dataframe tbody tr th {\n        vertical-align: top;\n    }\n\n    .dataframe thead th {\n        text-align: right;\n    }\n</style>\n<table border=\"1\" class=\"dataframe\">\n  <thead>\n    <tr style=\"text-align: right;\">\n      <th></th>\n      <th>Address</th>\n      <th>Date_sold</th>\n      <th>Price</th>\n      <th>Price_sq_m_1000</th>\n      <th>Rooms</th>\n    </tr>\n  </thead>\n  <tbody>\n    <tr>\n      <td>0</td>\n      <td>Bogholder Allé 15, 3. tv, 2720 Vanløse</td>\n      <td>2020-07-16</td>\n      <td>2340000</td>\n      <td>33.429</td>\n      <td>3</td>\n    </tr>\n    <tr>\n      <td>1</td>\n      <td>Theklavej 49, 2. 79, 2400 København NV</td>\n      <td>2020-07-16</td>\n      <td>1550000</td>\n      <td>38.750</td>\n      <td>1</td>\n    </tr>\n    <tr>\n      <td>2</td>\n      <td>Rådmandsgade 48A, 2. th, 2200 København N</td>\n      <td>2020-07-16</td>\n      <td>816000</td>\n      <td>14.836</td>\n      <td>2</td>\n    </tr>\n  </tbody>\n</table>\n</div>"
     },
     "metadata": {},
     "execution_count": 44
    }
   ],
   "source": [
    "Apartments = pickle.load(open('/Users/holger/Documents/Python/Harmsen_Repo/Metro-Study/Pickles/Apartment Data 1.pkl','rb'))\n",
    "Apartments.head(n=3)"
   ]
  },
  {
   "cell_type": "markdown",
   "metadata": {},
   "source": [
    "A new column is added, using RegEx to remove all text between the commas. This substring expresses which door in the given apartment complex the address belongs to, and is thus irrelevant for the distance to nearest Metro. This is due to a later issue with the API not being able to recognize the address otherwise."
   ]
  },
  {
   "cell_type": "code",
   "execution_count": 46,
   "metadata": {},
   "outputs": [
    {
     "output_type": "execute_result",
     "data": {
      "text/plain": "                                     Address  Date_sold    Price  \\\n0     Bogholder Allé 15, 3. tv, 2720 Vanløse 2020-07-16  2340000   \n1     Theklavej 49, 2. 79, 2400 København NV 2020-07-16  1550000   \n2  Rådmandsgade 48A, 2. th, 2200 København N 2020-07-16   816000   \n\n   Price_sq_m_1000  Rooms                Address transformed  \n0           33.429      3     Bogholder Allé 15 2720 Vanløse  \n1           38.750      1     Theklavej 49 2400 København NV  \n2           14.836      2  Rådmandsgade 48A 2200 København N  ",
      "text/html": "<div>\n<style scoped>\n    .dataframe tbody tr th:only-of-type {\n        vertical-align: middle;\n    }\n\n    .dataframe tbody tr th {\n        vertical-align: top;\n    }\n\n    .dataframe thead th {\n        text-align: right;\n    }\n</style>\n<table border=\"1\" class=\"dataframe\">\n  <thead>\n    <tr style=\"text-align: right;\">\n      <th></th>\n      <th>Address</th>\n      <th>Date_sold</th>\n      <th>Price</th>\n      <th>Price_sq_m_1000</th>\n      <th>Rooms</th>\n      <th>Address transformed</th>\n    </tr>\n  </thead>\n  <tbody>\n    <tr>\n      <td>0</td>\n      <td>Bogholder Allé 15, 3. tv, 2720 Vanløse</td>\n      <td>2020-07-16</td>\n      <td>2340000</td>\n      <td>33.429</td>\n      <td>3</td>\n      <td>Bogholder Allé 15 2720 Vanløse</td>\n    </tr>\n    <tr>\n      <td>1</td>\n      <td>Theklavej 49, 2. 79, 2400 København NV</td>\n      <td>2020-07-16</td>\n      <td>1550000</td>\n      <td>38.750</td>\n      <td>1</td>\n      <td>Theklavej 49 2400 København NV</td>\n    </tr>\n    <tr>\n      <td>2</td>\n      <td>Rådmandsgade 48A, 2. th, 2200 København N</td>\n      <td>2020-07-16</td>\n      <td>816000</td>\n      <td>14.836</td>\n      <td>2</td>\n      <td>Rådmandsgade 48A 2200 København N</td>\n    </tr>\n  </tbody>\n</table>\n</div>"
     },
     "metadata": {},
     "execution_count": 46
    }
   ],
   "source": [
    "Apartments['Address transformed'] = [re.sub(',[^>]+,', '',i)\n",
    "for i in Apartments['Address']\n",
    "    ]\n",
    "Apartments.head(n=3)"
   ]
  },
  {
   "cell_type": "markdown",
   "metadata": {},
   "source": [
    "### Sorting data by address and date sold:"
   ]
  },
  {
   "cell_type": "code",
   "execution_count": 47,
   "metadata": {
    "tags": []
   },
   "outputs": [],
   "source": [
    "data_sorted = Apartments.sort_values(['Address','Date_sold'])\n",
    "\n",
    "# Problem with some pgaes being scraped more than once - deleting duplicate rows:\n",
    "data_sorted.drop_duplicates(inplace=True)\n",
    "data_sorted = data_sorted.sort_values(['Date_sold'])\n",
    "data_sorted['Price_mio'] = data_sorted['Price']/10**6\n",
    "data_sorted = data_sorted.reset_index()\n",
    "\n",
    "# Sorting and creating daily averages and moving average for graphing:\n",
    "dailyavg = data_sorted.groupby('Date_sold').agg(\n",
    "    Dailyavg_mio = ('Price_mio','mean'),\n",
    "    Dailyavg_sq = ('Price_sq_m_1000','mean')\n",
    ")\n",
    "dailyavg['Day'] = dailyavg.index.to_list()\n",
    "dailyavg['MovAvg'] = dailyavg['Dailyavg_sq'].rolling(window=500,center=True).mean()"
   ]
  },
  {
   "cell_type": "code",
   "execution_count": 48,
   "metadata": {},
   "outputs": [
    {
     "output_type": "execute_result",
     "data": {
      "text/plain": "   index                                         Address  Date_sold   Price  \\\n0  67848      Finsensvej 47B, 4. 410, 2000 Frederiksberg 1992-01-02  335000   \n1  55498        Øresundsvej 108, 1. tv, 2300 København S 1992-01-03  351000   \n2  67847  Frederik VIs Alle 6, 3. tv, 2000 Frederiksberg 1992-01-03  740000   \n\n   Price_sq_m_1000  Rooms                     Address transformed  Price_mio  \n0            5.583      1       Finsensvej 47B 2000 Frederiksberg      0.335  \n1            5.754      2        Øresundsvej 108 2300 København S      0.351  \n2            7.048      4  Frederik VIs Alle 6 2000 Frederiksberg      0.740  ",
      "text/html": "<div>\n<style scoped>\n    .dataframe tbody tr th:only-of-type {\n        vertical-align: middle;\n    }\n\n    .dataframe tbody tr th {\n        vertical-align: top;\n    }\n\n    .dataframe thead th {\n        text-align: right;\n    }\n</style>\n<table border=\"1\" class=\"dataframe\">\n  <thead>\n    <tr style=\"text-align: right;\">\n      <th></th>\n      <th>index</th>\n      <th>Address</th>\n      <th>Date_sold</th>\n      <th>Price</th>\n      <th>Price_sq_m_1000</th>\n      <th>Rooms</th>\n      <th>Address transformed</th>\n      <th>Price_mio</th>\n    </tr>\n  </thead>\n  <tbody>\n    <tr>\n      <td>0</td>\n      <td>67848</td>\n      <td>Finsensvej 47B, 4. 410, 2000 Frederiksberg</td>\n      <td>1992-01-02</td>\n      <td>335000</td>\n      <td>5.583</td>\n      <td>1</td>\n      <td>Finsensvej 47B 2000 Frederiksberg</td>\n      <td>0.335</td>\n    </tr>\n    <tr>\n      <td>1</td>\n      <td>55498</td>\n      <td>Øresundsvej 108, 1. tv, 2300 København S</td>\n      <td>1992-01-03</td>\n      <td>351000</td>\n      <td>5.754</td>\n      <td>2</td>\n      <td>Øresundsvej 108 2300 København S</td>\n      <td>0.351</td>\n    </tr>\n    <tr>\n      <td>2</td>\n      <td>67847</td>\n      <td>Frederik VIs Alle 6, 3. tv, 2000 Frederiksberg</td>\n      <td>1992-01-03</td>\n      <td>740000</td>\n      <td>7.048</td>\n      <td>4</td>\n      <td>Frederik VIs Alle 6 2000 Frederiksberg</td>\n      <td>0.740</td>\n    </tr>\n  </tbody>\n</table>\n</div>"
     },
     "metadata": {},
     "execution_count": 48
    }
   ],
   "source": [
    "# The apartment data now looks like this:\n",
    "Apartments = data_sorted\n",
    "Apartments.head(n=3)"
   ]
  },
  {
   "cell_type": "code",
   "execution_count": 49,
   "metadata": {},
   "outputs": [
    {
     "output_type": "execute_result",
     "data": {
      "text/plain": "            Dailyavg_mio  Dailyavg_sq        Day  MovAvg\nDate_sold                                               \n1992-01-02        0.3350        5.583 1992-01-02     NaN\n1992-01-03        0.5455        6.401 1992-01-03     NaN\n1992-01-04        0.2500        5.000 1992-01-04     NaN",
      "text/html": "<div>\n<style scoped>\n    .dataframe tbody tr th:only-of-type {\n        vertical-align: middle;\n    }\n\n    .dataframe tbody tr th {\n        vertical-align: top;\n    }\n\n    .dataframe thead th {\n        text-align: right;\n    }\n</style>\n<table border=\"1\" class=\"dataframe\">\n  <thead>\n    <tr style=\"text-align: right;\">\n      <th></th>\n      <th>Dailyavg_mio</th>\n      <th>Dailyavg_sq</th>\n      <th>Day</th>\n      <th>MovAvg</th>\n    </tr>\n    <tr>\n      <th>Date_sold</th>\n      <th></th>\n      <th></th>\n      <th></th>\n      <th></th>\n    </tr>\n  </thead>\n  <tbody>\n    <tr>\n      <td>1992-01-02</td>\n      <td>0.3350</td>\n      <td>5.583</td>\n      <td>1992-01-02</td>\n      <td>NaN</td>\n    </tr>\n    <tr>\n      <td>1992-01-03</td>\n      <td>0.5455</td>\n      <td>6.401</td>\n      <td>1992-01-03</td>\n      <td>NaN</td>\n    </tr>\n    <tr>\n      <td>1992-01-04</td>\n      <td>0.2500</td>\n      <td>5.000</td>\n      <td>1992-01-04</td>\n      <td>NaN</td>\n    </tr>\n  </tbody>\n</table>\n</div>"
     },
     "metadata": {},
     "execution_count": 49
    }
   ],
   "source": [
    "# The grouped mean- and moving average-data looks like this (MovAvg has NaN-values in beginning and ending of series):\n",
    "dailyavg.head(n=3)"
   ]
  },
  {
   "cell_type": "markdown",
   "metadata": {},
   "source": [
    "### Splitting the apartments by sub-areas within Copenhagen:"
   ]
  },
  {
   "cell_type": "code",
   "execution_count": 37,
   "metadata": {},
   "outputs": [],
   "source": [
    "# Inferring the area from the last part of the address:\n",
    "Apartments['Area'] = 'NaN'\n",
    "for i in range(0,len(Apartments)):\n",
    "    if Apartments['Address'][i][-1] == 'N':\n",
    "        Apartments['Area'][i] = 'N'\n",
    "        # Solving issue with differentiating between NV and V:\n",
    "    elif Apartments['Address'][i][-2:] == 'NV':\n",
    "        if Apartments['Address'][i][-2] == ' V':\n",
    "            Apartments['Area'][i] = 'V'\n",
    "        else: \n",
    "            Apartments['Area'][i] = 'NV'\n",
    "    elif Apartments['Address'][i][-1] == 'Ø':\n",
    "        Apartments['Area'][i] = 'Ø'\n",
    "    elif Apartments['Address'][i][-1] == 'K':\n",
    "        Apartments['Area'][i] = 'K'\n",
    "    elif Apartments['Address'][i][-1] == 'S':\n",
    "        Apartments['Area'][i] = 'S'\n",
    "    elif Apartments['Address'][i][-5:] == 'Valby':\n",
    "        Apartments['Area'][i] = 'Valby'\n",
    "    elif Apartments['Address'][i][-13:] == 'Frederiksberg':\n",
    "        Apartments['Area'][i] = 'FRB'\n",
    "    elif Apartments['Address'][i][-1:] == 'C':\n",
    "        Apartments['Area'][i] = 'FRB'"
   ]
  },
  {
   "cell_type": "code",
   "execution_count": 39,
   "metadata": {},
   "outputs": [],
   "source": [
    "Apartments.to_pickle('/Users/holger/Documents/Python/Harmsen_Repo/Metro-Study/Pickles/Apartment Data 2.pkl')"
   ]
  },
  {
   "cell_type": "markdown",
   "metadata": {},
   "source": [
    "# 2) Geocoding: Address to coordinates"
   ]
  },
  {
   "cell_type": "markdown",
   "metadata": {},
   "source": [
    "## 2.1) Defining the Geocoding-function, finding coordinates from a given address:"
   ]
  },
  {
   "cell_type": "markdown",
   "metadata": {},
   "source": [
    "Defining a function which returns the coordinates for a given address, using the Google Geocode API. I am using a free voucher of DKK 2,000. I need to pull coordinates for around 55 thousand adresses, this will spend around DKK 1,800."
   ]
  },
  {
   "cell_type": "code",
   "execution_count": 25,
   "metadata": {},
   "outputs": [],
   "source": [
    "geo_url = 'https://maps.googleapis.com/maps/api/geocode/json'\n",
    "def Geocode_Google(address):\n",
    "    spec_params = {'key' : # REMOVED\n",
    "          'address' : address,\n",
    "    }\n",
    "    d = requests.get(geo_url, params=spec_params)\n",
    "    json_data = d.json()\n",
    "    subdata = json_data['results']\n",
    "    return (subdata[0]['geometry']['location']['lat'],subdata[0]['geometry']['location']['lng'])"
   ]
  },
  {
   "cell_type": "markdown",
   "metadata": {},
   "source": [
    "## 2.2) Finding Coordinates to each apartment:"
   ]
  },
  {
   "cell_type": "markdown",
   "metadata": {},
   "source": [
    "Below, I use the Geocode-function to pull coordinates for all apartments in the dataset. This process took around 8 hours, so I split it up into stages, saving to pickle for each pull in intervals of 5000 pulls, after which I concatenate to a single dataframe and add this column to the original dataset for each apartment. Below, this process has been simplified for easier readability. The stage-pickles are saved in the /Pickles-folder."
   ]
  },
  {
   "cell_type": "code",
   "execution_count": null,
   "metadata": {},
   "outputs": [],
   "source": [
    "Apartments['Coordinates'] = [Geocode_Google(i) for i in Apartments['Address transformed']]"
   ]
  },
  {
   "cell_type": "code",
   "execution_count": 31,
   "metadata": {},
   "outputs": [],
   "source": [
    "Apartments = pickle.load(open('/Users/holger/Documents/Python/Harmsen_Repo/Metro-Study/Pickles/Apartment Data 3.pkl','rb'))"
   ]
  },
  {
   "cell_type": "code",
   "execution_count": null,
   "metadata": {},
   "outputs": [],
   "source": [
    "Apartments.to_pickle('/Users/holger/Documents/Python/Harmsen_Repo/Metro-Study/Pickles/Apartment Data 3.pkl')"
   ]
  },
  {
   "cell_type": "code",
   "execution_count": 33,
   "metadata": {},
   "outputs": [
    {
     "output_type": "execute_result",
     "data": {
      "text/plain": "                                            Address  \\\n0              Stengade 52B, 1. 1, 2200 København N   \n1                 Bryggerivej 10, 1. th, 2500 Valby   \n2              Solvænget 5, 3. tv, 2100 København Ø   \n3             Ved Volden 8, 5. tv, 1425 København K   \n4          Marstalsgade 38, 2. th, 2100 København Ø   \n...                                             ...   \n56944     Rådmandsgade 48A, 2. th, 2200 København N   \n56945  Tycho Brahes Allé 8, 5. tv, 2300 København S   \n56946        Theklavej 49, 2. 79, 2400 København NV   \n56947              Sundkaj 75, 3. th, 2150 Nordhavn   \n56948    Hammershøis Kaj 4, 2. th, 1402 København K   \n\n                        Address transformed   Area               Coordinates  \\\n0             Stengade 52B 2200 København N      N    (55.687083, 12.554688)   \n1                 Bryggerivej 10 2500 Valby  Valby    (55.660475, 12.518974)   \n2              Solvænget 5 2100 København Ø      Ø     (55.719198, 12.57804)   \n3             Ved Volden 8 1425 København K      K     (55.67202, 12.594053)   \n4          Marstalsgade 38 2100 København Ø      Ø    (55.703961, 12.589622)   \n...                                     ...    ...                       ...   \n56944     Rådmandsgade 48A 2200 København N      N    (55.700733, 12.552838)   \n56945  Tycho Brahes Allé 8 2300 København S      S  (55.6552045, 12.6111575)   \n56946        Theklavej 49 2400 København NV      V  (55.7059296, 12.5251929)   \n56947              Sundkaj 75 2150 Nordhavn    NaN  (55.7100897, 12.5977136)   \n56948    Hammershøis Kaj 4 1402 København K      K  (55.6709877, 12.5872917)   \n\n       Date_sold    Price  Price_mio  Price_sq_m_1000  Rooms  \n0     1994-02-11   300710   0.300710            5.896      1  \n1     1994-02-11   344101   0.344101            5.550      2  \n2     1994-02-11  1090300   1.090300            7.788      4  \n3     1994-02-13   415000   0.415000            6.694      2  \n4     1994-02-14   172000   0.172000            3.071      2  \n...          ...      ...        ...              ...    ...  \n56944 2020-07-16   816000   0.816000           14.836      2  \n56945 2020-07-16  1875000   1.875000           36.765      2  \n56946 2020-07-16  1550000   1.550000           38.750      1  \n56947 2020-07-16  3570000   3.570000           51.000      2  \n56948 2020-07-16  4250000   4.250000           57.432      2  \n\n[56949 rows x 9 columns]",
      "text/html": "<div>\n<style scoped>\n    .dataframe tbody tr th:only-of-type {\n        vertical-align: middle;\n    }\n\n    .dataframe tbody tr th {\n        vertical-align: top;\n    }\n\n    .dataframe thead th {\n        text-align: right;\n    }\n</style>\n<table border=\"1\" class=\"dataframe\">\n  <thead>\n    <tr style=\"text-align: right;\">\n      <th></th>\n      <th>Address</th>\n      <th>Address transformed</th>\n      <th>Area</th>\n      <th>Coordinates</th>\n      <th>Date_sold</th>\n      <th>Price</th>\n      <th>Price_mio</th>\n      <th>Price_sq_m_1000</th>\n      <th>Rooms</th>\n    </tr>\n  </thead>\n  <tbody>\n    <tr>\n      <td>0</td>\n      <td>Stengade 52B, 1. 1, 2200 København N</td>\n      <td>Stengade 52B 2200 København N</td>\n      <td>N</td>\n      <td>(55.687083, 12.554688)</td>\n      <td>1994-02-11</td>\n      <td>300710</td>\n      <td>0.300710</td>\n      <td>5.896</td>\n      <td>1</td>\n    </tr>\n    <tr>\n      <td>1</td>\n      <td>Bryggerivej 10, 1. th, 2500 Valby</td>\n      <td>Bryggerivej 10 2500 Valby</td>\n      <td>Valby</td>\n      <td>(55.660475, 12.518974)</td>\n      <td>1994-02-11</td>\n      <td>344101</td>\n      <td>0.344101</td>\n      <td>5.550</td>\n      <td>2</td>\n    </tr>\n    <tr>\n      <td>2</td>\n      <td>Solvænget 5, 3. tv, 2100 København Ø</td>\n      <td>Solvænget 5 2100 København Ø</td>\n      <td>Ø</td>\n      <td>(55.719198, 12.57804)</td>\n      <td>1994-02-11</td>\n      <td>1090300</td>\n      <td>1.090300</td>\n      <td>7.788</td>\n      <td>4</td>\n    </tr>\n    <tr>\n      <td>3</td>\n      <td>Ved Volden 8, 5. tv, 1425 København K</td>\n      <td>Ved Volden 8 1425 København K</td>\n      <td>K</td>\n      <td>(55.67202, 12.594053)</td>\n      <td>1994-02-13</td>\n      <td>415000</td>\n      <td>0.415000</td>\n      <td>6.694</td>\n      <td>2</td>\n    </tr>\n    <tr>\n      <td>4</td>\n      <td>Marstalsgade 38, 2. th, 2100 København Ø</td>\n      <td>Marstalsgade 38 2100 København Ø</td>\n      <td>Ø</td>\n      <td>(55.703961, 12.589622)</td>\n      <td>1994-02-14</td>\n      <td>172000</td>\n      <td>0.172000</td>\n      <td>3.071</td>\n      <td>2</td>\n    </tr>\n    <tr>\n      <td>...</td>\n      <td>...</td>\n      <td>...</td>\n      <td>...</td>\n      <td>...</td>\n      <td>...</td>\n      <td>...</td>\n      <td>...</td>\n      <td>...</td>\n      <td>...</td>\n    </tr>\n    <tr>\n      <td>56944</td>\n      <td>Rådmandsgade 48A, 2. th, 2200 København N</td>\n      <td>Rådmandsgade 48A 2200 København N</td>\n      <td>N</td>\n      <td>(55.700733, 12.552838)</td>\n      <td>2020-07-16</td>\n      <td>816000</td>\n      <td>0.816000</td>\n      <td>14.836</td>\n      <td>2</td>\n    </tr>\n    <tr>\n      <td>56945</td>\n      <td>Tycho Brahes Allé 8, 5. tv, 2300 København S</td>\n      <td>Tycho Brahes Allé 8 2300 København S</td>\n      <td>S</td>\n      <td>(55.6552045, 12.6111575)</td>\n      <td>2020-07-16</td>\n      <td>1875000</td>\n      <td>1.875000</td>\n      <td>36.765</td>\n      <td>2</td>\n    </tr>\n    <tr>\n      <td>56946</td>\n      <td>Theklavej 49, 2. 79, 2400 København NV</td>\n      <td>Theklavej 49 2400 København NV</td>\n      <td>V</td>\n      <td>(55.7059296, 12.5251929)</td>\n      <td>2020-07-16</td>\n      <td>1550000</td>\n      <td>1.550000</td>\n      <td>38.750</td>\n      <td>1</td>\n    </tr>\n    <tr>\n      <td>56947</td>\n      <td>Sundkaj 75, 3. th, 2150 Nordhavn</td>\n      <td>Sundkaj 75 2150 Nordhavn</td>\n      <td>NaN</td>\n      <td>(55.7100897, 12.5977136)</td>\n      <td>2020-07-16</td>\n      <td>3570000</td>\n      <td>3.570000</td>\n      <td>51.000</td>\n      <td>2</td>\n    </tr>\n    <tr>\n      <td>56948</td>\n      <td>Hammershøis Kaj 4, 2. th, 1402 København K</td>\n      <td>Hammershøis Kaj 4 1402 København K</td>\n      <td>K</td>\n      <td>(55.6709877, 12.5872917)</td>\n      <td>2020-07-16</td>\n      <td>4250000</td>\n      <td>4.250000</td>\n      <td>57.432</td>\n      <td>2</td>\n    </tr>\n  </tbody>\n</table>\n<p>56949 rows × 9 columns</p>\n</div>"
     },
     "metadata": {},
     "execution_count": 33
    }
   ],
   "source": [
    "Apartments.head(n=3)"
   ]
  },
  {
   "cell_type": "markdown",
   "metadata": {},
   "source": [
    "# 3) Scraping Metro-Data\n",
    "\n",
    "By scraping danish Wikipedia-sites for Metro stations in Copenhagen, I can find Address, year built and other relevant information.\n",
    "\n",
    "One problem is, that the information-tables on Wikipedia-pages do not contain the same number of rows and thus amount of information. This is resolved by creating a list of dictionaries, in which each element is a dictionary involving all information from a given table.\n",
    "Selected information is drawn from here and appended to a finished DataFrame, containing all relevant Metro-information."
   ]
  },
  {
   "cell_type": "markdown",
   "metadata": {},
   "source": [
    "## 3.1) Scraping:"
   ]
  },
  {
   "cell_type": "code",
   "execution_count": null,
   "metadata": {},
   "outputs": [],
   "source": [
    "connector = Connector('MetroLog.csv',overwrite_log=True,path2selenium='/Users/holger/Documents/Python/Harmsen_Repo/Metro-Study/Gecko/geckodriver',connector_type='selenium')"
   ]
  },
  {
   "cell_type": "code",
   "execution_count": null,
   "metadata": {},
   "outputs": [],
   "source": [
    "# Defining Scraper-function:\n",
    "def WikiScraper(no_metros):\n",
    "    url = 'https://da.wikipedia.org/wiki/Stationer_p%C3%A5_K%C3%B8benhavns_Metro'\n",
    "    response,call_id = connector.get(url,'Metroer')\n",
    "    time.sleep(1)\n",
    "\n",
    "    # Creating DataFrame and dictionary for information-storing:\n",
    "    data = pd.DataFrame()\n",
    "    dic_list = []\n",
    "\n",
    "\n",
    "    for i in range(1,no_metros+1):\n",
    "        link = connector.browser.find_element_by_xpath(f'/html/body/div[3]/div[3]/div[5]/div/table[1]/tbody/tr[{i}]/td[1]/a')\n",
    "        link.click()\n",
    "        time.sleep(1)\n",
    "\n",
    "        # READ INFORMATION\n",
    "        # 1.1) Appending all information to DataFrame\n",
    "        table = pd.read_html(connector.browser.page_source)[0]\n",
    "        data[f'Traits_{i}'] = table.iloc[:,0]\n",
    "        data[f'{i}'] = table.iloc[:,1]\n",
    "\n",
    "        # 1.2) Finding extra information, that the read_html doesn't pick up:\n",
    "        soup = BeautifulSoup(connector.browser.page_source, 'lxml')\n",
    "        name = soup.find('h1').text\n",
    "        data[f'Traits_{i}'][0] = 'Name' # Adding the name to first row of the df (This is always NaN, so doesn't delete vital data)\n",
    "        data[f'{i}'][0] = name\n",
    "\n",
    "        # 2) Creating a dictionary with all information, ensuring homogeneity in calls of keys between different WikiPages; the info is in different orders between wiki-sites.:\n",
    "        dic = {}\n",
    "        for j in range(0,len(data[f'Traits_{i}'])):\n",
    "            dic[str(data[f'Traits_{i}'][j])] = str(data[f'{i}'][j])\n",
    "\n",
    "        dic_list.append(dic)\n",
    "\n",
    "        # RETURN \n",
    "        connector.browser.get(url)\n",
    "        time.sleep(1)\n",
    "\n",
    "    return [data,dic_list]\n",
    "    #return dic_list"
   ]
  },
  {
   "cell_type": "code",
   "execution_count": null,
   "metadata": {},
   "outputs": [],
   "source": [
    "MetroScrape = WikiScraper(44)"
   ]
  },
  {
   "cell_type": "code",
   "execution_count": 71,
   "metadata": {},
   "outputs": [
    {
     "output_type": "execute_result",
     "data": {
      "text/plain": "   id  project connector_type             t   delta_t  \\\n0   0  Metroer       selenium  1.597668e+09 -0.907827   \n1   1  Metroer       selenium  1.597668e+09 -0.659327   \n2   2  Metroer       selenium  1.597669e+09 -0.652908   \n\n                                                 url  \\\n0  https://da.wikipedia.org/wiki/Stationer_p%C3%A...   \n1  https://da.wikipedia.org/wiki/Stationer_p%C3%A...   \n2  https://da.wikipedia.org/wiki/Stationer_p%C3%A...   \n\n                                        redirect_url  response_size  \\\n0  https://da.wikipedia.org/wiki/Stationer_p%C3%A...         126862   \n1  https://da.wikipedia.org/wiki/Stationer_p%C3%A...         126727   \n2  https://da.wikipedia.org/wiki/Stationer_p%C3%A...         131090   \n\n   response_code  success  error  \n0            NaN      NaN    NaN  \n1            NaN      NaN    NaN  \n2            NaN      NaN    NaN  ",
      "text/html": "<div>\n<style scoped>\n    .dataframe tbody tr th:only-of-type {\n        vertical-align: middle;\n    }\n\n    .dataframe tbody tr th {\n        vertical-align: top;\n    }\n\n    .dataframe thead th {\n        text-align: right;\n    }\n</style>\n<table border=\"1\" class=\"dataframe\">\n  <thead>\n    <tr style=\"text-align: right;\">\n      <th></th>\n      <th>id</th>\n      <th>project</th>\n      <th>connector_type</th>\n      <th>t</th>\n      <th>delta_t</th>\n      <th>url</th>\n      <th>redirect_url</th>\n      <th>response_size</th>\n      <th>response_code</th>\n      <th>success</th>\n      <th>error</th>\n    </tr>\n  </thead>\n  <tbody>\n    <tr>\n      <td>0</td>\n      <td>0</td>\n      <td>Metroer</td>\n      <td>selenium</td>\n      <td>1.597668e+09</td>\n      <td>-0.907827</td>\n      <td>https://da.wikipedia.org/wiki/Stationer_p%C3%A...</td>\n      <td>https://da.wikipedia.org/wiki/Stationer_p%C3%A...</td>\n      <td>126862</td>\n      <td>NaN</td>\n      <td>NaN</td>\n      <td>NaN</td>\n    </tr>\n    <tr>\n      <td>1</td>\n      <td>1</td>\n      <td>Metroer</td>\n      <td>selenium</td>\n      <td>1.597668e+09</td>\n      <td>-0.659327</td>\n      <td>https://da.wikipedia.org/wiki/Stationer_p%C3%A...</td>\n      <td>https://da.wikipedia.org/wiki/Stationer_p%C3%A...</td>\n      <td>126727</td>\n      <td>NaN</td>\n      <td>NaN</td>\n      <td>NaN</td>\n    </tr>\n    <tr>\n      <td>2</td>\n      <td>2</td>\n      <td>Metroer</td>\n      <td>selenium</td>\n      <td>1.597669e+09</td>\n      <td>-0.652908</td>\n      <td>https://da.wikipedia.org/wiki/Stationer_p%C3%A...</td>\n      <td>https://da.wikipedia.org/wiki/Stationer_p%C3%A...</td>\n      <td>131090</td>\n      <td>NaN</td>\n      <td>NaN</td>\n      <td>NaN</td>\n    </tr>\n  </tbody>\n</table>\n</div>"
     },
     "metadata": {},
     "execution_count": 71
    }
   ],
   "source": [
    "MetroLog = pd.read_csv('MetroLog.csv',sep=';').head(n=3)\n",
    "MetroLog"
   ]
  },
  {
   "cell_type": "code",
   "execution_count": 70,
   "metadata": {},
   "outputs": [],
   "source": [
    "MetroLog.to_pickle('/Users/holger/Documents/Python/Harmsen_Repo/Metro-Study/Pickles/log MetroScrape.pkl')"
   ]
  },
  {
   "cell_type": "markdown",
   "metadata": {},
   "source": [
    "## 3.2) Working with the data:\n",
    "\n",
    "Creating a DataFrame using the information from dictionaries:"
   ]
  },
  {
   "cell_type": "code",
   "execution_count": null,
   "metadata": {},
   "outputs": [],
   "source": [
    "indexlist = ['Name','Adresse','Jernbane','Åbningsdato']\n",
    "MetroList = pd.DataFrame(index=indexlist)\n",
    "\n",
    "for i in range(0,44):\n",
    "    specs = []\n",
    "    for j in indexlist:\n",
    "        try: \n",
    "            specs.append(MetroScrape[1][i][j]) # Appending the relevant Metro-information (j-key from scrape-dict)\n",
    "        except:\n",
    "            specs.append('NaN')\n",
    "    # Indexing column names:\n",
    "    MetroList[i] = specs\n",
    "MetroList = MetroList.transpose()\n",
    "MetroList.columns = ['Name', 'Address', 'Railroad', 'Opening Date'] # Changing names to english\n",
    "\n",
    "\n",
    "# Cleaning for '[1]' (from Wikipedia-references):\n",
    "MetroList['Address'] = [i.replace('[1]','') for i in MetroList['Address']]\n",
    "MetroList['Address'] = [i.replace('[2]','') for i in MetroList['Address']]\n",
    "MetroList['Railroad'] = [i.replace('[2]','') for i in MetroList['Railroad']]\n",
    "MetroList['Opening Date'] = [i.replace('[1]','') for i in MetroList['Opening Date']]\n",
    "\n",
    "# Cleaning NaN-values:\n",
    "MetroList = MetroList.drop(MetroList[\"Address\"].loc[MetroList[\"Address\"]=='NaN'].index)\n",
    "MetroList.reset_index(inplace=True)\n",
    "del MetroList['index']\n",
    "\n",
    "# Creating dummy-variable for Cityring:\n",
    "MetroList['Cityring'] = 0\n",
    "for i in range(0,len(MetroList)):\n",
    "    if 'Cityringen' in MetroList['Railroad'][i]:\n",
    "        MetroList['Cityring'][i] = 1\n",
    "\n",
    "# Simplyfying Opening Date-column to year for use in regression analysis later:\n",
    "for i in range(0,len(MetroList)):\n",
    "    try:\n",
    "        year = int(MetroList['Opening Date'][i][-4:])\n",
    "        if 0 < year < 2021:\n",
    "            MetroList['Opening Date'][i] = int(MetroList['Opening Date'][i][-4:])\n",
    "    except:\n",
    "        pass\n",
    "\n",
    "# Cleaning the rest by hand, example: '13. december 1986 (S-tog), 12. oktober 2003 (Metro)' is cleaned to 2003\n",
    "for i in [7,32]:\n",
    "    MetroList['Opening Date'][i] = 2003\n",
    "MetroList['Opening Date'][25] = 2002\n",
    "for i in [23,27,31,34]:\n",
    "    MetroList['Opening Date'][i] = 2019\n",
    "MetroList = MetroList.drop(22)\n",
    "MetroList.reset_index(inplace=True)\n",
    "del MetroList['index']"
   ]
  },
  {
   "cell_type": "code",
   "execution_count": null,
   "metadata": {},
   "outputs": [],
   "source": [
    "MetroList.head(n=3)"
   ]
  },
  {
   "cell_type": "markdown",
   "metadata": {},
   "source": [
    "Seeing that the coordinates returned equals (39.78373,-100.445882) if there's a mistake (mostly, that the door and zip code are not separated by space) in the Address, I fix the very last issues manually in Excel in about a minute. This is no problem, as I am only working with 44 entries, and it would have been relatively difficult using RegEx, as the apartment numbers do not have the same number of digits and sometimes have letters in them. Too heterogenous. Speed before unneeded and superfluously complex code!"
   ]
  },
  {
   "cell_type": "code",
   "execution_count": null,
   "metadata": {},
   "outputs": [],
   "source": [
    "# Saving to Excel:\n",
    "MetroList.to_excel('/Users/holger/Documents/Python/Harmsen_Repo/Metro-Study/Pickles/Metro Adresses for Final Touches.xlsx')"
   ]
  },
  {
   "cell_type": "code",
   "execution_count": 16,
   "metadata": {},
   "outputs": [],
   "source": [
    "# Pulling edited version:\n",
    "MetroList = pd.read_excel('/Users/holger/Documents/Python/Harmsen_Repo/Metro-Study/Pickles/Metro Adresses for Final Touches_DONE.xlsx')"
   ]
  },
  {
   "cell_type": "code",
   "execution_count": 17,
   "metadata": {},
   "outputs": [
    {
     "output_type": "execute_result",
     "data": {
      "text/plain": "                         Name                            Address  \\\n0  Aksel Møllers Have Station  Godthåbsvej 31 2000 Frederiksberg   \n1       Amager Strand Station  Italiensvej 72A 2300 København S    \n2           Amagerbro Station  Amagerbro Torv 1 2300 København S   \n\n         Railroad  Opening Date  Cityring  \n0      Cityringen          2019         1  \n1  Østamagerbanen          2007         0  \n2   Ørestadsbanen          2002         0  ",
      "text/html": "<div>\n<style scoped>\n    .dataframe tbody tr th:only-of-type {\n        vertical-align: middle;\n    }\n\n    .dataframe tbody tr th {\n        vertical-align: top;\n    }\n\n    .dataframe thead th {\n        text-align: right;\n    }\n</style>\n<table border=\"1\" class=\"dataframe\">\n  <thead>\n    <tr style=\"text-align: right;\">\n      <th></th>\n      <th>Name</th>\n      <th>Address</th>\n      <th>Railroad</th>\n      <th>Opening Date</th>\n      <th>Cityring</th>\n    </tr>\n  </thead>\n  <tbody>\n    <tr>\n      <td>0</td>\n      <td>Aksel Møllers Have Station</td>\n      <td>Godthåbsvej 31 2000 Frederiksberg</td>\n      <td>Cityringen</td>\n      <td>2019</td>\n      <td>1</td>\n    </tr>\n    <tr>\n      <td>1</td>\n      <td>Amager Strand Station</td>\n      <td>Italiensvej 72A 2300 København S</td>\n      <td>Østamagerbanen</td>\n      <td>2007</td>\n      <td>0</td>\n    </tr>\n    <tr>\n      <td>2</td>\n      <td>Amagerbro Station</td>\n      <td>Amagerbro Torv 1 2300 København S</td>\n      <td>Ørestadsbanen</td>\n      <td>2002</td>\n      <td>0</td>\n    </tr>\n  </tbody>\n</table>\n</div>"
     },
     "metadata": {},
     "execution_count": 17
    }
   ],
   "source": [
    "del MetroList['Unnamed: 0']\n",
    "MetroList.head(n=3)"
   ]
  },
  {
   "cell_type": "markdown",
   "metadata": {},
   "source": [
    "## 3.3) Finding Coordinates to each Metro"
   ]
  },
  {
   "cell_type": "code",
   "execution_count": 26,
   "metadata": {},
   "outputs": [],
   "source": [
    "MetroList['Coordinates'] = [Geocode_Google(i) for i in MetroList['Address']]"
   ]
  },
  {
   "cell_type": "code",
   "execution_count": 12,
   "metadata": {},
   "outputs": [],
   "source": [
    "MetroList.to_pickle('/Users/holger/Documents/Python/Harmsen_Repo/Metro-Study/Pickles/Metrolist With Coordinates.pkl')"
   ]
  },
  {
   "cell_type": "code",
   "execution_count": 2,
   "metadata": {},
   "outputs": [],
   "source": [
    "MetroList = pickle.load(open('/Users/holger/Documents/Python/Harmsen_Repo/Metro-Study/Pickles/Metrolist With Coordinates.pkl','rb'))"
   ]
  },
  {
   "cell_type": "markdown",
   "metadata": {},
   "source": [
    "# 4) Finding the closest metro\n",
    "\n",
    "The code loops through each apartment in the Apartments dataframe. For each apartment, it sets an initial distance, after which it loops through each metro-station, calculate the distance to the given station, and substitute this for the default distance/metro if this distance is shorter. \n",
    "\n",
    "At last, when all metros have been upheld against each other for a given apartment, the key stats on the closest one are appended as a dictionary to the given apartment's row in the Apartments-dataframe"
   ]
  },
  {
   "cell_type": "code",
   "execution_count": 37,
   "metadata": {},
   "outputs": [],
   "source": [
    "def Closest_Metro(from_num,to_num):\n",
    "    # Creating a list of the closest metro to each apartment with the same index:\n",
    "    Closest_Metro = []\n",
    "    # Looping through each apartment:\n",
    "    for i in Apartments['Coordinates'][from_num:to_num]:\n",
    "        # Initiating lowest distance and its metro\n",
    "        lowest_dist = 1000\n",
    "        # Looping through metros, finding all distances and substituting the shortest one\n",
    "        for j in range(0,len(MetroList['Coordinates'])):\n",
    "            dist = geopy.distance.distance(i, MetroList['Coordinates'][j]).km\n",
    "            if dist < lowest_dist:\n",
    "                name = MetroList['Name'][j]\n",
    "                lowest_dist = dist\n",
    "                add = MetroList['Address'][j]\n",
    "                railroad = MetroList['Railroad'][j]\n",
    "                opening_date = MetroList['Opening Date'][j]\n",
    "                cityring_indicator = MetroList['Cityring'][j]\n",
    "\n",
    "\n",
    "        Closest_Metro.append({'Name':name,'Distance':lowest_dist,'Address':add,'Railroad':railroad,'Opening Date':opening_date,'Cityring':cityring_indicator})\n",
    "    return Closest_Metro"
   ]
  },
  {
   "cell_type": "code",
   "execution_count": 38,
   "metadata": {},
   "outputs": [],
   "source": [
    "Apartments['Closest Metro'] = Closest_Metro(0,len(Apartments))"
   ]
  },
  {
   "cell_type": "code",
   "execution_count": 41,
   "metadata": {},
   "outputs": [],
   "source": [
    "Apartments.to_pickle('/Users/holger/Documents/Python/Harmsen_Repo/Metro-Study/Pickles/Apartment Data 4.pkl')"
   ]
  },
  {
   "cell_type": "code",
   "execution_count": 42,
   "metadata": {},
   "outputs": [],
   "source": [
    "Apartments = pickle.load(open('/Users/holger/Documents/Python/Harmsen_Repo/Metro-Study/Pickles/Apartment Data 4.pkl','rb'))"
   ]
  },
  {
   "cell_type": "code",
   "execution_count": 43,
   "metadata": {},
   "outputs": [],
   "source": [
    "Apartments[:3].to_excel('/Users/holger/Documents/Python/Harmsen_Repo/Metro-Study/Other data/illustration of df.xlsx')"
   ]
  },
  {
   "cell_type": "code",
   "execution_count": 44,
   "metadata": {},
   "outputs": [
    {
     "output_type": "execute_result",
     "data": {
      "text/plain": "                                            Address  \\\n0              Stengade 52B, 1. 1, 2200 København N   \n1                 Bryggerivej 10, 1. th, 2500 Valby   \n2              Solvænget 5, 3. tv, 2100 København Ø   \n3             Ved Volden 8, 5. tv, 1425 København K   \n4          Marstalsgade 38, 2. th, 2100 København Ø   \n...                                             ...   \n56944     Rådmandsgade 48A, 2. th, 2200 København N   \n56945  Tycho Brahes Allé 8, 5. tv, 2300 København S   \n56946        Theklavej 49, 2. 79, 2400 København NV   \n56947              Sundkaj 75, 3. th, 2150 Nordhavn   \n56948    Hammershøis Kaj 4, 2. th, 1402 København K   \n\n                        Address transformed   Area               Coordinates  \\\n0             Stengade 52B 2200 København N      N    (55.687083, 12.554688)   \n1                 Bryggerivej 10 2500 Valby  Valby    (55.660475, 12.518974)   \n2              Solvænget 5 2100 København Ø      Ø     (55.719198, 12.57804)   \n3             Ved Volden 8 1425 København K      K     (55.67202, 12.594053)   \n4          Marstalsgade 38 2100 København Ø      Ø    (55.703961, 12.589622)   \n...                                     ...    ...                       ...   \n56944     Rådmandsgade 48A 2200 København N      N    (55.700733, 12.552838)   \n56945  Tycho Brahes Allé 8 2300 København S      S  (55.6552045, 12.6111575)   \n56946        Theklavej 49 2400 København NV      V  (55.7059296, 12.5251929)   \n56947              Sundkaj 75 2150 Nordhavn    NaN  (55.7100897, 12.5977136)   \n56948    Hammershøis Kaj 4 1402 København K      K  (55.6709877, 12.5872917)   \n\n       Date_sold    Price  Price_mio  Price_sq_m_1000  Rooms  \\\n0     1994-02-11   300710   0.300710            5.896      1   \n1     1994-02-11   344101   0.344101            5.550      2   \n2     1994-02-11  1090300   1.090300            7.788      4   \n3     1994-02-13   415000   0.415000            6.694      2   \n4     1994-02-14   172000   0.172000            3.071      2   \n...          ...      ...        ...              ...    ...   \n56944 2020-07-16   816000   0.816000           14.836      2   \n56945 2020-07-16  1875000   1.875000           36.765      2   \n56946 2020-07-16  1550000   1.550000           38.750      1   \n56947 2020-07-16  3570000   3.570000           51.000      2   \n56948 2020-07-16  4250000   4.250000           57.432      2   \n\n                                           Closest Metro  \n0      {'Name': 'Forum Station', 'Distance': 0.609572...  \n1      {'Name': 'Enghave Plads Station', 'Distance': ...  \n2      {'Name': 'Poul Henningsens Plads Station', 'Di...  \n3      {'Name': 'Christianshavn Station', 'Distance':...  \n4      {'Name': 'Nordhavn Station', 'Distance': 0.122...  \n...                                                  ...  \n56944  {'Name': 'Vibenshus Runddel Station', 'Distanc...  \n56945  {'Name': 'Lergravsparken Station', 'Distance':...  \n56946  {'Name': 'Nørrebro Station', 'Distance': 0.980...  \n56947  {'Name': 'Orientkaj Station', 'Distance': 0.13...  \n56948  {'Name': 'Christianshavn Station', 'Distance':...  \n\n[56949 rows x 10 columns]",
      "text/html": "<div>\n<style scoped>\n    .dataframe tbody tr th:only-of-type {\n        vertical-align: middle;\n    }\n\n    .dataframe tbody tr th {\n        vertical-align: top;\n    }\n\n    .dataframe thead th {\n        text-align: right;\n    }\n</style>\n<table border=\"1\" class=\"dataframe\">\n  <thead>\n    <tr style=\"text-align: right;\">\n      <th></th>\n      <th>Address</th>\n      <th>Address transformed</th>\n      <th>Area</th>\n      <th>Coordinates</th>\n      <th>Date_sold</th>\n      <th>Price</th>\n      <th>Price_mio</th>\n      <th>Price_sq_m_1000</th>\n      <th>Rooms</th>\n      <th>Closest Metro</th>\n    </tr>\n  </thead>\n  <tbody>\n    <tr>\n      <td>0</td>\n      <td>Stengade 52B, 1. 1, 2200 København N</td>\n      <td>Stengade 52B 2200 København N</td>\n      <td>N</td>\n      <td>(55.687083, 12.554688)</td>\n      <td>1994-02-11</td>\n      <td>300710</td>\n      <td>0.300710</td>\n      <td>5.896</td>\n      <td>1</td>\n      <td>{'Name': 'Forum Station', 'Distance': 0.609572...</td>\n    </tr>\n    <tr>\n      <td>1</td>\n      <td>Bryggerivej 10, 1. th, 2500 Valby</td>\n      <td>Bryggerivej 10 2500 Valby</td>\n      <td>Valby</td>\n      <td>(55.660475, 12.518974)</td>\n      <td>1994-02-11</td>\n      <td>344101</td>\n      <td>0.344101</td>\n      <td>5.550</td>\n      <td>2</td>\n      <td>{'Name': 'Enghave Plads Station', 'Distance': ...</td>\n    </tr>\n    <tr>\n      <td>2</td>\n      <td>Solvænget 5, 3. tv, 2100 København Ø</td>\n      <td>Solvænget 5 2100 København Ø</td>\n      <td>Ø</td>\n      <td>(55.719198, 12.57804)</td>\n      <td>1994-02-11</td>\n      <td>1090300</td>\n      <td>1.090300</td>\n      <td>7.788</td>\n      <td>4</td>\n      <td>{'Name': 'Poul Henningsens Plads Station', 'Di...</td>\n    </tr>\n    <tr>\n      <td>3</td>\n      <td>Ved Volden 8, 5. tv, 1425 København K</td>\n      <td>Ved Volden 8 1425 København K</td>\n      <td>K</td>\n      <td>(55.67202, 12.594053)</td>\n      <td>1994-02-13</td>\n      <td>415000</td>\n      <td>0.415000</td>\n      <td>6.694</td>\n      <td>2</td>\n      <td>{'Name': 'Christianshavn Station', 'Distance':...</td>\n    </tr>\n    <tr>\n      <td>4</td>\n      <td>Marstalsgade 38, 2. th, 2100 København Ø</td>\n      <td>Marstalsgade 38 2100 København Ø</td>\n      <td>Ø</td>\n      <td>(55.703961, 12.589622)</td>\n      <td>1994-02-14</td>\n      <td>172000</td>\n      <td>0.172000</td>\n      <td>3.071</td>\n      <td>2</td>\n      <td>{'Name': 'Nordhavn Station', 'Distance': 0.122...</td>\n    </tr>\n    <tr>\n      <td>...</td>\n      <td>...</td>\n      <td>...</td>\n      <td>...</td>\n      <td>...</td>\n      <td>...</td>\n      <td>...</td>\n      <td>...</td>\n      <td>...</td>\n      <td>...</td>\n      <td>...</td>\n    </tr>\n    <tr>\n      <td>56944</td>\n      <td>Rådmandsgade 48A, 2. th, 2200 København N</td>\n      <td>Rådmandsgade 48A 2200 København N</td>\n      <td>N</td>\n      <td>(55.700733, 12.552838)</td>\n      <td>2020-07-16</td>\n      <td>816000</td>\n      <td>0.816000</td>\n      <td>14.836</td>\n      <td>2</td>\n      <td>{'Name': 'Vibenshus Runddel Station', 'Distanc...</td>\n    </tr>\n    <tr>\n      <td>56945</td>\n      <td>Tycho Brahes Allé 8, 5. tv, 2300 København S</td>\n      <td>Tycho Brahes Allé 8 2300 København S</td>\n      <td>S</td>\n      <td>(55.6552045, 12.6111575)</td>\n      <td>2020-07-16</td>\n      <td>1875000</td>\n      <td>1.875000</td>\n      <td>36.765</td>\n      <td>2</td>\n      <td>{'Name': 'Lergravsparken Station', 'Distance':...</td>\n    </tr>\n    <tr>\n      <td>56946</td>\n      <td>Theklavej 49, 2. 79, 2400 København NV</td>\n      <td>Theklavej 49 2400 København NV</td>\n      <td>V</td>\n      <td>(55.7059296, 12.5251929)</td>\n      <td>2020-07-16</td>\n      <td>1550000</td>\n      <td>1.550000</td>\n      <td>38.750</td>\n      <td>1</td>\n      <td>{'Name': 'Nørrebro Station', 'Distance': 0.980...</td>\n    </tr>\n    <tr>\n      <td>56947</td>\n      <td>Sundkaj 75, 3. th, 2150 Nordhavn</td>\n      <td>Sundkaj 75 2150 Nordhavn</td>\n      <td>NaN</td>\n      <td>(55.7100897, 12.5977136)</td>\n      <td>2020-07-16</td>\n      <td>3570000</td>\n      <td>3.570000</td>\n      <td>51.000</td>\n      <td>2</td>\n      <td>{'Name': 'Orientkaj Station', 'Distance': 0.13...</td>\n    </tr>\n    <tr>\n      <td>56948</td>\n      <td>Hammershøis Kaj 4, 2. th, 1402 København K</td>\n      <td>Hammershøis Kaj 4 1402 København K</td>\n      <td>K</td>\n      <td>(55.6709877, 12.5872917)</td>\n      <td>2020-07-16</td>\n      <td>4250000</td>\n      <td>4.250000</td>\n      <td>57.432</td>\n      <td>2</td>\n      <td>{'Name': 'Christianshavn Station', 'Distance':...</td>\n    </tr>\n  </tbody>\n</table>\n<p>56949 rows × 10 columns</p>\n</div>"
     },
     "metadata": {},
     "execution_count": 44
    }
   ],
   "source": [
    "# The finished product ready for analysis:\n",
    "Apartments"
   ]
  },
  {
   "cell_type": "code",
   "execution_count": null,
   "metadata": {},
   "outputs": [],
   "source": []
  }
 ],
 "metadata": {
  "kernelspec": {
   "display_name": "Python 3",
   "language": "python",
   "name": "python3"
  },
  "language_info": {
   "codemirror_mode": {
    "name": "ipython",
    "version": 3
   },
   "file_extension": ".py",
   "mimetype": "text/x-python",
   "name": "python",
   "nbconvert_exporter": "python",
   "pygments_lexer": "ipython3",
   "version": "3.7.4-final"
  }
 },
 "nbformat": 4,
 "nbformat_minor": 2
}