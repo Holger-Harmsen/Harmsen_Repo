{
 "cells": [
  {
   "cell_type": "code",
   "execution_count": 2,
   "metadata": {},
   "outputs": [],
   "source": [
    "import numpy as np\n",
    "import pandas as pd\n",
    "import datetime\n",
    "from dateutil.parser import parse\n",
    "import requests, re, time\n",
    "import pandas_datareader\n",
    "import pickle\n",
    "import math\n",
    "\n",
    "import matplotlib.pyplot as plt\n",
    "%matplotlib inline\n",
    "from matplotlib.lines import Line2D\n",
    "import matplotlib.patches as mpatches\n",
    "import seaborn as sns \n",
    "\n",
    "import statsmodels.api as sm\n",
    "import json\n",
    "from pandas.io.json import json_normalize\n",
    "from bs4 import BeautifulSoup\n",
    "from selenium import webdriver\n",
    "import time\n",
    "\n",
    "import geopy.distance"
   ]
  },
  {
   "cell_type": "markdown",
   "metadata": {},
   "source": [
    "# The Impact of Metro-Construction: An Event Study"
   ]
  },
  {
   "cell_type": "markdown",
   "metadata": {},
   "source": [
    "In the following, I seek to find the effect on the price of Copenhagen apartments from the construction of a nearby metro. \n",
    "\n",
    "First, I scrape data of all sold condos in Copenhagen since 1992 using Boliga.dk\n",
    "\n",
    "Second, I use Google's Geocoding-API to convert the found addresses to coordinates. This will help me in step three.\n",
    "\n",
    "Third, I scrape Wikipedia for information on Copenhagen Metro stations.\n",
    "\n",
    "Fourth, I want to find the cloest metro to each apartment, and estimate the distance between the two. This is found to be most easily done by finding coordinates to each apartment and metro, calculate the distance between each apartment and its closest metro and therefrom infer a distance. As the found distance is in the form of a straight line, I estimate the walking distance by using the Pythagorean Theorem. From this, I can infer an estimated walking time.\n",
    "\n",
    "Fifth, I must take relevant factors into account in an econometric analysis. (Possibly using ML for slope estimation in regression?)\n",
    "\n",
    "This enables me to isolate the effect on the price of a condo from construction of a nearby metro station."
   ]
  },
  {
   "cell_type": "markdown",
   "metadata": {},
   "source": [
    "(The Cityring-law was put into place at 06-06-2007, and the construction work started in 2009. It opened in 2019. Due to the initialization of construction around the peak of the financial and economic crisis, unbiased estimation of the Cityrings effect is very difficult.)"
   ]
  },
  {
   "cell_type": "markdown",
   "metadata": {},
   "source": [
    "# 1) Scraping sales-data from Boliga.dk"
   ]
  },
  {
   "cell_type": "markdown",
   "metadata": {},
   "source": [
    "## 1.1) Scraping"
   ]
  },
  {
   "cell_type": "markdown",
   "metadata": {},
   "source": [
    "### Defining aiding functions:"
   ]
  },
  {
   "cell_type": "code",
   "execution_count": null,
   "metadata": {},
   "outputs": [],
   "source": [
    "path2gecko = '/Users/holger/Documents/Python/Harmsen_Repo/Metro-Study/Gecko/geckodriver'\n",
    "\n",
    "def Cookie_Clicker(i):\n",
    "        #Accepting cookies:\n",
    "    if i==True:\n",
    "        cookies = browser.find_element_by_xpath('//*[@id=\"coiAccept\"]')\n",
    "        cookies.click()\n",
    "        \n",
    "def Next_Page(i):\n",
    "    if i==True:\n",
    "        next_button = browser.find_element_by_link_text('Næste')\n",
    "        next_button.click()"
   ]
  },
  {
   "cell_type": "markdown",
   "metadata": {},
   "source": [
    "### Defining the scraping-function:"
   ]
  },
  {
   "cell_type": "code",
   "execution_count": null,
   "metadata": {},
   "outputs": [],
   "source": [
    "browser = webdriver.Firefox(executable_path=path2gecko) # start the browser with a path to the geckodriver.\n",
    "\n",
    "def Scraper(pages,url):\n",
    "    url_base = url\n",
    "    \n",
    "    browser.get(url_base)\n",
    "\n",
    "    #Waiting for cookies-pop-up:\n",
    "    time.sleep(10)\n",
    "\n",
    "    #Accepting cookies:\n",
    "    Cookie_Clicker(True)\n",
    "\n",
    "    #Wait for load:\n",
    "    time.sleep(5)\n",
    "\n",
    "    #Pull table\n",
    "    df = pd.read_html(browser.page_source)[0]\n",
    "    time.sleep(2)\n",
    "\n",
    "    #Looping over number of wanted pages:\n",
    "    for i in range(0,pages-1):\n",
    "        Next_Page(True)\n",
    "        time.sleep(2)\n",
    "        df_i = pd.read_html(browser.page_source)[0]\n",
    "        df = pd.concat([df,df_i],ignore_index=True)\n",
    "        \n",
    "    return df"
   ]
  },
  {
   "cell_type": "markdown",
   "metadata": {},
   "source": [
    "### Calling scraper:"
   ]
  },
  {
   "cell_type": "code",
   "execution_count": null,
   "metadata": {},
   "outputs": [],
   "source": [
    "# Scraping Copenhagen\n",
    "url_broaderCPH = 'https://www.boliga.dk/salg/resultater?propertyType=3&salesDateMin=1992&street=&municipality=101&page=1&sort=date-d'\n",
    "\n",
    "df_broaderCPH = Scraper(1110,url_broaderCPH)"
   ]
  },
  {
   "cell_type": "code",
   "execution_count": null,
   "metadata": {},
   "outputs": [],
   "source": [
    "# Scraping Frederiksberg\n",
    "\n",
    "url_FRB = 'https://www.boliga.dk/salg/resultater?propertyType=3&salesDateMin=1992&street=&municipality=147&page=1&sort=date-d'\n",
    "\n",
    "df_FRB = Scraper(247,url_FRB)\n"
   ]
  },
  {
   "cell_type": "code",
   "execution_count": null,
   "metadata": {},
   "outputs": [],
   "source": [
    "df_Total = pd.concat([df_broaderCPH,df_FRB],ignore_index=True)"
   ]
  },
  {
   "cell_type": "markdown",
   "metadata": {},
   "source": [
    "## 1.2) Working with the data:"
   ]
  },
  {
   "cell_type": "code",
   "execution_count": null,
   "metadata": {},
   "outputs": [],
   "source": [
    "Apartments = pd.DataFrame()\n",
    "Apartments['Address'] = df_Total['Adresse']\n",
    "\n",
    "dates = [i[10:] for i in df_Total['Salgsdato']]\n",
    "Apartments['Date_sold'] = [datetime.datetime(year=int(i[6:]),month=int(i[3:5]),day=int(i[:2]),)\n",
    "    for i in dates\n",
    "]\n",
    "\n",
    "Apartments['Price'] = [int(i[8:].replace('.',''))\n",
    "    for i in df_Total['Købesum']\n",
    "]\n",
    "\n",
    "Apartments['Price_sq_m'] = [int(i[9:].replace('.',''))\n",
    "    for i in df_Total['Kr. / m²']\n",
    "]\n",
    "\n",
    "Apartments['Rooms'] = [int(i[9:])\n",
    "    for i in df_Total['Værelser']\n",
    "]\n",
    "\n",
    "Apartments.to_pickle('/Users/holger/Documents/Python/Harmsen_Repo/Metro-Study/Pickles/Apartment Data 1.pkl')"
   ]
  },
  {
   "cell_type": "code",
   "execution_count": 44,
   "metadata": {},
   "outputs": [
    {
     "output_type": "execute_result",
     "data": {
      "text/plain": "                                     Address  Date_sold    Price  \\\n0     Bogholder Allé 15, 3. tv, 2720 Vanløse 2020-07-16  2340000   \n1     Theklavej 49, 2. 79, 2400 København NV 2020-07-16  1550000   \n2  Rådmandsgade 48A, 2. th, 2200 København N 2020-07-16   816000   \n\n   Price_sq_m_1000  Rooms  \n0           33.429      3  \n1           38.750      1  \n2           14.836      2  ",
      "text/html": "<div>\n<style scoped>\n    .dataframe tbody tr th:only-of-type {\n        vertical-align: middle;\n    }\n\n    .dataframe tbody tr th {\n        vertical-align: top;\n    }\n\n    .dataframe thead th {\n        text-align: right;\n    }\n</style>\n<table border=\"1\" class=\"dataframe\">\n  <thead>\n    <tr style=\"text-align: right;\">\n      <th></th>\n      <th>Address</th>\n      <th>Date_sold</th>\n      <th>Price</th>\n      <th>Price_sq_m_1000</th>\n      <th>Rooms</th>\n    </tr>\n  </thead>\n  <tbody>\n    <tr>\n      <td>0</td>\n      <td>Bogholder Allé 15, 3. tv, 2720 Vanløse</td>\n      <td>2020-07-16</td>\n      <td>2340000</td>\n      <td>33.429</td>\n      <td>3</td>\n    </tr>\n    <tr>\n      <td>1</td>\n      <td>Theklavej 49, 2. 79, 2400 København NV</td>\n      <td>2020-07-16</td>\n      <td>1550000</td>\n      <td>38.750</td>\n      <td>1</td>\n    </tr>\n    <tr>\n      <td>2</td>\n      <td>Rådmandsgade 48A, 2. th, 2200 København N</td>\n      <td>2020-07-16</td>\n      <td>816000</td>\n      <td>14.836</td>\n      <td>2</td>\n    </tr>\n  </tbody>\n</table>\n</div>"
     },
     "metadata": {},
     "execution_count": 44
    }
   ],
   "source": [
    "Apartments = pickle.load(open('/Users/holger/Documents/Python/Harmsen_Repo/Metro-Study/Pickles/Apartment Data 1.pkl','rb'))\n",
    "Apartments.head(n=3)"
   ]
  },
  {
   "cell_type": "markdown",
   "metadata": {},
   "source": [
    "A new column is added, using RegEx to remove all text between the commas. This substring expresses which door in the given apartment complex the address belongs to, and is thus irrelevant for the distance to nearest Metro. This is due to a later issue with the API not being able to recognize the address otherwise."
   ]
  },
  {
   "cell_type": "code",
   "execution_count": 46,
   "metadata": {},
   "outputs": [
    {
     "output_type": "execute_result",
     "data": {
      "text/plain": "                                     Address  Date_sold    Price  \\\n0     Bogholder Allé 15, 3. tv, 2720 Vanløse 2020-07-16  2340000   \n1     Theklavej 49, 2. 79, 2400 København NV 2020-07-16  1550000   \n2  Rådmandsgade 48A, 2. th, 2200 København N 2020-07-16   816000   \n\n   Price_sq_m_1000  Rooms                Address transformed  \n0           33.429      3     Bogholder Allé 15 2720 Vanløse  \n1           38.750      1     Theklavej 49 2400 København NV  \n2           14.836      2  Rådmandsgade 48A 2200 København N  ",
      "text/html": "<div>\n<style scoped>\n    .dataframe tbody tr th:only-of-type {\n        vertical-align: middle;\n    }\n\n    .dataframe tbody tr th {\n        vertical-align: top;\n    }\n\n    .dataframe thead th {\n        text-align: right;\n    }\n</style>\n<table border=\"1\" class=\"dataframe\">\n  <thead>\n    <tr style=\"text-align: right;\">\n      <th></th>\n      <th>Address</th>\n      <th>Date_sold</th>\n      <th>Price</th>\n      <th>Price_sq_m_1000</th>\n      <th>Rooms</th>\n      <th>Address transformed</th>\n    </tr>\n  </thead>\n  <tbody>\n    <tr>\n      <td>0</td>\n      <td>Bogholder Allé 15, 3. tv, 2720 Vanløse</td>\n      <td>2020-07-16</td>\n      <td>2340000</td>\n      <td>33.429</td>\n      <td>3</td>\n      <td>Bogholder Allé 15 2720 Vanløse</td>\n    </tr>\n    <tr>\n      <td>1</td>\n      <td>Theklavej 49, 2. 79, 2400 København NV</td>\n      <td>2020-07-16</td>\n      <td>1550000</td>\n      <td>38.750</td>\n      <td>1</td>\n      <td>Theklavej 49 2400 København NV</td>\n    </tr>\n    <tr>\n      <td>2</td>\n      <td>Rådmandsgade 48A, 2. th, 2200 København N</td>\n      <td>2020-07-16</td>\n      <td>816000</td>\n      <td>14.836</td>\n      <td>2</td>\n      <td>Rådmandsgade 48A 2200 København N</td>\n    </tr>\n  </tbody>\n</table>\n</div>"
     },
     "metadata": {},
     "execution_count": 46
    }
   ],
   "source": [
    "Apartments['Address transformed'] = [re.sub(',[^>]+,', '',i)\n",
    "for i in Apartments['Address']\n",
    "    ]\n",
    "Apartments.head(n=3)"
   ]
  },
  {
   "cell_type": "markdown",
   "metadata": {},
   "source": [
    "### Sorting data by address and date sold:"
   ]
  },
  {
   "cell_type": "code",
   "execution_count": 47,
   "metadata": {
    "tags": []
   },
   "outputs": [],
   "source": [
    "data_sorted = Apartments.sort_values(['Address','Date_sold'])\n",
    "\n",
    "# Problem with some pgaes being scraped more than once - deleting duplicate rows:\n",
    "data_sorted.drop_duplicates(inplace=True)\n",
    "data_sorted = data_sorted.sort_values(['Date_sold'])\n",
    "data_sorted['Price_mio'] = data_sorted['Price']/10**6\n",
    "data_sorted = data_sorted.reset_index()\n",
    "\n",
    "# Sorting and creating daily averages and moving average for graphing:\n",
    "dailyavg = data_sorted.groupby('Date_sold').agg(\n",
    "    Dailyavg_mio = ('Price_mio','mean'),\n",
    "    Dailyavg_sq = ('Price_sq_m_1000','mean')\n",
    ")\n",
    "dailyavg['Day'] = dailyavg.index.to_list()\n",
    "dailyavg['MovAvg'] = dailyavg['Dailyavg_sq'].rolling(window=500,center=True).mean()"
   ]
  },
  {
   "cell_type": "code",
   "execution_count": 48,
   "metadata": {},
   "outputs": [
    {
     "output_type": "execute_result",
     "data": {
      "text/plain": "   index                                         Address  Date_sold   Price  \\\n0  67848      Finsensvej 47B, 4. 410, 2000 Frederiksberg 1992-01-02  335000   \n1  55498        Øresundsvej 108, 1. tv, 2300 København S 1992-01-03  351000   \n2  67847  Frederik VIs Alle 6, 3. tv, 2000 Frederiksberg 1992-01-03  740000   \n\n   Price_sq_m_1000  Rooms                     Address transformed  Price_mio  \n0            5.583      1       Finsensvej 47B 2000 Frederiksberg      0.335  \n1            5.754      2        Øresundsvej 108 2300 København S      0.351  \n2            7.048      4  Frederik VIs Alle 6 2000 Frederiksberg      0.740  ",
      "text/html": "<div>\n<style scoped>\n    .dataframe tbody tr th:only-of-type {\n        vertical-align: middle;\n    }\n\n    .dataframe tbody tr th {\n        vertical-align: top;\n    }\n\n    .dataframe thead th {\n        text-align: right;\n    }\n</style>\n<table border=\"1\" class=\"dataframe\">\n  <thead>\n    <tr style=\"text-align: right;\">\n      <th></th>\n      <th>index</th>\n      <th>Address</th>\n      <th>Date_sold</th>\n      <th>Price</th>\n      <th>Price_sq_m_1000</th>\n      <th>Rooms</th>\n      <th>Address transformed</th>\n      <th>Price_mio</th>\n    </tr>\n  </thead>\n  <tbody>\n    <tr>\n      <td>0</td>\n      <td>67848</td>\n      <td>Finsensvej 47B, 4. 410, 2000 Frederiksberg</td>\n      <td>1992-01-02</td>\n      <td>335000</td>\n      <td>5.583</td>\n      <td>1</td>\n      <td>Finsensvej 47B 2000 Frederiksberg</td>\n      <td>0.335</td>\n    </tr>\n    <tr>\n      <td>1</td>\n      <td>55498</td>\n      <td>Øresundsvej 108, 1. tv, 2300 København S</td>\n      <td>1992-01-03</td>\n      <td>351000</td>\n      <td>5.754</td>\n      <td>2</td>\n      <td>Øresundsvej 108 2300 København S</td>\n      <td>0.351</td>\n    </tr>\n    <tr>\n      <td>2</td>\n      <td>67847</td>\n      <td>Frederik VIs Alle 6, 3. tv, 2000 Frederiksberg</td>\n      <td>1992-01-03</td>\n      <td>740000</td>\n      <td>7.048</td>\n      <td>4</td>\n      <td>Frederik VIs Alle 6 2000 Frederiksberg</td>\n      <td>0.740</td>\n    </tr>\n  </tbody>\n</table>\n</div>"
     },
     "metadata": {},
     "execution_count": 48
    }
   ],
   "source": [
    "# The apartment data now looks like this:\n",
    "Apartments = data_sorted\n",
    "Apartments.head(n=3)"
   ]
  },
  {
   "cell_type": "code",
   "execution_count": 49,
   "metadata": {},
   "outputs": [
    {
     "output_type": "execute_result",
     "data": {
      "text/plain": "            Dailyavg_mio  Dailyavg_sq        Day  MovAvg\nDate_sold                                               \n1992-01-02        0.3350        5.583 1992-01-02     NaN\n1992-01-03        0.5455        6.401 1992-01-03     NaN\n1992-01-04        0.2500        5.000 1992-01-04     NaN",
      "text/html": "<div>\n<style scoped>\n    .dataframe tbody tr th:only-of-type {\n        vertical-align: middle;\n    }\n\n    .dataframe tbody tr th {\n        vertical-align: top;\n    }\n\n    .dataframe thead th {\n        text-align: right;\n    }\n</style>\n<table border=\"1\" class=\"dataframe\">\n  <thead>\n    <tr style=\"text-align: right;\">\n      <th></th>\n      <th>Dailyavg_mio</th>\n      <th>Dailyavg_sq</th>\n      <th>Day</th>\n      <th>MovAvg</th>\n    </tr>\n    <tr>\n      <th>Date_sold</th>\n      <th></th>\n      <th></th>\n      <th></th>\n      <th></th>\n    </tr>\n  </thead>\n  <tbody>\n    <tr>\n      <td>1992-01-02</td>\n      <td>0.3350</td>\n      <td>5.583</td>\n      <td>1992-01-02</td>\n      <td>NaN</td>\n    </tr>\n    <tr>\n      <td>1992-01-03</td>\n      <td>0.5455</td>\n      <td>6.401</td>\n      <td>1992-01-03</td>\n      <td>NaN</td>\n    </tr>\n    <tr>\n      <td>1992-01-04</td>\n      <td>0.2500</td>\n      <td>5.000</td>\n      <td>1992-01-04</td>\n      <td>NaN</td>\n    </tr>\n  </tbody>\n</table>\n</div>"
     },
     "metadata": {},
     "execution_count": 49
    }
   ],
   "source": [
    "# The grouped mean- and moving average-data looks like this (MovAvg has NaN-values in beginning and ending of series):\n",
    "dailyavg.head(n=3)"
   ]
  },
  {
   "cell_type": "markdown",
   "metadata": {},
   "source": [
    "### Splitting the apartments by sub-areas within Copenhagen:"
   ]
  },
  {
   "cell_type": "code",
   "execution_count": 37,
   "metadata": {},
   "outputs": [],
   "source": [
    "Apartments['Area'] = 'NaN'\n",
    "for i in range(0,len(Apartments)):\n",
    "    if Apartments['Address'][i][-1] == 'N':\n",
    "        Apartments['Area'][i] = 'N'\n",
    "        # Solving issue with differentiating between NV and V:\n",
    "    elif Apartments['Address'][i][-2:] == 'NV':\n",
    "        if Apartments['Address'][i][-2] == ' V':\n",
    "            Apartments['Area'][i] = 'V'\n",
    "        else: \n",
    "            Apartments['Area'][i] = 'NV'\n",
    "    elif Apartments['Address'][i][-1] == 'Ø':\n",
    "        Apartments['Area'][i] = 'Ø'\n",
    "    elif Apartments['Address'][i][-1] == 'K':\n",
    "        Apartments['Area'][i] = 'K'\n",
    "    elif Apartments['Address'][i][-1] == 'S':\n",
    "        Apartments['Area'][i] = 'S'\n",
    "    elif Apartments['Address'][i][-5:] == 'Valby':\n",
    "        Apartments['Area'][i] = 'Valby'\n",
    "    elif Apartments['Address'][i][-13:] == 'Frederiksberg':\n",
    "        Apartments['Area'][i] = 'FRB'\n",
    "    elif Apartments['Address'][i][-1:] == 'C':\n",
    "        Apartments['Area'][i] = 'FRB'"
   ]
  },
  {
   "cell_type": "code",
   "execution_count": 39,
   "metadata": {},
   "outputs": [],
   "source": [
    "Apartments.to_pickle('/Users/holger/Documents/Python/Harmsen_Repo/Metro-Study/Pickles/Apartment Data 2.pkl')"
   ]
  },
  {
   "cell_type": "markdown",
   "metadata": {},
   "source": [
    "# 2) Geocoding: Address to coordinates"
   ]
  },
  {
   "cell_type": "markdown",
   "metadata": {},
   "source": [
    "## 2.1) Defining the Geocoding-function, finding coordinates from a given address:"
   ]
  },
  {
   "cell_type": "markdown",
   "metadata": {},
   "source": [
    "Defining a function which returns the coordinates for a given address, using the Google Geocode API. I am using a free voucher of DKK 2,000. I need to pull coordinates for around 45,100 adresses, this will spend around DKK 1,400."
   ]
  },
  {
   "cell_type": "code",
   "execution_count": 10,
   "metadata": {},
   "outputs": [],
   "source": [
    "geo_url = 'https://maps.googleapis.com/maps/api/geocode/json'\n",
    "def Geocode_Google(address):\n",
    "    spec_params = {'key' : , #REMOVED\n",
    "          'address' : address,\n",
    "    }\n",
    "    d = requests.get(geo_url, params=spec_params) # submit GET request based on url and headers\n",
    "    json_data = d.json()\n",
    "    subdata = json_data['results']\n",
    "    return (subdata[0]['geometry']['location']['lat'],subdata[0]['geometry']['location']['lng'])"
   ]
  },
  {
   "cell_type": "markdown",
   "metadata": {},
   "source": [
    "## 2.2) Finding Coordinates to each apartment:"
   ]
  },
  {
   "cell_type": "markdown",
   "metadata": {},
   "source": [
    "Below, I use the Geocode-function to pull coordinates for all apartments in the dataset. This process took around 8 hours, so I split it up into stages, saving to pickle for each pull in intervals of 5000 pulls, after which I concatenate to a single dataframe and add this column to the original dataset for each apartment. Below, this process has been simplified for easier readability."
   ]
  },
  {
   "cell_type": "code",
   "execution_count": null,
   "metadata": {},
   "outputs": [],
   "source": [
    "Apartments['Coordinates'] = [Geocode_Google(i) for i in Apartments['Address transformed']]"
   ]
  },
  {
   "cell_type": "code",
   "execution_count": null,
   "metadata": {},
   "outputs": [],
   "source": [
    "Apartments.to_pickle('/Users/holger/Documents/Python/Harmsen_Repo/Metro-Study/Pickles/Apartment Data 3.pkl')"
   ]
  },
  {
   "cell_type": "code",
   "execution_count": 50,
   "metadata": {},
   "outputs": [],
   "source": [
    "Apartments = pickle.load(open('/Users/holger/Documents/Python/Harmsen_Repo/Metro-Study/Pickles/Apartment Data 3.pkl','rb'))"
   ]
  },
  {
   "cell_type": "code",
   "execution_count": 51,
   "metadata": {},
   "outputs": [
    {
     "output_type": "execute_result",
     "data": {
      "text/plain": "                                Address            Address transformed   Area  \\\n0  Stengade 52B, 1. 1, 2200 København N  Stengade 52B 2200 København N      N   \n1     Bryggerivej 10, 1. th, 2500 Valby      Bryggerivej 10 2500 Valby  Valby   \n2  Solvænget 5, 3. tv, 2100 København Ø   Solvænget 5 2100 København Ø      Ø   \n\n              Coordinates  Date_sold    Price  Price_mio  Price_sq_m_1000  \\\n0  (55.687083, 12.554688) 1994-02-11   300710   0.300710            5.896   \n1  (55.660475, 12.518974) 1994-02-11   344101   0.344101            5.550   \n2   (55.719198, 12.57804) 1994-02-11  1090300   1.090300            7.788   \n\n   Rooms  \n0      1  \n1      2  \n2      4  ",
      "text/html": "<div>\n<style scoped>\n    .dataframe tbody tr th:only-of-type {\n        vertical-align: middle;\n    }\n\n    .dataframe tbody tr th {\n        vertical-align: top;\n    }\n\n    .dataframe thead th {\n        text-align: right;\n    }\n</style>\n<table border=\"1\" class=\"dataframe\">\n  <thead>\n    <tr style=\"text-align: right;\">\n      <th></th>\n      <th>Address</th>\n      <th>Address transformed</th>\n      <th>Area</th>\n      <th>Coordinates</th>\n      <th>Date_sold</th>\n      <th>Price</th>\n      <th>Price_mio</th>\n      <th>Price_sq_m_1000</th>\n      <th>Rooms</th>\n    </tr>\n  </thead>\n  <tbody>\n    <tr>\n      <td>0</td>\n      <td>Stengade 52B, 1. 1, 2200 København N</td>\n      <td>Stengade 52B 2200 København N</td>\n      <td>N</td>\n      <td>(55.687083, 12.554688)</td>\n      <td>1994-02-11</td>\n      <td>300710</td>\n      <td>0.300710</td>\n      <td>5.896</td>\n      <td>1</td>\n    </tr>\n    <tr>\n      <td>1</td>\n      <td>Bryggerivej 10, 1. th, 2500 Valby</td>\n      <td>Bryggerivej 10 2500 Valby</td>\n      <td>Valby</td>\n      <td>(55.660475, 12.518974)</td>\n      <td>1994-02-11</td>\n      <td>344101</td>\n      <td>0.344101</td>\n      <td>5.550</td>\n      <td>2</td>\n    </tr>\n    <tr>\n      <td>2</td>\n      <td>Solvænget 5, 3. tv, 2100 København Ø</td>\n      <td>Solvænget 5 2100 København Ø</td>\n      <td>Ø</td>\n      <td>(55.719198, 12.57804)</td>\n      <td>1994-02-11</td>\n      <td>1090300</td>\n      <td>1.090300</td>\n      <td>7.788</td>\n      <td>4</td>\n    </tr>\n  </tbody>\n</table>\n</div>"
     },
     "metadata": {},
     "execution_count": 51
    }
   ],
   "source": [
    "Apartments.head(n=3)"
   ]
  },
  {
   "cell_type": "markdown",
   "metadata": {},
   "source": [
    "# 3) Scraping Metro-Data\n",
    "\n",
    "By scraping danish Wikipedia-sites for Metro stations in Copenhagen, I can find Address, year built and other relevant information.\n",
    "\n",
    "One problem is, that the information-tables on Wikipedia-pages do not contain the same number of rows and thus amount of information. This is resolved by creating a list of dictionaries, in which each element is a dictionary involving all information from a given table.\n",
    "Selected information is drawn from here and appended to a finished DataFrame, containing all relevant Metro-information."
   ]
  },
  {
   "cell_type": "markdown",
   "metadata": {},
   "source": [
    "## 3.1) Scraping:"
   ]
  },
  {
   "cell_type": "code",
   "execution_count": null,
   "metadata": {},
   "outputs": [],
   "source": [
    "browser = webdriver.Firefox(executable_path=path2gecko) # start the browser with a path to the geckodriver."
   ]
  },
  {
   "cell_type": "code",
   "execution_count": null,
   "metadata": {},
   "outputs": [],
   "source": [
    "def WikiScraper(no_metros):\n",
    "    url_base='https://da.wikipedia.org/wiki/Stationer_p%C3%A5_K%C3%B8benhavns_Metro'\n",
    "    browser.get(url_base)\n",
    "    time.sleep(1)\n",
    "\n",
    "    # Creating DataFrame and dictionary for information-storing:\n",
    "    data = pd.DataFrame()\n",
    "    dic_list = []\n",
    "\n",
    "    for i in range(1,no_metros+1):\n",
    "        link = browser.find_element_by_xpath(f'/html/body/div[3]/div[3]/div[5]/div/table[1]/tbody/tr[{i}]/td[1]/a')\n",
    "        link.click()\n",
    "        time.sleep(2)\n",
    "\n",
    "\n",
    "        # READ INFORMATION\n",
    "        # 1) Appending all information to DataFrame\n",
    "        table = pd.read_html(browser.page_source)[0]\n",
    "        data[f'Traits_{i}'] = table.iloc[:,0]\n",
    "        data[f'{i}'] = table.iloc[:,1]\n",
    "\n",
    "        # 2) Creating a dictionary with all information:\n",
    "        dic = {}\n",
    "        for j in range(0,len(data[f'Traits_{i}'])):\n",
    "            dic[str(data[f'Traits_{i}'][j])] = str(data[f'{i}'][j])\n",
    "\n",
    "        dic_list.append(dic)\n",
    "\n",
    "        # RETURN \n",
    "        browser.get(url_base)\n",
    "        time.sleep(2)\n",
    "\n",
    "\n",
    "    return [data, dic_list]"
   ]
  },
  {
   "cell_type": "code",
   "execution_count": null,
   "metadata": {},
   "outputs": [],
   "source": [
    "Metros = WikiScraper(44)"
   ]
  },
  {
   "cell_type": "markdown",
   "metadata": {},
   "source": [
    "## 3.2) Working with the data:\n",
    "\n",
    "Creating a DataFrame using the information from dictionaries:"
   ]
  },
  {
   "cell_type": "code",
   "execution_count": null,
   "metadata": {},
   "outputs": [],
   "source": [
    "indexlist = ['Adresse','Jernbane','Åbningsdato']\n",
    "MetroList = pd.DataFrame(index=indexlist)\n",
    "\n",
    "for i in range(0,44):   \n",
    "    specs = []\n",
    "    for j in indexlist:\n",
    "        try:\n",
    "            specs.append(Metros[1][i][j])\n",
    "        except:\n",
    "            specs.append('NaN')\n",
    "    # Indexing column names:\n",
    "    MetroList[i] = specs\n",
    "MetroList = MetroList.transpose()\n",
    "MetroList.columns = ['Address','Railroad','Opening Date']\n",
    "\n",
    "# Cleaning for '[1]' (from Wikipedia-references):\n",
    "MetroList['Address'] = [i.replace('[1]','') for i in MetroList['Address']]\n",
    "MetroList['Railroad'] = [i.replace('[1]','') for i in MetroList['Railroad']]\n",
    "MetroList['Opening Date'] = [i.replace('[1]','') for i in MetroList['Opening Date']]"
   ]
  },
  {
   "cell_type": "code",
   "execution_count": null,
   "metadata": {},
   "outputs": [],
   "source": [
    "MetroList.head(n=3)"
   ]
  },
  {
   "cell_type": "code",
   "execution_count": null,
   "metadata": {},
   "outputs": [],
   "source": [
    "# Cleaning NaN-values:\n",
    "MetroList = MetroList.drop(MetroList[\"Address\"].loc[MetroList[\"Address\"]=='NaN'].index)"
   ]
  },
  {
   "cell_type": "code",
   "execution_count": null,
   "metadata": {},
   "outputs": [],
   "source": [
    "MetroList.to_pickle('/Users/holger/Documents/Python/Harmsen_Repo/Metro-Study/Pickles/Metrolist Base.pkl')"
   ]
  },
  {
   "cell_type": "code",
   "execution_count": 52,
   "metadata": {},
   "outputs": [],
   "source": [
    "MetroList = pickle.load(open('/Users/holger/Documents/Python/Harmsen_Repo/Metro-Study/Pickles/Metrolist Base.pkl','rb'))"
   ]
  },
  {
   "cell_type": "code",
   "execution_count": 53,
   "metadata": {},
   "outputs": [
    {
     "output_type": "execute_result",
     "data": {
      "text/plain": "                            Address        Railroad        Opening Date\n0  Godthåbsvej 312000 Frederiksberg      Cityringen  29. september 2019\n1  Italiensvej 72A2300 København S   Østamagerbanen  28. september 2007\n2  Amagerbro Torv 12300 København S   Ørestadsbanen    19. oktober 2002",
      "text/html": "<div>\n<style scoped>\n    .dataframe tbody tr th:only-of-type {\n        vertical-align: middle;\n    }\n\n    .dataframe tbody tr th {\n        vertical-align: top;\n    }\n\n    .dataframe thead th {\n        text-align: right;\n    }\n</style>\n<table border=\"1\" class=\"dataframe\">\n  <thead>\n    <tr style=\"text-align: right;\">\n      <th></th>\n      <th>Address</th>\n      <th>Railroad</th>\n      <th>Opening Date</th>\n    </tr>\n  </thead>\n  <tbody>\n    <tr>\n      <td>0</td>\n      <td>Godthåbsvej 312000 Frederiksberg</td>\n      <td>Cityringen</td>\n      <td>29. september 2019</td>\n    </tr>\n    <tr>\n      <td>1</td>\n      <td>Italiensvej 72A2300 København S</td>\n      <td>Østamagerbanen</td>\n      <td>28. september 2007</td>\n    </tr>\n    <tr>\n      <td>2</td>\n      <td>Amagerbro Torv 12300 København S</td>\n      <td>Ørestadsbanen</td>\n      <td>19. oktober 2002</td>\n    </tr>\n  </tbody>\n</table>\n</div>"
     },
     "metadata": {},
     "execution_count": 53
    }
   ],
   "source": [
    "MetroList.head(n=3)"
   ]
  },
  {
   "cell_type": "markdown",
   "metadata": {},
   "source": [
    "Seeing that the coordinates returned equals (39.78373,-100.445882) if there's a mistake (mostly, that the door and zip code are not separated by space) in the Address, I fix the very last issues manually in Excel. This is no problem, as I am only working with 44 entries. Speed before unneeded code!"
   ]
  },
  {
   "cell_type": "code",
   "execution_count": 3,
   "metadata": {},
   "outputs": [],
   "source": [
    "# Saving to Excel:\n",
    "MetroList.to_excel('/Users/holger/Documents/Python/Harmsen_Repo/Metro-Study/Pickles/Metro Adresses for Final Touches.xlsx')"
   ]
  },
  {
   "cell_type": "code",
   "execution_count": 4,
   "metadata": {},
   "outputs": [],
   "source": [
    "# Pulling edited version:\n",
    "MetroList = pd.read_excel('/Users/holger/Documents/Python/Harmsen_Repo/Metro-Study/Pickles/Metro Adresses for Final Touches_DONE.xlsx')"
   ]
  },
  {
   "cell_type": "code",
   "execution_count": 5,
   "metadata": {},
   "outputs": [
    {
     "output_type": "execute_result",
     "data": {
      "text/plain": "   Unnamed: 0                            Address        Railroad  \\\n0           0  Godthåbsvej 31 2000 Frederiksberg      Cityringen   \n1           1  Italiensvej 72A 2300 København S   Østamagerbanen   \n2           2  Amagerbro Torv 1 2300 København S   Ørestadsbanen   \n\n   Opening Date  Cityringen  \n0          2019           1  \n1          2007           0  \n2          2002           0  ",
      "text/html": "<div>\n<style scoped>\n    .dataframe tbody tr th:only-of-type {\n        vertical-align: middle;\n    }\n\n    .dataframe tbody tr th {\n        vertical-align: top;\n    }\n\n    .dataframe thead th {\n        text-align: right;\n    }\n</style>\n<table border=\"1\" class=\"dataframe\">\n  <thead>\n    <tr style=\"text-align: right;\">\n      <th></th>\n      <th>Unnamed: 0</th>\n      <th>Address</th>\n      <th>Railroad</th>\n      <th>Opening Date</th>\n      <th>Cityringen</th>\n    </tr>\n  </thead>\n  <tbody>\n    <tr>\n      <td>0</td>\n      <td>0</td>\n      <td>Godthåbsvej 31 2000 Frederiksberg</td>\n      <td>Cityringen</td>\n      <td>2019</td>\n      <td>1</td>\n    </tr>\n    <tr>\n      <td>1</td>\n      <td>1</td>\n      <td>Italiensvej 72A 2300 København S</td>\n      <td>Østamagerbanen</td>\n      <td>2007</td>\n      <td>0</td>\n    </tr>\n    <tr>\n      <td>2</td>\n      <td>2</td>\n      <td>Amagerbro Torv 1 2300 København S</td>\n      <td>Ørestadsbanen</td>\n      <td>2002</td>\n      <td>0</td>\n    </tr>\n  </tbody>\n</table>\n</div>"
     },
     "metadata": {},
     "execution_count": 5
    }
   ],
   "source": [
    "MetroList.head(n=3)"
   ]
  },
  {
   "cell_type": "markdown",
   "metadata": {},
   "source": [
    "## 3.3) Finding Coordinates to each Metro"
   ]
  },
  {
   "cell_type": "code",
   "execution_count": 11,
   "metadata": {},
   "outputs": [],
   "source": [
    "MetroList['Coordinates'] = [Geocode_Google(i) for i in MetroList['Address']]"
   ]
  },
  {
   "cell_type": "code",
   "execution_count": 12,
   "metadata": {},
   "outputs": [],
   "source": [
    "MetroList.to_pickle('/Users/holger/Documents/Python/Harmsen_Repo/Metro-Study/Pickles/Metrolist With Coordinates.pkl')"
   ]
  },
  {
   "cell_type": "code",
   "execution_count": 2,
   "metadata": {},
   "outputs": [],
   "source": [
    "MetroList = pickle.load(open('/Users/holger/Documents/Python/Harmsen_Repo/Metro-Study/Pickles/Metrolist With Coordinates.pkl','rb'))"
   ]
  },
  {
   "cell_type": "markdown",
   "metadata": {},
   "source": [
    "# 4) Finding the closest metro\n",
    "\n",
    "With c. 40 metros and 45,000 apartments, one would have to find metro-distance 40*45,000 times and find each apartment's shortest route. This would be very time-consuming. Instead, the coordinates to each location is found and the closest metro to each apartment is found from the distance between their coordinates. The two are saved as a tuple."
   ]
  },
  {
   "cell_type": "code",
   "execution_count": 81,
   "metadata": {},
   "outputs": [],
   "source": [
    "def Closest_Metro(from_num,to_num):\n",
    "    # Creating a list of the closest metro to each apartment with the same index:\n",
    "    Closest_Metro = []\n",
    "    # Looping through each apartment:\n",
    "    for i in Apartments['Coordinates'][from_num:to_num]:\n",
    "        # Initiating lowest distance and its metro\n",
    "        lowest_dist = 1000\n",
    "        # Looping through metros, finding all distances and substituting the shortest one\n",
    "        for j in range(0,len(MetroList['Coordinates'])):\n",
    "            dist = geopy.distance.distance(i, MetroList['Coordinates'][j]).km\n",
    "            if dist < lowest_dist:\n",
    "                lowest_dist = dist\n",
    "                metro = MetroList['Address'][j]\n",
    "                railroad = MetroList['Railroad'][j]\n",
    "                opening_date = MetroList['Opening Date'][j]\n",
    "                cityring_indicator = MetroList['Cityringen'][j]\n",
    "\n",
    "\n",
    "        Closest_Metro.append({'Distance':lowest_dist,'Metro':metro,'Railroad':railroad,'Opening Date':opening_date,'Cityring':cityring_indicator})\n",
    "    return Closest_Metro"
   ]
  },
  {
   "cell_type": "code",
   "execution_count": 82,
   "metadata": {},
   "outputs": [],
   "source": [
    "Apartments['Closest Metro'] = Closest_Metro(0,len(Apartments))"
   ]
  },
  {
   "cell_type": "code",
   "execution_count": 83,
   "metadata": {},
   "outputs": [],
   "source": [
    "Apartments.to_pickle('/Users/holger/Documents/Python/Harmsen_Repo/Metro-Study/Pickles/Apartment Data 4.pkl')"
   ]
  },
  {
   "cell_type": "code",
   "execution_count": 3,
   "metadata": {},
   "outputs": [],
   "source": [
    "Apartments = pickle.load(open('/Users/holger/Documents/Python/Harmsen_Repo/Metro-Study/Pickles/Apartment Data 4.pkl','rb'))"
   ]
  },
  {
   "cell_type": "code",
   "execution_count": 10,
   "metadata": {},
   "outputs": [],
   "source": [
    "Apartments[:3].to_excel('/Users/holger/Documents/Python/Harmsen_Repo/Metro-Study/Other data/illustration of df.xlsx')"
   ]
  },
  {
   "cell_type": "code",
   "execution_count": 11,
   "metadata": {},
   "outputs": [
    {
     "output_type": "execute_result",
     "data": {
      "text/plain": "                                            Address  \\\n0              Stengade 52B, 1. 1, 2200 København N   \n1                 Bryggerivej 10, 1. th, 2500 Valby   \n2              Solvænget 5, 3. tv, 2100 København Ø   \n3             Ved Volden 8, 5. tv, 1425 København K   \n4          Marstalsgade 38, 2. th, 2100 København Ø   \n...                                             ...   \n56944     Rådmandsgade 48A, 2. th, 2200 København N   \n56945  Tycho Brahes Allé 8, 5. tv, 2300 København S   \n56946        Theklavej 49, 2. 79, 2400 København NV   \n56947              Sundkaj 75, 3. th, 2150 Nordhavn   \n56948    Hammershøis Kaj 4, 2. th, 1402 København K   \n\n                        Address transformed   Area               Coordinates  \\\n0             Stengade 52B 2200 København N      N    (55.687083, 12.554688)   \n1                 Bryggerivej 10 2500 Valby  Valby    (55.660475, 12.518974)   \n2              Solvænget 5 2100 København Ø      Ø     (55.719198, 12.57804)   \n3             Ved Volden 8 1425 København K      K     (55.67202, 12.594053)   \n4          Marstalsgade 38 2100 København Ø      Ø    (55.703961, 12.589622)   \n...                                     ...    ...                       ...   \n56944     Rådmandsgade 48A 2200 København N      N    (55.700733, 12.552838)   \n56945  Tycho Brahes Allé 8 2300 København S      S  (55.6552045, 12.6111575)   \n56946        Theklavej 49 2400 København NV      V  (55.7059296, 12.5251929)   \n56947              Sundkaj 75 2150 Nordhavn    NaN  (55.7100897, 12.5977136)   \n56948    Hammershøis Kaj 4 1402 København K      K  (55.6709877, 12.5872917)   \n\n       Date_sold    Price  Price_mio  Price_sq_m_1000  Rooms  \\\n0     1994-02-11   300710   0.300710            5.896      1   \n1     1994-02-11   344101   0.344101            5.550      2   \n2     1994-02-11  1090300   1.090300            7.788      4   \n3     1994-02-13   415000   0.415000            6.694      2   \n4     1994-02-14   172000   0.172000            3.071      2   \n...          ...      ...        ...              ...    ...   \n56944 2020-07-16   816000   0.816000           14.836      2   \n56945 2020-07-16  1875000   1.875000           36.765      2   \n56946 2020-07-16  1550000   1.550000           38.750      1   \n56947 2020-07-16  3570000   3.570000           51.000      2   \n56948 2020-07-16  4250000   4.250000           57.432      2   \n\n                                           Closest Metro  \n0      {'Distance': 0.6095724783548715, 'Metro': 'Ros...  \n1      {'Distance': 0.8403550180969337, 'Metro': 'Car...  \n2      {'Distance': 0.9889381894173884, 'Metro': 'Ree...  \n3      {'Distance': 0.18848405881332048, 'Metro': 'To...  \n4      {'Distance': 0.12255149216648616, 'Metro': 'Øs...  \n...                                                  ...  \n56944  {'Distance': 0.23680252000508714, 'Metro': 'Ja...  \n56945  {'Distance': 0.8496045896388944, 'Metro': 'Øst...  \n56946  {'Distance': 0.9806279241602138, 'Metro': 'Nør...  \n56947  {'Distance': 0.13692980878940642, 'Metro': 'Kl...  \n56948  {'Distance': 0.27787331033654566, 'Metro': 'To...  \n\n[56949 rows x 10 columns]",
      "text/html": "<div>\n<style scoped>\n    .dataframe tbody tr th:only-of-type {\n        vertical-align: middle;\n    }\n\n    .dataframe tbody tr th {\n        vertical-align: top;\n    }\n\n    .dataframe thead th {\n        text-align: right;\n    }\n</style>\n<table border=\"1\" class=\"dataframe\">\n  <thead>\n    <tr style=\"text-align: right;\">\n      <th></th>\n      <th>Address</th>\n      <th>Address transformed</th>\n      <th>Area</th>\n      <th>Coordinates</th>\n      <th>Date_sold</th>\n      <th>Price</th>\n      <th>Price_mio</th>\n      <th>Price_sq_m_1000</th>\n      <th>Rooms</th>\n      <th>Closest Metro</th>\n    </tr>\n  </thead>\n  <tbody>\n    <tr>\n      <td>0</td>\n      <td>Stengade 52B, 1. 1, 2200 København N</td>\n      <td>Stengade 52B 2200 København N</td>\n      <td>N</td>\n      <td>(55.687083, 12.554688)</td>\n      <td>1994-02-11</td>\n      <td>300710</td>\n      <td>0.300710</td>\n      <td>5.896</td>\n      <td>1</td>\n      <td>{'Distance': 0.6095724783548715, 'Metro': 'Ros...</td>\n    </tr>\n    <tr>\n      <td>1</td>\n      <td>Bryggerivej 10, 1. th, 2500 Valby</td>\n      <td>Bryggerivej 10 2500 Valby</td>\n      <td>Valby</td>\n      <td>(55.660475, 12.518974)</td>\n      <td>1994-02-11</td>\n      <td>344101</td>\n      <td>0.344101</td>\n      <td>5.550</td>\n      <td>2</td>\n      <td>{'Distance': 0.8403550180969337, 'Metro': 'Car...</td>\n    </tr>\n    <tr>\n      <td>2</td>\n      <td>Solvænget 5, 3. tv, 2100 København Ø</td>\n      <td>Solvænget 5 2100 København Ø</td>\n      <td>Ø</td>\n      <td>(55.719198, 12.57804)</td>\n      <td>1994-02-11</td>\n      <td>1090300</td>\n      <td>1.090300</td>\n      <td>7.788</td>\n      <td>4</td>\n      <td>{'Distance': 0.9889381894173884, 'Metro': 'Ree...</td>\n    </tr>\n    <tr>\n      <td>3</td>\n      <td>Ved Volden 8, 5. tv, 1425 København K</td>\n      <td>Ved Volden 8 1425 København K</td>\n      <td>K</td>\n      <td>(55.67202, 12.594053)</td>\n      <td>1994-02-13</td>\n      <td>415000</td>\n      <td>0.415000</td>\n      <td>6.694</td>\n      <td>2</td>\n      <td>{'Distance': 0.18848405881332048, 'Metro': 'To...</td>\n    </tr>\n    <tr>\n      <td>4</td>\n      <td>Marstalsgade 38, 2. th, 2100 København Ø</td>\n      <td>Marstalsgade 38 2100 København Ø</td>\n      <td>Ø</td>\n      <td>(55.703961, 12.589622)</td>\n      <td>1994-02-14</td>\n      <td>172000</td>\n      <td>0.172000</td>\n      <td>3.071</td>\n      <td>2</td>\n      <td>{'Distance': 0.12255149216648616, 'Metro': 'Øs...</td>\n    </tr>\n    <tr>\n      <td>...</td>\n      <td>...</td>\n      <td>...</td>\n      <td>...</td>\n      <td>...</td>\n      <td>...</td>\n      <td>...</td>\n      <td>...</td>\n      <td>...</td>\n      <td>...</td>\n      <td>...</td>\n    </tr>\n    <tr>\n      <td>56944</td>\n      <td>Rådmandsgade 48A, 2. th, 2200 København N</td>\n      <td>Rådmandsgade 48A 2200 København N</td>\n      <td>N</td>\n      <td>(55.700733, 12.552838)</td>\n      <td>2020-07-16</td>\n      <td>816000</td>\n      <td>0.816000</td>\n      <td>14.836</td>\n      <td>2</td>\n      <td>{'Distance': 0.23680252000508714, 'Metro': 'Ja...</td>\n    </tr>\n    <tr>\n      <td>56945</td>\n      <td>Tycho Brahes Allé 8, 5. tv, 2300 København S</td>\n      <td>Tycho Brahes Allé 8 2300 København S</td>\n      <td>S</td>\n      <td>(55.6552045, 12.6111575)</td>\n      <td>2020-07-16</td>\n      <td>1875000</td>\n      <td>1.875000</td>\n      <td>36.765</td>\n      <td>2</td>\n      <td>{'Distance': 0.8496045896388944, 'Metro': 'Øst...</td>\n    </tr>\n    <tr>\n      <td>56946</td>\n      <td>Theklavej 49, 2. 79, 2400 København NV</td>\n      <td>Theklavej 49 2400 København NV</td>\n      <td>V</td>\n      <td>(55.7059296, 12.5251929)</td>\n      <td>2020-07-16</td>\n      <td>1550000</td>\n      <td>1.550000</td>\n      <td>38.750</td>\n      <td>1</td>\n      <td>{'Distance': 0.9806279241602138, 'Metro': 'Nør...</td>\n    </tr>\n    <tr>\n      <td>56947</td>\n      <td>Sundkaj 75, 3. th, 2150 Nordhavn</td>\n      <td>Sundkaj 75 2150 Nordhavn</td>\n      <td>NaN</td>\n      <td>(55.7100897, 12.5977136)</td>\n      <td>2020-07-16</td>\n      <td>3570000</td>\n      <td>3.570000</td>\n      <td>51.000</td>\n      <td>2</td>\n      <td>{'Distance': 0.13692980878940642, 'Metro': 'Kl...</td>\n    </tr>\n    <tr>\n      <td>56948</td>\n      <td>Hammershøis Kaj 4, 2. th, 1402 København K</td>\n      <td>Hammershøis Kaj 4 1402 København K</td>\n      <td>K</td>\n      <td>(55.6709877, 12.5872917)</td>\n      <td>2020-07-16</td>\n      <td>4250000</td>\n      <td>4.250000</td>\n      <td>57.432</td>\n      <td>2</td>\n      <td>{'Distance': 0.27787331033654566, 'Metro': 'To...</td>\n    </tr>\n  </tbody>\n</table>\n<p>56949 rows × 10 columns</p>\n</div>"
     },
     "metadata": {},
     "execution_count": 11
    }
   ],
   "source": [
    "Apartments"
   ]
  },
  {
   "cell_type": "code",
   "execution_count": null,
   "metadata": {},
   "outputs": [],
   "source": []
  }
 ],
 "metadata": {
  "kernelspec": {
   "display_name": "Python 3",
   "language": "python",
   "name": "python3"
  },
  "language_info": {
   "codemirror_mode": {
    "name": "ipython",
    "version": 3
   },
   "file_extension": ".py",
   "mimetype": "text/x-python",
   "name": "python",
   "nbconvert_exporter": "python",
   "pygments_lexer": "ipython3",
   "version": "3.7.4"
  }
 },
 "nbformat": 4,
 "nbformat_minor": 2
}