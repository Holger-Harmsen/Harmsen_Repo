{
 "cells": [
  {
   "cell_type": "code",
   "execution_count": 2,
   "metadata": {},
   "outputs": [],
   "source": [
    "import numpy as np\n",
    "import pandas as pd\n",
    "import datetime\n",
    "from dateutil.parser import parse\n",
    "import requests, re, time\n",
    "import pandas_datareader\n",
    "import pickle\n",
    "import math\n",
    "\n",
    "import matplotlib.pyplot as plt\n",
    "%matplotlib inline\n",
    "from matplotlib.lines import Line2D\n",
    "import matplotlib.patches as mpatches\n",
    "import seaborn as sns \n",
    "\n",
    "import statsmodels.api as sm\n",
    "import json\n",
    "from pandas.io.json import json_normalize\n",
    "from bs4 import BeautifulSoup\n",
    "from selenium import webdriver\n",
    "import time\n",
    "\n",
    "import geopy.distance"
   ]
  },
  {
   "cell_type": "markdown",
   "metadata": {},
   "source": [
    "# The Impact of Metro-Construction: A Regressive Study"
   ]
  },
  {
   "cell_type": "markdown",
   "metadata": {},
   "source": [
    "In the following, I seek to find the effect on the price of Copenhagen apartments from the construction of a nearby metro. \n",
    "\n",
    "First, I scrape data of all sold condos in Copenhagen since 1992 using Boliga.dk. Second, I use Google's Geocoding-API to convert the found addresses to coordinates. This will help me in step four. Third, I scrape Wikipedia for information on Copenhagen Metro stations. Fourth, I want to find the cloest metro to each apartment, and estimate the distance between the two. This is found to be most easily done by finding coordinates to each apartment and metro, calculate the distance between each apartment and its closest metro and therefrom infer a distance. As the found distance is in the form of a straight line, one must keep in line that the actual walking/cycling distance is longer. Fifth, I must take relevant factors into account in an econometric analysis.\n",
    "\n",
    "This enables me to isolate the effect on the price of a condo from construction of a nearby metro station.\n",
    "\n",
    "The structure of this code-file is the following:\n",
    "\n",
    "1) Scraping Boliga.dk the old-fashioned selenium-way\n",
    "\n",
    "2) Geocoding the found addresses, fetching their coordinates. Now having all relevant data on the apartments.\n",
    "\n",
    "3) Fetching the same data via the API of Boliga.dk (Coordinates are included here, a great bonus)\n",
    "\n",
    "4) Scraping wikipedia for metro stations using selenium\n",
    "\n",
    "5) Finding the closest metro to each apartment"
   ]
  },
  {
   "cell_type": "markdown",
   "metadata": {},
   "source": []
  },
  {
   "cell_type": "markdown",
   "metadata": {},
   "source": [
    "# 1) Scraping sales-data from Boliga.dk"
   ]
  },
  {
   "cell_type": "markdown",
   "metadata": {},
   "source": [
    "## 1.1) Scraping"
   ]
  },
  {
   "cell_type": "code",
   "execution_count": 21,
   "metadata": {},
   "outputs": [],
   "source": [
    "### Define our Connector\n",
    "\n",
    "import requests,os,time\n",
    "def ratelimit(dt):\n",
    "    \"A function that handles the rate of your calls.\"\n",
    "    time.sleep(dt) # sleep one second.\n",
    "\n",
    "class Connector():\n",
    "  def __init__(self,logfile,overwrite_log=False,connector_type='requests',session=False,path2selenium='',n_tries = 5,timeout=30,waiting_time=0.5):\n",
    "    \"\"\"This Class implements a method for reliable connection to the internet and monitoring. \n",
    "    It handles simple errors due to connection problems, and logs a range of information for basic quality assessments\n",
    "    \n",
    "    Keyword arguments:\n",
    "    logfile -- path to the logfile\n",
    "    overwrite_log -- bool, defining if logfile should be cleared (rarely the case). \n",
    "    connector_type -- use the 'requests' module or the 'selenium'. Will have different since the selenium webdriver does not have a similar response object when using the get method, and monitoring the behavior cannot be automated in the same way.\n",
    "    session -- requests.session object. For defining custom headers and proxies.\n",
    "    path2selenium -- str, sets the path to the geckodriver needed when using selenium.\n",
    "    n_tries -- int, defines the number of retries the *get* method will try to avoid random connection errors.\n",
    "    timeout -- int, seconds the get request will wait for the server to respond, again to avoid connection errors.\n",
    "    \"\"\"\n",
    "    \n",
    "    ## Initialization function defining parameters. \n",
    "    self.n_tries = n_tries # For avoiding triviel error e.g. connection errors, this defines how many times it will retry.\n",
    "    self.timeout = timeout # Defining the maximum time to wait for a server to response.\n",
    "    self.waiting_time = waiting_time # define simple rate_limit parameter.\n",
    "    ## not implemented here, if you use selenium.\n",
    "    if connector_type=='selenium':\n",
    "      assert path2selenium!='', \"You need to specify the path to you geckodriver if you want to use Selenium\"\n",
    "      from selenium import webdriver\n",
    "      ## HIN download the latest geckodriver here: https://github.com/mozilla/geckodriver/releases\n",
    "\n",
    "      assert os.path.isfile(path2selenium),'You need to insert a valid path2selenium the path to your geckodriver. You can download the latest geckodriver here: https://github.com/mozilla/geckodriver/releases'\n",
    "      self.browser = webdriver.Firefox(executable_path=path2selenium) # start the browser with a path to the geckodriver.\n",
    "\n",
    "    self.connector_type = connector_type # set the connector_type\n",
    "    \n",
    "    if session: # set the custom session\n",
    "      self.session = session\n",
    "    else:\n",
    "      self.session = requests.session()\n",
    "    self.logfilename = logfile # set the logfile path\n",
    "    ## define header for the logfile\n",
    "    header = ['id','project','connector_type','t', 'delta_t', 'url', 'redirect_url','response_size', 'response_code','success','error']\n",
    "    if os.path.isfile(logfile):        \n",
    "      if overwrite_log==True:\n",
    "        self.log = open(logfile,'w')\n",
    "        self.log.write(';'.join(header))\n",
    "      else:\n",
    "        self.log = open(logfile,'a')\n",
    "    else:\n",
    "      self.log = open(logfile,'w')\n",
    "      self.log.write(';'.join(header))\n",
    "    ## load log \n",
    "    with open(logfile,'r') as f: # open file\n",
    "        \n",
    "      l = f.read().split('\\n') # read and split file by newlines.\n",
    "      ## set id\n",
    "      if len(l)<=1:\n",
    "        self.id = 0\n",
    "      else:\n",
    "        self.id = int(l[-1][0])+1\n",
    "            \n",
    "  def get(self,url,project_name):\n",
    "    \"\"\"Method for connector reliably to the internet, with multiple tries and simple error handling, as well as default logging function.\n",
    "    Input url and the project name for the log (i.e. is it part of mapping the domain, or is it the part of the final stage in the data collection).\n",
    "    \n",
    "    Keyword arguments:\n",
    "    url -- str, url\n",
    "    project_name -- str, Name used for analyzing the log. Use case could be the 'Mapping of domain','Meta_data_collection','main data collection'. \n",
    "    \"\"\"\n",
    "     \n",
    "    project_name = project_name.replace(';','-') # make sure the default csv seperator is not in the project_name.\n",
    "    if self.connector_type=='requests': # Determine connector method.\n",
    "      for _ in range(self.n_tries): # for loop defining number of retries with the requests method.\n",
    "        ratelimit(self.waiting_time)\n",
    "        t = time.time()\n",
    "        try: # error handling \n",
    "          response = self.session.get(url,timeout = self.timeout) # make get call\n",
    "\n",
    "          err = '' # define python error variable as empty assumming success.\n",
    "          success = True # define success variable\n",
    "          redirect_url = response.url # log current url, after potential redirects \n",
    "          dt = t - time.time() # define delta-time waiting for the server and downloading content.\n",
    "          size = len(response.text) # define variable for size of html content of the response.\n",
    "          response_code = response.status_code # log status code.\n",
    "          ## log...\n",
    "          call_id = self.id # get current unique identifier for the call\n",
    "          self.id+=1 # increment call id\n",
    "          #['id','project_name','connector_type','t', 'delta_t', 'url', 'redirect_url','response_size', 'response_code','success','error']\n",
    "          row = [call_id,project_name,self.connector_type,t,dt,url,redirect_url,size,response_code,success,err] # define row to be written in the log.\n",
    "          self.log.write('\\n'+';'.join(map(str,row))) # write log.\n",
    "          self.log.flush()\n",
    "          return response,call_id # return response and unique identifier.\n",
    "\n",
    "        except Exception as e: # define error condition\n",
    "          err = str(e) # python error\n",
    "          response_code = '' # blank response code \n",
    "          success = False # call success = False\n",
    "          size = 0 # content is empty.\n",
    "          redirect_url = '' # redirect url empty \n",
    "          dt = t - time.time() # define delta t\n",
    "\n",
    "          ## log...\n",
    "          call_id = self.id # define unique identifier\n",
    "          self.id+=1 # increment call_id\n",
    "\n",
    "          row = [call_id,project_name,self.connector_type,t,dt,url,redirect_url,size,response_code,success,err] # define row\n",
    "          self.log.write('\\n'+';'.join(map(str,row))) # write row to log.\n",
    "          self.log.flush()\n",
    "    else:\n",
    "      t = time.time()\n",
    "      ratelimit(self.waiting_time)\n",
    "      self.browser.get(url) # use selenium get method\n",
    "      ## log\n",
    "      call_id = self.id # define unique identifier for the call. \n",
    "      self.id+=1 # increment the call_id\n",
    "      err = '' # blank error message\n",
    "      success = '' # success blank\n",
    "      redirect_url = self.browser.current_url # redirect url.\n",
    "      dt = t - time.time() # get time for get method ... NOTE: not necessarily the complete load time.\n",
    "      size = len(self.browser.page_source) # get size of content ... NOTE: not necessarily correct, since selenium works in the background, and could still be loading.\n",
    "      response_code = '' # empty response code.\n",
    "      row = [call_id,project_name,self.connector_type,t,dt,url,redirect_url,size,response_code,success,err] # define row \n",
    "      self.log.write('\\n'+';'.join(map(str,row))) # write row to log file.\n",
    "      self.log.flush()\n",
    "    # Using selenium it will not return a response object, instead you should call the browser object of the connector.\n",
    "    ## connector.browser.page_source will give you the html.\n",
    "      return None,call_id"
   ]
  },
  {
   "cell_type": "markdown",
   "metadata": {},
   "source": [
    "### Defining aiding functions for later use in the scraper:"
   ]
  },
  {
   "cell_type": "code",
   "execution_count": 22,
   "metadata": {},
   "outputs": [],
   "source": [
    "path2gecko = '/Users/holger/Documents/Python/Harmsen_Repo/Metro-Study/Gecko/geckodriver'\n",
    "\n",
    "def Cookie_Clicker(): # Accepting cookies\n",
    "    cookies = connector.browser.find_element_by_xpath('//*[@id=\"coiAccept\"]')\n",
    "    cookies.click()\n",
    "        \n",
    "def Next_Page(): # Turning to the next page of apartments in the scraper\n",
    "    next_button = connector.browser.find_element_by_link_text('Næste')\n",
    "    next_button.click()"
   ]
  },
  {
   "cell_type": "markdown",
   "metadata": {},
   "source": [
    "### Defining the scraping-function:"
   ]
  },
  {
   "cell_type": "code",
   "execution_count": 23,
   "metadata": {},
   "outputs": [],
   "source": [
    "connector = Connector('/Users/holger/Documents/Python/Harmsen_Repo/Metro-Study/Logs/Selenium Scrape.csv',overwrite_log=True,path2selenium=path2gecko,connector_type='selenium')\n",
    "\n",
    "def Scraper(pages,url):\n",
    "    url_base = url\n",
    "    \n",
    "    connector.get(url_base,'Selenium Scrape')\n",
    "    start_time = time.time()\n",
    "\n",
    "    #Waiting for cookies-pop-up:\n",
    "    time.sleep(5)\n",
    "\n",
    "    #Accepting cookies:\n",
    "    Cookie_Clicker()\n",
    "\n",
    "    #Wait for load:\n",
    "    time.sleep(3)\n",
    "\n",
    "    #Pull table\n",
    "    df = pd.read_html(connector.browser.page_source)[0]\n",
    "    time.sleep(2)\n",
    "\n",
    "    #Looping over number of wanted pages:\n",
    "    for i in range(0,pages-1): # Minus one as we already scraped the initial page.\n",
    "        if i%100 == 0:\n",
    "            print(f'Page {i} finished')\n",
    "        try:\n",
    "            Next_Page(True)\n",
    "            time.sleep(1)\n",
    "            df_i = pd.read_html(connector.browser.page_source)[0]\n",
    "            df = pd.concat([df,df_i],ignore_index=True)\n",
    "        except:\n",
    "            print('Error')\n",
    "\n",
    "    print(f'Time elapsed: {time.time()-start_time: .2f}')\n",
    "    return df"
   ]
  },
  {
   "cell_type": "markdown",
   "metadata": {},
   "source": [
    "### Calling scraper:\n",
    "\n",
    "I find, that the log-file only logs one entry using this selenium-driven scraper. This is probably due to the fact that the site only loads once, after which the scraper clicks 'Next' and the next table loads, however still on the same request. This is a downside to the manual scraper, as less information on the scraping is harvested. \n"
   ]
  },
  {
   "cell_type": "code",
   "execution_count": 24,
   "metadata": {
    "tags": []
   },
   "outputs": [
    {
     "output_type": "stream",
     "name": "stdout",
     "text": "Page 0 finished\nPage 100 finished\nPage 200 finished\nPage 300 finished\nPage 400 finished\nPage 500 finished\nPage 600 finished\nPage 700 finished\nPage 800 finished\nPage 900 finished\nPage 1000 finished\nPage 1100 finished\nTime elapsed:  1778.02\n"
    }
   ],
   "source": [
    "# Scraping Copenhagen\n",
    "url_broaderCPH = 'https://www.boliga.dk/salg/resultater?propertyType=3&salesDateMin=1992&street=&municipality=101&page=1&sort=date-d'\n",
    "\n",
    "df_broaderCPH = Scraper(1110,url_broaderCPH)"
   ]
  },
  {
   "cell_type": "code",
   "execution_count": 25,
   "metadata": {},
   "outputs": [
    {
     "output_type": "execute_result",
     "data": {
      "text/plain": "   id          project connector_type             t  delta_t  \\\n0   0  Selenium Scrape       selenium  1.598262e+09 -2.55473   \n\n                                                 url  \\\n0  https://www.boliga.dk/salg/resultater?property...   \n\n                                        redirect_url  response_size  \\\n0  https://www.boliga.dk/salg/resultater?property...         786473   \n\n   response_code  success  error  \n0            NaN      NaN    NaN  ",
      "text/html": "<div>\n<style scoped>\n    .dataframe tbody tr th:only-of-type {\n        vertical-align: middle;\n    }\n\n    .dataframe tbody tr th {\n        vertical-align: top;\n    }\n\n    .dataframe thead th {\n        text-align: right;\n    }\n</style>\n<table border=\"1\" class=\"dataframe\">\n  <thead>\n    <tr style=\"text-align: right;\">\n      <th></th>\n      <th>id</th>\n      <th>project</th>\n      <th>connector_type</th>\n      <th>t</th>\n      <th>delta_t</th>\n      <th>url</th>\n      <th>redirect_url</th>\n      <th>response_size</th>\n      <th>response_code</th>\n      <th>success</th>\n      <th>error</th>\n    </tr>\n  </thead>\n  <tbody>\n    <tr>\n      <td>0</td>\n      <td>0</td>\n      <td>Selenium Scrape</td>\n      <td>selenium</td>\n      <td>1.598262e+09</td>\n      <td>-2.55473</td>\n      <td>https://www.boliga.dk/salg/resultater?property...</td>\n      <td>https://www.boliga.dk/salg/resultater?property...</td>\n      <td>786473</td>\n      <td>NaN</td>\n      <td>NaN</td>\n      <td>NaN</td>\n    </tr>\n  </tbody>\n</table>\n</div>"
     },
     "metadata": {},
     "execution_count": 25
    }
   ],
   "source": [
    "# Checking first log:\n",
    "log_CPH = pd.read_csv('/Users/holger/Documents/Python/Harmsen_Repo/Metro-Study/Logs/Selenium Scrape.csv',sep=';')\n",
    "log_CPH"
   ]
  },
  {
   "cell_type": "code",
   "execution_count": 27,
   "metadata": {},
   "outputs": [],
   "source": [
    "df_broaderCPH.to_pickle('/Users/holger/Documents/Python/Harmsen_Repo/Metro-Study/Pickles/Scrape broaderCPH raw.pkl')\n",
    "log_CPH.to_pickle('/Users/holger/Documents/Python/Harmsen_Repo/Metro-Study/Pickles/log CPH_scrape.pkl')"
   ]
  },
  {
   "cell_type": "code",
   "execution_count": 29,
   "metadata": {
    "tags": []
   },
   "outputs": [
    {
     "output_type": "stream",
     "name": "stdout",
     "text": "Page 0 finished\nPage 100 finished\nPage 200 finished\nTime elapsed:  390.85\n"
    }
   ],
   "source": [
    "# Scraping Frederiksberg\n",
    "connector = Connector('/Users/holger/Documents/Python/Harmsen_Repo/Metro-Study/Logs/Selenium Scrape.csv',overwrite_log=False,path2selenium=path2gecko,connector_type='selenium')\n",
    "url_FRB = 'https://www.boliga.dk/salg/resultater?propertyType=3&salesDateMin=1992&street=&municipality=147&page=1&sort=date-d'\n",
    "\n",
    "df_FRB = Scraper(247,url_FRB)"
   ]
  },
  {
   "cell_type": "code",
   "execution_count": 34,
   "metadata": {},
   "outputs": [
    {
     "output_type": "execute_result",
     "data": {
      "text/plain": "   id          project connector_type             t   delta_t  \\\n0   0  Selenium Scrape       selenium  1.598262e+09 -2.554730   \n1   1  Selenium Scrape       selenium  1.598267e+09 -2.466936   \n\n                                                 url  \\\n0  https://www.boliga.dk/salg/resultater?property...   \n1  https://www.boliga.dk/salg/resultater?property...   \n\n                                        redirect_url  response_size  \\\n0  https://www.boliga.dk/salg/resultater?property...         786473   \n1  https://www.boliga.dk/salg/resultater?property...         787563   \n\n   response_code  success  error  \n0            NaN      NaN    NaN  \n1            NaN      NaN    NaN  ",
      "text/html": "<div>\n<style scoped>\n    .dataframe tbody tr th:only-of-type {\n        vertical-align: middle;\n    }\n\n    .dataframe tbody tr th {\n        vertical-align: top;\n    }\n\n    .dataframe thead th {\n        text-align: right;\n    }\n</style>\n<table border=\"1\" class=\"dataframe\">\n  <thead>\n    <tr style=\"text-align: right;\">\n      <th></th>\n      <th>id</th>\n      <th>project</th>\n      <th>connector_type</th>\n      <th>t</th>\n      <th>delta_t</th>\n      <th>url</th>\n      <th>redirect_url</th>\n      <th>response_size</th>\n      <th>response_code</th>\n      <th>success</th>\n      <th>error</th>\n    </tr>\n  </thead>\n  <tbody>\n    <tr>\n      <td>0</td>\n      <td>0</td>\n      <td>Selenium Scrape</td>\n      <td>selenium</td>\n      <td>1.598262e+09</td>\n      <td>-2.554730</td>\n      <td>https://www.boliga.dk/salg/resultater?property...</td>\n      <td>https://www.boliga.dk/salg/resultater?property...</td>\n      <td>786473</td>\n      <td>NaN</td>\n      <td>NaN</td>\n      <td>NaN</td>\n    </tr>\n    <tr>\n      <td>1</td>\n      <td>1</td>\n      <td>Selenium Scrape</td>\n      <td>selenium</td>\n      <td>1.598267e+09</td>\n      <td>-2.466936</td>\n      <td>https://www.boliga.dk/salg/resultater?property...</td>\n      <td>https://www.boliga.dk/salg/resultater?property...</td>\n      <td>787563</td>\n      <td>NaN</td>\n      <td>NaN</td>\n      <td>NaN</td>\n    </tr>\n  </tbody>\n</table>\n</div>"
     },
     "metadata": {},
     "execution_count": 34
    }
   ],
   "source": [
    "# Checking that the second scrape is logged:\n",
    "log_FRB = pd.read_csv('/Users/holger/Documents/Python/Harmsen_Repo/Metro-Study/Logs/Selenium Scrape.csv',sep=';')\n",
    "log_FRB"
   ]
  },
  {
   "cell_type": "code",
   "execution_count": 35,
   "metadata": {},
   "outputs": [],
   "source": [
    "df_FRB.to_pickle('/Users/holger/Documents/Python/Harmsen_Repo/Metro-Study/Pickles/Scrape FRB raw.pkl')\n",
    "log_FRB.to_pickle('/Users/holger/Documents/Python/Harmsen_Repo/Metro-Study/Pickles/log FRB_scrape.pkl')"
   ]
  },
  {
   "cell_type": "code",
   "execution_count": 36,
   "metadata": {},
   "outputs": [],
   "source": [
    "df_Total = pd.concat([df_broaderCPH,df_FRB],ignore_index=True)"
   ]
  },
  {
   "cell_type": "code",
   "execution_count": 37,
   "metadata": {
    "tags": []
   },
   "outputs": [
    {
     "output_type": "stream",
     "name": "stdout",
     "text": "Total dataframe has 67850 rows.\n"
    },
    {
     "output_type": "execute_result",
     "data": {
      "text/plain": "                                Adresse            Købesum  \\\n0  Pakhusvej 6, 1. tv, 2100 København Ø  Købesum 2.700.000   \n1     Ålekistevej 108A, 5, 2720 Vanløse  Købesum 2.400.000   \n2     Kærholmen 19, 1. tv, 2720 Vanløse  Købesum 2.095.000   \n\n              Salgsdato                               Boligtype  \\\n0  Salgsdato 13-08-2020  Boligtype Ejerlejlighed EEjerlejlighed   \n1  Salgsdato 13-08-2020  Boligtype Ejerlejlighed EEjerlejlighed   \n2  Salgsdato 12-08-2020  Boligtype Ejerlejlighed EEjerlejlighed   \n\n          Kr. / m²    Værelser         m²       Byggeår  \\\n0  Kr. / m² 26.471  Værelser 3  m² 102 m²  Byggeår 2007   \n1  Kr. / m² 28.916  Værelser 3   m² 83 m²  Byggeår 1937   \n2  Kr. / m² 36.121  Værelser 2   m² 58 m²  Byggeår 1939   \n\n  Den procentuelle forskel mellem seneste udbudspris og salgsprisen %  \\\n0                                      Prisjustering                    \n1                                  Prisjustering -4%                    \n2                                  Prisjustering -5%                    \n\n                                          Unnamed: 9  \n0  BoligrapporterBoligrapporterFå de bedste argum...  \n1  BoligrapporterBoligrapporterFå de bedste argum...  \n2  BoligrapporterBoligrapporterFå de bedste argum...  ",
      "text/html": "<div>\n<style scoped>\n    .dataframe tbody tr th:only-of-type {\n        vertical-align: middle;\n    }\n\n    .dataframe tbody tr th {\n        vertical-align: top;\n    }\n\n    .dataframe thead th {\n        text-align: right;\n    }\n</style>\n<table border=\"1\" class=\"dataframe\">\n  <thead>\n    <tr style=\"text-align: right;\">\n      <th></th>\n      <th>Adresse</th>\n      <th>Købesum</th>\n      <th>Salgsdato</th>\n      <th>Boligtype</th>\n      <th>Kr. / m²</th>\n      <th>Værelser</th>\n      <th>m²</th>\n      <th>Byggeår</th>\n      <th>Den procentuelle forskel mellem seneste udbudspris og salgsprisen %</th>\n      <th>Unnamed: 9</th>\n    </tr>\n  </thead>\n  <tbody>\n    <tr>\n      <td>0</td>\n      <td>Pakhusvej 6, 1. tv, 2100 København Ø</td>\n      <td>Købesum 2.700.000</td>\n      <td>Salgsdato 13-08-2020</td>\n      <td>Boligtype Ejerlejlighed EEjerlejlighed</td>\n      <td>Kr. / m² 26.471</td>\n      <td>Værelser 3</td>\n      <td>m² 102 m²</td>\n      <td>Byggeår 2007</td>\n      <td>Prisjustering</td>\n      <td>BoligrapporterBoligrapporterFå de bedste argum...</td>\n    </tr>\n    <tr>\n      <td>1</td>\n      <td>Ålekistevej 108A, 5, 2720 Vanløse</td>\n      <td>Købesum 2.400.000</td>\n      <td>Salgsdato 13-08-2020</td>\n      <td>Boligtype Ejerlejlighed EEjerlejlighed</td>\n      <td>Kr. / m² 28.916</td>\n      <td>Værelser 3</td>\n      <td>m² 83 m²</td>\n      <td>Byggeår 1937</td>\n      <td>Prisjustering -4%</td>\n      <td>BoligrapporterBoligrapporterFå de bedste argum...</td>\n    </tr>\n    <tr>\n      <td>2</td>\n      <td>Kærholmen 19, 1. tv, 2720 Vanløse</td>\n      <td>Købesum 2.095.000</td>\n      <td>Salgsdato 12-08-2020</td>\n      <td>Boligtype Ejerlejlighed EEjerlejlighed</td>\n      <td>Kr. / m² 36.121</td>\n      <td>Værelser 2</td>\n      <td>m² 58 m²</td>\n      <td>Byggeår 1939</td>\n      <td>Prisjustering -5%</td>\n      <td>BoligrapporterBoligrapporterFå de bedste argum...</td>\n    </tr>\n  </tbody>\n</table>\n</div>"
     },
     "metadata": {},
     "execution_count": 37
    }
   ],
   "source": [
    "# Checking total yield:\n",
    "print(f'Total dataframe has {len(df_Total)} rows.')\n",
    "df_Total.head(n=3)"
   ]
  },
  {
   "cell_type": "markdown",
   "metadata": {},
   "source": [
    "## 1.1.2) Working with the data:"
   ]
  },
  {
   "cell_type": "code",
   "execution_count": 38,
   "metadata": {},
   "outputs": [],
   "source": [
    "Apartments = pd.DataFrame()\n",
    "Apartments['Address'] = df_Total['Adresse']\n",
    "\n",
    "# Translating to english and datetime\n",
    "dates = [i[10:] for i in df_Total['Salgsdato']]\n",
    "Apartments['Date_sold'] = [datetime.datetime(year=int(i[6:]),month=int(i[3:5]),day=int(i[:2]),)\n",
    "    for i in dates\n",
    "]\n",
    "\n",
    "Apartments['Price'] = [int(i[8:].replace('.',''))\n",
    "    for i in df_Total['Købesum']\n",
    "]\n",
    "\n",
    "Apartments['Price_sq_m'] = [int(i[9:].replace('.',''))\n",
    "    for i in df_Total['Kr. / m²']\n",
    "]\n",
    "\n",
    "Apartments['Rooms'] = [int(i[9:])\n",
    "    for i in df_Total['Værelser']\n",
    "]\n",
    "\n",
    "Apartments.to_pickle('/Users/holger/Documents/Python/Harmsen_Repo/Metro-Study/Pickles/Apartment Data 1.pkl')"
   ]
  },
  {
   "cell_type": "code",
   "execution_count": 39,
   "metadata": {},
   "outputs": [
    {
     "output_type": "execute_result",
     "data": {
      "text/plain": "                                Address  Date_sold    Price  Price_sq_m  Rooms\n0  Pakhusvej 6, 1. tv, 2100 København Ø 2020-08-13  2700000       26471      3\n1     Ålekistevej 108A, 5, 2720 Vanløse 2020-08-13  2400000       28916      3\n2     Kærholmen 19, 1. tv, 2720 Vanløse 2020-08-12  2095000       36121      2",
      "text/html": "<div>\n<style scoped>\n    .dataframe tbody tr th:only-of-type {\n        vertical-align: middle;\n    }\n\n    .dataframe tbody tr th {\n        vertical-align: top;\n    }\n\n    .dataframe thead th {\n        text-align: right;\n    }\n</style>\n<table border=\"1\" class=\"dataframe\">\n  <thead>\n    <tr style=\"text-align: right;\">\n      <th></th>\n      <th>Address</th>\n      <th>Date_sold</th>\n      <th>Price</th>\n      <th>Price_sq_m</th>\n      <th>Rooms</th>\n    </tr>\n  </thead>\n  <tbody>\n    <tr>\n      <td>0</td>\n      <td>Pakhusvej 6, 1. tv, 2100 København Ø</td>\n      <td>2020-08-13</td>\n      <td>2700000</td>\n      <td>26471</td>\n      <td>3</td>\n    </tr>\n    <tr>\n      <td>1</td>\n      <td>Ålekistevej 108A, 5, 2720 Vanløse</td>\n      <td>2020-08-13</td>\n      <td>2400000</td>\n      <td>28916</td>\n      <td>3</td>\n    </tr>\n    <tr>\n      <td>2</td>\n      <td>Kærholmen 19, 1. tv, 2720 Vanløse</td>\n      <td>2020-08-12</td>\n      <td>2095000</td>\n      <td>36121</td>\n      <td>2</td>\n    </tr>\n  </tbody>\n</table>\n</div>"
     },
     "metadata": {},
     "execution_count": 39
    }
   ],
   "source": [
    "Apartments = pickle.load(open('/Users/holger/Documents/Python/Harmsen_Repo/Metro-Study/Pickles/Apartment Data 1.pkl','rb'))\n",
    "Apartments.head(n=3)"
   ]
  },
  {
   "cell_type": "markdown",
   "metadata": {},
   "source": [
    "A new column is added, using RegEx to remove all text between the commas. This substring expresses which door in the given apartment complex the address belongs to, and is thus irrelevant for the distance to nearest Metro. This is due to a later issue with the API not being able to recognize the address otherwise."
   ]
  },
  {
   "cell_type": "code",
   "execution_count": 40,
   "metadata": {},
   "outputs": [
    {
     "output_type": "execute_result",
     "data": {
      "text/plain": "                                Address  Date_sold    Price  Price_sq_m  \\\n0  Pakhusvej 6, 1. tv, 2100 København Ø 2020-08-13  2700000       26471   \n1     Ålekistevej 108A, 5, 2720 Vanløse 2020-08-13  2400000       28916   \n2     Kærholmen 19, 1. tv, 2720 Vanløse 2020-08-12  2095000       36121   \n\n   Rooms            Address transformed  \n0      3   Pakhusvej 6 2100 København Ø  \n1      3  Ålekistevej 108A 2720 Vanløse  \n2      2      Kærholmen 19 2720 Vanløse  ",
      "text/html": "<div>\n<style scoped>\n    .dataframe tbody tr th:only-of-type {\n        vertical-align: middle;\n    }\n\n    .dataframe tbody tr th {\n        vertical-align: top;\n    }\n\n    .dataframe thead th {\n        text-align: right;\n    }\n</style>\n<table border=\"1\" class=\"dataframe\">\n  <thead>\n    <tr style=\"text-align: right;\">\n      <th></th>\n      <th>Address</th>\n      <th>Date_sold</th>\n      <th>Price</th>\n      <th>Price_sq_m</th>\n      <th>Rooms</th>\n      <th>Address transformed</th>\n    </tr>\n  </thead>\n  <tbody>\n    <tr>\n      <td>0</td>\n      <td>Pakhusvej 6, 1. tv, 2100 København Ø</td>\n      <td>2020-08-13</td>\n      <td>2700000</td>\n      <td>26471</td>\n      <td>3</td>\n      <td>Pakhusvej 6 2100 København Ø</td>\n    </tr>\n    <tr>\n      <td>1</td>\n      <td>Ålekistevej 108A, 5, 2720 Vanløse</td>\n      <td>2020-08-13</td>\n      <td>2400000</td>\n      <td>28916</td>\n      <td>3</td>\n      <td>Ålekistevej 108A 2720 Vanløse</td>\n    </tr>\n    <tr>\n      <td>2</td>\n      <td>Kærholmen 19, 1. tv, 2720 Vanløse</td>\n      <td>2020-08-12</td>\n      <td>2095000</td>\n      <td>36121</td>\n      <td>2</td>\n      <td>Kærholmen 19 2720 Vanløse</td>\n    </tr>\n  </tbody>\n</table>\n</div>"
     },
     "metadata": {},
     "execution_count": 40
    }
   ],
   "source": [
    "Apartments['Address transformed'] = [re.sub(',[^>]+,', '',i)\n",
    "for i in Apartments['Address']\n",
    "    ]\n",
    "Apartments.head(n=3)"
   ]
  },
  {
   "cell_type": "markdown",
   "metadata": {},
   "source": [
    "### Sorting data by address and date sold:"
   ]
  },
  {
   "cell_type": "code",
   "execution_count": 43,
   "metadata": {
    "tags": []
   },
   "outputs": [],
   "source": [
    "data_sorted = Apartments.sort_values(['Address','Date_sold'])\n",
    "\n",
    "# Problem with some pgaes being scraped more than once - deleting duplicate rows:\n",
    "data_sorted.drop_duplicates(inplace=True)\n",
    "data_sorted = data_sorted.sort_values(['Date_sold'])\n",
    "data_sorted['Price_mio'] = data_sorted['Price']/10**6\n",
    "data_sorted['Price_sq_m_1000'] = data_sorted['Price_sq_m']/10**3\n",
    "data_sorted = data_sorted.reset_index()\n",
    "\n",
    "# Sorting and creating daily averages and moving average for graphing:\n",
    "dailyavg = data_sorted.groupby('Date_sold').agg(\n",
    "    Dailyavg_mio = ('Price_mio','mean'),\n",
    "    Dailyavg_sq = ('Price_sq_m_1000','mean')\n",
    ")\n",
    "dailyavg['Day'] = dailyavg.index.to_list()\n",
    "dailyavg['MovAvg'] = dailyavg['Dailyavg_sq'].rolling(window=500,center=True).mean()"
   ]
  },
  {
   "cell_type": "code",
   "execution_count": 44,
   "metadata": {},
   "outputs": [
    {
     "output_type": "execute_result",
     "data": {
      "text/plain": "   level_0  index                                            Address  \\\n0        0  67849  Sankt Thomas Alle 11, 4. th, 1824 Frederiksberg C   \n1        1  67848          Moltkesvej 61, st. th, 2000 Frederiksberg   \n2        2  67847  Frederiksberg Alle 34, 1. th, 1820 Frederiksbe...   \n\n   Date_sold    Price  Price_sq_m  Rooms  \\\n0 1992-01-24   725800        6598      4   \n1 1992-01-26   690000        7841      4   \n2 1992-02-02  1250000        6188      6   \n\n                          Address transformed  Price_mio  Price_sq_m_1000  \n0   Sankt Thomas Alle 11 1824 Frederiksberg C     0.7258            6.598  \n1            Moltkesvej 61 2000 Frederiksberg     0.6900            7.841  \n2  Frederiksberg Alle 34 1820 Frederiksberg C     1.2500            6.188  ",
      "text/html": "<div>\n<style scoped>\n    .dataframe tbody tr th:only-of-type {\n        vertical-align: middle;\n    }\n\n    .dataframe tbody tr th {\n        vertical-align: top;\n    }\n\n    .dataframe thead th {\n        text-align: right;\n    }\n</style>\n<table border=\"1\" class=\"dataframe\">\n  <thead>\n    <tr style=\"text-align: right;\">\n      <th></th>\n      <th>level_0</th>\n      <th>index</th>\n      <th>Address</th>\n      <th>Date_sold</th>\n      <th>Price</th>\n      <th>Price_sq_m</th>\n      <th>Rooms</th>\n      <th>Address transformed</th>\n      <th>Price_mio</th>\n      <th>Price_sq_m_1000</th>\n    </tr>\n  </thead>\n  <tbody>\n    <tr>\n      <td>0</td>\n      <td>0</td>\n      <td>67849</td>\n      <td>Sankt Thomas Alle 11, 4. th, 1824 Frederiksberg C</td>\n      <td>1992-01-24</td>\n      <td>725800</td>\n      <td>6598</td>\n      <td>4</td>\n      <td>Sankt Thomas Alle 11 1824 Frederiksberg C</td>\n      <td>0.7258</td>\n      <td>6.598</td>\n    </tr>\n    <tr>\n      <td>1</td>\n      <td>1</td>\n      <td>67848</td>\n      <td>Moltkesvej 61, st. th, 2000 Frederiksberg</td>\n      <td>1992-01-26</td>\n      <td>690000</td>\n      <td>7841</td>\n      <td>4</td>\n      <td>Moltkesvej 61 2000 Frederiksberg</td>\n      <td>0.6900</td>\n      <td>7.841</td>\n    </tr>\n    <tr>\n      <td>2</td>\n      <td>2</td>\n      <td>67847</td>\n      <td>Frederiksberg Alle 34, 1. th, 1820 Frederiksbe...</td>\n      <td>1992-02-02</td>\n      <td>1250000</td>\n      <td>6188</td>\n      <td>6</td>\n      <td>Frederiksberg Alle 34 1820 Frederiksberg C</td>\n      <td>1.2500</td>\n      <td>6.188</td>\n    </tr>\n  </tbody>\n</table>\n</div>"
     },
     "metadata": {},
     "execution_count": 44
    }
   ],
   "source": [
    "# The apartment data now looks like this:\n",
    "Apartments = data_sorted\n",
    "Apartments.head(n=3)"
   ]
  },
  {
   "cell_type": "code",
   "execution_count": 45,
   "metadata": {},
   "outputs": [
    {
     "output_type": "execute_result",
     "data": {
      "text/plain": "            Dailyavg_mio  Dailyavg_sq        Day  MovAvg\nDate_sold                                               \n1992-01-24        0.7258        6.598 1992-01-24     NaN\n1992-01-26        0.6900        7.841 1992-01-26     NaN\n1992-02-02        1.2500        6.188 1992-02-02     NaN",
      "text/html": "<div>\n<style scoped>\n    .dataframe tbody tr th:only-of-type {\n        vertical-align: middle;\n    }\n\n    .dataframe tbody tr th {\n        vertical-align: top;\n    }\n\n    .dataframe thead th {\n        text-align: right;\n    }\n</style>\n<table border=\"1\" class=\"dataframe\">\n  <thead>\n    <tr style=\"text-align: right;\">\n      <th></th>\n      <th>Dailyavg_mio</th>\n      <th>Dailyavg_sq</th>\n      <th>Day</th>\n      <th>MovAvg</th>\n    </tr>\n    <tr>\n      <th>Date_sold</th>\n      <th></th>\n      <th></th>\n      <th></th>\n      <th></th>\n    </tr>\n  </thead>\n  <tbody>\n    <tr>\n      <td>1992-01-24</td>\n      <td>0.7258</td>\n      <td>6.598</td>\n      <td>1992-01-24</td>\n      <td>NaN</td>\n    </tr>\n    <tr>\n      <td>1992-01-26</td>\n      <td>0.6900</td>\n      <td>7.841</td>\n      <td>1992-01-26</td>\n      <td>NaN</td>\n    </tr>\n    <tr>\n      <td>1992-02-02</td>\n      <td>1.2500</td>\n      <td>6.188</td>\n      <td>1992-02-02</td>\n      <td>NaN</td>\n    </tr>\n  </tbody>\n</table>\n</div>"
     },
     "metadata": {},
     "execution_count": 45
    }
   ],
   "source": [
    "# The grouped mean- and moving average-data looks like this (MovAvg has NaN-values in beginning and ending of series):\n",
    "dailyavg.head(n=3)"
   ]
  },
  {
   "cell_type": "markdown",
   "metadata": {},
   "source": [
    "### Splitting the apartments by sub-areas within Copenhagen:"
   ]
  },
  {
   "cell_type": "code",
   "execution_count": 46,
   "metadata": {},
   "outputs": [],
   "source": [
    "# Inferring the area from the last part of the address:\n",
    "Apartments['Area'] = 'NaN'\n",
    "for i in range(0,len(Apartments)):\n",
    "    if Apartments['Address'][i][-1] == 'N':\n",
    "        Apartments['Area'][i] = 'N'\n",
    "        # Solving issue with differentiating between NV and V:\n",
    "    elif Apartments['Address'][i][-2:] == 'NV':\n",
    "        if Apartments['Address'][i][-2] == ' V':\n",
    "            Apartments['Area'][i] = 'V'\n",
    "        else: \n",
    "            Apartments['Area'][i] = 'NV'\n",
    "    elif Apartments['Address'][i][-1] == 'Ø':\n",
    "        Apartments['Area'][i] = 'Ø'\n",
    "    elif Apartments['Address'][i][-1] == 'K':\n",
    "        Apartments['Area'][i] = 'K'\n",
    "    elif Apartments['Address'][i][-1] == 'S':\n",
    "        Apartments['Area'][i] = 'S'\n",
    "    elif Apartments['Address'][i][-5:] == 'Valby':\n",
    "        Apartments['Area'][i] = 'Valby'\n",
    "    elif Apartments['Address'][i][-13:] == 'Frederiksberg':\n",
    "        Apartments['Area'][i] = 'FRB'\n",
    "    elif Apartments['Address'][i][-1:] == 'C':\n",
    "        Apartments['Area'][i] = 'FRB'"
   ]
  },
  {
   "cell_type": "code",
   "execution_count": 47,
   "metadata": {},
   "outputs": [],
   "source": [
    "Apartments.to_pickle('/Users/holger/Documents/Python/Harmsen_Repo/Metro-Study/Pickles/Apartment Data 2.pkl')\n",
    "Apartments = pickle.load(open('/Users/holger/Documents/Python/Harmsen_Repo/Metro-Study/Pickles/Apartment Data 2.pkl','rb'))"
   ]
  },
  {
   "cell_type": "code",
   "execution_count": 48,
   "metadata": {},
   "outputs": [
    {
     "output_type": "execute_result",
     "data": {
      "text/plain": "   level_0  index                                            Address  \\\n0        0  67849  Sankt Thomas Alle 11, 4. th, 1824 Frederiksberg C   \n1        1  67848          Moltkesvej 61, st. th, 2000 Frederiksberg   \n2        2  67847  Frederiksberg Alle 34, 1. th, 1820 Frederiksbe...   \n\n   Date_sold    Price  Price_sq_m  Rooms  \\\n0 1992-01-24   725800        6598      4   \n1 1992-01-26   690000        7841      4   \n2 1992-02-02  1250000        6188      6   \n\n                          Address transformed  Price_mio  Price_sq_m_1000 Area  \n0   Sankt Thomas Alle 11 1824 Frederiksberg C     0.7258            6.598  FRB  \n1            Moltkesvej 61 2000 Frederiksberg     0.6900            7.841  FRB  \n2  Frederiksberg Alle 34 1820 Frederiksberg C     1.2500            6.188  FRB  ",
      "text/html": "<div>\n<style scoped>\n    .dataframe tbody tr th:only-of-type {\n        vertical-align: middle;\n    }\n\n    .dataframe tbody tr th {\n        vertical-align: top;\n    }\n\n    .dataframe thead th {\n        text-align: right;\n    }\n</style>\n<table border=\"1\" class=\"dataframe\">\n  <thead>\n    <tr style=\"text-align: right;\">\n      <th></th>\n      <th>level_0</th>\n      <th>index</th>\n      <th>Address</th>\n      <th>Date_sold</th>\n      <th>Price</th>\n      <th>Price_sq_m</th>\n      <th>Rooms</th>\n      <th>Address transformed</th>\n      <th>Price_mio</th>\n      <th>Price_sq_m_1000</th>\n      <th>Area</th>\n    </tr>\n  </thead>\n  <tbody>\n    <tr>\n      <td>0</td>\n      <td>0</td>\n      <td>67849</td>\n      <td>Sankt Thomas Alle 11, 4. th, 1824 Frederiksberg C</td>\n      <td>1992-01-24</td>\n      <td>725800</td>\n      <td>6598</td>\n      <td>4</td>\n      <td>Sankt Thomas Alle 11 1824 Frederiksberg C</td>\n      <td>0.7258</td>\n      <td>6.598</td>\n      <td>FRB</td>\n    </tr>\n    <tr>\n      <td>1</td>\n      <td>1</td>\n      <td>67848</td>\n      <td>Moltkesvej 61, st. th, 2000 Frederiksberg</td>\n      <td>1992-01-26</td>\n      <td>690000</td>\n      <td>7841</td>\n      <td>4</td>\n      <td>Moltkesvej 61 2000 Frederiksberg</td>\n      <td>0.6900</td>\n      <td>7.841</td>\n      <td>FRB</td>\n    </tr>\n    <tr>\n      <td>2</td>\n      <td>2</td>\n      <td>67847</td>\n      <td>Frederiksberg Alle 34, 1. th, 1820 Frederiksbe...</td>\n      <td>1992-02-02</td>\n      <td>1250000</td>\n      <td>6188</td>\n      <td>6</td>\n      <td>Frederiksberg Alle 34 1820 Frederiksberg C</td>\n      <td>1.2500</td>\n      <td>6.188</td>\n      <td>FRB</td>\n    </tr>\n  </tbody>\n</table>\n</div>"
     },
     "metadata": {},
     "execution_count": 48
    }
   ],
   "source": [
    "Apartments.head(n=3)"
   ]
  },
  {
   "cell_type": "markdown",
   "metadata": {},
   "source": [
    "# 2) Geocoding: Address to coordinates"
   ]
  },
  {
   "cell_type": "markdown",
   "metadata": {},
   "source": [
    "## 2.1) Defining the Geocoding-function, finding coordinates from a given address:"
   ]
  },
  {
   "cell_type": "markdown",
   "metadata": {},
   "source": [
    "Defining a function which returns the coordinates for a given address, using the Google Geocode API. I am using a free voucher of DKK 2,000. I need to pull coordinates for around 55 thousand adresses, this will spend around DKK 2,000. All covered by credits for new users."
   ]
  },
  {
   "cell_type": "code",
   "execution_count": 76,
   "metadata": {},
   "outputs": [],
   "source": [
    "geo_url = 'https://maps.googleapis.com/maps/api/geocode/json'\n",
    "def Geocode_Google(address):\n",
    "    spec_params = {'key' : #REMOVED\n",
    "          'address' : address,\n",
    "    }\n",
    "    d = requests.get(geo_url, params=spec_params)\n",
    "    json_data = d.json()\n",
    "    subdata = json_data['results']\n",
    "    return (subdata[0]['geometry']['location']['lat'],subdata[0]['geometry']['location']['lng'])"
   ]
  },
  {
   "cell_type": "markdown",
   "metadata": {},
   "source": [
    "## 2.2) Finding Coordinates to each apartment:"
   ]
  },
  {
   "cell_type": "markdown",
   "metadata": {},
   "source": [
    "Below, I use the Geocode-function to pull coordinates for all apartments in the dataset. This process took around 8 hours, so I split it up into stages, saving to pickle for each pull in intervals of 5000 pulls, after which I concatenate to a single dataframe and add this column to the original dataset for each apartment. Below, this process has been simplified for easier readability. The stage-pickles are saved in the /Pickles-folder."
   ]
  },
  {
   "cell_type": "code",
   "execution_count": null,
   "metadata": {},
   "outputs": [],
   "source": [
    "Apartments['Coordinates'] = [Geocode_Google(i) for i in Apartments['Address transformed']]"
   ]
  },
  {
   "cell_type": "code",
   "execution_count": null,
   "metadata": {},
   "outputs": [],
   "source": [
    "Apartments.to_pickle('/Users/holger/Documents/Python/Harmsen_Repo/Metro-Study/Pickles/Apartment Data 3.pkl')"
   ]
  },
  {
   "cell_type": "code",
   "execution_count": 26,
   "metadata": {},
   "outputs": [],
   "source": [
    "Apartments = pickle.load(open('/Users/holger/Documents/Python/Harmsen_Repo/Metro-Study/Pickles/Apartment Data 3.pkl','rb'))"
   ]
  },
  {
   "cell_type": "code",
   "execution_count": 27,
   "metadata": {},
   "outputs": [
    {
     "output_type": "execute_result",
     "data": {
      "text/plain": "                                Address            Address transformed   Area  \\\n0  Stengade 52B, 1. 1, 2200 København N  Stengade 52B 2200 København N      N   \n1     Bryggerivej 10, 1. th, 2500 Valby      Bryggerivej 10 2500 Valby  Valby   \n2  Solvænget 5, 3. tv, 2100 København Ø   Solvænget 5 2100 København Ø      Ø   \n\n              Coordinates  Date_sold    Price  Price_mio  Price_sq_m_1000  \\\n0  (55.687083, 12.554688) 1994-02-11   300710   0.300710            5.896   \n1  (55.660475, 12.518974) 1994-02-11   344101   0.344101            5.550   \n2   (55.719198, 12.57804) 1994-02-11  1090300   1.090300            7.788   \n\n   Rooms  \n0      1  \n1      2  \n2      4  ",
      "text/html": "<div>\n<style scoped>\n    .dataframe tbody tr th:only-of-type {\n        vertical-align: middle;\n    }\n\n    .dataframe tbody tr th {\n        vertical-align: top;\n    }\n\n    .dataframe thead th {\n        text-align: right;\n    }\n</style>\n<table border=\"1\" class=\"dataframe\">\n  <thead>\n    <tr style=\"text-align: right;\">\n      <th></th>\n      <th>Address</th>\n      <th>Address transformed</th>\n      <th>Area</th>\n      <th>Coordinates</th>\n      <th>Date_sold</th>\n      <th>Price</th>\n      <th>Price_mio</th>\n      <th>Price_sq_m_1000</th>\n      <th>Rooms</th>\n    </tr>\n  </thead>\n  <tbody>\n    <tr>\n      <td>0</td>\n      <td>Stengade 52B, 1. 1, 2200 København N</td>\n      <td>Stengade 52B 2200 København N</td>\n      <td>N</td>\n      <td>(55.687083, 12.554688)</td>\n      <td>1994-02-11</td>\n      <td>300710</td>\n      <td>0.300710</td>\n      <td>5.896</td>\n      <td>1</td>\n    </tr>\n    <tr>\n      <td>1</td>\n      <td>Bryggerivej 10, 1. th, 2500 Valby</td>\n      <td>Bryggerivej 10 2500 Valby</td>\n      <td>Valby</td>\n      <td>(55.660475, 12.518974)</td>\n      <td>1994-02-11</td>\n      <td>344101</td>\n      <td>0.344101</td>\n      <td>5.550</td>\n      <td>2</td>\n    </tr>\n    <tr>\n      <td>2</td>\n      <td>Solvænget 5, 3. tv, 2100 København Ø</td>\n      <td>Solvænget 5 2100 København Ø</td>\n      <td>Ø</td>\n      <td>(55.719198, 12.57804)</td>\n      <td>1994-02-11</td>\n      <td>1090300</td>\n      <td>1.090300</td>\n      <td>7.788</td>\n      <td>4</td>\n    </tr>\n  </tbody>\n</table>\n</div>"
     },
     "metadata": {},
     "execution_count": 27
    }
   ],
   "source": [
    "Apartments.head(n=3)"
   ]
  },
  {
   "cell_type": "markdown",
   "metadata": {},
   "source": [
    "The result above is a cleaned dataframe of the basic information on all the scraped apartments - before the closest metro is found. "
   ]
  },
  {
   "cell_type": "markdown",
   "metadata": {},
   "source": [
    "# 3) Using Boliga.dk's API\n",
    "\n",
    "Using the same connector as defined above, I now call the API of the page via requests instead and see, what kind of apartment-data I get this way, and how it differs from the selenium-scrape."
   ]
  },
  {
   "cell_type": "markdown",
   "metadata": {},
   "source": [
    "## 3.1) Fetching data"
   ]
  },
  {
   "cell_type": "code",
   "execution_count": 51,
   "metadata": {},
   "outputs": [],
   "source": [
    "connector = Connector('/Users/holger/Documents/Python/Harmsen_Repo/Metro-Study/Logs/API Scrape.csv',overwrite_log=True,path2selenium=path2gecko,connector_type='requests')"
   ]
  },
  {
   "cell_type": "code",
   "execution_count": 52,
   "metadata": {},
   "outputs": [],
   "source": [
    "url = 'https://api.boliga.dk/api/v2/sold/search/results?propertyType=3&municipality=101&salesDateMin=1992&salesDateMax=today&sort=date-d&page=1&street='\n",
    "\n",
    "# Testing, calling the API once to see what kind of data it spits out.\n",
    "r, _ = connector.get(url, 'API Scrape')"
   ]
  },
  {
   "cell_type": "code",
   "execution_count": 53,
   "metadata": {},
   "outputs": [
    {
     "output_type": "execute_result",
     "data": {
      "text/plain": "dict_keys(['meta', 'results'])"
     },
     "metadata": {},
     "execution_count": 53
    }
   ],
   "source": [
    "data = r.json()\n",
    "data.keys()"
   ]
  },
  {
   "cell_type": "code",
   "execution_count": 54,
   "metadata": {},
   "outputs": [
    {
     "output_type": "execute_result",
     "data": {
      "text/plain": "{'pageIndex': 1,\n 'pageSize': 50,\n 'totalCount': 55547,\n 'totalPages': 1111,\n 'minPage': 1,\n 'maxPage': 6,\n 'countFrom': 1,\n 'countTo': 50}"
     },
     "metadata": {},
     "execution_count": 54
    }
   ],
   "source": [
    "data['meta']"
   ]
  },
  {
   "cell_type": "code",
   "execution_count": 55,
   "metadata": {},
   "outputs": [
    {
     "output_type": "execute_result",
     "data": {
      "text/plain": "dict_keys(['estateId', 'address', 'zipCode', 'price', 'soldDate', 'propertyType', 'saleType', 'sqmPrice', 'rooms', 'size', 'buildYear', 'change', 'guid', 'latitude', 'longitude', 'municipalityCode', 'estateCode', 'city', 'groupKey', 'canGetVR'])"
     },
     "metadata": {},
     "execution_count": 55
    }
   ],
   "source": [
    "data['results'][1].keys()"
   ]
  },
  {
   "cell_type": "markdown",
   "metadata": {},
   "source": [
    "I find that more or less the same information on the apartments is found - but centrally, latitude and longitude are included, which is a large benefit."
   ]
  },
  {
   "cell_type": "code",
   "execution_count": 56,
   "metadata": {},
   "outputs": [],
   "source": [
    "# Defining the API-fetcher\n",
    "\n",
    "def API(pages,municipality):\n",
    "    Apartmentlist = [] \n",
    "    start_time = time.time()\n",
    "\n",
    "    for i in range(1,pages+1):\n",
    "        if i % 50 == 0:\n",
    "            print(f'Iteration: {i}')\n",
    "        url = f'https://api.boliga.dk/api/v2/sold/search/results?propertyType=3&municipality={municipality}&salesDateMin=1992&salesDateMax=today&sort=date-d&page={i}&street='\n",
    "\n",
    "        try: \n",
    "            r, _ = connector.get(url, 'Boliga Scrape')\n",
    "            Apartmentlist.append(r.json())\n",
    "        except Exception as e:\n",
    "            print(e)\n",
    "        \n",
    "    time.sleep(0.2)\n",
    "    print(f'Time elapsed: {time.time()-start_time: .2f}')\n",
    "    return Apartmentlist"
   ]
  },
  {
   "cell_type": "code",
   "execution_count": 57,
   "metadata": {
    "tags": []
   },
   "outputs": [
    {
     "output_type": "stream",
     "name": "stdout",
     "text": "Iteration: 50\nIteration: 100\nIteration: 150\nIteration: 200\nIteration: 250\nIteration: 300\nIteration: 350\nIteration: 400\nIteration: 450\nIteration: 500\nIteration: 550\nIteration: 600\nIteration: 650\nIteration: 700\nIteration: 750\nIteration: 800\nIteration: 850\nIteration: 900\nIteration: 950\nIteration: 1000\nIteration: 1050\nIteration: 1100\nTime elapsed:  997.69\n"
    }
   ],
   "source": [
    "CPH_Apartments = API(1110,101) # Copenhagen: Municipality 101\n",
    "CPH_Apartments_df = pd.concat([pd.DataFrame(data['results']) for data in CPH_Apartments])"
   ]
  },
  {
   "cell_type": "code",
   "execution_count": 58,
   "metadata": {
    "tags": []
   },
   "outputs": [
    {
     "output_type": "stream",
     "name": "stdout",
     "text": "Iteration: 50\nIteration: 100\nIteration: 150\nIteration: 200\nTime elapsed:  186.98\n"
    }
   ],
   "source": [
    "FRB_Apartments = API(247,147) # Frederiksberg: Municipality 147\n",
    "FRB_Apartments_df = pd.concat([pd.DataFrame(data['results']) for data in FRB_Apartments])"
   ]
  },
  {
   "cell_type": "code",
   "execution_count": 61,
   "metadata": {
    "tags": []
   },
   "outputs": [
    {
     "output_type": "stream",
     "name": "stdout",
     "text": "Total dataframe has 67850 rows.\n"
    },
    {
     "output_type": "execute_result",
     "data": {
      "text/plain": "   estateId              address  zipCode    price                  soldDate  \\\n0         0   Pakhusvej 6, 1. tv     2100  2700000  2020-08-12T22:00:00.000Z   \n1   1661795  Ålekistevej 108A, 5     2720  2400000  2020-08-12T22:00:00.000Z   \n2   1673486  Kærholmen 19, 1. tv     2720  2095000  2020-08-11T22:00:00.000Z   \n\n   propertyType   saleType   sqmPrice  rooms  size  buildYear    change  \\\n0             3  Fam. Salg  26470.588    3.0   102       2007  0.000000   \n1             3  Alm. Salg  28915.662    3.0    83       1937 -3.807615   \n2             3  Alm. Salg  36120.690    2.0    58       1939 -4.555809   \n\n                                   guid   latitude  longitude  \\\n0  C4966E13-7583-40A3-9DCD-541E9076B1B7  55.697025  12.593633   \n1  5B608A1D-B940-471B-BA16-9695E80CB649  55.685596  12.483170   \n2  E85F5579-CD0F-4D88-90FF-FCCA3E146FCC  55.681316  12.489333   \n\n   municipalityCode  estateCode         city groupKey  canGetVR  \n0               101        4365  København Ø     None      True  \n1               101      684776      Vanløse     None      True  \n2               101      849511      Vanløse     None      True  ",
      "text/html": "<div>\n<style scoped>\n    .dataframe tbody tr th:only-of-type {\n        vertical-align: middle;\n    }\n\n    .dataframe tbody tr th {\n        vertical-align: top;\n    }\n\n    .dataframe thead th {\n        text-align: right;\n    }\n</style>\n<table border=\"1\" class=\"dataframe\">\n  <thead>\n    <tr style=\"text-align: right;\">\n      <th></th>\n      <th>estateId</th>\n      <th>address</th>\n      <th>zipCode</th>\n      <th>price</th>\n      <th>soldDate</th>\n      <th>propertyType</th>\n      <th>saleType</th>\n      <th>sqmPrice</th>\n      <th>rooms</th>\n      <th>size</th>\n      <th>buildYear</th>\n      <th>change</th>\n      <th>guid</th>\n      <th>latitude</th>\n      <th>longitude</th>\n      <th>municipalityCode</th>\n      <th>estateCode</th>\n      <th>city</th>\n      <th>groupKey</th>\n      <th>canGetVR</th>\n    </tr>\n  </thead>\n  <tbody>\n    <tr>\n      <td>0</td>\n      <td>0</td>\n      <td>Pakhusvej 6, 1. tv</td>\n      <td>2100</td>\n      <td>2700000</td>\n      <td>2020-08-12T22:00:00.000Z</td>\n      <td>3</td>\n      <td>Fam. Salg</td>\n      <td>26470.588</td>\n      <td>3.0</td>\n      <td>102</td>\n      <td>2007</td>\n      <td>0.000000</td>\n      <td>C4966E13-7583-40A3-9DCD-541E9076B1B7</td>\n      <td>55.697025</td>\n      <td>12.593633</td>\n      <td>101</td>\n      <td>4365</td>\n      <td>København Ø</td>\n      <td>None</td>\n      <td>True</td>\n    </tr>\n    <tr>\n      <td>1</td>\n      <td>1661795</td>\n      <td>Ålekistevej 108A, 5</td>\n      <td>2720</td>\n      <td>2400000</td>\n      <td>2020-08-12T22:00:00.000Z</td>\n      <td>3</td>\n      <td>Alm. Salg</td>\n      <td>28915.662</td>\n      <td>3.0</td>\n      <td>83</td>\n      <td>1937</td>\n      <td>-3.807615</td>\n      <td>5B608A1D-B940-471B-BA16-9695E80CB649</td>\n      <td>55.685596</td>\n      <td>12.483170</td>\n      <td>101</td>\n      <td>684776</td>\n      <td>Vanløse</td>\n      <td>None</td>\n      <td>True</td>\n    </tr>\n    <tr>\n      <td>2</td>\n      <td>1673486</td>\n      <td>Kærholmen 19, 1. tv</td>\n      <td>2720</td>\n      <td>2095000</td>\n      <td>2020-08-11T22:00:00.000Z</td>\n      <td>3</td>\n      <td>Alm. Salg</td>\n      <td>36120.690</td>\n      <td>2.0</td>\n      <td>58</td>\n      <td>1939</td>\n      <td>-4.555809</td>\n      <td>E85F5579-CD0F-4D88-90FF-FCCA3E146FCC</td>\n      <td>55.681316</td>\n      <td>12.489333</td>\n      <td>101</td>\n      <td>849511</td>\n      <td>Vanløse</td>\n      <td>None</td>\n      <td>True</td>\n    </tr>\n  </tbody>\n</table>\n</div>"
     },
     "metadata": {},
     "execution_count": 61
    }
   ],
   "source": [
    "Apartments_API = pd.concat([CPH_Apartments_df,FRB_Apartments_df],ignore_index=True)\n",
    "Apartments_API.to_pickle('/Users/holger/Documents/Python/Harmsen_Repo/Metro-Study/Pickles/Apartment Data API RAW.pkl')\n",
    "print(f'Total dataframe has {len(Apartments_API)} rows.')\n",
    "Apartments_API.head(n=3)"
   ]
  },
  {
   "cell_type": "markdown",
   "metadata": {},
   "source": [
    "## 3.2) Working with the data\n",
    "I streamline the data, so it has the same characteristics as the information fetched by the manual scraper. This allows the rest of the code to work on both datasets."
   ]
  },
  {
   "cell_type": "code",
   "execution_count": 8,
   "metadata": {},
   "outputs": [],
   "source": [
    "Apartments_API.rename(columns={'address':'Address','price':'Price','sqmPrice':'Price_sq_m','rooms':'Rooms','size':'sq_m'},inplace=True)\n",
    "\n",
    "Apartments_API['Address'] = Apartments_API['Address'] + ', ' + Apartments_API['city'] #Including area and city in address, so it resembles the scraper.\n",
    "Apartments_API['Address transformed'] = [re.sub(',[^>]+,', '',i)\n",
    "for i in Apartments_API['Address']\n",
    "    ]\n",
    "\n",
    "Apartments_API['Price_mio'] = Apartments_API['Price']/10**6\n",
    "Apartments_API['Price_sq_m_1000'] = Apartments_API['Price_sq_m']/10**3\n",
    "\n",
    "# Date sold\n",
    "dates = [i[:10] for i in Apartments_API['soldDate']]\n",
    "Apartments_API['Date_sold'] = [datetime.datetime(year=int(i[:4]),month=int(i[5:7]),day=int(i[8:]),)\n",
    "    for i in dates\n",
    "]\n",
    "\n",
    "Apartments_API['Coordinates'] = [(Apartments_API['latitude'][i],Apartments_API['longitude'][i]) for i in range(0,len(Apartments_API))]\n",
    "\n",
    "Apartments_API['Rooms'] = [int(i) for i in Apartments_API['Rooms']]"
   ]
  },
  {
   "cell_type": "code",
   "execution_count": 9,
   "metadata": {},
   "outputs": [],
   "source": [
    "# Inferring the area from the last part of the address:\n",
    "Apartments_API['Area'] = 'NaN'\n",
    "for i in range(0,len(Apartments_API)):\n",
    "    if Apartments_API['city'][i][-1] == 'N':\n",
    "        Apartments_API['Area'][i] = 'N'\n",
    "        # Solving issue with differentiating between NV and V:\n",
    "    elif Apartments_API['city'][i][-2:] == 'NV':\n",
    "        if Apartments_API['city'][i][-2] == ' V':\n",
    "            Apartments_API['Area'][i] = 'V'\n",
    "        else: \n",
    "            Apartments_API['Area'][i] = 'NV'\n",
    "    elif Apartments_API['city'][i][-1] == 'Ø':\n",
    "        Apartments_API['Area'][i] = 'Ø'\n",
    "    elif Apartments_API['city'][i][-1] == 'K':\n",
    "        Apartments_API['Area'][i] = 'K'\n",
    "    elif Apartments_API['city'][i][-1] == 'S':\n",
    "        Apartments_API['Area'][i] = 'S'\n",
    "    elif Apartments_API['city'][i][-5:] == 'Valby':\n",
    "        Apartments_API['Area'][i] = 'Valby'\n",
    "    elif Apartments_API['city'][i][-13:] == 'Frederiksberg':\n",
    "        Apartments_API['Area'][i] = 'FRB'\n",
    "    elif Apartments_API['city'][i][-1:] == 'C':\n",
    "        Apartments_API['Area'][i] = 'FRB'"
   ]
  },
  {
   "cell_type": "code",
   "execution_count": 10,
   "metadata": {},
   "outputs": [],
   "source": [
    "Apartments_API.to_pickle('/Users/holger/Documents/Python/Harmsen_Repo/Metro-Study/Pickles/Apartment Data API RAW.pkl')"
   ]
  },
  {
   "cell_type": "code",
   "execution_count": 61,
   "metadata": {},
   "outputs": [],
   "source": [
    "Apartments_API = pd.read_pickle('/Users/holger/Documents/Python/Harmsen_Repo/Metro-Study/Pickles/Apartment Data API RAW.pkl')"
   ]
  },
  {
   "cell_type": "code",
   "execution_count": 62,
   "metadata": {
    "tags": []
   },
   "outputs": [
    {
     "output_type": "stream",
     "name": "stdout",
     "text": "Total dataframe has 67850 rows.\n"
    },
    {
     "output_type": "execute_result",
     "data": {
      "text/plain": "   estateId                          Address  zipCode    Price  \\\n0         0  Pakhusvej 6, 1. tv, København Ø     2100  2700000   \n1   1661795     Ålekistevej 108A, 5, Vanløse     2720  2400000   \n2   1673486     Kærholmen 19, 1. tv, Vanløse     2720  2095000   \n\n                   soldDate  propertyType   saleType  Price_sq_m  Rooms  sq_m  \\\n0  2020-08-12T22:00:00.000Z             3  Fam. Salg   26470.588      3   102   \n1  2020-08-12T22:00:00.000Z             3  Alm. Salg   28915.662      3    83   \n2  2020-08-11T22:00:00.000Z             3  Alm. Salg   36120.690      2    58   \n\n   ...  estateCode         city groupKey  canGetVR       Address transformed  \\\n0  ...        4365  København Ø     None      True   Pakhusvej 6 København Ø   \n1  ...      684776      Vanløse     None      True  Ålekistevej 108A Vanløse   \n2  ...      849511      Vanløse     None      True      Kærholmen 19 Vanløse   \n\n   Price_mio  Price_sq_m_1000  Date_sold             Coordinates  Area  \n0      2.700        26.470588 2020-08-12  (55.697025, 12.593633)     Ø  \n1      2.400        28.915662 2020-08-12   (55.685596, 12.48317)   NaN  \n2      2.095        36.120690 2020-08-11  (55.681316, 12.489333)   NaN  \n\n[3 rows x 26 columns]",
      "text/html": "<div>\n<style scoped>\n    .dataframe tbody tr th:only-of-type {\n        vertical-align: middle;\n    }\n\n    .dataframe tbody tr th {\n        vertical-align: top;\n    }\n\n    .dataframe thead th {\n        text-align: right;\n    }\n</style>\n<table border=\"1\" class=\"dataframe\">\n  <thead>\n    <tr style=\"text-align: right;\">\n      <th></th>\n      <th>estateId</th>\n      <th>Address</th>\n      <th>zipCode</th>\n      <th>Price</th>\n      <th>soldDate</th>\n      <th>propertyType</th>\n      <th>saleType</th>\n      <th>Price_sq_m</th>\n      <th>Rooms</th>\n      <th>sq_m</th>\n      <th>...</th>\n      <th>estateCode</th>\n      <th>city</th>\n      <th>groupKey</th>\n      <th>canGetVR</th>\n      <th>Address transformed</th>\n      <th>Price_mio</th>\n      <th>Price_sq_m_1000</th>\n      <th>Date_sold</th>\n      <th>Coordinates</th>\n      <th>Area</th>\n    </tr>\n  </thead>\n  <tbody>\n    <tr>\n      <td>0</td>\n      <td>0</td>\n      <td>Pakhusvej 6, 1. tv, København Ø</td>\n      <td>2100</td>\n      <td>2700000</td>\n      <td>2020-08-12T22:00:00.000Z</td>\n      <td>3</td>\n      <td>Fam. Salg</td>\n      <td>26470.588</td>\n      <td>3</td>\n      <td>102</td>\n      <td>...</td>\n      <td>4365</td>\n      <td>København Ø</td>\n      <td>None</td>\n      <td>True</td>\n      <td>Pakhusvej 6 København Ø</td>\n      <td>2.700</td>\n      <td>26.470588</td>\n      <td>2020-08-12</td>\n      <td>(55.697025, 12.593633)</td>\n      <td>Ø</td>\n    </tr>\n    <tr>\n      <td>1</td>\n      <td>1661795</td>\n      <td>Ålekistevej 108A, 5, Vanløse</td>\n      <td>2720</td>\n      <td>2400000</td>\n      <td>2020-08-12T22:00:00.000Z</td>\n      <td>3</td>\n      <td>Alm. Salg</td>\n      <td>28915.662</td>\n      <td>3</td>\n      <td>83</td>\n      <td>...</td>\n      <td>684776</td>\n      <td>Vanløse</td>\n      <td>None</td>\n      <td>True</td>\n      <td>Ålekistevej 108A Vanløse</td>\n      <td>2.400</td>\n      <td>28.915662</td>\n      <td>2020-08-12</td>\n      <td>(55.685596, 12.48317)</td>\n      <td>NaN</td>\n    </tr>\n    <tr>\n      <td>2</td>\n      <td>1673486</td>\n      <td>Kærholmen 19, 1. tv, Vanløse</td>\n      <td>2720</td>\n      <td>2095000</td>\n      <td>2020-08-11T22:00:00.000Z</td>\n      <td>3</td>\n      <td>Alm. Salg</td>\n      <td>36120.690</td>\n      <td>2</td>\n      <td>58</td>\n      <td>...</td>\n      <td>849511</td>\n      <td>Vanløse</td>\n      <td>None</td>\n      <td>True</td>\n      <td>Kærholmen 19 Vanløse</td>\n      <td>2.095</td>\n      <td>36.120690</td>\n      <td>2020-08-11</td>\n      <td>(55.681316, 12.489333)</td>\n      <td>NaN</td>\n    </tr>\n  </tbody>\n</table>\n<p>3 rows × 26 columns</p>\n</div>"
     },
     "metadata": {},
     "execution_count": 62
    }
   ],
   "source": [
    "print(f'Total dataframe has {len(Apartments_API)} rows.')\n",
    "Apartments_API.head(n=3)"
   ]
  },
  {
   "cell_type": "markdown",
   "metadata": {},
   "source": [
    "## 3.3) Checking the log"
   ]
  },
  {
   "cell_type": "code",
   "execution_count": 3,
   "metadata": {},
   "outputs": [
    {
     "output_type": "execute_result",
     "data": {
      "text/plain": "        id        project connector_type             t   delta_t  \\\n0        0     API Scrape       requests  1.598268e+09 -0.697124   \n1        1  Boliga Scrape       requests  1.598268e+09 -0.209672   \n2        2  Boliga Scrape       requests  1.598268e+09 -0.248729   \n3        3  Boliga Scrape       requests  1.598268e+09 -0.125983   \n4        4  Boliga Scrape       requests  1.598268e+09 -0.112100   \n...    ...            ...            ...           ...       ...   \n1353  1353  Boliga Scrape       requests  1.598269e+09 -0.116139   \n1354  1354  Boliga Scrape       requests  1.598269e+09 -0.105318   \n1355  1355  Boliga Scrape       requests  1.598269e+09 -0.118684   \n1356  1356  Boliga Scrape       requests  1.598269e+09 -0.119461   \n1357  1357  Boliga Scrape       requests  1.598269e+09 -0.109297   \n\n                                                    url  \\\n0     https://api.boliga.dk/api/v2/sold/search/resul...   \n1     https://api.boliga.dk/api/v2/sold/search/resul...   \n2     https://api.boliga.dk/api/v2/sold/search/resul...   \n3     https://api.boliga.dk/api/v2/sold/search/resul...   \n4     https://api.boliga.dk/api/v2/sold/search/resul...   \n...                                                 ...   \n1353  https://api.boliga.dk/api/v2/sold/search/resul...   \n1354  https://api.boliga.dk/api/v2/sold/search/resul...   \n1355  https://api.boliga.dk/api/v2/sold/search/resul...   \n1356  https://api.boliga.dk/api/v2/sold/search/resul...   \n1357  https://api.boliga.dk/api/v2/sold/search/resul...   \n\n                                           redirect_url  response_size  \\\n0     https://api.boliga.dk/api/v2/sold/search/resul...          21330   \n1     https://api.boliga.dk/api/v2/sold/search/resul...          21330   \n2     https://api.boliga.dk/api/v2/sold/search/resul...          21379   \n3     https://api.boliga.dk/api/v2/sold/search/resul...          21380   \n4     https://api.boliga.dk/api/v2/sold/search/resul...          21363   \n...                                                 ...            ...   \n1353  https://api.boliga.dk/api/v2/sold/search/resul...          21074   \n1354  https://api.boliga.dk/api/v2/sold/search/resul...          21079   \n1355  https://api.boliga.dk/api/v2/sold/search/resul...          21075   \n1356  https://api.boliga.dk/api/v2/sold/search/resul...          21019   \n1357  https://api.boliga.dk/api/v2/sold/search/resul...          21124   \n\n      response_code  success  error  \n0               200     True    NaN  \n1               200     True    NaN  \n2               200     True    NaN  \n3               200     True    NaN  \n4               200     True    NaN  \n...             ...      ...    ...  \n1353            200     True    NaN  \n1354            200     True    NaN  \n1355            200     True    NaN  \n1356            200     True    NaN  \n1357            200     True    NaN  \n\n[1358 rows x 11 columns]",
      "text/html": "<div>\n<style scoped>\n    .dataframe tbody tr th:only-of-type {\n        vertical-align: middle;\n    }\n\n    .dataframe tbody tr th {\n        vertical-align: top;\n    }\n\n    .dataframe thead th {\n        text-align: right;\n    }\n</style>\n<table border=\"1\" class=\"dataframe\">\n  <thead>\n    <tr style=\"text-align: right;\">\n      <th></th>\n      <th>id</th>\n      <th>project</th>\n      <th>connector_type</th>\n      <th>t</th>\n      <th>delta_t</th>\n      <th>url</th>\n      <th>redirect_url</th>\n      <th>response_size</th>\n      <th>response_code</th>\n      <th>success</th>\n      <th>error</th>\n    </tr>\n  </thead>\n  <tbody>\n    <tr>\n      <td>0</td>\n      <td>0</td>\n      <td>API Scrape</td>\n      <td>requests</td>\n      <td>1.598268e+09</td>\n      <td>-0.697124</td>\n      <td>https://api.boliga.dk/api/v2/sold/search/resul...</td>\n      <td>https://api.boliga.dk/api/v2/sold/search/resul...</td>\n      <td>21330</td>\n      <td>200</td>\n      <td>True</td>\n      <td>NaN</td>\n    </tr>\n    <tr>\n      <td>1</td>\n      <td>1</td>\n      <td>Boliga Scrape</td>\n      <td>requests</td>\n      <td>1.598268e+09</td>\n      <td>-0.209672</td>\n      <td>https://api.boliga.dk/api/v2/sold/search/resul...</td>\n      <td>https://api.boliga.dk/api/v2/sold/search/resul...</td>\n      <td>21330</td>\n      <td>200</td>\n      <td>True</td>\n      <td>NaN</td>\n    </tr>\n    <tr>\n      <td>2</td>\n      <td>2</td>\n      <td>Boliga Scrape</td>\n      <td>requests</td>\n      <td>1.598268e+09</td>\n      <td>-0.248729</td>\n      <td>https://api.boliga.dk/api/v2/sold/search/resul...</td>\n      <td>https://api.boliga.dk/api/v2/sold/search/resul...</td>\n      <td>21379</td>\n      <td>200</td>\n      <td>True</td>\n      <td>NaN</td>\n    </tr>\n    <tr>\n      <td>3</td>\n      <td>3</td>\n      <td>Boliga Scrape</td>\n      <td>requests</td>\n      <td>1.598268e+09</td>\n      <td>-0.125983</td>\n      <td>https://api.boliga.dk/api/v2/sold/search/resul...</td>\n      <td>https://api.boliga.dk/api/v2/sold/search/resul...</td>\n      <td>21380</td>\n      <td>200</td>\n      <td>True</td>\n      <td>NaN</td>\n    </tr>\n    <tr>\n      <td>4</td>\n      <td>4</td>\n      <td>Boliga Scrape</td>\n      <td>requests</td>\n      <td>1.598268e+09</td>\n      <td>-0.112100</td>\n      <td>https://api.boliga.dk/api/v2/sold/search/resul...</td>\n      <td>https://api.boliga.dk/api/v2/sold/search/resul...</td>\n      <td>21363</td>\n      <td>200</td>\n      <td>True</td>\n      <td>NaN</td>\n    </tr>\n    <tr>\n      <td>...</td>\n      <td>...</td>\n      <td>...</td>\n      <td>...</td>\n      <td>...</td>\n      <td>...</td>\n      <td>...</td>\n      <td>...</td>\n      <td>...</td>\n      <td>...</td>\n      <td>...</td>\n      <td>...</td>\n    </tr>\n    <tr>\n      <td>1353</td>\n      <td>1353</td>\n      <td>Boliga Scrape</td>\n      <td>requests</td>\n      <td>1.598269e+09</td>\n      <td>-0.116139</td>\n      <td>https://api.boliga.dk/api/v2/sold/search/resul...</td>\n      <td>https://api.boliga.dk/api/v2/sold/search/resul...</td>\n      <td>21074</td>\n      <td>200</td>\n      <td>True</td>\n      <td>NaN</td>\n    </tr>\n    <tr>\n      <td>1354</td>\n      <td>1354</td>\n      <td>Boliga Scrape</td>\n      <td>requests</td>\n      <td>1.598269e+09</td>\n      <td>-0.105318</td>\n      <td>https://api.boliga.dk/api/v2/sold/search/resul...</td>\n      <td>https://api.boliga.dk/api/v2/sold/search/resul...</td>\n      <td>21079</td>\n      <td>200</td>\n      <td>True</td>\n      <td>NaN</td>\n    </tr>\n    <tr>\n      <td>1355</td>\n      <td>1355</td>\n      <td>Boliga Scrape</td>\n      <td>requests</td>\n      <td>1.598269e+09</td>\n      <td>-0.118684</td>\n      <td>https://api.boliga.dk/api/v2/sold/search/resul...</td>\n      <td>https://api.boliga.dk/api/v2/sold/search/resul...</td>\n      <td>21075</td>\n      <td>200</td>\n      <td>True</td>\n      <td>NaN</td>\n    </tr>\n    <tr>\n      <td>1356</td>\n      <td>1356</td>\n      <td>Boliga Scrape</td>\n      <td>requests</td>\n      <td>1.598269e+09</td>\n      <td>-0.119461</td>\n      <td>https://api.boliga.dk/api/v2/sold/search/resul...</td>\n      <td>https://api.boliga.dk/api/v2/sold/search/resul...</td>\n      <td>21019</td>\n      <td>200</td>\n      <td>True</td>\n      <td>NaN</td>\n    </tr>\n    <tr>\n      <td>1357</td>\n      <td>1357</td>\n      <td>Boliga Scrape</td>\n      <td>requests</td>\n      <td>1.598269e+09</td>\n      <td>-0.109297</td>\n      <td>https://api.boliga.dk/api/v2/sold/search/resul...</td>\n      <td>https://api.boliga.dk/api/v2/sold/search/resul...</td>\n      <td>21124</td>\n      <td>200</td>\n      <td>True</td>\n      <td>NaN</td>\n    </tr>\n  </tbody>\n</table>\n<p>1358 rows × 11 columns</p>\n</div>"
     },
     "metadata": {},
     "execution_count": 3
    }
   ],
   "source": [
    "# Checking that the second scrape is logged:\n",
    "API_log = pd.read_csv('/Users/holger/Documents/Python/Harmsen_Repo/Metro-Study/Logs/API Scrape.csv',sep=';')\n",
    "API_log"
   ]
  },
  {
   "cell_type": "markdown",
   "metadata": {},
   "source": [
    "Beneath, I illustrate the logged pull-times for the Boliga-API; it is generally close to 0.2 as I put in a sleep of .2 seconds in the fetcher-function. "
   ]
  },
  {
   "cell_type": "code",
   "execution_count": 21,
   "metadata": {},
   "outputs": [
    {
     "output_type": "display_data",
     "data": {
      "text/plain": "<Figure size 1008x288 with 1 Axes>",
      "image/svg+xml": "<?xml version=\"1.0\" encoding=\"utf-8\" standalone=\"no\"?>\n<!DOCTYPE svg PUBLIC \"-//W3C//DTD SVG 1.1//EN\"\n  \"http://www.w3.org/Graphics/SVG/1.1/DTD/svg11.dtd\">\n<!-- Created with matplotlib (http://matplotlib.org/) -->\n<svg height=\"283.80625pt\" version=\"1.1\" viewBox=\"0 0 844.060937 283.80625\" width=\"844.060937pt\" xmlns=\"http://www.w3.org/2000/svg\" xmlns:xlink=\"http://www.w3.org/1999/xlink\">\n <defs>\n  <style type=\"text/css\">\n*{stroke-linecap:butt;stroke-linejoin:round;}\n  </style>\n </defs>\n <g id=\"figure_1\">\n  <g id=\"axes_1\">\n   <g id=\"patch_1\">\n    <path d=\"M 52.160938 246.25 \nL 833.360938 246.25 \nL 833.360938 28.81 \nL 52.160938 28.81 \nz\n\" style=\"fill:#ffffff;\"/>\n   </g>\n   <g id=\"matplotlib.axis_1\">\n    <g id=\"xtick_1\">\n     <g id=\"line2d_1\">\n      <defs>\n       <path d=\"M 0 0 \nL 0 3.5 \n\" id=\"m1354160174\" style=\"stroke:#000000;stroke-width:0.8;\"/>\n      </defs>\n      <g>\n       <use style=\"stroke:#000000;stroke-width:0.8;\" x=\"87.670028\" xlink:href=\"#m1354160174\" y=\"246.25\"/>\n      </g>\n     </g>\n     <g id=\"text_1\">\n      <!-- 0 -->\n      <defs>\n       <path d=\"M 31.78125 66.40625 \nQ 24.171875 66.40625 20.328125 58.90625 \nQ 16.5 51.421875 16.5 36.375 \nQ 16.5 21.390625 20.328125 13.890625 \nQ 24.171875 6.390625 31.78125 6.390625 \nQ 39.453125 6.390625 43.28125 13.890625 \nQ 47.125 21.390625 47.125 36.375 \nQ 47.125 51.421875 43.28125 58.90625 \nQ 39.453125 66.40625 31.78125 66.40625 \nz\nM 31.78125 74.21875 \nQ 44.046875 74.21875 50.515625 64.515625 \nQ 56.984375 54.828125 56.984375 36.375 \nQ 56.984375 17.96875 50.515625 8.265625 \nQ 44.046875 -1.421875 31.78125 -1.421875 \nQ 19.53125 -1.421875 13.0625 8.265625 \nQ 6.59375 17.96875 6.59375 36.375 \nQ 6.59375 54.828125 13.0625 64.515625 \nQ 19.53125 74.21875 31.78125 74.21875 \nz\n\" id=\"DejaVuSans-30\"/>\n      </defs>\n      <g transform=\"translate(84.488778 260.848437)scale(0.1 -0.1)\">\n       <use xlink:href=\"#DejaVuSans-30\"/>\n      </g>\n     </g>\n    </g>\n    <g id=\"xtick_2\">\n     <g id=\"line2d_2\">\n      <g>\n       <use style=\"stroke:#000000;stroke-width:0.8;\" x=\"192.339419\" xlink:href=\"#m1354160174\" y=\"246.25\"/>\n      </g>\n     </g>\n     <g id=\"text_2\">\n      <!-- 200 -->\n      <defs>\n       <path d=\"M 19.1875 8.296875 \nL 53.609375 8.296875 \nL 53.609375 0 \nL 7.328125 0 \nL 7.328125 8.296875 \nQ 12.9375 14.109375 22.625 23.890625 \nQ 32.328125 33.6875 34.8125 36.53125 \nQ 39.546875 41.84375 41.421875 45.53125 \nQ 43.3125 49.21875 43.3125 52.78125 \nQ 43.3125 58.59375 39.234375 62.25 \nQ 35.15625 65.921875 28.609375 65.921875 \nQ 23.96875 65.921875 18.8125 64.3125 \nQ 13.671875 62.703125 7.8125 59.421875 \nL 7.8125 69.390625 \nQ 13.765625 71.78125 18.9375 73 \nQ 24.125 74.21875 28.421875 74.21875 \nQ 39.75 74.21875 46.484375 68.546875 \nQ 53.21875 62.890625 53.21875 53.421875 \nQ 53.21875 48.921875 51.53125 44.890625 \nQ 49.859375 40.875 45.40625 35.40625 \nQ 44.1875 33.984375 37.640625 27.21875 \nQ 31.109375 20.453125 19.1875 8.296875 \nz\n\" id=\"DejaVuSans-32\"/>\n      </defs>\n      <g transform=\"translate(182.795669 260.848437)scale(0.1 -0.1)\">\n       <use xlink:href=\"#DejaVuSans-32\"/>\n       <use x=\"63.623047\" xlink:href=\"#DejaVuSans-30\"/>\n       <use x=\"127.246094\" xlink:href=\"#DejaVuSans-30\"/>\n      </g>\n     </g>\n    </g>\n    <g id=\"xtick_3\">\n     <g id=\"line2d_3\">\n      <g>\n       <use style=\"stroke:#000000;stroke-width:0.8;\" x=\"297.00881\" xlink:href=\"#m1354160174\" y=\"246.25\"/>\n      </g>\n     </g>\n     <g id=\"text_3\">\n      <!-- 400 -->\n      <defs>\n       <path d=\"M 37.796875 64.3125 \nL 12.890625 25.390625 \nL 37.796875 25.390625 \nz\nM 35.203125 72.90625 \nL 47.609375 72.90625 \nL 47.609375 25.390625 \nL 58.015625 25.390625 \nL 58.015625 17.1875 \nL 47.609375 17.1875 \nL 47.609375 0 \nL 37.796875 0 \nL 37.796875 17.1875 \nL 4.890625 17.1875 \nL 4.890625 26.703125 \nz\n\" id=\"DejaVuSans-34\"/>\n      </defs>\n      <g transform=\"translate(287.46506 260.848437)scale(0.1 -0.1)\">\n       <use xlink:href=\"#DejaVuSans-34\"/>\n       <use x=\"63.623047\" xlink:href=\"#DejaVuSans-30\"/>\n       <use x=\"127.246094\" xlink:href=\"#DejaVuSans-30\"/>\n      </g>\n     </g>\n    </g>\n    <g id=\"xtick_4\">\n     <g id=\"line2d_4\">\n      <g>\n       <use style=\"stroke:#000000;stroke-width:0.8;\" x=\"401.678202\" xlink:href=\"#m1354160174\" y=\"246.25\"/>\n      </g>\n     </g>\n     <g id=\"text_4\">\n      <!-- 600 -->\n      <defs>\n       <path d=\"M 33.015625 40.375 \nQ 26.375 40.375 22.484375 35.828125 \nQ 18.609375 31.296875 18.609375 23.390625 \nQ 18.609375 15.53125 22.484375 10.953125 \nQ 26.375 6.390625 33.015625 6.390625 \nQ 39.65625 6.390625 43.53125 10.953125 \nQ 47.40625 15.53125 47.40625 23.390625 \nQ 47.40625 31.296875 43.53125 35.828125 \nQ 39.65625 40.375 33.015625 40.375 \nz\nM 52.59375 71.296875 \nL 52.59375 62.3125 \nQ 48.875 64.0625 45.09375 64.984375 \nQ 41.3125 65.921875 37.59375 65.921875 \nQ 27.828125 65.921875 22.671875 59.328125 \nQ 17.53125 52.734375 16.796875 39.40625 \nQ 19.671875 43.65625 24.015625 45.921875 \nQ 28.375 48.1875 33.59375 48.1875 \nQ 44.578125 48.1875 50.953125 41.515625 \nQ 57.328125 34.859375 57.328125 23.390625 \nQ 57.328125 12.15625 50.6875 5.359375 \nQ 44.046875 -1.421875 33.015625 -1.421875 \nQ 20.359375 -1.421875 13.671875 8.265625 \nQ 6.984375 17.96875 6.984375 36.375 \nQ 6.984375 53.65625 15.1875 63.9375 \nQ 23.390625 74.21875 37.203125 74.21875 \nQ 40.921875 74.21875 44.703125 73.484375 \nQ 48.484375 72.75 52.59375 71.296875 \nz\n\" id=\"DejaVuSans-36\"/>\n      </defs>\n      <g transform=\"translate(392.134452 260.848437)scale(0.1 -0.1)\">\n       <use xlink:href=\"#DejaVuSans-36\"/>\n       <use x=\"63.623047\" xlink:href=\"#DejaVuSans-30\"/>\n       <use x=\"127.246094\" xlink:href=\"#DejaVuSans-30\"/>\n      </g>\n     </g>\n    </g>\n    <g id=\"xtick_5\">\n     <g id=\"line2d_5\">\n      <g>\n       <use style=\"stroke:#000000;stroke-width:0.8;\" x=\"506.347593\" xlink:href=\"#m1354160174\" y=\"246.25\"/>\n      </g>\n     </g>\n     <g id=\"text_5\">\n      <!-- 800 -->\n      <defs>\n       <path d=\"M 31.78125 34.625 \nQ 24.75 34.625 20.71875 30.859375 \nQ 16.703125 27.09375 16.703125 20.515625 \nQ 16.703125 13.921875 20.71875 10.15625 \nQ 24.75 6.390625 31.78125 6.390625 \nQ 38.8125 6.390625 42.859375 10.171875 \nQ 46.921875 13.96875 46.921875 20.515625 \nQ 46.921875 27.09375 42.890625 30.859375 \nQ 38.875 34.625 31.78125 34.625 \nz\nM 21.921875 38.8125 \nQ 15.578125 40.375 12.03125 44.71875 \nQ 8.5 49.078125 8.5 55.328125 \nQ 8.5 64.0625 14.71875 69.140625 \nQ 20.953125 74.21875 31.78125 74.21875 \nQ 42.671875 74.21875 48.875 69.140625 \nQ 55.078125 64.0625 55.078125 55.328125 \nQ 55.078125 49.078125 51.53125 44.71875 \nQ 48 40.375 41.703125 38.8125 \nQ 48.828125 37.15625 52.796875 32.3125 \nQ 56.78125 27.484375 56.78125 20.515625 \nQ 56.78125 9.90625 50.3125 4.234375 \nQ 43.84375 -1.421875 31.78125 -1.421875 \nQ 19.734375 -1.421875 13.25 4.234375 \nQ 6.78125 9.90625 6.78125 20.515625 \nQ 6.78125 27.484375 10.78125 32.3125 \nQ 14.796875 37.15625 21.921875 38.8125 \nz\nM 18.3125 54.390625 \nQ 18.3125 48.734375 21.84375 45.5625 \nQ 25.390625 42.390625 31.78125 42.390625 \nQ 38.140625 42.390625 41.71875 45.5625 \nQ 45.3125 48.734375 45.3125 54.390625 \nQ 45.3125 60.0625 41.71875 63.234375 \nQ 38.140625 66.40625 31.78125 66.40625 \nQ 25.390625 66.40625 21.84375 63.234375 \nQ 18.3125 60.0625 18.3125 54.390625 \nz\n\" id=\"DejaVuSans-38\"/>\n      </defs>\n      <g transform=\"translate(496.803843 260.848437)scale(0.1 -0.1)\">\n       <use xlink:href=\"#DejaVuSans-38\"/>\n       <use x=\"63.623047\" xlink:href=\"#DejaVuSans-30\"/>\n       <use x=\"127.246094\" xlink:href=\"#DejaVuSans-30\"/>\n      </g>\n     </g>\n    </g>\n    <g id=\"xtick_6\">\n     <g id=\"line2d_6\">\n      <g>\n       <use style=\"stroke:#000000;stroke-width:0.8;\" x=\"611.016984\" xlink:href=\"#m1354160174\" y=\"246.25\"/>\n      </g>\n     </g>\n     <g id=\"text_6\">\n      <!-- 1000 -->\n      <defs>\n       <path d=\"M 12.40625 8.296875 \nL 28.515625 8.296875 \nL 28.515625 63.921875 \nL 10.984375 60.40625 \nL 10.984375 69.390625 \nL 28.421875 72.90625 \nL 38.28125 72.90625 \nL 38.28125 8.296875 \nL 54.390625 8.296875 \nL 54.390625 0 \nL 12.40625 0 \nz\n\" id=\"DejaVuSans-31\"/>\n      </defs>\n      <g transform=\"translate(598.291984 260.848437)scale(0.1 -0.1)\">\n       <use xlink:href=\"#DejaVuSans-31\"/>\n       <use x=\"63.623047\" xlink:href=\"#DejaVuSans-30\"/>\n       <use x=\"127.246094\" xlink:href=\"#DejaVuSans-30\"/>\n       <use x=\"190.869141\" xlink:href=\"#DejaVuSans-30\"/>\n      </g>\n     </g>\n    </g>\n    <g id=\"xtick_7\">\n     <g id=\"line2d_7\">\n      <g>\n       <use style=\"stroke:#000000;stroke-width:0.8;\" x=\"715.686375\" xlink:href=\"#m1354160174\" y=\"246.25\"/>\n      </g>\n     </g>\n     <g id=\"text_7\">\n      <!-- 1200 -->\n      <g transform=\"translate(702.961375 260.848437)scale(0.1 -0.1)\">\n       <use xlink:href=\"#DejaVuSans-31\"/>\n       <use x=\"63.623047\" xlink:href=\"#DejaVuSans-32\"/>\n       <use x=\"127.246094\" xlink:href=\"#DejaVuSans-30\"/>\n       <use x=\"190.869141\" xlink:href=\"#DejaVuSans-30\"/>\n      </g>\n     </g>\n    </g>\n    <g id=\"xtick_8\">\n     <g id=\"line2d_8\">\n      <g>\n       <use style=\"stroke:#000000;stroke-width:0.8;\" x=\"820.355766\" xlink:href=\"#m1354160174\" y=\"246.25\"/>\n      </g>\n     </g>\n     <g id=\"text_8\">\n      <!-- 1400 -->\n      <g transform=\"translate(807.630766 260.848437)scale(0.1 -0.1)\">\n       <use xlink:href=\"#DejaVuSans-31\"/>\n       <use x=\"63.623047\" xlink:href=\"#DejaVuSans-34\"/>\n       <use x=\"127.246094\" xlink:href=\"#DejaVuSans-30\"/>\n       <use x=\"190.869141\" xlink:href=\"#DejaVuSans-30\"/>\n      </g>\n     </g>\n    </g>\n    <g id=\"text_9\">\n     <!-- Pull -->\n     <defs>\n      <path d=\"M 19.671875 64.796875 \nL 19.671875 37.40625 \nL 32.078125 37.40625 \nQ 38.96875 37.40625 42.71875 40.96875 \nQ 46.484375 44.53125 46.484375 51.125 \nQ 46.484375 57.671875 42.71875 61.234375 \nQ 38.96875 64.796875 32.078125 64.796875 \nz\nM 9.8125 72.90625 \nL 32.078125 72.90625 \nQ 44.34375 72.90625 50.609375 67.359375 \nQ 56.890625 61.8125 56.890625 51.125 \nQ 56.890625 40.328125 50.609375 34.8125 \nQ 44.34375 29.296875 32.078125 29.296875 \nL 19.671875 29.296875 \nL 19.671875 0 \nL 9.8125 0 \nz\n\" id=\"DejaVuSans-50\"/>\n      <path d=\"M 8.5 21.578125 \nL 8.5 54.6875 \nL 17.484375 54.6875 \nL 17.484375 21.921875 \nQ 17.484375 14.15625 20.5 10.265625 \nQ 23.53125 6.390625 29.59375 6.390625 \nQ 36.859375 6.390625 41.078125 11.03125 \nQ 45.3125 15.671875 45.3125 23.6875 \nL 45.3125 54.6875 \nL 54.296875 54.6875 \nL 54.296875 0 \nL 45.3125 0 \nL 45.3125 8.40625 \nQ 42.046875 3.421875 37.71875 1 \nQ 33.40625 -1.421875 27.6875 -1.421875 \nQ 18.265625 -1.421875 13.375 4.4375 \nQ 8.5 10.296875 8.5 21.578125 \nz\nM 31.109375 56 \nz\n\" id=\"DejaVuSans-75\"/>\n      <path d=\"M 9.421875 75.984375 \nL 18.40625 75.984375 \nL 18.40625 0 \nL 9.421875 0 \nz\n\" id=\"DejaVuSans-6c\"/>\n     </defs>\n     <g transform=\"translate(433.8 274.526562)scale(0.1 -0.1)\">\n      <use xlink:href=\"#DejaVuSans-50\"/>\n      <use x=\"60.287109\" xlink:href=\"#DejaVuSans-75\"/>\n      <use x=\"123.666016\" xlink:href=\"#DejaVuSans-6c\"/>\n      <use x=\"151.449219\" xlink:href=\"#DejaVuSans-6c\"/>\n     </g>\n    </g>\n   </g>\n   <g id=\"matplotlib.axis_2\">\n    <g id=\"ytick_1\">\n     <g id=\"line2d_9\">\n      <defs>\n       <path d=\"M 0 0 \nL -3.5 0 \n\" id=\"m23fbc158c6\" style=\"stroke:#000000;stroke-width:0.8;\"/>\n      </defs>\n      <g>\n       <use style=\"stroke:#000000;stroke-width:0.8;\" x=\"52.160938\" xlink:href=\"#m23fbc158c6\" y=\"246.25\"/>\n      </g>\n     </g>\n     <g id=\"text_10\">\n      <!-- −1.0 -->\n      <defs>\n       <path d=\"M 10.59375 35.5 \nL 73.1875 35.5 \nL 73.1875 27.203125 \nL 10.59375 27.203125 \nz\n\" id=\"DejaVuSans-2212\"/>\n       <path d=\"M 10.6875 12.40625 \nL 21 12.40625 \nL 21 0 \nL 10.6875 0 \nz\n\" id=\"DejaVuSans-2e\"/>\n      </defs>\n      <g transform=\"translate(20.878125 250.049219)scale(0.1 -0.1)\">\n       <use xlink:href=\"#DejaVuSans-2212\"/>\n       <use x=\"83.789062\" xlink:href=\"#DejaVuSans-31\"/>\n       <use x=\"147.412109\" xlink:href=\"#DejaVuSans-2e\"/>\n       <use x=\"179.199219\" xlink:href=\"#DejaVuSans-30\"/>\n      </g>\n     </g>\n    </g>\n    <g id=\"ytick_2\">\n     <g id=\"line2d_10\">\n      <g>\n       <use style=\"stroke:#000000;stroke-width:0.8;\" x=\"52.160938\" xlink:href=\"#m23fbc158c6\" y=\"202.762\"/>\n      </g>\n     </g>\n     <g id=\"text_11\">\n      <!-- −0.8 -->\n      <g transform=\"translate(20.878125 206.561219)scale(0.1 -0.1)\">\n       <use xlink:href=\"#DejaVuSans-2212\"/>\n       <use x=\"83.789062\" xlink:href=\"#DejaVuSans-30\"/>\n       <use x=\"147.412109\" xlink:href=\"#DejaVuSans-2e\"/>\n       <use x=\"179.199219\" xlink:href=\"#DejaVuSans-38\"/>\n      </g>\n     </g>\n    </g>\n    <g id=\"ytick_3\">\n     <g id=\"line2d_11\">\n      <g>\n       <use style=\"stroke:#000000;stroke-width:0.8;\" x=\"52.160938\" xlink:href=\"#m23fbc158c6\" y=\"159.274\"/>\n      </g>\n     </g>\n     <g id=\"text_12\">\n      <!-- −0.6 -->\n      <g transform=\"translate(20.878125 163.073219)scale(0.1 -0.1)\">\n       <use xlink:href=\"#DejaVuSans-2212\"/>\n       <use x=\"83.789062\" xlink:href=\"#DejaVuSans-30\"/>\n       <use x=\"147.412109\" xlink:href=\"#DejaVuSans-2e\"/>\n       <use x=\"179.199219\" xlink:href=\"#DejaVuSans-36\"/>\n      </g>\n     </g>\n    </g>\n    <g id=\"ytick_4\">\n     <g id=\"line2d_12\">\n      <g>\n       <use style=\"stroke:#000000;stroke-width:0.8;\" x=\"52.160938\" xlink:href=\"#m23fbc158c6\" y=\"115.786\"/>\n      </g>\n     </g>\n     <g id=\"text_13\">\n      <!-- −0.4 -->\n      <g transform=\"translate(20.878125 119.585219)scale(0.1 -0.1)\">\n       <use xlink:href=\"#DejaVuSans-2212\"/>\n       <use x=\"83.789062\" xlink:href=\"#DejaVuSans-30\"/>\n       <use x=\"147.412109\" xlink:href=\"#DejaVuSans-2e\"/>\n       <use x=\"179.199219\" xlink:href=\"#DejaVuSans-34\"/>\n      </g>\n     </g>\n    </g>\n    <g id=\"ytick_5\">\n     <g id=\"line2d_13\">\n      <g>\n       <use style=\"stroke:#000000;stroke-width:0.8;\" x=\"52.160938\" xlink:href=\"#m23fbc158c6\" y=\"72.298\"/>\n      </g>\n     </g>\n     <g id=\"text_14\">\n      <!-- −0.2 -->\n      <g transform=\"translate(20.878125 76.097219)scale(0.1 -0.1)\">\n       <use xlink:href=\"#DejaVuSans-2212\"/>\n       <use x=\"83.789062\" xlink:href=\"#DejaVuSans-30\"/>\n       <use x=\"147.412109\" xlink:href=\"#DejaVuSans-2e\"/>\n       <use x=\"179.199219\" xlink:href=\"#DejaVuSans-32\"/>\n      </g>\n     </g>\n    </g>\n    <g id=\"ytick_6\">\n     <g id=\"line2d_14\">\n      <g>\n       <use style=\"stroke:#000000;stroke-width:0.8;\" x=\"52.160938\" xlink:href=\"#m23fbc158c6\" y=\"28.81\"/>\n      </g>\n     </g>\n     <g id=\"text_15\">\n      <!-- 0.0 -->\n      <g transform=\"translate(29.257813 32.609219)scale(0.1 -0.1)\">\n       <use xlink:href=\"#DejaVuSans-30\"/>\n       <use x=\"63.623047\" xlink:href=\"#DejaVuSans-2e\"/>\n       <use x=\"95.410156\" xlink:href=\"#DejaVuSans-30\"/>\n      </g>\n     </g>\n    </g>\n    <g id=\"text_16\">\n     <!-- Delta t -->\n     <defs>\n      <path d=\"M 19.671875 64.796875 \nL 19.671875 8.109375 \nL 31.59375 8.109375 \nQ 46.6875 8.109375 53.6875 14.9375 \nQ 60.6875 21.78125 60.6875 36.53125 \nQ 60.6875 51.171875 53.6875 57.984375 \nQ 46.6875 64.796875 31.59375 64.796875 \nz\nM 9.8125 72.90625 \nL 30.078125 72.90625 \nQ 51.265625 72.90625 61.171875 64.09375 \nQ 71.09375 55.28125 71.09375 36.53125 \nQ 71.09375 17.671875 61.125 8.828125 \nQ 51.171875 0 30.078125 0 \nL 9.8125 0 \nz\n\" id=\"DejaVuSans-44\"/>\n      <path d=\"M 56.203125 29.59375 \nL 56.203125 25.203125 \nL 14.890625 25.203125 \nQ 15.484375 15.921875 20.484375 11.0625 \nQ 25.484375 6.203125 34.421875 6.203125 \nQ 39.59375 6.203125 44.453125 7.46875 \nQ 49.3125 8.734375 54.109375 11.28125 \nL 54.109375 2.78125 \nQ 49.265625 0.734375 44.1875 -0.34375 \nQ 39.109375 -1.421875 33.890625 -1.421875 \nQ 20.796875 -1.421875 13.15625 6.1875 \nQ 5.515625 13.8125 5.515625 26.8125 \nQ 5.515625 40.234375 12.765625 48.109375 \nQ 20.015625 56 32.328125 56 \nQ 43.359375 56 49.78125 48.890625 \nQ 56.203125 41.796875 56.203125 29.59375 \nz\nM 47.21875 32.234375 \nQ 47.125 39.59375 43.09375 43.984375 \nQ 39.0625 48.390625 32.421875 48.390625 \nQ 24.90625 48.390625 20.390625 44.140625 \nQ 15.875 39.890625 15.1875 32.171875 \nz\n\" id=\"DejaVuSans-65\"/>\n      <path d=\"M 18.3125 70.21875 \nL 18.3125 54.6875 \nL 36.8125 54.6875 \nL 36.8125 47.703125 \nL 18.3125 47.703125 \nL 18.3125 18.015625 \nQ 18.3125 11.328125 20.140625 9.421875 \nQ 21.96875 7.515625 27.59375 7.515625 \nL 36.8125 7.515625 \nL 36.8125 0 \nL 27.59375 0 \nQ 17.1875 0 13.234375 3.875 \nQ 9.28125 7.765625 9.28125 18.015625 \nL 9.28125 47.703125 \nL 2.6875 47.703125 \nL 2.6875 54.6875 \nL 9.28125 54.6875 \nL 9.28125 70.21875 \nz\n\" id=\"DejaVuSans-74\"/>\n      <path d=\"M 34.28125 27.484375 \nQ 23.390625 27.484375 19.1875 25 \nQ 14.984375 22.515625 14.984375 16.5 \nQ 14.984375 11.71875 18.140625 8.90625 \nQ 21.296875 6.109375 26.703125 6.109375 \nQ 34.1875 6.109375 38.703125 11.40625 \nQ 43.21875 16.703125 43.21875 25.484375 \nL 43.21875 27.484375 \nz\nM 52.203125 31.203125 \nL 52.203125 0 \nL 43.21875 0 \nL 43.21875 8.296875 \nQ 40.140625 3.328125 35.546875 0.953125 \nQ 30.953125 -1.421875 24.3125 -1.421875 \nQ 15.921875 -1.421875 10.953125 3.296875 \nQ 6 8.015625 6 15.921875 \nQ 6 25.140625 12.171875 29.828125 \nQ 18.359375 34.515625 30.609375 34.515625 \nL 43.21875 34.515625 \nL 43.21875 35.40625 \nQ 43.21875 41.609375 39.140625 45 \nQ 35.0625 48.390625 27.6875 48.390625 \nQ 23 48.390625 18.546875 47.265625 \nQ 14.109375 46.140625 10.015625 43.890625 \nL 10.015625 52.203125 \nQ 14.9375 54.109375 19.578125 55.046875 \nQ 24.21875 56 28.609375 56 \nQ 40.484375 56 46.34375 49.84375 \nQ 52.203125 43.703125 52.203125 31.203125 \nz\n\" id=\"DejaVuSans-61\"/>\n      <path id=\"DejaVuSans-20\"/>\n     </defs>\n     <g transform=\"translate(14.798438 154.419062)rotate(-90)scale(0.1 -0.1)\">\n      <use xlink:href=\"#DejaVuSans-44\"/>\n      <use x=\"77.001953\" xlink:href=\"#DejaVuSans-65\"/>\n      <use x=\"138.525391\" xlink:href=\"#DejaVuSans-6c\"/>\n      <use x=\"166.308594\" xlink:href=\"#DejaVuSans-74\"/>\n      <use x=\"205.517578\" xlink:href=\"#DejaVuSans-61\"/>\n      <use x=\"266.796875\" xlink:href=\"#DejaVuSans-20\"/>\n      <use x=\"298.583984\" xlink:href=\"#DejaVuSans-74\"/>\n     </g>\n    </g>\n   </g>\n   <g id=\"line2d_15\">\n    <path clip-path=\"url(#p35edc5f021)\" d=\"M 87.670028 180.392695 \nL 88.193375 74.401126 \nL 88.716722 82.893684 \nL 89.240069 56.203795 \nL 89.763416 53.185051 \nL 90.286763 56.207269 \nL 90.81011 78.573141 \nL 91.333457 81.668352 \nL 91.856804 62.048329 \nL 92.380151 84.117356 \nL 92.903498 68.073168 \nL 93.426845 57.283555 \nL 93.950192 79.27456 \nL 94.473539 56.815217 \nL 94.996886 81.924036 \nL 95.520233 83.625741 \nL 96.04358 58.124169 \nL 96.566927 53.375673 \nL 97.090274 66.764631 \nL 97.613621 56.40209 \nL 98.136968 66.012874 \nL 98.660314 81.109343 \nL 99.183661 57.130674 \nL 99.707008 55.709951 \nL 100.230355 56.460256 \nL 100.753702 56.350767 \nL 101.277049 78.52047 \nL 101.800396 55.941061 \nL 102.323743 80.544838 \nL 102.84709 57.210925 \nL 103.370437 74.224708 \nL 103.893784 79.431796 \nL 104.417131 83.390483 \nL 104.940478 78.081682 \nL 105.463825 60.637352 \nL 105.987172 60.500749 \nL 106.510519 71.061637 \nL 107.033866 66.586917 \nL 107.557213 57.364376 \nL 108.08056 79.227125 \nL 108.603907 56.191509 \nL 109.127254 83.173733 \nL 109.650601 55.460333 \nL 110.173947 65.900066 \nL 110.697294 58.099596 \nL 111.220641 62.834613 \nL 111.743988 54.675812 \nL 112.267335 66.119201 \nL 112.790682 84.106936 \nL 113.314029 106.412568 \nL 113.837376 61.897832 \nL 114.360723 56.300014 \nL 114.88407 111.880161 \nL 115.407417 55.143684 \nL 115.930764 64.426361 \nL 116.454111 56.712985 \nL 116.977458 78.05996 \nL 117.500805 74.324711 \nL 118.024152 56.198352 \nL 118.547499 56.198974 \nL 119.594193 83.841247 \nL 120.11754 56.752333 \nL 120.640887 55.479877 \nL 121.164234 55.764022 \nL 121.68758 74.950959 \nL 122.210927 125.328996 \nL 122.734274 56.703809 \nL 123.257621 98.749375 \nL 123.780968 61.275991 \nL 124.304315 52.824025 \nL 124.827662 77.215614 \nL 125.351009 152.658818 \nL 125.874356 114.149585 \nL 126.397703 56.69821 \nL 126.92105 79.798576 \nL 127.444397 52.556159 \nL 127.967744 68.968527 \nL 128.491091 60.272698 \nL 129.014438 56.203743 \nL 129.537785 87.804703 \nL 130.061132 84.682534 \nL 130.584479 83.030649 \nL 131.107826 56.010633 \nL 131.631173 88.747756 \nL 132.15452 60.359273 \nL 132.677867 101.622859 \nL 133.201214 175.641141 \nL 133.72456 82.976267 \nL 134.247907 84.488128 \nL 134.771254 102.938135 \nL 135.294601 106.784429 \nL 136.341295 56.395351 \nL 136.864642 132.506277 \nL 137.387989 84.270911 \nL 137.911336 82.616849 \nL 138.434683 73.953317 \nL 138.95803 60.505985 \nL 139.481377 83.703659 \nL 140.004724 74.222635 \nL 140.528071 105.605859 \nL 141.051418 80.091275 \nL 141.574765 84.860352 \nL 142.098112 55.464895 \nL 142.621459 65.985657 \nL 143.144806 82.994723 \nL 143.668153 85.15585 \nL 144.1915 54.981523 \nL 144.714847 65.761286 \nL 145.238193 82.348982 \nL 145.76154 61.465835 \nL 146.284887 83.356786 \nL 146.808234 83.412256 \nL 147.331581 83.337293 \nL 147.854928 83.421381 \nL 148.378275 56.214423 \nL 148.901622 78.55536 \nL 149.424969 78.557641 \nL 149.948316 61.657183 \nL 150.471663 83.540098 \nL 150.99501 55.893885 \nL 151.518357 65.031562 \nL 152.041704 60.152632 \nL 152.565051 82.371119 \nL 153.088398 59.898245 \nL 153.611745 55.614666 \nL 154.135092 88.045663 \nL 154.658439 57.949358 \nL 155.181786 70.114022 \nL 155.705133 71.436919 \nL 156.22848 57.069138 \nL 156.751826 65.116375 \nL 157.275173 60.37944 \nL 157.79852 60.125052 \nL 158.321867 61.420526 \nL 158.845214 61.892389 \nL 159.368561 71.521317 \nL 159.891908 61.598395 \nL 160.415255 76.176861 \nL 160.938602 58.957576 \nL 161.461949 78.983624 \nL 161.985296 65.972852 \nL 162.508643 61.032646 \nL 163.03199 60.378351 \nL 163.555337 84.597929 \nL 164.078684 61.102684 \nL 164.602031 82.993842 \nL 165.125378 82.228658 \nL 165.648725 58.20836 \nL 166.172072 88.297251 \nL 166.695419 149.341725 \nL 167.218766 59.735203 \nL 167.742113 61.77279 \nL 168.26546 83.664207 \nL 168.788806 56.061801 \nL 169.312153 65.830858 \nL 169.8355 83.350876 \nL 170.358847 82.730538 \nL 170.882194 56.521637 \nL 171.405541 64.913518 \nL 171.928888 82.488489 \nL 172.452235 61.004444 \nL 172.975582 59.124403 \nL 173.498929 85.853173 \nL 174.022276 83.146982 \nL 174.545623 61.098744 \nL 175.06897 60.586651 \nL 175.592317 60.496861 \nL 176.115664 61.305126 \nL 176.639011 83.333509 \nL 177.162358 60.770171 \nL 177.685705 60.598419 \nL 178.209052 127.37861 \nL 178.732399 61.989644 \nL 179.255746 84.284338 \nL 179.779093 83.054808 \nL 180.302439 60.083942 \nL 180.825786 83.943842 \nL 181.349133 82.590306 \nL 181.87248 61.571955 \nL 182.395827 61.623382 \nL 182.919174 61.032438 \nL 183.442521 83.225626 \nL 183.965868 83.192655 \nL 184.489215 61.333846 \nL 185.012562 121.829056 \nL 185.535909 66.940478 \nL 186.059256 56.855601 \nL 186.582603 88.775388 \nL 187.10595 61.300356 \nL 187.629297 84.620739 \nL 188.152644 82.981452 \nL 188.675991 56.335525 \nL 189.199338 88.304198 \nL 189.722685 86.322392 \nL 190.246032 83.067405 \nL 190.769379 200.856961 \nL 191.292726 82.958382 \nL 191.816072 60.781524 \nL 192.339419 81.925384 \nL 192.862766 83.990188 \nL 193.386113 81.578303 \nL 193.90946 62.739794 \nL 194.432807 60.669287 \nL 194.956154 83.252843 \nL 195.479501 61.986793 \nL 196.002848 106.636162 \nL 196.526195 83.878158 \nL 197.049542 83.717501 \nL 197.572889 61.522965 \nL 198.096236 61.932411 \nL 198.619583 56.632112 \nL 199.14293 66.541348 \nL 199.666277 81.78256 \nL 200.189624 83.882772 \nL 200.712971 83.187989 \nL 201.236318 174.564803 \nL 201.759665 83.951981 \nL 202.283012 86.720278 \nL 202.806359 81.207998 \nL 203.329706 82.730538 \nL 203.853052 56.632786 \nL 204.376399 65.639976 \nL 204.899746 152.788008 \nL 205.423093 61.025491 \nL 205.94644 84.94024 \nL 206.469787 66.618956 \nL 207.516481 84.189831 \nL 208.039828 83.936687 \nL 208.563175 61.272725 \nL 209.086522 65.699128 \nL 209.609869 78.813169 \nL 210.133216 83.766854 \nL 210.656563 83.029975 \nL 211.17991 60.539683 \nL 211.703257 61.545983 \nL 212.226604 83.230499 \nL 212.749951 60.677841 \nL 213.273298 84.387244 \nL 213.796645 60.833262 \nL 214.319992 83.76618 \nL 214.843339 83.393075 \nL 215.366685 61.337527 \nL 215.890032 87.357413 \nL 216.413379 79.017736 \nL 216.936726 60.718226 \nL 217.460073 83.59728 \nL 217.98342 83.507438 \nL 218.506767 82.751637 \nL 219.030114 83.547926 \nL 219.553461 61.279049 \nL 220.076808 82.684036 \nL 220.600155 58.553159 \nL 221.123502 59.250275 \nL 221.646849 63.091333 \nL 222.170196 62.087677 \nL 222.693543 57.597612 \nL 223.21689 77.75005 \nL 223.740237 67.552107 \nL 224.263584 76.606162 \nL 224.786931 57.998919 \nL 225.310278 58.572807 \nL 225.833625 62.195922 \nL 226.356972 58.24356 \nL 226.880318 56.790644 \nL 227.403665 62.409044 \nL 227.927012 60.674938 \nL 228.450359 60.26404 \nL 228.973706 63.193565 \nL 229.497053 57.582785 \nL 230.0204 56.143763 \nL 230.543747 59.596059 \nL 231.590441 111.23976 \nL 232.113788 71.275588 \nL 232.637135 78.77548 \nL 233.160482 60.955298 \nL 233.683829 84.233948 \nL 234.207176 57.136532 \nL 234.730523 76.345865 \nL 235.25387 79.755081 \nL 235.777217 71.663779 \nL 236.300564 73.127478 \nL 236.823911 56.331378 \nL 237.347258 55.914311 \nL 237.870605 71.100985 \nL 238.393952 80.567026 \nL 238.917298 60.249006 \nL 239.440645 64.856544 \nL 239.963992 63.656719 \nL 240.487339 161.516705 \nL 241.010686 84.185683 \nL 241.534033 72.08971 \nL 242.05738 79.989769 \nL 242.580727 80.53053 \nL 243.104074 82.777091 \nL 243.627421 60.677996 \nL 244.150768 81.453572 \nL 244.674115 83.585563 \nL 245.720809 58.763014 \nL 246.244156 65.286882 \nL 246.767503 83.31215 \nL 247.29085 83.424906 \nL 247.814197 82.723798 \nL 248.337544 67.92967 \nL 248.860891 61.869579 \nL 249.384238 62.715688 \nL 249.907585 62.05175 \nL 250.430931 120.03611 \nL 250.954278 63.241415 \nL 251.477625 154.261609 \nL 252.000972 108.608947 \nL 252.524319 78.839038 \nL 253.047666 56.294881 \nL 253.571013 64.418637 \nL 254.09436 65.582639 \nL 254.617707 77.500484 \nL 255.141054 64.001103 \nL 255.664401 64.00354 \nL 256.187748 241.692697 \nL 256.711095 242.967952 \nL 256.715191 284.80625 \nM 257.737995 284.80625 \nL 257.757789 76.325595 \nL 258.281136 82.881864 \nL 258.804483 98.858709 \nL 259.32783 79.997286 \nL 259.851177 82.597667 \nL 260.374524 127.084409 \nL 260.897871 79.217171 \nL 261.421218 58.294573 \nL 261.944564 80.131763 \nL 262.467911 84.96388 \nL 262.991258 80.408028 \nL 263.514605 83.263108 \nL 264.037952 83.276483 \nL 264.561299 82.835776 \nL 265.084646 83.253102 \nL 265.607993 69.170087 \nL 266.13134 73.600534 \nL 266.654687 80.856407 \nL 267.178034 85.162382 \nL 267.701381 79.537657 \nL 268.224728 83.047135 \nL 268.748075 82.876006 \nL 269.271422 87.720149 \nL 269.794769 170.236744 \nL 270.230199 284.80625 \nM 270.366721 284.80625 \nL 270.841463 58.866076 \nL 271.36481 75.849843 \nL 271.888157 83.040655 \nL 272.411504 61.581909 \nL 272.934851 80.408339 \nL 273.981544 83.129097 \nL 274.504891 83.837359 \nL 275.028238 60.21873 \nL 275.551585 83.443154 \nL 276.074932 82.104756 \nL 276.598279 81.299602 \nL 277.121626 79.248017 \nL 277.644973 64.204479 \nL 278.16832 83.372442 \nL 278.691667 83.310439 \nL 279.215014 61.430531 \nL 279.738361 82.609228 \nL 280.785055 84.049754 \nL 281.308402 56.779757 \nL 281.831749 63.730645 \nL 282.355096 82.745986 \nL 282.878443 82.630535 \nL 283.40179 83.020644 \nL 283.925137 83.127853 \nL 284.448484 83.748606 \nL 284.971831 82.769471 \nL 285.495177 82.415029 \nL 286.018524 60.033915 \nL 286.541871 78.971493 \nL 287.065218 67.493422 \nL 287.588565 80.204394 \nL 288.111912 72.958578 \nL 288.635259 81.829476 \nL 289.158606 56.411162 \nL 289.681953 67.764347 \nL 290.2053 60.357718 \nL 290.728647 82.104756 \nL 291.775341 81.957577 \nL 292.298688 81.318317 \nL 292.822035 71.24863 \nL 293.345382 80.566145 \nL 293.868729 83.7597 \nL 294.392076 82.529806 \nL 294.915423 81.970382 \nL 295.43877 77.246252 \nL 295.962117 75.125199 \nL 296.485464 82.711875 \nL 297.00881 82.146074 \nL 297.532157 82.606636 \nL 298.055504 96.710025 \nL 298.578851 82.541886 \nL 299.102198 82.352663 \nL 299.625545 88.113939 \nL 300.148892 77.091919 \nL 300.672239 82.483097 \nL 301.195586 82.237419 \nL 301.718933 82.783831 \nL 302.24228 77.038419 \nL 302.765627 81.347867 \nL 303.288974 82.782068 \nL 303.812321 81.65337 \nL 304.335668 84.340742 \nL 304.859015 92.252879 \nL 305.382362 63.540853 \nL 305.905709 87.504436 \nL 306.429056 86.377707 \nL 306.952403 80.626178 \nL 307.47575 61.323581 \nL 307.999097 79.881834 \nL 308.522443 82.994982 \nL 309.04579 61.475322 \nL 309.569137 82.993479 \nL 310.092484 61.179824 \nL 310.615831 83.624652 \nL 311.139178 81.708633 \nL 311.662525 82.691812 \nL 312.185872 66.174205 \nL 312.709219 77.392394 \nL 313.232566 82.600933 \nL 313.755913 81.917348 \nL 314.27926 83.019296 \nL 314.802607 83.1137 \nL 315.325954 62.335791 \nL 315.849301 71.95487 \nL 316.372648 68.039627 \nL 317.419342 100.995522 \nL 317.942689 83.2446 \nL 318.466036 82.205381 \nL 318.989383 60.133554 \nL 319.51273 127.536935 \nL 320.036077 83.187834 \nL 320.559423 74.699112 \nL 321.08277 80.10325 \nL 321.606117 82.750756 \nL 322.419805 284.80625 \nM 323.682929 284.80625 \nL 323.699505 82.752104 \nL 324.222852 59.763301 \nL 324.746199 83.587274 \nL 325.269546 82.984925 \nL 325.792893 83.129563 \nL 326.31624 82.48066 \nL 326.839587 102.644815 \nL 327.886281 65.180762 \nL 328.409628 57.491907 \nL 328.932975 79.137594 \nL 329.456322 82.328246 \nL 329.979669 80.993425 \nL 330.503016 83.285244 \nL 331.026363 83.575299 \nL 331.54971 83.410079 \nL 332.073056 83.566797 \nL 332.596403 80.599635 \nL 333.11975 83.488982 \nL 333.643097 82.653604 \nL 334.166444 83.585978 \nL 334.689791 84.758586 \nL 335.213138 81.906669 \nL 335.736485 82.627476 \nL 336.259832 83.135007 \nL 336.783179 86.973006 \nL 337.306526 77.224323 \nL 337.829873 84.171116 \nL 338.35322 82.13104 \nL 338.876567 82.651012 \nL 339.399914 82.889277 \nL 339.923261 83.384625 \nL 340.446608 82.224355 \nL 340.969955 83.427861 \nL 341.493302 174.337425 \nL 342.016649 102.675246 \nL 342.539996 126.685124 \nL 343.063343 61.41446 \nL 343.586689 77.565234 \nL 344.110036 65.776994 \nL 344.633383 82.622966 \nL 345.15673 84.767296 \nL 345.680077 81.995837 \nL 346.203424 83.999934 \nL 346.726771 82.029274 \nL 347.250118 60.156365 \nL 347.773465 85.431181 \nL 348.296812 82.786216 \nL 348.820159 82.802338 \nL 349.343506 83.613765 \nL 349.866853 83.638183 \nL 350.3902 82.674445 \nL 350.913547 82.679681 \nL 351.436894 83.058488 \nL 351.960241 84.634011 \nL 352.483588 79.695567 \nL 353.006935 83.269381 \nL 353.530282 81.975566 \nL 354.576976 82.529444 \nL 355.100323 105.226015 \nL 355.623669 82.701454 \nL 356.147016 83.102554 \nL 356.670363 60.900086 \nL 357.19371 61.022381 \nL 358.240404 107.544999 \nL 358.763751 82.800524 \nL 359.287098 82.71597 \nL 359.810445 83.266115 \nL 360.333792 82.539604 \nL 360.857139 60.755344 \nL 361.380486 83.589711 \nL 361.903833 83.376849 \nL 362.42718 83.77997 \nL 363.473874 82.68051 \nL 363.997221 83.377211 \nL 364.520568 82.386568 \nL 365.043915 128.809131 \nL 365.567262 83.33719 \nL 366.090609 129.723671 \nL 366.613956 110.226513 \nL 366.718378 284.80625 \nM 367.543549 284.80625 \nL 367.660649 82.921263 \nL 368.183996 84.048251 \nL 368.707343 118.146375 \nL 369.23069 191.005217 \nL 369.754037 78.87429 \nL 371.324078 90.062462 \nL 371.847425 66.762816 \nL 372.370772 98.494106 \nL 372.894119 270.621992 \nL 373.417466 100.35341 \nL 373.940813 90.865854 \nL 374.46416 105.235191 \nL 374.987507 83.570737 \nL 375.510854 83.072797 \nL 376.034201 89.340048 \nL 376.557548 73.870526 \nL 377.080895 110.267572 \nL 377.604242 108.761154 \nL 378.127589 73.399803 \nL 378.650935 88.095224 \nL 379.174282 75.56658 \nL 379.697629 102.787483 \nL 380.220976 113.732932 \nL 380.744323 84.455105 \nL 381.26767 99.987044 \nL 381.791017 67.535829 \nL 382.314364 153.115285 \nL 382.837711 82.081064 \nL 383.361058 82.387242 \nL 383.884405 83.691683 \nL 384.407752 82.771648 \nL 384.931099 83.082128 \nL 385.454446 84.031921 \nL 385.977793 83.256368 \nL 386.50114 82.890573 \nL 387.024487 88.040376 \nL 387.547834 78.68963 \nL 388.594528 81.32376 \nL 389.117875 78.578585 \nL 389.641222 82.668379 \nL 390.164569 81.97256 \nL 390.687915 81.909053 \nL 391.211262 94.741231 \nL 391.734609 70.328647 \nL 392.257956 81.602513 \nL 392.781303 83.355697 \nL 393.30465 82.929247 \nL 393.827997 73.536509 \nL 394.874691 82.98451 \nL 395.398038 82.719858 \nL 395.921385 83.128734 \nL 396.968079 83.440303 \nL 397.491426 82.437943 \nL 398.014773 77.58566 \nL 398.53812 82.726442 \nL 399.061467 81.59313 \nL 399.584814 83.126142 \nL 400.108161 103.19273 \nL 400.631508 174.705553 \nL 401.678202 83.352638 \nL 402.201548 82.182156 \nL 402.724895 105.863305 \nL 403.248242 83.021681 \nL 403.771589 83.369798 \nL 404.294936 83.118936 \nL 404.818283 84.096723 \nL 405.34163 79.023387 \nL 405.864977 83.608737 \nL 406.388324 84.836919 \nL 406.911671 65.608871 \nL 407.435018 75.588509 \nL 407.958365 82.98083 \nL 408.481712 151.466355 \nL 409.005059 60.734348 \nL 409.528406 83.003692 \nL 410.051753 82.900371 \nL 410.5751 83.63922 \nL 411.098447 83.123394 \nL 411.621794 219.76779 \nL 412.145141 102.225156 \nL 412.668488 82.367697 \nL 413.191835 83.461765 \nL 413.715181 81.520085 \nL 414.238528 82.781187 \nL 414.761875 82.148459 \nL 415.285222 134.052042 \nL 415.808569 65.879796 \nL 416.331916 114.224288 \nL 416.855263 79.903193 \nL 417.37861 189.657125 \nL 417.901957 78.188735 \nL 418.425304 78.819649 \nL 418.948651 69.064278 \nL 419.471998 91.778683 \nL 419.995345 96.373779 \nL 420.518692 111.640496 \nL 421.042039 62.539685 \nL 421.565386 67.214254 \nL 422.088733 65.425611 \nL 422.61208 76.608547 \nL 423.135427 75.867988 \nL 423.658774 86.938479 \nL 424.182121 60.333145 \nL 424.705468 81.473531 \nL 425.228815 83.094311 \nL 425.752161 63.634945 \nL 426.275508 88.823912 \nL 426.798855 81.808999 \nL 427.322202 81.93259 \nL 427.845549 82.184592 \nL 428.368896 77.662904 \nL 428.892243 75.362116 \nL 429.41559 78.9773 \nL 429.938937 71.60048 \nL 430.462284 80.313313 \nL 430.985631 81.655133 \nL 431.508978 103.083344 \nL 432.032325 79.414377 \nL 432.555672 78.68118 \nL 433.079019 81.740516 \nL 433.602366 81.985157 \nL 434.125713 80.775741 \nL 434.64906 81.353466 \nL 435.172407 81.466325 \nL 435.695754 81.091043 \nL 436.219101 86.946463 \nL 436.742448 80.783206 \nL 437.265794 83.898428 \nL 437.789141 82.395692 \nL 438.312488 79.104727 \nL 438.835835 82.812966 \nL 439.359182 83.62123 \nL 439.882529 106.105976 \nL 440.405876 83.15284 \nL 440.929223 84.3283 \nL 441.45257 83.351964 \nL 441.975917 80.871908 \nL 442.499264 82.987362 \nL 443.022611 80.416323 \nL 443.545958 81.33024 \nL 444.069305 80.418552 \nL 444.592652 81.983861 \nL 445.115999 82.325498 \nL 445.639346 84.081896 \nL 446.162693 83.311995 \nL 446.68604 84.389007 \nL 447.209387 83.175288 \nL 447.732734 128.736968 \nL 448.256081 81.551605 \nL 448.779427 154.611385 \nL 449.302774 103.047314 \nL 450.028109 284.80625 \nM 450.484523 284.80625 \nL 450.872815 82.392218 \nL 451.396162 88.150902 \nL 451.919509 72.05057 \nL 452.442856 88.748637 \nL 452.966203 69.436295 \nL 453.48955 88.14323 \nL 454.012897 75.391718 \nL 454.536244 84.463503 \nL 455.059591 99.37977 \nL 455.582938 80.19107 \nL 456.106285 83.534447 \nL 456.629632 82.970565 \nL 457.676326 83.125209 \nL 458.199673 85.9778 \nL 458.72302 92.695815 \nL 459.246367 90.40016 \nL 459.769714 84.579058 \nL 460.29306 171.562648 \nL 460.816407 68.768314 \nL 461.339754 83.215206 \nL 461.863101 151.134827 \nL 462.386448 104.859856 \nL 462.909795 87.047399 \nL 463.433142 64.029824 \nL 463.956489 85.959137 \nL 464.479836 82.599222 \nL 465.003183 78.299158 \nL 465.52653 85.235219 \nL 466.049877 106.853171 \nL 466.573224 79.853166 \nL 467.096571 84.001282 \nL 467.619918 82.867555 \nL 468.143265 60.977642 \nL 468.666612 83.321326 \nL 469.189959 84.108439 \nL 469.713306 82.239804 \nL 470.236653 82.33851 \nL 470.76 86.158728 \nL 471.283347 79.798836 \nL 471.806694 82.191539 \nL 472.33004 83.129563 \nL 472.853387 83.137392 \nL 473.376734 89.832389 \nL 473.900081 69.121875 \nL 474.423428 69.981618 \nL 474.946775 82.219534 \nL 475.470122 83.417233 \nL 475.993469 103.842462 \nL 476.516816 131.858514 \nL 477.040163 81.412202 \nL 477.56351 84.122125 \nL 478.610204 83.427653 \nL 479.133551 84.121348 \nL 479.656898 81.490535 \nL 480.180245 83.529833 \nL 480.703592 83.359844 \nL 481.226939 82.986895 \nL 481.750286 82.355463 \nL 482.273633 83.118417 \nL 482.79698 83.048276 \nL 483.320327 83.293487 \nL 483.843673 84.222646 \nL 484.36702 83.443984 \nL 484.890367 104.534757 \nL 485.413714 85.038687 \nL 485.937061 87.788891 \nL 486.460408 78.505281 \nL 486.983755 83.024584 \nL 487.507102 81.501577 \nL 488.030449 92.912825 \nL 488.553796 74.339797 \nL 489.077143 83.480688 \nL 489.60049 83.50723 \nL 490.123837 86.173295 \nL 490.647184 81.367204 \nL 491.170531 82.957553 \nL 491.693878 81.528846 \nL 492.217225 82.686213 \nL 492.740572 79.652538 \nL 493.263919 82.395329 \nL 493.787266 79.420235 \nL 494.310613 92.052252 \nL 494.83396 62.123137 \nL 495.357306 111.730701 \nL 495.880653 92.453818 \nL 496.404 68.993825 \nL 496.927347 81.024944 \nL 497.450694 123.31681 \nL 497.974041 83.366739 \nL 498.497388 82.258985 \nL 499.020735 82.861438 \nL 499.544082 149.66838 \nL 500.067429 78.491076 \nL 500.590776 104.007786 \nL 501.114123 82.866415 \nL 501.63747 82.141097 \nL 502.160817 82.246958 \nL 502.684164 80.073493 \nL 503.207511 83.551814 \nL 503.730858 81.83015 \nL 504.254205 84.162666 \nL 504.777552 81.54274 \nL 505.300899 84.706071 \nL 505.824246 81.866699 \nL 506.347593 105.700937 \nL 506.87094 82.403053 \nL 507.394286 80.479207 \nL 507.917633 82.664491 \nL 508.44098 84.02741 \nL 508.964327 82.895187 \nL 509.487674 81.020849 \nL 510.011021 102.001614 \nL 510.534368 85.965877 \nL 511.057715 76.605074 \nL 511.581062 82.551373 \nL 512.104409 83.05149 \nL 512.627756 82.877094 \nL 513.151103 106.084929 \nL 513.67445 82.414614 \nL 514.197797 82.00579 \nL 514.721144 83.914136 \nL 515.244491 197.013363 \nL 515.767838 83.173266 \nL 516.291185 105.233635 \nL 516.814532 107.690104 \nL 517.337879 82.39875 \nL 517.861226 83.949078 \nL 518.384573 79.110999 \nL 518.907919 83.253724 \nL 519.431266 82.855839 \nL 519.954613 83.586393 \nL 520.47796 81.686393 \nL 521.001307 82.494658 \nL 521.524654 81.307378 \nL 522.048001 81.999569 \nL 522.571348 82.931632 \nL 523.094695 83.305411 \nL 524.141389 83.159995 \nL 524.664736 84.293048 \nL 525.188083 83.345484 \nL 525.71143 83.189804 \nL 526.234777 83.768824 \nL 526.758124 150.845809 \nL 527.281471 74.901243 \nL 527.804818 82.271738 \nL 528.328165 79.58333 \nL 528.851512 82.385479 \nL 529.374859 103.218443 \nL 529.898206 82.544426 \nL 530.421552 80.655779 \nL 530.944899 79.596342 \nL 531.468246 81.046925 \nL 531.991593 81.836942 \nL 532.51494 83.44922 \nL 533.038287 83.359326 \nL 533.561634 144.42718 \nL 534.084981 81.83492 \nL 534.608328 82.407875 \nL 535.131675 83.251599 \nL 535.655022 83.389187 \nL 536.178369 83.866857 \nL 536.701716 80.435297 \nL 537.225063 67.209485 \nL 537.74841 76.526378 \nL 538.271757 81.453727 \nL 538.795104 82.814469 \nL 539.318451 82.443749 \nL 539.841798 82.222592 \nL 540.365145 82.375733 \nL 540.888492 81.368552 \nL 541.411839 81.545747 \nL 541.935186 82.495332 \nL 542.458532 81.57006 \nL 542.981879 81.334854 \nL 543.505226 79.765346 \nL 544.028573 59.85475 \nL 544.55192 81.662494 \nL 545.075267 83.276172 \nL 545.598614 80.098481 \nL 546.121961 80.167638 \nL 546.645308 76.769256 \nL 547.168655 75.638329 \nL 547.692002 83.419151 \nL 548.215349 79.633512 \nL 548.738696 83.84949 \nL 549.262043 83.49287 \nL 549.782126 284.80625 \nM 549.78866 284.80625 \nL 550.308737 83.861258 \nL 550.832084 82.968387 \nL 551.355431 105.229125 \nL 551.878778 82.371948 \nL 552.925472 83.713146 \nL 553.448819 83.031686 \nL 553.972165 84.165206 \nL 554.495512 82.940808 \nL 555.018859 82.753815 \nL 555.542206 61.602542 \nL 556.065553 83.472911 \nL 556.5889 83.575713 \nL 557.112247 82.914317 \nL 557.635594 82.804049 \nL 558.158941 82.217667 \nL 558.682288 82.787771 \nL 559.205635 83.556843 \nL 559.728982 82.831888 \nL 560.252329 82.481749 \nL 560.775676 106.543054 \nL 561.299023 82.233064 \nL 561.82237 82.636393 \nL 562.869064 82.673408 \nL 563.392411 83.717708 \nL 563.915758 83.434237 \nL 564.439105 83.413501 \nL 564.962452 82.508085 \nL 565.485798 72.293034 \nL 566.009145 70.521705 \nL 566.532492 70.095722 \nL 567.055839 62.807862 \nL 567.579186 67.682178 \nL 568.102533 81.767318 \nL 568.62588 70.00728 \nL 569.149227 74.425854 \nL 569.672574 84.037312 \nL 570.195921 83.06305 \nL 570.719268 83.34704 \nL 571.242615 82.153228 \nL 571.765962 82.86797 \nL 572.289309 83.189804 \nL 572.812656 83.358756 \nL 573.336003 82.386153 \nL 573.85935 82.220882 \nL 574.382697 81.060352 \nL 574.906044 69.99012 \nL 575.952738 79.791422 \nL 576.476085 84.029329 \nL 576.999432 82.709697 \nL 577.522778 83.474155 \nL 578.046125 78.499008 \nL 578.569472 82.974971 \nL 579.092819 83.331591 \nL 579.616166 83.206963 \nL 580.139513 82.309635 \nL 580.66286 82.912347 \nL 581.709554 83.512726 \nL 582.232901 83.984745 \nL 582.756248 83.298308 \nL 583.802942 80.372361 \nL 584.326289 82.869266 \nL 584.849636 82.988036 \nL 585.372983 64.866809 \nL 585.89633 68.121225 \nL 586.419677 80.793419 \nL 586.943024 82.897779 \nL 587.466371 64.43647 \nL 587.989718 78.26432 \nL 588.513065 83.196284 \nL 589.036411 105.85641 \nL 589.559758 82.347427 \nL 590.083105 82.797984 \nL 590.606452 82.925151 \nL 591.129799 82.68471 \nL 591.653146 83.004573 \nL 592.176493 83.719056 \nL 592.69984 81.853583 \nL 593.223187 83.135629 \nL 593.746534 83.119558 \nL 594.269881 81.77665 \nL 594.793228 82.452459 \nL 595.316575 83.867375 \nL 595.839922 196.691271 \nL 596.363269 81.230445 \nL 597.409963 82.243536 \nL 597.93331 82.078472 \nL 598.456657 80.744895 \nL 598.980004 81.651867 \nL 599.503351 81.737302 \nL 600.026698 83.820769 \nL 600.550044 82.96564 \nL 601.073391 82.44095 \nL 601.596738 103.933082 \nL 602.120085 81.285812 \nL 602.643432 70.189244 \nL 603.166779 72.448248 \nL 603.690126 84.068003 \nL 604.73682 81.178241 \nL 605.260167 83.310025 \nL 605.783514 83.344396 \nL 606.306861 82.027356 \nL 606.830208 83.308728 \nL 607.353555 82.723591 \nL 607.876902 81.329618 \nL 608.923596 82.088426 \nL 609.446943 150.413086 \nL 609.97029 82.230213 \nL 610.493637 84.018701 \nL 611.016984 80.297398 \nL 611.540331 81.283687 \nL 612.587024 82.4677 \nL 613.110371 81.747515 \nL 613.633718 82.600519 \nL 614.157065 80.79793 \nL 614.680412 83.415263 \nL 615.203759 83.413708 \nL 615.727106 82.461583 \nL 616.7738 83.243719 \nL 617.297147 81.229771 \nL 617.820494 83.358963 \nL 618.343841 83.254139 \nL 618.867188 83.613091 \nL 619.913882 83.322 \nL 620.437229 82.869318 \nL 620.960576 81.535326 \nL 621.483923 83.268707 \nL 622.00727 83.446628 \nL 622.530617 83.212199 \nL 623.053964 82.164115 \nL 623.577311 82.085419 \nL 624.624004 83.292865 \nL 625.670698 82.34245 \nL 626.194045 82.319536 \nL 626.717392 88.999137 \nL 627.240739 142.922526 \nL 627.764086 84.76206 \nL 628.287433 81.1771 \nL 628.81078 81.021056 \nL 629.334127 80.1159 \nL 629.857474 82.106311 \nL 630.380821 82.569206 \nL 631.427515 84.841689 \nL 631.950862 81.539888 \nL 632.474209 81.858404 \nL 632.997556 83.133918 \nL 633.520903 82.317152 \nL 634.04425 82.885544 \nL 634.567597 82.681858 \nL 635.090944 83.423765 \nL 635.61429 80.819703 \nL 636.137637 82.093869 \nL 636.660984 82.958227 \nL 637.184331 83.172799 \nL 637.707678 82.131143 \nL 638.231025 82.417673 \nL 638.754372 79.221941 \nL 639.277719 80.574855 \nL 639.801066 82.291075 \nL 640.324413 81.69334 \nL 641.371107 81.869032 \nL 641.894454 81.710707 \nL 642.417801 81.160874 \nL 642.941148 81.71164 \nL 643.464495 82.799435 \nL 643.987842 83.478769 \nL 644.511189 82.16961 \nL 645.034536 81.782041 \nL 645.557883 80.971029 \nL 646.08123 82.827067 \nL 646.604577 83.071708 \nL 647.127923 83.594428 \nL 648.174617 81.686238 \nL 648.697964 83.059525 \nL 649.221311 79.883389 \nL 649.744658 82.425034 \nL 650.268005 82.84827 \nL 650.791352 83.490226 \nL 651.314699 79.718325 \nL 651.838046 82.685954 \nL 652.361393 84.665271 \nL 652.88474 80.368473 \nL 653.931434 83.273269 \nL 654.454781 80.867294 \nL 654.978128 81.747929 \nL 655.501475 81.747774 \nL 656.024822 82.89669 \nL 656.548169 81.954726 \nL 657.071516 82.373141 \nL 657.594863 82.61773 \nL 658.11821 77.836678 \nL 658.641557 83.609462 \nL 659.164903 83.350617 \nL 659.68825 82.915146 \nL 660.211597 83.12412 \nL 660.734944 83.088868 \nL 661.258291 80.252606 \nL 661.781638 83.327132 \nL 662.304985 83.546371 \nL 662.828332 81.181921 \nL 663.351679 75.345423 \nL 663.875026 81.451135 \nL 664.398373 81.997547 \nL 664.92172 82.282625 \nL 665.445067 67.496895 \nL 666.491761 82.446186 \nL 667.015108 80.541831 \nL 667.538455 82.430737 \nL 668.061802 81.980595 \nL 668.585149 83.789301 \nL 669.108496 56.669334 \nL 669.631843 53.265043 \nL 670.15519 56.961307 \nL 670.678536 56.370518 \nL 671.201883 61.342089 \nL 671.72523 52.86949 \nL 672.248577 56.612982 \nL 672.771924 52.613185 \nL 673.295271 71.233544 \nL 673.818618 55.029995 \nL 674.341965 61.806487 \nL 674.865312 55.40113 \nL 675.388659 105.29626 \nL 676.435353 50.137794 \nL 676.9587 70.092093 \nL 677.482047 72.077942 \nL 678.005394 101.332078 \nL 678.528741 76.902075 \nL 679.052088 89.016918 \nL 679.575435 73.66658 \nL 680.098782 54.093266 \nL 680.622129 55.120873 \nL 681.145476 52.289796 \nL 682.192169 54.509037 \nL 682.715516 49.901655 \nL 683.238863 71.055105 \nL 683.76221 51.346121 \nL 684.285557 55.243738 \nL 684.808904 53.072606 \nL 685.332251 57.536646 \nL 686.378945 51.502683 \nL 686.902292 56.896712 \nL 687.425639 54.682344 \nL 687.948986 56.003686 \nL 688.472333 50.078487 \nL 688.99568 85.925647 \nL 689.519027 51.104746 \nL 690.042374 68.108161 \nL 690.565721 73.764561 \nL 691.089068 62.519518 \nL 691.612415 53.804249 \nL 692.135762 52.219395 \nL 692.659109 52.226549 \nL 693.182456 54.426816 \nL 693.705803 54.91698 \nL 694.229149 54.814126 \nL 694.752496 53.024342 \nL 695.275843 56.79588 \nL 695.79919 52.784729 \nL 696.322537 57.780199 \nL 696.845884 57.757959 \nL 697.369231 53.125485 \nL 697.892578 54.014363 \nL 698.415925 68.068088 \nL 699.462619 53.464011 \nL 699.985966 52.239821 \nL 700.509313 77.954877 \nL 701.03266 55.951482 \nL 701.556007 65.576055 \nL 702.079354 71.773579 \nL 702.602701 54.825583 \nL 703.126048 53.91125 \nL 704.172742 58.90221 \nL 704.696089 81.144543 \nL 705.219436 78.404967 \nL 705.742782 54.900183 \nL 706.266129 53.96698 \nL 706.789476 53.524614 \nL 707.312823 55.081318 \nL 707.83617 57.033108 \nL 708.359517 79.959493 \nL 708.882864 83.950633 \nL 709.406211 53.272456 \nL 710.452905 54.027998 \nL 710.976252 52.904535 \nL 711.499599 55.964338 \nL 712.022946 52.729932 \nL 712.546293 59.884092 \nL 713.06964 77.287829 \nL 713.592987 52.145002 \nL 714.116334 54.994535 \nL 714.639681 123.244595 \nL 715.163028 55.497555 \nL 715.686375 202.532849 \nL 716.209722 68.596148 \nL 716.733069 54.163719 \nL 717.256415 56.441386 \nL 717.779762 57.155921 \nL 718.303109 62.231019 \nL 718.826456 51.705747 \nL 719.349803 55.43182 \nL 719.87315 54.659015 \nL 720.396497 116.917311 \nL 720.919844 52.267608 \nL 721.443191 82.084538 \nL 722.489885 57.240008 \nL 723.013232 52.259624 \nL 723.536579 51.440525 \nL 724.059926 54.45704 \nL 724.583273 54.845801 \nL 725.10662 62.365549 \nL 725.629967 117.421783 \nL 726.153314 107.881608 \nL 727.200008 51.834055 \nL 727.723355 115.693794 \nL 728.246702 82.263288 \nL 728.770049 157.855589 \nL 729.293395 77.125202 \nL 729.816742 61.723074 \nL 730.863436 52.523136 \nL 731.386783 54.402243 \nL 731.91013 51.399881 \nL 732.956824 56.26051 \nL 734.003518 83.428949 \nL 734.526865 83.550104 \nL 735.050212 63.251213 \nL 735.573559 80.25131 \nL 736.096906 51.68444 \nL 736.620253 55.445092 \nL 737.1436 55.724 \nL 737.666947 56.279018 \nL 738.190294 76.251254 \nL 738.713641 54.712309 \nL 739.236988 50.691878 \nL 739.760335 56.676851 \nL 740.283682 51.348765 \nL 740.807028 53.026156 \nL 741.330375 54.234794 \nL 741.853722 54.697119 \nL 742.377069 56.288557 \nL 742.900416 62.900244 \nL 743.423763 58.27705 \nL 743.94711 63.058102 \nL 744.470457 58.814079 \nL 744.993804 56.681672 \nL 745.517151 87.503762 \nL 746.040498 55.65842 \nL 746.563845 63.506844 \nL 747.087192 55.650644 \nL 747.610539 54.535062 \nL 748.133886 52.748855 \nL 748.657233 57.794144 \nL 749.18058 51.203971 \nL 749.703927 51.16369 \nL 750.227274 91.678214 \nL 750.750621 59.671645 \nL 751.273968 54.695564 \nL 751.797315 54.766431 \nL 752.320661 61.783314 \nL 752.844008 78.584236 \nL 753.367355 56.107422 \nL 753.890702 64.238331 \nL 754.414049 83.263522 \nL 754.937396 56.134379 \nL 755.460743 54.685558 \nL 755.98409 69.416232 \nL 756.507437 61.74801 \nL 757.554131 52.80277 \nL 758.077478 59.028703 \nL 758.600825 74.203246 \nL 759.124172 55.118489 \nL 759.647519 55.067632 \nL 760.170866 80.33913 \nL 760.694213 76.683355 \nL 761.21756 83.97448 \nL 761.740907 55.232696 \nL 762.264254 56.682554 \nL 763.310948 83.75773 \nL 763.834295 106.675924 \nL 764.357641 54.773171 \nL 764.880988 53.383138 \nL 765.404335 72.883978 \nL 765.927682 83.064554 \nL 766.451029 50.435521 \nL 766.974376 70.882679 \nL 767.497723 56.946687 \nL 768.02107 51.758159 \nL 768.544417 73.61028 \nL 769.067764 61.071371 \nL 769.591111 52.671662 \nL 770.114458 50.977993 \nL 771.161152 56.786652 \nL 771.684499 54.846942 \nL 772.207846 55.201124 \nL 772.731193 56.306753 \nL 773.25454 62.863955 \nL 773.777887 52.601209 \nL 774.301234 61.081325 \nL 774.824581 54.490944 \nL 775.347928 56.674259 \nL 775.871274 103.337161 \nL 776.394621 55.437523 \nL 776.917968 66.036151 \nL 777.441315 80.259553 \nL 777.964662 53.211957 \nL 778.488009 57.899487 \nL 779.011356 55.975899 \nL 779.534703 99.186193 \nL 780.05805 50.172424 \nL 780.581397 71.13406 \nL 781.104744 55.103714 \nL 781.628091 54.73994 \nL 782.151438 56.906769 \nL 782.674785 53.702691 \nL 783.198132 79.465701 \nL 783.721479 59.421456 \nL 784.768173 53.872161 \nL 785.29152 54.09674 \nL 785.814867 52.541591 \nL 786.338214 53.303458 \nL 786.861561 57.056747 \nL 787.384907 80.161261 \nL 787.908254 59.162662 \nL 788.431601 82.100661 \nL 788.954948 81.710811 \nL 789.478295 56.994589 \nL 790.001642 51.085875 \nL 790.524989 57.507511 \nL 791.048336 55.058248 \nL 792.09503 56.278758 \nL 792.618377 54.314216 \nL 793.141724 53.862778 \nL 793.665071 54.61101 \nL 794.188418 63.049859 \nL 794.711765 61.488594 \nL 795.235112 54.29379 \nL 795.758459 54.06325 \nL 796.281806 51.710361 \nL 796.805153 54.616661 \nL 797.3285 54.785613 \nL 797.851847 52.575548 \nL 797.851847 52.575548 \n\" style=\"fill:none;stroke:#1f77b4;stroke-linecap:square;stroke-width:1.5;\"/>\n   </g>\n   <g id=\"patch_2\">\n    <path d=\"M 52.160938 246.25 \nL 52.160938 28.81 \n\" style=\"fill:none;stroke:#000000;stroke-linecap:square;stroke-linejoin:miter;stroke-width:0.8;\"/>\n   </g>\n   <g id=\"patch_3\">\n    <path d=\"M 833.360938 246.25 \nL 833.360938 28.81 \n\" style=\"fill:none;stroke:#000000;stroke-linecap:square;stroke-linejoin:miter;stroke-width:0.8;\"/>\n   </g>\n   <g id=\"patch_4\">\n    <path d=\"M 52.160938 246.25 \nL 833.360938 246.25 \n\" style=\"fill:none;stroke:#000000;stroke-linecap:square;stroke-linejoin:miter;stroke-width:0.8;\"/>\n   </g>\n   <g id=\"patch_5\">\n    <path d=\"M 52.160938 28.81 \nL 833.360938 28.81 \n\" style=\"fill:none;stroke:#000000;stroke-linecap:square;stroke-linejoin:miter;stroke-width:0.8;\"/>\n   </g>\n   <g id=\"text_17\">\n    <!-- Time spent fetching API-data -->\n    <defs>\n     <path d=\"M 0.484375 72.90625 \nL 67.671875 72.90625 \nL 67.671875 58.6875 \nL 43.5 58.6875 \nL 43.5 0 \nL 24.703125 0 \nL 24.703125 58.6875 \nL 0.484375 58.6875 \nz\n\" id=\"DejaVuSans-Bold-54\"/>\n     <path d=\"M 8.40625 54.6875 \nL 25.875 54.6875 \nL 25.875 0 \nL 8.40625 0 \nz\nM 8.40625 75.984375 \nL 25.875 75.984375 \nL 25.875 61.71875 \nL 8.40625 61.71875 \nz\n\" id=\"DejaVuSans-Bold-69\"/>\n     <path d=\"M 59.078125 45.609375 \nQ 62.40625 50.6875 66.96875 53.34375 \nQ 71.53125 56 77 56 \nQ 86.421875 56 91.359375 50.1875 \nQ 96.296875 44.390625 96.296875 33.296875 \nL 96.296875 0 \nL 78.71875 0 \nL 78.71875 28.515625 \nQ 78.765625 29.15625 78.78125 29.828125 \nQ 78.8125 30.515625 78.8125 31.78125 \nQ 78.8125 37.59375 77.09375 40.203125 \nQ 75.390625 42.828125 71.578125 42.828125 \nQ 66.609375 42.828125 63.890625 38.71875 \nQ 61.1875 34.625 61.078125 26.859375 \nL 61.078125 0 \nL 43.5 0 \nL 43.5 28.515625 \nQ 43.5 37.59375 41.9375 40.203125 \nQ 40.375 42.828125 36.375 42.828125 \nQ 31.34375 42.828125 28.609375 38.703125 \nQ 25.875 34.578125 25.875 26.90625 \nL 25.875 0 \nL 8.296875 0 \nL 8.296875 54.6875 \nL 25.875 54.6875 \nL 25.875 46.6875 \nQ 29.109375 51.3125 33.28125 53.65625 \nQ 37.453125 56 42.484375 56 \nQ 48.140625 56 52.484375 53.265625 \nQ 56.84375 50.53125 59.078125 45.609375 \nz\n\" id=\"DejaVuSans-Bold-6d\"/>\n     <path d=\"M 62.984375 27.484375 \nL 62.984375 22.515625 \nL 22.125 22.515625 \nQ 22.75 16.359375 26.5625 13.28125 \nQ 30.375 10.203125 37.203125 10.203125 \nQ 42.71875 10.203125 48.5 11.84375 \nQ 54.296875 13.484375 60.40625 16.796875 \nL 60.40625 3.328125 \nQ 54.203125 0.984375 48 -0.21875 \nQ 41.796875 -1.421875 35.59375 -1.421875 \nQ 20.75 -1.421875 12.515625 6.125 \nQ 4.296875 13.671875 4.296875 27.296875 \nQ 4.296875 40.671875 12.375 48.328125 \nQ 20.453125 56 34.625 56 \nQ 47.515625 56 55.25 48.234375 \nQ 62.984375 40.484375 62.984375 27.484375 \nz\nM 45.015625 33.296875 \nQ 45.015625 38.28125 42.109375 41.328125 \nQ 39.203125 44.390625 34.515625 44.390625 \nQ 29.4375 44.390625 26.265625 41.53125 \nQ 23.09375 38.671875 22.3125 33.296875 \nz\n\" id=\"DejaVuSans-Bold-65\"/>\n     <path id=\"DejaVuSans-Bold-20\"/>\n     <path d=\"M 51.125 52.984375 \nL 51.125 39.703125 \nQ 45.515625 42.046875 40.28125 43.21875 \nQ 35.0625 44.390625 30.421875 44.390625 \nQ 25.4375 44.390625 23.015625 43.140625 \nQ 20.609375 41.890625 20.609375 39.3125 \nQ 20.609375 37.203125 22.4375 36.078125 \nQ 24.265625 34.96875 29 34.421875 \nL 32.078125 33.984375 \nQ 45.515625 32.28125 50.140625 28.375 \nQ 54.78125 24.46875 54.78125 16.109375 \nQ 54.78125 7.375 48.328125 2.96875 \nQ 41.890625 -1.421875 29.109375 -1.421875 \nQ 23.6875 -1.421875 17.890625 -0.5625 \nQ 12.109375 0.296875 6 2 \nL 6 15.28125 \nQ 11.234375 12.75 16.71875 11.46875 \nQ 22.21875 10.203125 27.875 10.203125 \nQ 33.015625 10.203125 35.59375 11.609375 \nQ 38.1875 13.03125 38.1875 15.828125 \nQ 38.1875 18.171875 36.40625 19.3125 \nQ 34.625 20.453125 29.296875 21.09375 \nL 26.21875 21.484375 \nQ 14.546875 22.953125 9.859375 26.90625 \nQ 5.171875 30.859375 5.171875 38.921875 \nQ 5.171875 47.609375 11.125 51.796875 \nQ 17.09375 56 29.390625 56 \nQ 34.234375 56 39.546875 55.265625 \nQ 44.875 54.546875 51.125 52.984375 \nz\n\" id=\"DejaVuSans-Bold-73\"/>\n     <path d=\"M 25.875 7.90625 \nL 25.875 -20.796875 \nL 8.40625 -20.796875 \nL 8.40625 54.6875 \nL 25.875 54.6875 \nL 25.875 46.6875 \nQ 29.5 51.46875 33.890625 53.734375 \nQ 38.28125 56 44 56 \nQ 54.109375 56 60.59375 47.96875 \nQ 67.09375 39.9375 67.09375 27.296875 \nQ 67.09375 14.65625 60.59375 6.609375 \nQ 54.109375 -1.421875 44 -1.421875 \nQ 38.28125 -1.421875 33.890625 0.84375 \nQ 29.5 3.125 25.875 7.90625 \nz\nM 37.5 43.3125 \nQ 31.890625 43.3125 28.875 39.1875 \nQ 25.875 35.0625 25.875 27.296875 \nQ 25.875 19.53125 28.875 15.40625 \nQ 31.890625 11.28125 37.5 11.28125 \nQ 43.109375 11.28125 46.0625 15.375 \nQ 49.03125 19.484375 49.03125 27.296875 \nQ 49.03125 35.109375 46.0625 39.203125 \nQ 43.109375 43.3125 37.5 43.3125 \nz\n\" id=\"DejaVuSans-Bold-70\"/>\n     <path d=\"M 63.375 33.296875 \nL 63.375 0 \nL 45.796875 0 \nL 45.796875 5.421875 \nL 45.796875 25.484375 \nQ 45.796875 32.5625 45.484375 35.25 \nQ 45.171875 37.9375 44.390625 39.203125 \nQ 43.359375 40.921875 41.59375 41.875 \nQ 39.84375 42.828125 37.59375 42.828125 \nQ 32.125 42.828125 29 38.59375 \nQ 25.875 34.375 25.875 26.90625 \nL 25.875 0 \nL 8.40625 0 \nL 8.40625 54.6875 \nL 25.875 54.6875 \nL 25.875 46.6875 \nQ 29.828125 51.46875 34.265625 53.734375 \nQ 38.71875 56 44.09375 56 \nQ 53.5625 56 58.46875 50.1875 \nQ 63.375 44.390625 63.375 33.296875 \nz\n\" id=\"DejaVuSans-Bold-6e\"/>\n     <path d=\"M 27.484375 70.21875 \nL 27.484375 54.6875 \nL 45.515625 54.6875 \nL 45.515625 42.1875 \nL 27.484375 42.1875 \nL 27.484375 19 \nQ 27.484375 15.1875 29 13.84375 \nQ 30.515625 12.5 35.015625 12.5 \nL 44 12.5 \nL 44 0 \nL 29 0 \nQ 18.65625 0 14.328125 4.3125 \nQ 10.015625 8.640625 10.015625 19 \nL 10.015625 42.1875 \nL 1.3125 42.1875 \nL 1.3125 54.6875 \nL 10.015625 54.6875 \nL 10.015625 70.21875 \nz\n\" id=\"DejaVuSans-Bold-74\"/>\n     <path d=\"M 44.390625 75.984375 \nL 44.390625 64.5 \nL 34.71875 64.5 \nQ 31 64.5 29.53125 63.15625 \nQ 28.078125 61.8125 28.078125 58.5 \nL 28.078125 54.6875 \nL 43.015625 54.6875 \nL 43.015625 42.1875 \nL 28.078125 42.1875 \nL 28.078125 0 \nL 10.59375 0 \nL 10.59375 42.1875 \nL 1.90625 42.1875 \nL 1.90625 54.6875 \nL 10.59375 54.6875 \nL 10.59375 58.5 \nQ 10.59375 67.4375 15.578125 71.703125 \nQ 20.5625 75.984375 31 75.984375 \nz\n\" id=\"DejaVuSans-Bold-66\"/>\n     <path d=\"M 52.59375 52.984375 \nL 52.59375 38.71875 \nQ 49.03125 41.15625 45.4375 42.328125 \nQ 41.84375 43.5 37.984375 43.5 \nQ 30.671875 43.5 26.59375 39.234375 \nQ 22.515625 34.96875 22.515625 27.296875 \nQ 22.515625 19.625 26.59375 15.34375 \nQ 30.671875 11.078125 37.984375 11.078125 \nQ 42.09375 11.078125 45.78125 12.296875 \nQ 49.46875 13.53125 52.59375 15.921875 \nL 52.59375 1.609375 \nQ 48.484375 0.09375 44.265625 -0.65625 \nQ 40.046875 -1.421875 35.796875 -1.421875 \nQ 21 -1.421875 12.640625 6.171875 \nQ 4.296875 13.765625 4.296875 27.296875 \nQ 4.296875 40.828125 12.640625 48.40625 \nQ 21 56 35.796875 56 \nQ 40.09375 56 44.265625 55.25 \nQ 48.4375 54.5 52.59375 52.984375 \nz\n\" id=\"DejaVuSans-Bold-63\"/>\n     <path d=\"M 63.375 33.296875 \nL 63.375 0 \nL 45.796875 0 \nL 45.796875 5.421875 \nL 45.796875 25.390625 \nQ 45.796875 32.5625 45.484375 35.25 \nQ 45.171875 37.9375 44.390625 39.203125 \nQ 43.359375 40.921875 41.59375 41.875 \nQ 39.84375 42.828125 37.59375 42.828125 \nQ 32.125 42.828125 29 38.59375 \nQ 25.875 34.375 25.875 26.90625 \nL 25.875 0 \nL 8.40625 0 \nL 8.40625 75.984375 \nL 25.875 75.984375 \nL 25.875 46.6875 \nQ 29.828125 51.46875 34.265625 53.734375 \nQ 38.71875 56 44.09375 56 \nQ 53.5625 56 58.46875 50.1875 \nQ 63.375 44.390625 63.375 33.296875 \nz\n\" id=\"DejaVuSans-Bold-68\"/>\n     <path d=\"M 45.609375 9.28125 \nQ 42 4.5 37.640625 2.25 \nQ 33.296875 0 27.59375 0 \nQ 17.578125 0 11.03125 7.875 \nQ 4.5 15.765625 4.5 27.984375 \nQ 4.5 40.234375 11.03125 48.0625 \nQ 17.578125 55.90625 27.59375 55.90625 \nQ 33.296875 55.90625 37.640625 53.65625 \nQ 42 51.421875 45.609375 46.578125 \nL 45.609375 54.6875 \nL 63.1875 54.6875 \nL 63.1875 5.515625 \nQ 63.1875 -7.671875 54.859375 -14.625 \nQ 46.53125 -21.578125 30.71875 -21.578125 \nQ 25.59375 -21.578125 20.796875 -20.796875 \nQ 16.015625 -20.015625 11.1875 -18.40625 \nL 11.1875 -4.78125 \nQ 15.765625 -7.421875 20.15625 -8.71875 \nQ 24.5625 -10.015625 29 -10.015625 \nQ 37.59375 -10.015625 41.59375 -6.25 \nQ 45.609375 -2.484375 45.609375 5.515625 \nz\nM 34.078125 43.3125 \nQ 28.65625 43.3125 25.625 39.296875 \nQ 22.609375 35.296875 22.609375 27.984375 \nQ 22.609375 20.453125 25.53125 16.578125 \nQ 28.46875 12.703125 34.078125 12.703125 \nQ 39.546875 12.703125 42.578125 16.703125 \nQ 45.609375 20.703125 45.609375 27.984375 \nQ 45.609375 35.296875 42.578125 39.296875 \nQ 39.546875 43.3125 34.078125 43.3125 \nz\n\" id=\"DejaVuSans-Bold-67\"/>\n     <path d=\"M 53.421875 13.28125 \nL 24.03125 13.28125 \nL 19.390625 0 \nL 0.484375 0 \nL 27.484375 72.90625 \nL 49.90625 72.90625 \nL 76.90625 0 \nL 58.015625 0 \nz\nM 28.71875 26.8125 \nL 48.6875 26.8125 \nL 38.71875 55.8125 \nz\n\" id=\"DejaVuSans-Bold-41\"/>\n     <path d=\"M 9.1875 72.90625 \nL 40.375 72.90625 \nQ 54.296875 72.90625 61.734375 66.71875 \nQ 69.1875 60.546875 69.1875 49.125 \nQ 69.1875 37.640625 61.734375 31.46875 \nQ 54.296875 25.296875 40.375 25.296875 \nL 27.984375 25.296875 \nL 27.984375 0 \nL 9.1875 0 \nz\nM 27.984375 59.28125 \nL 27.984375 38.921875 \nL 38.375 38.921875 \nQ 43.84375 38.921875 46.828125 41.578125 \nQ 49.8125 44.234375 49.8125 49.125 \nQ 49.8125 54 46.828125 56.640625 \nQ 43.84375 59.28125 38.375 59.28125 \nz\n\" id=\"DejaVuSans-Bold-50\"/>\n     <path d=\"M 9.1875 72.90625 \nL 27.984375 72.90625 \nL 27.984375 0 \nL 9.1875 0 \nz\n\" id=\"DejaVuSans-Bold-49\"/>\n     <path d=\"M 5.421875 35.890625 \nL 36.078125 35.890625 \nL 36.078125 21.6875 \nL 5.421875 21.6875 \nz\n\" id=\"DejaVuSans-Bold-2d\"/>\n     <path d=\"M 45.609375 46.6875 \nL 45.609375 75.984375 \nL 63.1875 75.984375 \nL 63.1875 0 \nL 45.609375 0 \nL 45.609375 7.90625 \nQ 42 3.078125 37.640625 0.828125 \nQ 33.296875 -1.421875 27.59375 -1.421875 \nQ 17.484375 -1.421875 10.984375 6.609375 \nQ 4.5 14.65625 4.5 27.296875 \nQ 4.5 39.9375 10.984375 47.96875 \nQ 17.484375 56 27.59375 56 \nQ 33.25 56 37.625 53.734375 \nQ 42 51.46875 45.609375 46.6875 \nz\nM 34.078125 11.28125 \nQ 39.703125 11.28125 42.65625 15.375 \nQ 45.609375 19.484375 45.609375 27.296875 \nQ 45.609375 35.109375 42.65625 39.203125 \nQ 39.703125 43.3125 34.078125 43.3125 \nQ 28.515625 43.3125 25.5625 39.203125 \nQ 22.609375 35.109375 22.609375 27.296875 \nQ 22.609375 19.484375 25.5625 15.375 \nQ 28.515625 11.28125 34.078125 11.28125 \nz\n\" id=\"DejaVuSans-Bold-64\"/>\n     <path d=\"M 32.90625 24.609375 \nQ 27.4375 24.609375 24.671875 22.75 \nQ 21.921875 20.90625 21.921875 17.28125 \nQ 21.921875 13.96875 24.140625 12.078125 \nQ 26.375 10.203125 30.328125 10.203125 \nQ 35.25 10.203125 38.625 13.734375 \nQ 42 17.28125 42 22.609375 \nL 42 24.609375 \nz\nM 59.625 31.203125 \nL 59.625 0 \nL 42 0 \nL 42 8.109375 \nQ 38.484375 3.125 34.078125 0.84375 \nQ 29.6875 -1.421875 23.390625 -1.421875 \nQ 14.890625 -1.421875 9.59375 3.53125 \nQ 4.296875 8.5 4.296875 16.40625 \nQ 4.296875 26.03125 10.90625 30.515625 \nQ 17.53125 35.015625 31.6875 35.015625 \nL 42 35.015625 \nL 42 36.375 \nQ 42 40.53125 38.71875 42.453125 \nQ 35.453125 44.390625 28.515625 44.390625 \nQ 22.90625 44.390625 18.0625 43.265625 \nQ 13.234375 42.140625 9.078125 39.890625 \nL 9.078125 53.21875 \nQ 14.703125 54.59375 20.359375 55.296875 \nQ 26.03125 56 31.6875 56 \nQ 46.484375 56 53.046875 50.171875 \nQ 59.625 44.34375 59.625 31.203125 \nz\n\" id=\"DejaVuSans-Bold-61\"/>\n    </defs>\n    <g transform=\"translate(310.980938 19.3575)scale(0.16 -0.16)\">\n     <use xlink:href=\"#DejaVuSans-Bold-54\"/>\n     <use x=\"68.212891\" xlink:href=\"#DejaVuSans-Bold-69\"/>\n     <use x=\"102.490234\" xlink:href=\"#DejaVuSans-Bold-6d\"/>\n     <use x=\"206.689453\" xlink:href=\"#DejaVuSans-Bold-65\"/>\n     <use x=\"274.511719\" xlink:href=\"#DejaVuSans-Bold-20\"/>\n     <use x=\"309.326172\" xlink:href=\"#DejaVuSans-Bold-73\"/>\n     <use x=\"368.847656\" xlink:href=\"#DejaVuSans-Bold-70\"/>\n     <use x=\"440.429688\" xlink:href=\"#DejaVuSans-Bold-65\"/>\n     <use x=\"508.251953\" xlink:href=\"#DejaVuSans-Bold-6e\"/>\n     <use x=\"579.443359\" xlink:href=\"#DejaVuSans-Bold-74\"/>\n     <use x=\"627.246094\" xlink:href=\"#DejaVuSans-Bold-20\"/>\n     <use x=\"662.060547\" xlink:href=\"#DejaVuSans-Bold-66\"/>\n     <use x=\"705.566406\" xlink:href=\"#DejaVuSans-Bold-65\"/>\n     <use x=\"773.388672\" xlink:href=\"#DejaVuSans-Bold-74\"/>\n     <use x=\"821.191406\" xlink:href=\"#DejaVuSans-Bold-63\"/>\n     <use x=\"880.46875\" xlink:href=\"#DejaVuSans-Bold-68\"/>\n     <use x=\"951.660156\" xlink:href=\"#DejaVuSans-Bold-69\"/>\n     <use x=\"985.9375\" xlink:href=\"#DejaVuSans-Bold-6e\"/>\n     <use x=\"1057.128906\" xlink:href=\"#DejaVuSans-Bold-67\"/>\n     <use x=\"1128.710938\" xlink:href=\"#DejaVuSans-Bold-20\"/>\n     <use x=\"1163.525391\" xlink:href=\"#DejaVuSans-Bold-41\"/>\n     <use x=\"1240.917969\" xlink:href=\"#DejaVuSans-Bold-50\"/>\n     <use x=\"1314.208984\" xlink:href=\"#DejaVuSans-Bold-49\"/>\n     <use x=\"1351.416016\" xlink:href=\"#DejaVuSans-Bold-2d\"/>\n     <use x=\"1392.919922\" xlink:href=\"#DejaVuSans-Bold-64\"/>\n     <use x=\"1464.501953\" xlink:href=\"#DejaVuSans-Bold-61\"/>\n     <use x=\"1531.982422\" xlink:href=\"#DejaVuSans-Bold-74\"/>\n     <use x=\"1579.785156\" xlink:href=\"#DejaVuSans-Bold-61\"/>\n    </g>\n   </g>\n   <g id=\"legend_1\">\n    <g id=\"patch_6\">\n     <path d=\"M 59.160938 51.488125 \nL 105.160938 51.488125 \nQ 107.160938 51.488125 107.160938 49.488125 \nL 107.160938 35.81 \nQ 107.160938 33.81 105.160938 33.81 \nL 59.160938 33.81 \nQ 57.160938 33.81 57.160938 35.81 \nL 57.160938 49.488125 \nQ 57.160938 51.488125 59.160938 51.488125 \nz\n\" style=\"fill:#ffffff;opacity:0.8;stroke:#cccccc;stroke-linejoin:miter;\"/>\n    </g>\n    <g id=\"line2d_16\">\n     <path d=\"M 61.160938 41.908437 \nL 81.160938 41.908437 \n\" style=\"fill:none;stroke:#1f77b4;stroke-linecap:square;stroke-width:1.5;\"/>\n    </g>\n    <g id=\"line2d_17\"/>\n    <g id=\"text_18\">\n     <!-- $\\Delta$ t -->\n     <defs>\n      <path d=\"M 34.1875 63.1875 \nL 14.15625 8.203125 \nL 54.25 8.203125 \nz\nM 0.78125 0 \nL 28.609375 72.90625 \nL 39.796875 72.90625 \nL 67.578125 0 \nz\n\" id=\"DejaVuSans-394\"/>\n     </defs>\n     <g transform=\"translate(89.160938 45.408437)scale(0.1 -0.1)\">\n      <use transform=\"translate(0 0.09375)\" xlink:href=\"#DejaVuSans-394\"/>\n      <use transform=\"translate(68.408203 0.09375)\" xlink:href=\"#DejaVuSans-20\"/>\n      <use transform=\"translate(100.195312 0.09375)\" xlink:href=\"#DejaVuSans-74\"/>\n     </g>\n    </g>\n   </g>\n  </g>\n </g>\n <defs>\n  <clipPath id=\"p35edc5f021\">\n   <rect height=\"217.44\" width=\"781.2\" x=\"52.160938\" y=\"28.81\"/>\n  </clipPath>\n </defs>\n</svg>\n",
      "image/png": "[encoded data removed]"
     },
     "metadata": {
      "needs_background": "light"
     }
    }
   ],
   "source": [
    "#Setting up the figure:\n",
    "fig = plt.figure(figsize=(14,4), frameon=False)\n",
    "title_font = {'size':'16', 'color':'black', 'weight':'bold',\n",
    "              'verticalalignment':'bottom'}\n",
    "plt.title('Time spent fetching API-data',**title_font)\n",
    "#plt.axis('off')\n",
    "\n",
    "#Figure 1\n",
    "plt.plot(API_log['id'],API_log['delta_t'],label='$\\Delta$ t')\n",
    "plt.ylabel('Delta t')\n",
    "plt.xlabel('Pull')\n",
    "plt.ylim(-1,0)\n",
    "\n",
    "legend1 = plt.legend(loc = 'upper left', frameon=True)"
   ]
  },
  {
   "cell_type": "markdown",
   "metadata": {},
   "source": [
    "# 4) Scraping Metro-Data\n",
    "\n",
    "By scraping danish Wikipedia-sites for Metro stations in Copenhagen, I can find Address, year built and other relevant information.\n",
    "\n",
    "One problem is, that the information-tables on Wikipedia-pages do not contain the same number of rows and thus amount of information. This is resolved by creating a list of dictionaries, in which each element is a dictionary involving all information from a given table.\n",
    "Selected information is drawn from here and appended to a finished DataFrame, containing all relevant Metro-information."
   ]
  },
  {
   "cell_type": "markdown",
   "metadata": {},
   "source": [
    "## 4.1) Scraping:"
   ]
  },
  {
   "cell_type": "code",
   "execution_count": null,
   "metadata": {},
   "outputs": [],
   "source": [
    "connector = Connector('/Users/holger/Documents/Python/Harmsen_Repo/Metro-Study/Logs/MetroLog.csv',overwrite_log=True,path2selenium='/Users/holger/Documents/Python/Harmsen_Repo/Metro-Study/Gecko/geckodriver',connector_type='selenium')"
   ]
  },
  {
   "cell_type": "code",
   "execution_count": null,
   "metadata": {},
   "outputs": [],
   "source": [
    "# Defining Scraper-function:\n",
    "def WikiScraper(no_metros):\n",
    "    url = 'https://da.wikipedia.org/wiki/Stationer_p%C3%A5_K%C3%B8benhavns_Metro'\n",
    "    response,call_id = connector.get(url,'Metroer')\n",
    "    time.sleep(1)\n",
    "\n",
    "    # Creating DataFrame and dictionary for information-storing:\n",
    "    data = pd.DataFrame()\n",
    "    dic_list = []\n",
    "\n",
    "\n",
    "    for i in range(1,no_metros+1):\n",
    "        link = connector.browser.find_element_by_xpath(f'/html/body/div[3]/div[3]/div[5]/div/table[1]/tbody/tr[{i}]/td[1]/a')\n",
    "        link.click()\n",
    "        time.sleep(1)\n",
    "\n",
    "        # READ INFORMATION\n",
    "        # 1.1) Appending all information to DataFrame\n",
    "        table = pd.read_html(connector.browser.page_source)[0]\n",
    "        data[f'Traits_{i}'] = table.iloc[:,0]\n",
    "        data[f'{i}'] = table.iloc[:,1]\n",
    "\n",
    "        # 1.2) Finding extra information, that the read_html doesn't pick up:\n",
    "        soup = BeautifulSoup(connector.browser.page_source, 'lxml')\n",
    "        name = soup.find('h1').text\n",
    "        data[f'Traits_{i}'][0] = 'Name' # Adding the name to first row of the df (This is always NaN, so doesn't delete vital data)\n",
    "        data[f'{i}'][0] = name\n",
    "\n",
    "        # 2) Creating a dictionary with all information, ensuring homogeneity in calls of keys between different WikiPages; the info is in different orders between wiki-sites.:\n",
    "        dic = {}\n",
    "        for j in range(0,len(data[f'Traits_{i}'])):\n",
    "            dic[str(data[f'Traits_{i}'][j])] = str(data[f'{i}'][j])\n",
    "\n",
    "        dic_list.append(dic)\n",
    "\n",
    "        # RETURN \n",
    "        connector.browser.get(url)\n",
    "        time.sleep(1)\n",
    "\n",
    "    return [data,dic_list]\n",
    "    #return dic_list"
   ]
  },
  {
   "cell_type": "code",
   "execution_count": null,
   "metadata": {},
   "outputs": [],
   "source": [
    "MetroScrape = WikiScraper(44)"
   ]
  },
  {
   "cell_type": "code",
   "execution_count": 71,
   "metadata": {},
   "outputs": [
    {
     "output_type": "execute_result",
     "data": {
      "text/plain": "   id  project connector_type             t   delta_t  \\\n0   0  Metroer       selenium  1.597668e+09 -0.907827   \n1   1  Metroer       selenium  1.597668e+09 -0.659327   \n2   2  Metroer       selenium  1.597669e+09 -0.652908   \n\n                                                 url  \\\n0  https://da.wikipedia.org/wiki/Stationer_p%C3%A...   \n1  https://da.wikipedia.org/wiki/Stationer_p%C3%A...   \n2  https://da.wikipedia.org/wiki/Stationer_p%C3%A...   \n\n                                        redirect_url  response_size  \\\n0  https://da.wikipedia.org/wiki/Stationer_p%C3%A...         126862   \n1  https://da.wikipedia.org/wiki/Stationer_p%C3%A...         126727   \n2  https://da.wikipedia.org/wiki/Stationer_p%C3%A...         131090   \n\n   response_code  success  error  \n0            NaN      NaN    NaN  \n1            NaN      NaN    NaN  \n2            NaN      NaN    NaN  ",
      "text/html": "<div>\n<style scoped>\n    .dataframe tbody tr th:only-of-type {\n        vertical-align: middle;\n    }\n\n    .dataframe tbody tr th {\n        vertical-align: top;\n    }\n\n    .dataframe thead th {\n        text-align: right;\n    }\n</style>\n<table border=\"1\" class=\"dataframe\">\n  <thead>\n    <tr style=\"text-align: right;\">\n      <th></th>\n      <th>id</th>\n      <th>project</th>\n      <th>connector_type</th>\n      <th>t</th>\n      <th>delta_t</th>\n      <th>url</th>\n      <th>redirect_url</th>\n      <th>response_size</th>\n      <th>response_code</th>\n      <th>success</th>\n      <th>error</th>\n    </tr>\n  </thead>\n  <tbody>\n    <tr>\n      <td>0</td>\n      <td>0</td>\n      <td>Metroer</td>\n      <td>selenium</td>\n      <td>1.597668e+09</td>\n      <td>-0.907827</td>\n      <td>https://da.wikipedia.org/wiki/Stationer_p%C3%A...</td>\n      <td>https://da.wikipedia.org/wiki/Stationer_p%C3%A...</td>\n      <td>126862</td>\n      <td>NaN</td>\n      <td>NaN</td>\n      <td>NaN</td>\n    </tr>\n    <tr>\n      <td>1</td>\n      <td>1</td>\n      <td>Metroer</td>\n      <td>selenium</td>\n      <td>1.597668e+09</td>\n      <td>-0.659327</td>\n      <td>https://da.wikipedia.org/wiki/Stationer_p%C3%A...</td>\n      <td>https://da.wikipedia.org/wiki/Stationer_p%C3%A...</td>\n      <td>126727</td>\n      <td>NaN</td>\n      <td>NaN</td>\n      <td>NaN</td>\n    </tr>\n    <tr>\n      <td>2</td>\n      <td>2</td>\n      <td>Metroer</td>\n      <td>selenium</td>\n      <td>1.597669e+09</td>\n      <td>-0.652908</td>\n      <td>https://da.wikipedia.org/wiki/Stationer_p%C3%A...</td>\n      <td>https://da.wikipedia.org/wiki/Stationer_p%C3%A...</td>\n      <td>131090</td>\n      <td>NaN</td>\n      <td>NaN</td>\n      <td>NaN</td>\n    </tr>\n  </tbody>\n</table>\n</div>"
     },
     "metadata": {},
     "execution_count": 71
    }
   ],
   "source": [
    "MetroLog = pd.read_csv('/Users/holger/Documents/Python/Harmsen_Repo/Metro-Study/Logs/MetroLog.csv',sep=';').head(n=3)\n",
    "MetroLog"
   ]
  },
  {
   "cell_type": "markdown",
   "metadata": {},
   "source": [
    "## 4.2) Working with the data:\n",
    "\n",
    "Creating a DataFrame using the information from dictionaries:"
   ]
  },
  {
   "cell_type": "code",
   "execution_count": null,
   "metadata": {},
   "outputs": [],
   "source": [
    "indexlist = ['Name','Adresse','Jernbane','Åbningsdato']\n",
    "MetroList = pd.DataFrame(index=indexlist)\n",
    "\n",
    "for i in range(0,44):\n",
    "    specs = []\n",
    "    for j in indexlist:\n",
    "        try: \n",
    "            specs.append(MetroScrape[1][i][j]) # Appending the relevant Metro-information (j-key from scrape-dict)\n",
    "        except:\n",
    "            specs.append('NaN')\n",
    "    # Indexing column names:\n",
    "    MetroList[i] = specs\n",
    "MetroList = MetroList.transpose()\n",
    "MetroList.columns = ['Name', 'Address', 'Railroad', 'Opening Date'] # Changing names to english\n",
    "\n",
    "\n",
    "# Cleaning for '[1]' (from Wikipedia-references):\n",
    "MetroList['Address'] = [i.replace('[1]','') for i in MetroList['Address']]\n",
    "MetroList['Address'] = [i.replace('[2]','') for i in MetroList['Address']]\n",
    "MetroList['Railroad'] = [i.replace('[2]','') for i in MetroList['Railroad']]\n",
    "MetroList['Opening Date'] = [i.replace('[1]','') for i in MetroList['Opening Date']]\n",
    "\n",
    "# Cleaning NaN-values:\n",
    "MetroList = MetroList.drop(MetroList[\"Address\"].loc[MetroList[\"Address\"]=='NaN'].index)\n",
    "MetroList.reset_index(inplace=True)\n",
    "del MetroList['index']\n",
    "\n",
    "# Creating dummy-variable for Cityring:\n",
    "MetroList['Cityring'] = 0\n",
    "for i in range(0,len(MetroList)):\n",
    "    if 'Cityringen' in MetroList['Railroad'][i]:\n",
    "        MetroList['Cityring'][i] = 1\n",
    "\n",
    "# Simplyfying Opening Date-column to year for use in regression analysis later:\n",
    "for i in range(0,len(MetroList)):\n",
    "    try:\n",
    "        year = int(MetroList['Opening Date'][i][-4:])\n",
    "        if 0 < year < 2021:\n",
    "            MetroList['Opening Date'][i] = int(MetroList['Opening Date'][i][-4:])\n",
    "    except:\n",
    "        pass\n",
    "\n",
    "# Cleaning the rest by hand, example: '13. december 1986 (S-tog), 12. oktober 2003 (Metro)' is cleaned to 2003\n",
    "for i in [7,32]:\n",
    "    MetroList['Opening Date'][i] = 2003\n",
    "MetroList['Opening Date'][25] = 2002\n",
    "for i in [23,27,31,34]:\n",
    "    MetroList['Opening Date'][i] = 2019\n",
    "MetroList = MetroList.drop(22)\n",
    "MetroList.reset_index(inplace=True)\n",
    "del MetroList['index']"
   ]
  },
  {
   "cell_type": "code",
   "execution_count": null,
   "metadata": {},
   "outputs": [],
   "source": [
    "MetroList.head(n=3)"
   ]
  },
  {
   "cell_type": "markdown",
   "metadata": {},
   "source": [
    "Seeing that the coordinates returned equals (39.78373,-100.445882) if there's a mistake (mostly, that the door and zip code are not separated by space) in the Address, I fix the very last issues manually in Excel in about a minute. This is no problem, as I am only working with 44 entries, and it would have been relatively difficult using RegEx, as the apartment numbers do not have the same number of digits and sometimes have letters in them. Too heterogenous. Speed before unneeded and superfluously complex code!"
   ]
  },
  {
   "cell_type": "code",
   "execution_count": null,
   "metadata": {},
   "outputs": [],
   "source": [
    "# Saving to Excel:\n",
    "MetroList.to_excel('/Users/holger/Documents/Python/Harmsen_Repo/Metro-Study/Pickles/Metro Adresses for Final Touches.xlsx')"
   ]
  },
  {
   "cell_type": "code",
   "execution_count": 72,
   "metadata": {},
   "outputs": [],
   "source": [
    "# Pulling edited version:\n",
    "MetroList = pd.read_excel('/Users/holger/Documents/Python/Harmsen_Repo/Metro-Study/Pickles/Metro Adresses for Final Touches_DONE.xlsx')"
   ]
  },
  {
   "cell_type": "code",
   "execution_count": 73,
   "metadata": {},
   "outputs": [
    {
     "output_type": "execute_result",
     "data": {
      "text/plain": "                         Name                            Address  \\\n0  Aksel Møllers Have Station  Godthåbsvej 31 2000 Frederiksberg   \n1       Amager Strand Station  Italiensvej 72A 2300 København S    \n2           Amagerbro Station  Amagerbro Torv 1 2300 København S   \n\n         Railroad  Opening Date  Cityring  \n0      Cityringen          2019         1  \n1  Østamagerbanen          2007         0  \n2   Ørestadsbanen          2002         0  ",
      "text/html": "<div>\n<style scoped>\n    .dataframe tbody tr th:only-of-type {\n        vertical-align: middle;\n    }\n\n    .dataframe tbody tr th {\n        vertical-align: top;\n    }\n\n    .dataframe thead th {\n        text-align: right;\n    }\n</style>\n<table border=\"1\" class=\"dataframe\">\n  <thead>\n    <tr style=\"text-align: right;\">\n      <th></th>\n      <th>Name</th>\n      <th>Address</th>\n      <th>Railroad</th>\n      <th>Opening Date</th>\n      <th>Cityring</th>\n    </tr>\n  </thead>\n  <tbody>\n    <tr>\n      <td>0</td>\n      <td>Aksel Møllers Have Station</td>\n      <td>Godthåbsvej 31 2000 Frederiksberg</td>\n      <td>Cityringen</td>\n      <td>2019</td>\n      <td>1</td>\n    </tr>\n    <tr>\n      <td>1</td>\n      <td>Amager Strand Station</td>\n      <td>Italiensvej 72A 2300 København S</td>\n      <td>Østamagerbanen</td>\n      <td>2007</td>\n      <td>0</td>\n    </tr>\n    <tr>\n      <td>2</td>\n      <td>Amagerbro Station</td>\n      <td>Amagerbro Torv 1 2300 København S</td>\n      <td>Ørestadsbanen</td>\n      <td>2002</td>\n      <td>0</td>\n    </tr>\n  </tbody>\n</table>\n</div>"
     },
     "metadata": {},
     "execution_count": 73
    }
   ],
   "source": [
    "del MetroList['Unnamed: 0']\n",
    "MetroList.head(n=3)"
   ]
  },
  {
   "cell_type": "markdown",
   "metadata": {},
   "source": [
    "## 4.3) Finding Coordinates to each Metro"
   ]
  },
  {
   "cell_type": "code",
   "execution_count": 77,
   "metadata": {},
   "outputs": [],
   "source": [
    "MetroList['Coordinates'] = [Geocode_Google(i) for i in MetroList['Address']]"
   ]
  },
  {
   "cell_type": "code",
   "execution_count": 78,
   "metadata": {},
   "outputs": [],
   "source": [
    "MetroList.to_pickle('/Users/holger/Documents/Python/Harmsen_Repo/Metro-Study/Pickles/Metrolist With Coordinates.pkl')"
   ]
  },
  {
   "cell_type": "code",
   "execution_count": 79,
   "metadata": {},
   "outputs": [],
   "source": [
    "MetroList = pickle.load(open('/Users/holger/Documents/Python/Harmsen_Repo/Metro-Study/Pickles/Metrolist With Coordinates.pkl','rb'))"
   ]
  },
  {
   "cell_type": "markdown",
   "metadata": {},
   "source": [
    "# 5) Finding the closest metro\n",
    "\n",
    "The code loops through each apartment in the Apartments dataframe. For each apartment, it sets an initial distance, after which it loops through each metro-station, calculate the distance to the given station, and substitute this for the default distance/metro if this distance is shorter. \n",
    "\n",
    "At last, when all metros have been upheld against each other for a given apartment, the key stats on the closest one are appended as a dictionary to the given apartment's row in the Apartments-dataframe"
   ]
  },
  {
   "cell_type": "code",
   "execution_count": 84,
   "metadata": {},
   "outputs": [],
   "source": [
    "def Closest_Metro(df,from_num,to_num):\n",
    "    # Creating a list of the closest metro to each apartment with the same index:\n",
    "    Closest_Metro = []\n",
    "    # Looping through each apartment:\n",
    "    for i in df['Coordinates'][from_num:to_num]:\n",
    "        # Initiating lowest distance and its metro\n",
    "        lowest_dist = 1000\n",
    "        # Looping through metros, finding all distances and substituting the shortest one\n",
    "        for j in range(0,len(MetroList['Coordinates'])):\n",
    "            dist = geopy.distance.distance(i, MetroList['Coordinates'][j]).km\n",
    "            if dist < lowest_dist:\n",
    "                name = MetroList['Name'][j]\n",
    "                lowest_dist = dist\n",
    "                add = MetroList['Address'][j]\n",
    "                railroad = MetroList['Railroad'][j]\n",
    "                opening_date = MetroList['Opening Date'][j]\n",
    "                cityring_indicator = MetroList['Cityring'][j]\n",
    "\n",
    "\n",
    "        Closest_Metro.append({'Name':name,'Distance':lowest_dist,'Address':add,'Railroad':railroad,'Opening Date':opening_date,'Cityring':cityring_indicator})\n",
    "    return Closest_Metro"
   ]
  },
  {
   "cell_type": "code",
   "execution_count": 38,
   "metadata": {},
   "outputs": [],
   "source": [
    "Apartments['Closest Metro'] = Closest_Metro(Apartments,0,len(Apartments))"
   ]
  },
  {
   "cell_type": "code",
   "execution_count": 85,
   "metadata": {},
   "outputs": [],
   "source": [
    "Apartments_API['Closest Metro'] = Closest_Metro(Apartments_API,0,len(Apartments_API))"
   ]
  },
  {
   "cell_type": "code",
   "execution_count": null,
   "metadata": {},
   "outputs": [],
   "source": [
    "Apartments.to_pickle('/Users/holger/Documents/Python/Harmsen_Repo/Metro-Study/Pickles/Apartment Data 4.pkl')"
   ]
  },
  {
   "cell_type": "code",
   "execution_count": 86,
   "metadata": {},
   "outputs": [],
   "source": [
    "Apartments_API.to_pickle('/Users/holger/Documents/Python/Harmsen_Repo/Metro-Study/Pickles/Apartment Data API.pkl')"
   ]
  },
  {
   "cell_type": "code",
   "execution_count": 25,
   "metadata": {},
   "outputs": [],
   "source": [
    "Apartments = pickle.load(open('/Users/holger/Documents/Python/Harmsen_Repo/Metro-Study/Pickles/Apartment Data 4.pkl','rb'))"
   ]
  },
  {
   "cell_type": "code",
   "execution_count": 26,
   "metadata": {},
   "outputs": [],
   "source": [
    "Apartments[:3].to_excel('/Users/holger/Documents/Python/Harmsen_Repo/Metro-Study/Other data/illustration of df.xlsx')"
   ]
  },
  {
   "cell_type": "code",
   "execution_count": 27,
   "metadata": {},
   "outputs": [
    {
     "output_type": "execute_result",
     "data": {
      "text/plain": "                                            Address  \\\n0              Stengade 52B, 1. 1, 2200 København N   \n1                 Bryggerivej 10, 1. th, 2500 Valby   \n2              Solvænget 5, 3. tv, 2100 København Ø   \n3             Ved Volden 8, 5. tv, 1425 København K   \n4          Marstalsgade 38, 2. th, 2100 København Ø   \n...                                             ...   \n56944     Rådmandsgade 48A, 2. th, 2200 København N   \n56945  Tycho Brahes Allé 8, 5. tv, 2300 København S   \n56946        Theklavej 49, 2. 79, 2400 København NV   \n56947              Sundkaj 75, 3. th, 2150 Nordhavn   \n56948    Hammershøis Kaj 4, 2. th, 1402 København K   \n\n                        Address transformed   Area               Coordinates  \\\n0             Stengade 52B 2200 København N      N    (55.687083, 12.554688)   \n1                 Bryggerivej 10 2500 Valby  Valby    (55.660475, 12.518974)   \n2              Solvænget 5 2100 København Ø      Ø     (55.719198, 12.57804)   \n3             Ved Volden 8 1425 København K      K     (55.67202, 12.594053)   \n4          Marstalsgade 38 2100 København Ø      Ø    (55.703961, 12.589622)   \n...                                     ...    ...                       ...   \n56944     Rådmandsgade 48A 2200 København N      N    (55.700733, 12.552838)   \n56945  Tycho Brahes Allé 8 2300 København S      S  (55.6552045, 12.6111575)   \n56946        Theklavej 49 2400 København NV      V  (55.7059296, 12.5251929)   \n56947              Sundkaj 75 2150 Nordhavn    NaN  (55.7100897, 12.5977136)   \n56948    Hammershøis Kaj 4 1402 København K      K  (55.6709877, 12.5872917)   \n\n       Date_sold    Price  Price_mio  Price_sq_m_1000  Rooms  \\\n0     1994-02-11   300710   0.300710            5.896      1   \n1     1994-02-11   344101   0.344101            5.550      2   \n2     1994-02-11  1090300   1.090300            7.788      4   \n3     1994-02-13   415000   0.415000            6.694      2   \n4     1994-02-14   172000   0.172000            3.071      2   \n...          ...      ...        ...              ...    ...   \n56944 2020-07-16   816000   0.816000           14.836      2   \n56945 2020-07-16  1875000   1.875000           36.765      2   \n56946 2020-07-16  1550000   1.550000           38.750      1   \n56947 2020-07-16  3570000   3.570000           51.000      2   \n56948 2020-07-16  4250000   4.250000           57.432      2   \n\n                                           Closest Metro  \n0      {'Name': 'Forum Station', 'Distance': 0.609572...  \n1      {'Name': 'Enghave Plads Station', 'Distance': ...  \n2      {'Name': 'Poul Henningsens Plads Station', 'Di...  \n3      {'Name': 'Christianshavn Station', 'Distance':...  \n4      {'Name': 'Nordhavn Station', 'Distance': 0.122...  \n...                                                  ...  \n56944  {'Name': 'Vibenshus Runddel Station', 'Distanc...  \n56945  {'Name': 'Lergravsparken Station', 'Distance':...  \n56946  {'Name': 'Nørrebro Station', 'Distance': 0.980...  \n56947  {'Name': 'Orientkaj Station', 'Distance': 0.13...  \n56948  {'Name': 'Christianshavn Station', 'Distance':...  \n\n[56949 rows x 10 columns]",
      "text/html": "<div>\n<style scoped>\n    .dataframe tbody tr th:only-of-type {\n        vertical-align: middle;\n    }\n\n    .dataframe tbody tr th {\n        vertical-align: top;\n    }\n\n    .dataframe thead th {\n        text-align: right;\n    }\n</style>\n<table border=\"1\" class=\"dataframe\">\n  <thead>\n    <tr style=\"text-align: right;\">\n      <th></th>\n      <th>Address</th>\n      <th>Address transformed</th>\n      <th>Area</th>\n      <th>Coordinates</th>\n      <th>Date_sold</th>\n      <th>Price</th>\n      <th>Price_mio</th>\n      <th>Price_sq_m_1000</th>\n      <th>Rooms</th>\n      <th>Closest Metro</th>\n    </tr>\n  </thead>\n  <tbody>\n    <tr>\n      <td>0</td>\n      <td>Stengade 52B, 1. 1, 2200 København N</td>\n      <td>Stengade 52B 2200 København N</td>\n      <td>N</td>\n      <td>(55.687083, 12.554688)</td>\n      <td>1994-02-11</td>\n      <td>300710</td>\n      <td>0.300710</td>\n      <td>5.896</td>\n      <td>1</td>\n      <td>{'Name': 'Forum Station', 'Distance': 0.609572...</td>\n    </tr>\n    <tr>\n      <td>1</td>\n      <td>Bryggerivej 10, 1. th, 2500 Valby</td>\n      <td>Bryggerivej 10 2500 Valby</td>\n      <td>Valby</td>\n      <td>(55.660475, 12.518974)</td>\n      <td>1994-02-11</td>\n      <td>344101</td>\n      <td>0.344101</td>\n      <td>5.550</td>\n      <td>2</td>\n      <td>{'Name': 'Enghave Plads Station', 'Distance': ...</td>\n    </tr>\n    <tr>\n      <td>2</td>\n      <td>Solvænget 5, 3. tv, 2100 København Ø</td>\n      <td>Solvænget 5 2100 København Ø</td>\n      <td>Ø</td>\n      <td>(55.719198, 12.57804)</td>\n      <td>1994-02-11</td>\n      <td>1090300</td>\n      <td>1.090300</td>\n      <td>7.788</td>\n      <td>4</td>\n      <td>{'Name': 'Poul Henningsens Plads Station', 'Di...</td>\n    </tr>\n    <tr>\n      <td>3</td>\n      <td>Ved Volden 8, 5. tv, 1425 København K</td>\n      <td>Ved Volden 8 1425 København K</td>\n      <td>K</td>\n      <td>(55.67202, 12.594053)</td>\n      <td>1994-02-13</td>\n      <td>415000</td>\n      <td>0.415000</td>\n      <td>6.694</td>\n      <td>2</td>\n      <td>{'Name': 'Christianshavn Station', 'Distance':...</td>\n    </tr>\n    <tr>\n      <td>4</td>\n      <td>Marstalsgade 38, 2. th, 2100 København Ø</td>\n      <td>Marstalsgade 38 2100 København Ø</td>\n      <td>Ø</td>\n      <td>(55.703961, 12.589622)</td>\n      <td>1994-02-14</td>\n      <td>172000</td>\n      <td>0.172000</td>\n      <td>3.071</td>\n      <td>2</td>\n      <td>{'Name': 'Nordhavn Station', 'Distance': 0.122...</td>\n    </tr>\n    <tr>\n      <td>...</td>\n      <td>...</td>\n      <td>...</td>\n      <td>...</td>\n      <td>...</td>\n      <td>...</td>\n      <td>...</td>\n      <td>...</td>\n      <td>...</td>\n      <td>...</td>\n      <td>...</td>\n    </tr>\n    <tr>\n      <td>56944</td>\n      <td>Rådmandsgade 48A, 2. th, 2200 København N</td>\n      <td>Rådmandsgade 48A 2200 København N</td>\n      <td>N</td>\n      <td>(55.700733, 12.552838)</td>\n      <td>2020-07-16</td>\n      <td>816000</td>\n      <td>0.816000</td>\n      <td>14.836</td>\n      <td>2</td>\n      <td>{'Name': 'Vibenshus Runddel Station', 'Distanc...</td>\n    </tr>\n    <tr>\n      <td>56945</td>\n      <td>Tycho Brahes Allé 8, 5. tv, 2300 København S</td>\n      <td>Tycho Brahes Allé 8 2300 København S</td>\n      <td>S</td>\n      <td>(55.6552045, 12.6111575)</td>\n      <td>2020-07-16</td>\n      <td>1875000</td>\n      <td>1.875000</td>\n      <td>36.765</td>\n      <td>2</td>\n      <td>{'Name': 'Lergravsparken Station', 'Distance':...</td>\n    </tr>\n    <tr>\n      <td>56946</td>\n      <td>Theklavej 49, 2. 79, 2400 København NV</td>\n      <td>Theklavej 49 2400 København NV</td>\n      <td>V</td>\n      <td>(55.7059296, 12.5251929)</td>\n      <td>2020-07-16</td>\n      <td>1550000</td>\n      <td>1.550000</td>\n      <td>38.750</td>\n      <td>1</td>\n      <td>{'Name': 'Nørrebro Station', 'Distance': 0.980...</td>\n    </tr>\n    <tr>\n      <td>56947</td>\n      <td>Sundkaj 75, 3. th, 2150 Nordhavn</td>\n      <td>Sundkaj 75 2150 Nordhavn</td>\n      <td>NaN</td>\n      <td>(55.7100897, 12.5977136)</td>\n      <td>2020-07-16</td>\n      <td>3570000</td>\n      <td>3.570000</td>\n      <td>51.000</td>\n      <td>2</td>\n      <td>{'Name': 'Orientkaj Station', 'Distance': 0.13...</td>\n    </tr>\n    <tr>\n      <td>56948</td>\n      <td>Hammershøis Kaj 4, 2. th, 1402 København K</td>\n      <td>Hammershøis Kaj 4 1402 København K</td>\n      <td>K</td>\n      <td>(55.6709877, 12.5872917)</td>\n      <td>2020-07-16</td>\n      <td>4250000</td>\n      <td>4.250000</td>\n      <td>57.432</td>\n      <td>2</td>\n      <td>{'Name': 'Christianshavn Station', 'Distance':...</td>\n    </tr>\n  </tbody>\n</table>\n<p>56949 rows × 10 columns</p>\n</div>"
     },
     "metadata": {},
     "execution_count": 27
    }
   ],
   "source": [
    "# The finished product ready for analysis:\n",
    "Apartments"
   ]
  },
  {
   "cell_type": "code",
   "execution_count": null,
   "metadata": {},
   "outputs": [],
   "source": []
  }
 ],
 "metadata": {
  "kernelspec": {
   "display_name": "Python 3",
   "language": "python",
   "name": "python3"
  },
  "language_info": {
   "codemirror_mode": {
    "name": "ipython",
    "version": 3
   },
   "file_extension": ".py",
   "mimetype": "text/x-python",
   "name": "python",
   "nbconvert_exporter": "python",
   "pygments_lexer": "ipython3",
   "version": "3.7.4-final"
  }
 },
 "nbformat": 4,
 "nbformat_minor": 2
}