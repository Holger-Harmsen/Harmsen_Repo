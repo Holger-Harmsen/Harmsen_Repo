{
 "nbformat": 4,
 "nbformat_minor": 2,
 "metadata": {
  "language_info": {
   "name": "python",
   "codemirror_mode": {
    "name": "ipython",
    "version": 3
   },
   "version": "3.7.4-final"
  },
  "orig_nbformat": 2,
  "file_extension": ".py",
  "mimetype": "text/x-python",
  "name": "python",
  "npconvert_exporter": "python",
  "pygments_lexer": "ipython3",
  "version": 3,
  "kernelspec": {
   "name": "python3",
   "display_name": "Python 3"
  }
 },
 "cells": [
  {
   "cell_type": "code",
   "execution_count": 1,
   "metadata": {},
   "outputs": [
    {
     "name": "stdout",
     "output_type": "stream",
     "text": "21.000000000000004\n"
    }
   ],
   "source": [
    "#Løser lønningsproblem under adverse-selection.\n",
    "w2 = 1\n",
    "ah = 2\n",
    "al = 1\n",
    "pih = 0.25\n",
    "pil = 0.2\n",
    "\n",
    "def w1(ah,al,pih,pil,w2):\n",
    "    return (ah-al)/(pih-pil) + w2\n",
    "\n",
    "print(w1(ah,al,pih,pil,w2))"
   ]
  },
  {
   "cell_type": "code",
   "execution_count": 2,
   "metadata": {},
   "outputs": [
    {
     "data": {
      "text/plain": "     fun: -17.5\n message: 'Solution found.'\n    nfev: 6\n  status: 0\n success: True\n       x: 5.0000000000000036"
     },
     "execution_count": 2,
     "metadata": {},
     "output_type": "execute_result"
    }
   ],
   "source": [
    "#Optimerer andengradsligning:\n",
    "import numpy as np\n",
    "from scipy import optimize\n",
    "import matplotlib.pyplot as plt\n",
    "plt.style.use(\"seaborn-colorblind\")\n",
    "\n",
    "\n",
    "a = -0.5\n",
    "b = 5\n",
    "c = 5\n",
    "\n",
    "def y(x,a,b,c):\n",
    "    return a*x**2 + b*x + c\n",
    "\n",
    "def optværdi(x,a,b,c):\n",
    "    return -y(x,a,b,c)\n",
    "\n",
    "def optimizer(a,b,c):\n",
    "    løsning = optimize.minimize_scalar(\n",
    "        optværdi,method='bounded',\n",
    "        bounds=(-100,100),args=(a,b,c))\n",
    "    return løsning\n",
    "    løs = løsning.x\n",
    "    print(løs)\n",
    "\n",
    "\n",
    "\n",
    "\n",
    "\n",
    "\n",
    "xvec = np.linspace(-5,10,100)\n",
    "yvec = []\n",
    "tangent = []\n",
    "for i in xvec:\n",
    "    tangent.append(b*i+c)\n",
    "\n",
    "\n",
    "for i in xvec:\n",
    "    yvec.append(y(i,a,b,c))\n",
    "\n",
    "plt.plot(xvec,yvec)\n",
    "plt.plot(xvec,tangent)\n",
    "plt.grid()\n",
    "plt.show\n",
    "\n",
    "\n",
    "optimizer(a,b,c)\n"
   ]
  },
  {
   "cell_type": "code",
   "execution_count": null,
   "metadata": {},
   "outputs": [],
   "source": []
  }
 ]
}