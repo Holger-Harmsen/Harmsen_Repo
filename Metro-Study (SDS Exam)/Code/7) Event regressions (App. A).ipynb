{
 "metadata": {
  "language_info": {
   "codemirror_mode": {
    "name": "ipython",
    "version": 3
   },
   "file_extension": ".py",
   "mimetype": "text/x-python",
   "name": "python",
   "nbconvert_exporter": "python",
   "pygments_lexer": "ipython3",
   "version": 3
  },
  "orig_nbformat": 2,
  "kernelspec": {
   "name": "python_defaultSpec_1596607080550",
   "display_name": "Python 3.7.4 64-bit ('base': conda)"
  }
 },
 "nbformat": 4,
 "nbformat_minor": 2,
 "cells": [
  {
   "cell_type": "code",
   "execution_count": 190,
   "metadata": {},
   "outputs": [],
   "source": [
    "import numpy as np\n",
    "import pandas as pd\n",
    "import datetime\n",
    "from dateutil.parser import parse\n",
    "import requests, re, time\n",
    "import pandas_datareader\n",
    "import pickle\n",
    "import math\n",
    "\n",
    "import matplotlib.pyplot as plt\n",
    "%matplotlib inline\n",
    "from matplotlib.lines import Line2D\n",
    "import matplotlib.patches as mpatches\n",
    "import seaborn as sns \n",
    "\n",
    "import statsmodels.api as sm\n",
    "import statsmodels.formula.api as smf\n",
    "from statsmodels.iolib.summary2 import summary_col\n",
    "import linearmodels as ln\n",
    "from pystout import pystout\n",
    "\n",
    "\n",
    "\n",
    "import json\n",
    "from pandas.io.json import json_normalize\n",
    "from bs4 import BeautifulSoup\n",
    "from selenium import webdriver\n",
    "import time\n",
    "\n",
    "import geopy.distance"
   ]
  },
  {
   "cell_type": "markdown",
   "metadata": {},
   "source": [
    "# Regressions behind Appendix A: Comparing Cityring-events"
   ]
  },
  {
   "cell_type": "markdown",
   "metadata": {},
   "source": [
    "## EVENT: CITYRING-PLANS ANNOUNCED (2005)"
   ]
  },
  {
   "cell_type": "code",
   "execution_count": 191,
   "metadata": {},
   "outputs": [],
   "source": [
    "# Loading and creating base-data:\n",
    "Apartments = pickle.load(open('/Users/holger/Documents/Python/Harmsen_Repo/Metro-Study/Pickles/Apartment Data API.pkl','rb'))\n",
    "Apartments['Year Sold'] = [i.year for i in Apartments['Date_sold']]\n",
    "Apartments['Closest Metro dist'] = [i['Distance'] for i in Apartments['Closest Metro']]\n",
    "Apartments['Cityring'] = [i['Cityring'] for i in Apartments['Closest Metro']]\n",
    "Apartments['log_price_sq_m_1000'] = np.log(Apartments['Price_sq_m_1000'])\n",
    "# Generating Close-dummy:\n",
    "Apartments['Close to Metro'] = 0\n",
    "for i in range(0,len(Apartments)):\n",
    "    if Apartments['Closest Metro dist'][i] < 0.5:\n",
    "        Apartments['Close to Metro'][i] = 1\n",
    "\n",
    "# Picking out those apartments having the cityring as the closest metro:\n",
    "Cityring = Apartments[(Apartments['Cityring'] == 1)]\n",
    "Cityring.reset_index(inplace=True)"
   ]
  },
  {
   "cell_type": "code",
   "execution_count": 192,
   "metadata": {},
   "outputs": [],
   "source": [
    "# Creating Event-dataframe of the two tested years:\n",
    "Cityring_04 = Cityring[(Cityring['Year Sold'] == 2004)]\n",
    "Cityring_06 = Cityring[(Cityring['Year Sold'] == 2006)]\n",
    "\n",
    "Event = pd.concat([Cityring_04,Cityring_06],ignore_index=True)"
   ]
  },
  {
   "cell_type": "code",
   "execution_count": 193,
   "metadata": {},
   "outputs": [],
   "source": [
    "# Generating Announcement-Dummy:\n",
    "Event['Announced'] = 0\n",
    "for i in range(0,len(Event)):\n",
    "    if Event['Year Sold'][i] == 2006:\n",
    "        Event['Announced'][i] = 1"
   ]
  },
  {
   "cell_type": "code",
   "execution_count": 194,
   "metadata": {},
   "outputs": [],
   "source": [
    "# Generating location dummies and deleting reference-area (those not being defined):\n",
    "area_dummy = pd.get_dummies(Event['Area'])\n",
    "del area_dummy['NaN']"
   ]
  },
  {
   "cell_type": "code",
   "execution_count": 195,
   "metadata": {},
   "outputs": [],
   "source": [
    "# Generating dataframe to be regressed on:\n",
    "X = pd.DataFrame()\n",
    "X['Rooms'] = Event['Rooms']\n",
    "X['Close to Metro'] = Event['Close to Metro']\n",
    "X['Event'] = Event['Announced']\n",
    "X['EventXClose'] = Event['Close to Metro'] * Event['Announced']\n",
    "X = pd.merge(X,area_dummy,left_index=True,right_index=True)"
   ]
  },
  {
   "cell_type": "code",
   "execution_count": 196,
   "metadata": {
    "tags": []
   },
   "outputs": [
    {
     "output_type": "stream",
     "name": "stdout",
     "text": "OLS Regression Results                            \n===============================================================================\nDep. Variable:     log_price_sq_m_1000   R-squared:                       0.263\nModel:                             OLS   Adj. R-squared:                  0.255\nMethod:                  Least Squares   F-statistic:                     43.48\nDate:                 Wed, 05 Aug 2020   Prob (F-statistic):           2.52e-70\nTime:                         09:52:15   Log-Likelihood:                -411.95\nNo. Observations:                  902   AIC:                             845.9\nDf Residuals:                      891   BIC:                             898.7\nDf Model:                           10                                         \nCovariance Type:                   HC1                                         \n==================================================================================\n                     coef    std err          z      P>|z|      [0.025      0.975]\n----------------------------------------------------------------------------------\nconst              3.1346      0.055     57.321      0.000       3.027       3.242\nRooms             -0.0386      0.012     -3.332      0.001      -0.061      -0.016\nClose to Metro    -0.0420      0.039     -1.064      0.287      -0.119       0.035\nEvent              0.4518      0.040     11.415      0.000       0.374       0.529\nEventXClose       -0.0486      0.057     -0.858      0.391      -0.160       0.062\nK                  0.0994      0.066      1.504      0.133      -0.030       0.229\nN                 -0.2220      0.073     -3.022      0.003      -0.366      -0.078\nS                  0.0707      0.057      1.242      0.214      -0.041       0.182\nV                 -0.0338      0.053     -0.641      0.521      -0.137       0.069\nValby             -0.0446      0.074     -0.603      0.546      -0.190       0.100\nØ                 -0.0115      0.053     -0.218      0.828      -0.115       0.092\n==============================================================================\nOmnibus:                      646.084   Durbin-Watson:                   1.620\nProb(Omnibus):                  0.000   Jarque-Bera (JB):            12794.857\nSkew:                          -3.035   Prob(JB):                         0.00\nKurtosis:                      20.424   Cond. No.                         58.1\n==============================================================================\n\nWarnings:\n[1] Standard Errors are heteroscedasticity robust (HC1)\n"
    }
   ],
   "source": [
    "X = sm.add_constant(X)\n",
    "model = sm.OLS(Event['log_price_sq_m_1000'],X)\n",
    "Results_Announced = model.fit(cov_type='HC1')\n",
    "print(Results_Announced.summary())"
   ]
  },
  {
   "cell_type": "markdown",
   "metadata": {},
   "source": [
    "## EVENT: Cityring-Law passed in Parliament (2007)"
   ]
  },
  {
   "cell_type": "code",
   "execution_count": 197,
   "metadata": {},
   "outputs": [],
   "source": [
    "C2006 = Cityring[(Cityring['Year Sold'] == 2006)]\n",
    "C2008 = Cityring[(Cityring['Year Sold'] == 2008)]\n",
    "\n",
    "Event = pd.concat([C2006,C2008],ignore_index=True)"
   ]
  },
  {
   "cell_type": "code",
   "execution_count": 198,
   "metadata": {},
   "outputs": [],
   "source": [
    "Event['Law Passed'] = 0\n",
    "for i in range(0,len(Event)):\n",
    "    if Event['Year Sold'][i] == 2008:\n",
    "        Event['Law Passed'][i] = 1"
   ]
  },
  {
   "cell_type": "code",
   "execution_count": 199,
   "metadata": {},
   "outputs": [],
   "source": [
    "# Generating location dummies:\n",
    "Event['Metro_loc'] = [i['Metro'] for i in Event['Closest Metro']]\n",
    "area_dummy = pd.get_dummies(Event['Area'])\n",
    "del area_dummy['NaN']"
   ]
  },
  {
   "cell_type": "code",
   "execution_count": 200,
   "metadata": {},
   "outputs": [],
   "source": [
    "X = pd.DataFrame()\n",
    "X['Rooms'] = Event['Rooms']\n",
    "X['Close to Metro'] = Event['Close to Metro']\n",
    "X['Event'] = Event['Law Passed']\n",
    "X['EventXClose'] = Event['Close to Metro'] * Event['Law Passed']\n",
    "X = pd.merge(X,area_dummy,left_index=True,right_index=True)"
   ]
  },
  {
   "cell_type": "code",
   "execution_count": 201,
   "metadata": {
    "tags": []
   },
   "outputs": [
    {
     "output_type": "stream",
     "name": "stdout",
     "text": "OLS Regression Results                            \n===============================================================================\nDep. Variable:     log_price_sq_m_1000   R-squared:                       0.121\nModel:                             OLS   Adj. R-squared:                  0.110\nMethod:                  Least Squares   F-statistic:                     15.68\nDate:                 Wed, 05 Aug 2020   Prob (F-statistic):           1.37e-23\nTime:                         09:52:15   Log-Likelihood:                -381.07\nNo. Observations:                  746   AIC:                             782.1\nDf Residuals:                      736   BIC:                             828.3\nDf Model:                            9                                         \nCovariance Type:                   HC1                                         \n==================================================================================\n                     coef    std err          z      P>|z|      [0.025      0.975]\n----------------------------------------------------------------------------------\nconst              3.3863      0.079     43.033      0.000       3.232       3.540\nRooms             -0.0145      0.016     -0.937      0.349      -0.045       0.016\nClose to Metro    -0.0644      0.055     -1.171      0.242      -0.172       0.043\nEvent             -0.2625      0.045     -5.803      0.000      -0.351      -0.174\nEventXClose        0.0896      0.065      1.373      0.170      -0.038       0.218\nK                  0.2002      0.088      2.280      0.023       0.028       0.372\nN                 -0.1303      0.096     -1.359      0.174      -0.318       0.058\nV                  0.1198      0.070      1.699      0.089      -0.018       0.258\nValby              0.1557      0.068      2.298      0.022       0.023       0.288\nØ                  0.0698      0.077      0.907      0.364      -0.081       0.221\n==============================================================================\nOmnibus:                      360.220   Durbin-Watson:                   1.620\nProb(Omnibus):                  0.000   Jarque-Bera (JB):             2299.826\nSkew:                          -2.107   Prob(JB):                         0.00\nKurtosis:                      10.499   Cond. No.                         62.1\n==============================================================================\n\nWarnings:\n[1] Standard Errors are heteroscedasticity robust (HC1)\n"
    }
   ],
   "source": [
    "X = sm.add_constant(X)\n",
    "model = sm.OLS(Event['log_price_sq_m_1000'],X)\n",
    "Results_Passed = model.fit(cov_type='HC1')\n",
    "print(Results_Passed.summary())"
   ]
  },
  {
   "cell_type": "markdown",
   "metadata": {},
   "source": [
    "## EVENT: CONSTRUCTION BEGAN"
   ]
  },
  {
   "cell_type": "code",
   "execution_count": 202,
   "metadata": {},
   "outputs": [],
   "source": [
    "C2008 = Cityring[(Cityring['Year Sold'] == 2008)]\n",
    "C2010 = Cityring[(Cityring['Year Sold'] == 2010)]\n",
    "\n",
    "Event = pd.concat([C2008,C2010],ignore_index=True)"
   ]
  },
  {
   "cell_type": "code",
   "execution_count": 203,
   "metadata": {},
   "outputs": [],
   "source": [
    "Event['Construction'] = 0\n",
    "for i in range(0,len(Event)):\n",
    "    if Event['Year Sold'][i] == 2010:\n",
    "        Event['Construction'][i] = 1"
   ]
  },
  {
   "cell_type": "code",
   "execution_count": 204,
   "metadata": {},
   "outputs": [],
   "source": [
    "# Generating location dummies:\n",
    "area_dummy = pd.get_dummies(Event['Area'])\n",
    "del area_dummy['NaN']"
   ]
  },
  {
   "cell_type": "code",
   "execution_count": 205,
   "metadata": {},
   "outputs": [],
   "source": [
    "X = pd.DataFrame()\n",
    "X['Rooms'] = Event['Rooms']\n",
    "X['Close to Metro'] = Event['Close to Metro']\n",
    "X['Event'] = Event['Construction']\n",
    "X['EventXClose'] = Event['Close to Metro'] * Event['Construction']\n",
    "X = pd.merge(X,area_dummy,left_index=True,right_index=True)"
   ]
  },
  {
   "cell_type": "code",
   "execution_count": 206,
   "metadata": {
    "tags": []
   },
   "outputs": [
    {
     "output_type": "stream",
     "name": "stdout",
     "text": "OLS Regression Results                            \n===============================================================================\nDep. Variable:     log_price_sq_m_1000   R-squared:                       0.090\nModel:                             OLS   Adj. R-squared:                  0.079\nMethod:                  Least Squares   F-statistic:                     9.420\nDate:                 Wed, 05 Aug 2020   Prob (F-statistic):           1.27e-13\nTime:                         09:52:15   Log-Likelihood:                -478.95\nNo. Observations:                  727   AIC:                             977.9\nDf Residuals:                      717   BIC:                             1024.\nDf Model:                            9                                         \nCovariance Type:                   HC1                                         \n==================================================================================\n                     coef    std err          z      P>|z|      [0.025      0.975]\n----------------------------------------------------------------------------------\nconst              2.8527      0.141     20.225      0.000       2.576       3.129\nRooms              0.0038      0.014      0.269      0.788      -0.024       0.031\nClose to Metro    -0.0982      0.055     -1.786      0.074      -0.206       0.010\nEvent             -0.1151      0.054     -2.138      0.033      -0.221      -0.010\nEventXClose        0.0242      0.069      0.349      0.727      -0.111       0.160\nK                  0.5795      0.165      3.509      0.000       0.256       0.903\nN                  0.2425      0.160      1.518      0.129      -0.071       0.556\nV                  0.2708      0.160      1.697      0.090      -0.042       0.584\nValby              0.1764      0.226      0.782      0.434      -0.266       0.618\nØ                  0.4277      0.162      2.638      0.008       0.110       0.745\n==============================================================================\nOmnibus:                      321.448   Durbin-Watson:                   1.698\nProb(Omnibus):                  0.000   Jarque-Bera (JB):             5936.858\nSkew:                          -1.512   Prob(JB):                         0.00\nKurtosis:                      16.669   Cond. No.                         47.8\n==============================================================================\n\nWarnings:\n[1] Standard Errors are heteroscedasticity robust (HC1)\n"
    }
   ],
   "source": [
    "X = sm.add_constant(X)\n",
    "model = sm.OLS(Event['log_price_sq_m_1000'],X)\n",
    "Results_Construction = model.fit(cov_type='HC1')\n",
    "print(Results_Construction.summary())"
   ]
  },
  {
   "cell_type": "markdown",
   "metadata": {},
   "source": [
    "## EVENT: BUILDING FINISHED (2019)"
   ]
  },
  {
   "cell_type": "code",
   "execution_count": 207,
   "metadata": {},
   "outputs": [],
   "source": [
    "C2018 = Cityring[(Cityring['Year Sold'] == 2018)]\n",
    "C2020 = Cityring[(Cityring['Year Sold'] == 2020)]"
   ]
  },
  {
   "cell_type": "code",
   "execution_count": 208,
   "metadata": {},
   "outputs": [],
   "source": [
    "Event = pd.concat([C2018,C2020],ignore_index=True)"
   ]
  },
  {
   "cell_type": "code",
   "execution_count": 209,
   "metadata": {},
   "outputs": [],
   "source": [
    "Event['Opened'] = 0\n",
    "for i in range(0,len(Event)):\n",
    "    if Event['Year Sold'][i] == 2020:\n",
    "        Event['Opened'][i] = 1"
   ]
  },
  {
   "cell_type": "code",
   "execution_count": 210,
   "metadata": {},
   "outputs": [],
   "source": [
    "# Generating location dummies:\n",
    "area_dummy = pd.get_dummies(Event['Area'])\n",
    "del area_dummy['NaN']"
   ]
  },
  {
   "cell_type": "code",
   "execution_count": 211,
   "metadata": {},
   "outputs": [],
   "source": [
    "X = pd.DataFrame()\n",
    "X['Rooms'] = Event['Rooms']\n",
    "X['Close to Metro'] = Event['Close to Metro']\n",
    "X['Event'] = Event['Opened']\n",
    "X['EventXClose'] = Event['Close to Metro'] * Event['Opened']\n",
    "X = pd.merge(X,area_dummy,left_index=True,right_index=True)"
   ]
  },
  {
   "cell_type": "code",
   "execution_count": 212,
   "metadata": {
    "tags": []
   },
   "outputs": [
    {
     "output_type": "stream",
     "name": "stdout",
     "text": "OLS Regression Results                            \n===============================================================================\nDep. Variable:     log_price_sq_m_1000   R-squared:                       0.028\nModel:                             OLS   Adj. R-squared:                  0.026\nMethod:                  Least Squares   F-statistic:                     15.98\nDate:                 Wed, 05 Aug 2020   Prob (F-statistic):           1.12e-28\nTime:                         09:52:17   Log-Likelihood:                -2700.8\nNo. Observations:                 4950   AIC:                             5424.\nDf Residuals:                     4939   BIC:                             5495.\nDf Model:                           10                                         \nCovariance Type:                   HC1                                         \n==================================================================================\n                     coef    std err          z      P>|z|      [0.025      0.975]\n----------------------------------------------------------------------------------\nconst              3.5017      0.035    100.298      0.000       3.433       3.570\nRooms              0.0128      0.008      1.608      0.108      -0.003       0.028\nClose to Metro    -0.0079      0.017     -0.453      0.651      -0.042       0.026\nEvent             -0.0182      0.017     -1.047      0.295      -0.052       0.016\nEventXClose        0.0553      0.024      2.327      0.020       0.009       0.102\nFRB                0.1024      0.035      2.895      0.004       0.033       0.172\nK                  0.2013      0.032      6.367      0.000       0.139       0.263\nN               3.008e-05      0.029      0.001      0.999      -0.058       0.058\nV                  0.0517      0.027      1.916      0.055      -0.001       0.105\nValby              0.0116      0.065      0.178      0.859      -0.116       0.139\nØ                  0.1040      0.029      3.643      0.000       0.048       0.160\n==============================================================================\nOmnibus:                     3060.987   Durbin-Watson:                   1.879\nProb(Omnibus):                  0.000   Jarque-Bera (JB):            64181.283\nSkew:                          -2.579   Prob(JB):                         0.00\nKurtosis:                      19.870   Cond. No.                         55.9\n==============================================================================\n\nWarnings:\n[1] Standard Errors are heteroscedasticity robust (HC1)\n"
    }
   ],
   "source": [
    "X = sm.add_constant(X)\n",
    "model = sm.OLS(Event['log_price_sq_m_1000'],X)\n",
    "Results_Opening = model.fit(cov_type='HC1')\n",
    "print(Results_Opening.summary())"
   ]
  },
  {
   "cell_type": "code",
   "execution_count": 213,
   "metadata": {},
   "outputs": [],
   "source": [
    "pystout(models=[Results_Announced,Results_Passed,Results_Construction,Results_Opening],\n",
    "        file='/Users/holger/Documents/Python/Harmsen_Repo/Metro-Study/Tex files/Metro Regressions 3.tex',\n",
    "        digits=3,\n",
    "        addnotes=['(*): ','(**)','(***)'],\n",
    "        endog_names=['Announcement','Law passed','Construction Began','Opened'],\n",
    "        varlabels={'const':'Constant','displacement':'Disp','mpg':'MPG'},\n",
    "        mgroups={'y = log(Price per sq. m, DKK)':[1,3]},\n",
    "        modstat={'nobs':'Obs','rsquared_adj':'Adj. R\\sym{2}','fvalue':'F-stat'}\n",
    "        )"
   ]
  },
  {
   "cell_type": "code",
   "execution_count": null,
   "metadata": {},
   "outputs": [],
   "source": []
  }
 ]
}