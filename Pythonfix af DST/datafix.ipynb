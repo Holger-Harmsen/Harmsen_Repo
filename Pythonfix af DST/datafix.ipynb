{
 "nbformat": 4,
 "nbformat_minor": 2,
 "metadata": {
  "language_info": {
   "name": "python",
   "codemirror_mode": {
    "name": "ipython",
    "version": 3
   },
   "version": "3.7.4-final"
  },
  "orig_nbformat": 2,
  "file_extension": ".py",
  "mimetype": "text/x-python",
  "name": "python",
  "npconvert_exporter": "python",
  "pygments_lexer": "ipython3",
  "version": 3,
  "kernelspec": {
   "name": "python3",
   "display_name": "Python 3"
  }
 },
 "cells": [
  {
   "cell_type": "code",
   "execution_count": 84,
   "metadata": {},
   "outputs": [],
   "source": [
    "import numpy as np\n",
    "import csv\n",
    "import matplotlib.pyplot as plt\n",
    "import pandas as pd\n",
    "import math\n",
    "\n",
    "data = pd.read_csv('rådata.csv', delimiter=\";\")\n",
    "\n",
    "data['ny'] = '0' + '0' + '1' + data['alle']\n",
    "\n",
    "ny=[]\n",
    "for i in range(0,3263):\n",
    "    ny.append(data['ny'][i][0:16] + data['ny'][i][17:25])\n",
    "\n",
    "df_ny = pd.DataFrame(ny)\n",
    "\n",
    "data['færdig'] = df_ny\n",
    "\n",
    "data.to_excel('output_1.xlsx')"
   ]
  },
  {
   "cell_type": "code",
   "execution_count": 83,
   "metadata": {},
   "outputs": [
    {
     "data": {
      "text/html": "<div>\n<style scoped>\n    .dataframe tbody tr th:only-of-type {\n        vertical-align: middle;\n    }\n\n    .dataframe tbody tr th {\n        vertical-align: top;\n    }\n\n    .dataframe thead th {\n        text-align: right;\n    }\n</style>\n<table border=\"1\" class=\"dataframe\">\n  <thead>\n    <tr style=\"text-align: right;\">\n      <th></th>\n      <th>alle</th>\n      <th>ny</th>\n      <th>færdig</th>\n    </tr>\n  </thead>\n  <tbody>\n    <tr>\n      <td>0</td>\n      <td>1100110010030000000272</td>\n      <td>0011100110010030000000272</td>\n      <td>001110011001003000000272</td>\n    </tr>\n    <tr>\n      <td>1</td>\n      <td>110011001006-000000046</td>\n      <td>001110011001006-000000046</td>\n      <td>001110011001006-00000046</td>\n    </tr>\n    <tr>\n      <td>2</td>\n      <td>1100110010070000002208</td>\n      <td>0011100110010070000002208</td>\n      <td>001110011001007000002208</td>\n    </tr>\n    <tr>\n      <td>3</td>\n      <td>1100110010100000256697</td>\n      <td>0011100110010100000256697</td>\n      <td>001110011001010000256697</td>\n    </tr>\n    <tr>\n      <td>4</td>\n      <td>1100110010220000000045</td>\n      <td>0011100110010220000000045</td>\n      <td>001110011001022000000045</td>\n    </tr>\n    <tr>\n      <td>...</td>\n      <td>...</td>\n      <td>...</td>\n      <td>...</td>\n    </tr>\n    <tr>\n      <td>3258</td>\n      <td>675999179081-004299353</td>\n      <td>001675999179081-004299353</td>\n      <td>001675999179081-04299353</td>\n    </tr>\n    <tr>\n      <td>3259</td>\n      <td>6759991999000000008790</td>\n      <td>0016759991999000000008790</td>\n      <td>001675999199900000008790</td>\n    </tr>\n    <tr>\n      <td>3260</td>\n      <td>6759991999600000032666</td>\n      <td>0016759991999600000032666</td>\n      <td>001675999199960000032666</td>\n    </tr>\n    <tr>\n      <td>3261</td>\n      <td>675999199981-000026510</td>\n      <td>001675999199981-000026510</td>\n      <td>001675999199981-00026510</td>\n    </tr>\n    <tr>\n      <td>3262</td>\n      <td>675999279081-000026457</td>\n      <td>001675999279081-000026457</td>\n      <td>001675999279081-00026457</td>\n    </tr>\n  </tbody>\n</table>\n<p>3263 rows × 3 columns</p>\n</div>",
      "text/plain": "                        alle                         ny  \\\n0     1100110010030000000272  0011100110010030000000272   \n1     110011001006-000000046  001110011001006-000000046   \n2     1100110010070000002208  0011100110010070000002208   \n3     1100110010100000256697  0011100110010100000256697   \n4     1100110010220000000045  0011100110010220000000045   \n...                      ...                        ...   \n3258  675999179081-004299353  001675999179081-004299353   \n3259  6759991999000000008790  0016759991999000000008790   \n3260  6759991999600000032666  0016759991999600000032666   \n3261  675999199981-000026510  001675999199981-000026510   \n3262  675999279081-000026457  001675999279081-000026457   \n\n                        færdig  \n0     001110011001003000000272  \n1     001110011001006-00000046  \n2     001110011001007000002208  \n3     001110011001010000256697  \n4     001110011001022000000045  \n...                        ...  \n3258  001675999179081-04299353  \n3259  001675999199900000008790  \n3260  001675999199960000032666  \n3261  001675999199981-00026510  \n3262  001675999279081-00026457  \n\n[3263 rows x 3 columns]"
     },
     "execution_count": 83,
     "metadata": {},
     "output_type": "execute_result"
    }
   ],
   "source": [
    "data"
   ]
  },
  {
   "cell_type": "code",
   "execution_count": null,
   "metadata": {},
   "outputs": [],
   "source": []
  }
 ]
}