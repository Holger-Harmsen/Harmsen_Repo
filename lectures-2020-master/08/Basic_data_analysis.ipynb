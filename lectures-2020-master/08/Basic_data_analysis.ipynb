{
 "cells": [
  {
   "cell_type": "markdown",
   "metadata": {
    "toc-hr-collapsed": true
   },
   "source": [
    "# Basic data analysis\n",
    "\n",
    "You will learn how to **combine** (join and concatenate) datasets, **download online datasets** (throguh an API), and use **split-apply-combine** to calculate group-level statistics and make group-level plots.\n"
   ]
  },
  {
   "cell_type": "code",
   "execution_count": 1,
   "metadata": {},
   "outputs": [],
   "source": [
    "import numpy as np\n",
    "import pandas as pd\n",
    "import matplotlib.pyplot as plt\n",
    "plt.style.use('seaborn')\n",
    "from matplotlib_venn import venn2"
   ]
  },
  {
   "cell_type": "markdown",
   "metadata": {},
   "source": [
    "**Venn diagrams:** To draw beautiful Venn diagrams, run `pip install matplotlib-venn` and get access to `matplotlib_venn`. If you do not have that package or don't want to use it, just ignore those cells. "
   ]
  },
  {
   "cell_type": "markdown",
   "metadata": {
    "toc-hr-collapsed": true
   },
   "source": [
    "# Concepts"
   ]
  },
  {
   "cell_type": "markdown",
   "metadata": {},
   "source": [
    "When **combining datasets**, there are a few crucial concepts: \n",
    "\n",
    "1. **Concatenate (append)**: \"stack\" rows (observations) on top of each other. This works if there are the same columns (variables) in both datasets. \n",
    "2. **Merge**: the two datasets have different variables but may or may not have the same observations. "
   ]
  },
  {
   "cell_type": "markdown",
   "metadata": {},
   "source": [
    "There are **different kinds of merges** depending on which observations you want to keep. Whenever we include a row not in both datasets, the variables will be missing if they are not in the corresponding contributing dataset. \n",
    "\n",
    "1. **Outer join (one-to-one)** The intersection of the two datasets, i.e. keep observations in either or both datasets. Also called *full outer join* in SQL. \n",
    "2. **Inner join (one-to-one)** Keep only observations that are in both. \n",
    "3. **Left join (many-to-one)** Keep only observations that are in the left dataset or in both datasets. \n",
    "4. **Cartesian join (many-to-many)** This is almost surely never what you want. "
   ]
  },
  {
   "cell_type": "markdown",
   "metadata": {},
   "source": [
    "**Fetching data from an API**. An API is an interface through which we can directly ask for and receive data from an online source. We will be using packages for this and will not look at what is going on underneath. \n",
    "\n",
    "1. We use `pandas_datareader` to access many common international online data sources (install with `pip install pandas-datareader`)\n",
    "2. For Statistics Denmark, Jakob Elben has written the `pydst` package (install with `pip install git+https://github.com/elben10/pydst`)"
   ]
  },
  {
   "cell_type": "markdown",
   "metadata": {},
   "source": [
    "When working with data, we will look at the notion of **split-apply-combine**: \n",
    "\n",
    "1. **Split** the data into sub-datasets based on e.g. an ID or time variable, \n",
    "2. **Apply** a function to each sub-dataset, \n",
    "3. **Combine** sub-datasets back together. "
   ]
  },
  {
   "cell_type": "markdown",
   "metadata": {
    "toc-hr-collapsed": true
   },
   "source": [
    "# Combining datasets (merging and concatenating)\n",
    "\n",
    "In this section, we will be combining datasets in different ways."
   ]
  },
  {
   "cell_type": "code",
   "execution_count": 2,
   "metadata": {},
   "outputs": [],
   "source": [
    "empl = pd.read_csv('../06/data/RAS200_tall.csv') # .. -> means one folder up"
   ]
  },
  {
   "cell_type": "code",
   "execution_count": 3,
   "metadata": {},
   "outputs": [],
   "source": [
    "inc = pd.read_csv('../06/data/INDKP107_tall.csv')"
   ]
  },
  {
   "cell_type": "code",
   "execution_count": 4,
   "metadata": {},
   "outputs": [],
   "source": [
    "area = pd.read_csv('../06/data/area.csv')"
   ]
  },
  {
   "cell_type": "markdown",
   "metadata": {},
   "source": [
    "## Concatenating datasets\n",
    "\n",
    "Suppose we have two datasets that have the same variables and we just want to concatenate them. "
   ]
  },
  {
   "cell_type": "code",
   "execution_count": 5,
   "metadata": {},
   "outputs": [
    {
     "data": {
      "text/html": [
       "<div>\n",
       "<style scoped>\n",
       "    .dataframe tbody tr th:only-of-type {\n",
       "        vertical-align: middle;\n",
       "    }\n",
       "\n",
       "    .dataframe tbody tr th {\n",
       "        vertical-align: top;\n",
       "    }\n",
       "\n",
       "    .dataframe thead th {\n",
       "        text-align: right;\n",
       "    }\n",
       "</style>\n",
       "<table border=\"1\" class=\"dataframe\">\n",
       "  <thead>\n",
       "    <tr style=\"text-align: right;\">\n",
       "      <th></th>\n",
       "      <th>municipality</th>\n",
       "      <th>year</th>\n",
       "      <th>2017</th>\n",
       "      <th>e</th>\n",
       "    </tr>\n",
       "  </thead>\n",
       "  <tbody>\n",
       "    <tr>\n",
       "      <th>0</th>\n",
       "      <td>Copenhagen</td>\n",
       "      <td>2008</td>\n",
       "      <td>72.2</td>\n",
       "      <td>72.5</td>\n",
       "    </tr>\n",
       "    <tr>\n",
       "      <th>1</th>\n",
       "      <td>Frederiksberg</td>\n",
       "      <td>2008</td>\n",
       "      <td>75.6</td>\n",
       "      <td>75.6</td>\n",
       "    </tr>\n",
       "    <tr>\n",
       "      <th>2</th>\n",
       "      <td>Dragør</td>\n",
       "      <td>2008</td>\n",
       "      <td>80.4</td>\n",
       "      <td>80.5</td>\n",
       "    </tr>\n",
       "  </tbody>\n",
       "</table>\n",
       "</div>"
      ],
      "text/plain": [
       "    municipality  year  2017     e\n",
       "0     Copenhagen  2008  72.2  72.5\n",
       "1  Frederiksberg  2008  75.6  75.6\n",
       "2         Dragør  2008  80.4  80.5"
      ]
     },
     "execution_count": 5,
     "metadata": {},
     "output_type": "execute_result"
    }
   ],
   "source": [
    "empl.head(3)"
   ]
  },
  {
   "cell_type": "code",
   "execution_count": 6,
   "metadata": {},
   "outputs": [
    {
     "name": "stdout",
     "output_type": "stream",
     "text": [
      "A has shape (446, 4) \n",
      "B has shape (445, 4) \n"
     ]
    }
   ],
   "source": [
    "N = empl.shape[0]\n",
    "A = empl.loc[empl.index < N/2,:]\n",
    "B = empl.loc[empl.index >= N/2,:]\n",
    "\n",
    "print(f'A has shape {A.shape} ')\n",
    "print(f'B has shape {B.shape} ')"
   ]
  },
  {
   "cell_type": "markdown",
   "metadata": {},
   "source": [
    "Concatenation is done simply using the command `pd.concat([df1, df2])`. "
   ]
  },
  {
   "cell_type": "code",
   "execution_count": 7,
   "metadata": {},
   "outputs": [
    {
     "name": "stdout",
     "output_type": "stream",
     "text": [
      "C has shape (891, 4) (same as the original empl, (891, 4))\n"
     ]
    }
   ],
   "source": [
    "C = pd.concat([A,B])\n",
    "print(f'C has shape {C.shape} (same as the original empl, {empl.shape})')"
   ]
  },
  {
   "cell_type": "markdown",
   "metadata": {},
   "source": [
    "## Merging datasets"
   ]
  },
  {
   "cell_type": "markdown",
   "metadata": {},
   "source": [
    "We now consider two dataframes that have different *variables*: `empl` and `inc`. For all the merges, we will use the command"
   ]
  },
  {
   "cell_type": "markdown",
   "metadata": {},
   "source": [
    "`pd.merge(empl, inc, on=[municipalitiy, year], how=X)`. "
   ]
  },
  {
   "cell_type": "markdown",
   "metadata": {},
   "source": [
    "The keyword `on` specifies the *merge key(s)*. They must be unique in at least one of the contributing datasets, but merges are easiest to understand when they uniquely identify observations in both datasets.  "
   ]
  },
  {
   "cell_type": "markdown",
   "metadata": {},
   "source": [
    "The `how` keyword (taking values `'left'`, `'right'`, `'outer'`, `'inner'`) relates to what we want pandas to do if the observations in the two datasets are different, which they are in our case. We can for example look at the years and the number of unique regions by using the command `df.var.unique()`, which returns the list of unique values that the variable attains: "
   ]
  },
  {
   "cell_type": "code",
   "execution_count": 8,
   "metadata": {},
   "outputs": [
    {
     "data": {
      "text/plain": [
       "array([2008, 2009, 2010, 2011, 2012, 2013, 2014, 2015, 2016], dtype=int64)"
      ]
     },
     "execution_count": 8,
     "metadata": {},
     "output_type": "execute_result"
    }
   ],
   "source": [
    "empl.year.unique()"
   ]
  },
  {
   "cell_type": "code",
   "execution_count": 9,
   "metadata": {},
   "outputs": [
    {
     "data": {
      "text/plain": [
       "array([2004, 2005, 2006, 2007, 2008, 2009, 2010, 2011, 2012, 2013, 2014,\n",
       "       2015, 2016, 2017], dtype=int64)"
      ]
     },
     "execution_count": 9,
     "metadata": {},
     "output_type": "execute_result"
    }
   ],
   "source": [
    "inc.year.unique()"
   ]
  },
  {
   "cell_type": "code",
   "execution_count": 10,
   "metadata": {},
   "outputs": [
    {
     "name": "stdout",
     "output_type": "stream",
     "text": [
      "Municiaplities in empl = 99\n",
      "Municiaplities in inc  = 98\n"
     ]
    }
   ],
   "source": [
    "print(f'Municiaplities in empl = {len(empl.municipality.unique())}')\n",
    "print(f'Municiaplities in inc  = {len(inc.municipality.unique())}')"
   ]
  },
  {
   "cell_type": "code",
   "execution_count": 11,
   "metadata": {},
   "outputs": [
    {
     "name": "stdout",
     "output_type": "stream",
     "text": [
      "municipalities in empl data but not in inc data: ['Christiansø']\n"
     ]
    }
   ],
   "source": [
    "mun_emp = empl.municipality.unique()\n",
    "mun_inc = inc.municipality.unique()\n",
    "\n",
    "# list of municipalities in mun_emp that are not in mun_inc\n",
    "diff = [muni for muni in mun_emp if muni not in mun_inc] \n",
    "\n",
    "print(f'municipalities in empl data but not in inc data: {diff}')"
   ]
  },
  {
   "cell_type": "markdown",
   "metadata": {},
   "source": [
    "**Conclusion:** `inc` has more years than `empl`, but `empl` has one municipality that is not in `inc`. "
   ]
  },
  {
   "cell_type": "code",
   "execution_count": 12,
   "metadata": {},
   "outputs": [
    {
     "data": {
      "image/png": "[encoded data removed]",
      "text/plain": [
       "<Figure size 432x288 with 1 Axes>"
      ]
     },
     "metadata": {},
     "output_type": "display_data"
    }
   ],
   "source": [
    "plt.figure()\n",
    "v = venn2(subsets = (4, 4, 10), set_labels = ('empl', 'inc'))\n",
    "v.get_label_by_id('100').set_text('Cristiansø')\n",
    "v.get_label_by_id('010').set_text('2004-07 \\n 2017' )\n",
    "v.get_label_by_id('110').set_text('Common observations')\n",
    "plt.show()"
   ]
  },
  {
   "cell_type": "markdown",
   "metadata": {},
   "source": [
    "### Outer join: union"
   ]
  },
  {
   "cell_type": "code",
   "execution_count": 13,
   "metadata": {},
   "outputs": [
    {
     "data": {
      "image/png": "[encoded data removed]",
      "text/plain": [
       "<Figure size 432x288 with 1 Axes>"
      ]
     },
     "metadata": {},
     "output_type": "display_data"
    }
   ],
   "source": [
    "plt.figure()\n",
    "v = venn2(subsets = (4, 4, 10), set_labels = ('empl', 'inc'))\n",
    "v.get_label_by_id('100').set_text('Included')\n",
    "v.get_label_by_id('010').set_text('Included')\n",
    "v.get_label_by_id('110').set_text('Included')\n",
    "plt.title('Outer join')\n",
    "plt.show()"
   ]
  },
  {
   "cell_type": "code",
   "execution_count": 14,
   "metadata": {},
   "outputs": [
    {
     "name": "stdout",
     "output_type": "stream",
     "text": [
      "Number of municipalities = 99\n",
      "Number of years          = 14\n"
     ]
    }
   ],
   "source": [
    "both_outer = pd.merge(empl,inc,how='outer',on=['municipality','year'])\n",
    "\n",
    "print(f'Number of municipalities = {len(both_outer.municipality.unique())}')\n",
    "print(f'Number of years          = {len(both_outer.year.unique())}')"
   ]
  },
  {
   "cell_type": "code",
   "execution_count": 15,
   "metadata": {},
   "outputs": [
    {
     "data": {
      "text/html": [
       "<div>\n",
       "<style scoped>\n",
       "    .dataframe tbody tr th:only-of-type {\n",
       "        vertical-align: middle;\n",
       "    }\n",
       "\n",
       "    .dataframe tbody tr th {\n",
       "        vertical-align: top;\n",
       "    }\n",
       "\n",
       "    .dataframe thead th {\n",
       "        text-align: right;\n",
       "    }\n",
       "</style>\n",
       "<table border=\"1\" class=\"dataframe\">\n",
       "  <thead>\n",
       "    <tr style=\"text-align: right;\">\n",
       "      <th></th>\n",
       "      <th>municipality</th>\n",
       "      <th>year</th>\n",
       "      <th>2017</th>\n",
       "      <th>e</th>\n",
       "      <th>inc</th>\n",
       "    </tr>\n",
       "  </thead>\n",
       "  <tbody>\n",
       "    <tr>\n",
       "      <th>29</th>\n",
       "      <td>Christiansø</td>\n",
       "      <td>2008</td>\n",
       "      <td>80.9</td>\n",
       "      <td>62.9</td>\n",
       "      <td>NaN</td>\n",
       "    </tr>\n",
       "    <tr>\n",
       "      <th>128</th>\n",
       "      <td>Christiansø</td>\n",
       "      <td>2009</td>\n",
       "      <td>80.9</td>\n",
       "      <td>64.6</td>\n",
       "      <td>NaN</td>\n",
       "    </tr>\n",
       "    <tr>\n",
       "      <th>227</th>\n",
       "      <td>Christiansø</td>\n",
       "      <td>2010</td>\n",
       "      <td>80.9</td>\n",
       "      <td>67.8</td>\n",
       "      <td>NaN</td>\n",
       "    </tr>\n",
       "    <tr>\n",
       "      <th>326</th>\n",
       "      <td>Christiansø</td>\n",
       "      <td>2011</td>\n",
       "      <td>80.9</td>\n",
       "      <td>67.7</td>\n",
       "      <td>NaN</td>\n",
       "    </tr>\n",
       "    <tr>\n",
       "      <th>425</th>\n",
       "      <td>Christiansø</td>\n",
       "      <td>2012</td>\n",
       "      <td>80.9</td>\n",
       "      <td>69.6</td>\n",
       "      <td>NaN</td>\n",
       "    </tr>\n",
       "    <tr>\n",
       "      <th>524</th>\n",
       "      <td>Christiansø</td>\n",
       "      <td>2013</td>\n",
       "      <td>80.9</td>\n",
       "      <td>69.4</td>\n",
       "      <td>NaN</td>\n",
       "    </tr>\n",
       "    <tr>\n",
       "      <th>623</th>\n",
       "      <td>Christiansø</td>\n",
       "      <td>2014</td>\n",
       "      <td>80.9</td>\n",
       "      <td>70.0</td>\n",
       "      <td>NaN</td>\n",
       "    </tr>\n",
       "    <tr>\n",
       "      <th>722</th>\n",
       "      <td>Christiansø</td>\n",
       "      <td>2015</td>\n",
       "      <td>80.9</td>\n",
       "      <td>75.5</td>\n",
       "      <td>NaN</td>\n",
       "    </tr>\n",
       "    <tr>\n",
       "      <th>821</th>\n",
       "      <td>Christiansø</td>\n",
       "      <td>2016</td>\n",
       "      <td>80.9</td>\n",
       "      <td>77.8</td>\n",
       "      <td>NaN</td>\n",
       "    </tr>\n",
       "    <tr>\n",
       "      <th>1283</th>\n",
       "      <td>Copenhagen</td>\n",
       "      <td>2017</td>\n",
       "      <td>NaN</td>\n",
       "      <td>NaN</td>\n",
       "      <td>333579.0</td>\n",
       "    </tr>\n",
       "    <tr>\n",
       "      <th>1284</th>\n",
       "      <td>Frederiksberg</td>\n",
       "      <td>2017</td>\n",
       "      <td>NaN</td>\n",
       "      <td>NaN</td>\n",
       "      <td>409097.0</td>\n",
       "    </tr>\n",
       "    <tr>\n",
       "      <th>1285</th>\n",
       "      <td>Dragør</td>\n",
       "      <td>2017</td>\n",
       "      <td>NaN</td>\n",
       "      <td>NaN</td>\n",
       "      <td>490152.0</td>\n",
       "    </tr>\n",
       "    <tr>\n",
       "      <th>1286</th>\n",
       "      <td>Tårnby</td>\n",
       "      <td>2017</td>\n",
       "      <td>NaN</td>\n",
       "      <td>NaN</td>\n",
       "      <td>373304.0</td>\n",
       "    </tr>\n",
       "    <tr>\n",
       "      <th>1287</th>\n",
       "      <td>Albertslund</td>\n",
       "      <td>2017</td>\n",
       "      <td>NaN</td>\n",
       "      <td>NaN</td>\n",
       "      <td>332943.0</td>\n",
       "    </tr>\n",
       "    <tr>\n",
       "      <th>1288</th>\n",
       "      <td>Ballerup</td>\n",
       "      <td>2017</td>\n",
       "      <td>NaN</td>\n",
       "      <td>NaN</td>\n",
       "      <td>415031.0</td>\n",
       "    </tr>\n",
       "  </tbody>\n",
       "</table>\n",
       "</div>"
      ],
      "text/plain": [
       "       municipality  year  2017     e       inc\n",
       "29      Christiansø  2008  80.9  62.9       NaN\n",
       "128     Christiansø  2009  80.9  64.6       NaN\n",
       "227     Christiansø  2010  80.9  67.8       NaN\n",
       "326     Christiansø  2011  80.9  67.7       NaN\n",
       "425     Christiansø  2012  80.9  69.6       NaN\n",
       "524     Christiansø  2013  80.9  69.4       NaN\n",
       "623     Christiansø  2014  80.9  70.0       NaN\n",
       "722     Christiansø  2015  80.9  75.5       NaN\n",
       "821     Christiansø  2016  80.9  77.8       NaN\n",
       "1283     Copenhagen  2017   NaN   NaN  333579.0\n",
       "1284  Frederiksberg  2017   NaN   NaN  409097.0\n",
       "1285         Dragør  2017   NaN   NaN  490152.0\n",
       "1286         Tårnby  2017   NaN   NaN  373304.0\n",
       "1287    Albertslund  2017   NaN   NaN  332943.0\n",
       "1288       Ballerup  2017   NaN   NaN  415031.0"
      ]
     },
     "execution_count": 15,
     "metadata": {},
     "output_type": "execute_result"
    }
   ],
   "source": [
    "I = (both_outer.year == 2017) | (both_outer.municipality == 'Christiansø')\n",
    "both_outer.loc[I, :].head(15)"
   ]
  },
  {
   "cell_type": "markdown",
   "metadata": {},
   "source": [
    "We see that the **outer join** includes rows that exist in either dataframe and therefore includes missing values. "
   ]
  },
  {
   "cell_type": "markdown",
   "metadata": {},
   "source": [
    "### Inner join"
   ]
  },
  {
   "cell_type": "code",
   "execution_count": 16,
   "metadata": {},
   "outputs": [
    {
     "data": {
      "image/png": "[encoded data removed]",
      "text/plain": [
       "<Figure size 432x288 with 1 Axes>"
      ]
     },
     "metadata": {},
     "output_type": "display_data"
    }
   ],
   "source": [
    "plt.figure()\n",
    "v = venn2(subsets = (4, 4, 10), set_labels = ('empl', 'inc'))\n",
    "v.get_label_by_id('100').set_text('Dropped'); v.get_patch_by_id('100').set_alpha(0.05)\n",
    "v.get_label_by_id('010').set_text('Dropped'); v.get_patch_by_id('010').set_alpha(0.05)\n",
    "v.get_label_by_id('110').set_text('Included')\n",
    "plt.title('Inner join')\n",
    "plt.show()"
   ]
  },
  {
   "cell_type": "code",
   "execution_count": 17,
   "metadata": {},
   "outputs": [
    {
     "name": "stdout",
     "output_type": "stream",
     "text": [
      "Number of municipalities = 98\n",
      "Number of years          = 9\n"
     ]
    }
   ],
   "source": [
    "both_inner = pd.merge(empl,inc,how='inner',on=['municipality','year'])\n",
    "\n",
    "print(f'Number of municipalities = {len(both_inner.municipality.unique())}')\n",
    "print(f'Number of years          = {len(both_inner.year.unique())}')"
   ]
  },
  {
   "cell_type": "code",
   "execution_count": 18,
   "metadata": {},
   "outputs": [
    {
     "data": {
      "text/html": [
       "<div>\n",
       "<style scoped>\n",
       "    .dataframe tbody tr th:only-of-type {\n",
       "        vertical-align: middle;\n",
       "    }\n",
       "\n",
       "    .dataframe tbody tr th {\n",
       "        vertical-align: top;\n",
       "    }\n",
       "\n",
       "    .dataframe thead th {\n",
       "        text-align: right;\n",
       "    }\n",
       "</style>\n",
       "<table border=\"1\" class=\"dataframe\">\n",
       "  <thead>\n",
       "    <tr style=\"text-align: right;\">\n",
       "      <th></th>\n",
       "      <th>municipality</th>\n",
       "      <th>year</th>\n",
       "      <th>2017</th>\n",
       "      <th>e</th>\n",
       "      <th>inc</th>\n",
       "    </tr>\n",
       "  </thead>\n",
       "  <tbody>\n",
       "  </tbody>\n",
       "</table>\n",
       "</div>"
      ],
      "text/plain": [
       "Empty DataFrame\n",
       "Columns: [municipality, year, 2017, e, inc]\n",
       "Index: []"
      ]
     },
     "execution_count": 18,
     "metadata": {},
     "output_type": "execute_result"
    }
   ],
   "source": [
    "I = (both_inner.year == 2017) | (both_inner.municipality == 'Christiansø')\n",
    "both_inner.loc[I, :].head(15)"
   ]
  },
  {
   "cell_type": "markdown",
   "metadata": {},
   "source": [
    "We see that the **inner join** does not contain any rows that are not in both dataframes. "
   ]
  },
  {
   "cell_type": "markdown",
   "metadata": {},
   "source": [
    "### Left join"
   ]
  },
  {
   "cell_type": "markdown",
   "metadata": {},
   "source": [
    "In my work, I most frequently use the **left join**. It is also known as a *many-to-one* join. \n",
    "\n",
    "* **Left dataset:** `both_outer` many observations of a given municipality (one per year),\n",
    "* **Right dataset:** `area` at most one observation per municipality and new variables (area). "
   ]
  },
  {
   "cell_type": "markdown",
   "metadata": {},
   "source": [
    "It is also applicable if you have, say, a dataset of transactions with customer ID and you have a different dataset with customers and their Facebook ID. Then your **left** frame would be transactions (with many rows per customer) and your **right** frame would have precisely one row per customer. "
   ]
  },
  {
   "cell_type": "markdown",
   "metadata": {},
   "source": [
    "**Venn diagram:** The left join includes all observations in the left dataframe. It will not drop rows where the right dataframe does not exist and, and it will not add rows in the right frame if they are not in the left frame. "
   ]
  },
  {
   "cell_type": "markdown",
   "metadata": {},
   "source": [
    "**Our setting:** To use the join, we want first the left frame to contain all the rows that should be in our final dataset. We will call the left dataset `munis`. To create it, we will need these convenient functions: \n",
    "\n",
    "* `df.drop_duplicates()`: Drops duplicate rows in terms of *all* variables, \n",
    "* `df.append()`: Simple concatenation (it just adds the row for one dataframe below the rows for another. "
   ]
  },
  {
   "cell_type": "code",
   "execution_count": 19,
   "metadata": {},
   "outputs": [],
   "source": [
    "both_with_area = pd.merge(both_inner, area, on='municipality', how='left')"
   ]
  },
  {
   "cell_type": "code",
   "execution_count": 20,
   "metadata": {},
   "outputs": [
    {
     "name": "stdout",
     "output_type": "stream",
     "text": [
      "both_inner has shape (882, 5)\n",
      "area has shape (100, 2)\n",
      "merge result has shape (882, 6)\n"
     ]
    }
   ],
   "source": [
    "print(f'both_inner has shape {both_inner.shape}')\n",
    "print(f'area has shape {area.shape}')\n",
    "print(f'merge result has shape {both_with_area.shape}')"
   ]
  },
  {
   "cell_type": "code",
   "execution_count": 21,
   "metadata": {},
   "outputs": [
    {
     "data": {
      "image/png": "[encoded data removed]",
      "text/plain": [
       "<Figure size 432x288 with 1 Axes>"
      ]
     },
     "metadata": {},
     "output_type": "display_data"
    }
   ],
   "source": [
    "plt.figure()\n",
    "v = venn2(subsets = (4, 4, 10), set_labels = ('both_outer', 'area'))\n",
    "v.get_label_by_id('100').set_text('Included: km2 missing'); \n",
    "v.get_label_by_id('010').set_text('Dropped'); v.get_patch_by_id('010').set_alpha(0.05)\n",
    "v.get_label_by_id('110').set_text('Included')\n",
    "plt.title('Left join')\n",
    "plt.show()"
   ]
  },
  {
   "cell_type": "markdown",
   "metadata": {},
   "source": [
    "#### Intermezzo: finding the non-overlapping observations"
   ]
  },
  {
   "cell_type": "code",
   "execution_count": 22,
   "metadata": {},
   "outputs": [
    {
     "name": "stdout",
     "output_type": "stream",
     "text": [
      "There are 100 municipalities in area.\n",
      "There are 0 municipalities in both_inner that are not in area. They are:\n",
      "[]\n",
      "There is 2 municipalities in area that are not in both_inner. They are:\n",
      "['All Denmark', 'Christiansø']\n"
     ]
    }
   ],
   "source": [
    "print(f'There are {area.municipality.unique().shape[0]} municipalities in area.')\n",
    "\n",
    "munis_not_in_area       = [m for m in both_inner.municipality.unique() if m not in area.municipality.unique()]\n",
    "munis_not_in_both_inner = [m for m in area.municipality.unique()       if m not in both_inner.municipality.unique()]\n",
    "\n",
    "print(f'There are {len(munis_not_in_area)} municipalities in both_inner that are not in area. They are:')\n",
    "print(munis_not_in_area)\n",
    "\n",
    "print(f'There is {len(munis_not_in_both_inner)} municipalities in area that are not in both_inner. They are:')\n",
    "print(munis_not_in_both_inner)"
   ]
  },
  {
   "cell_type": "markdown",
   "metadata": {},
   "source": [
    "#### Alternative function for left joins: `df.join`"
   ]
  },
  {
   "cell_type": "markdown",
   "metadata": {},
   "source": [
    "To use a left join function `df.join()`, we must first set the index. Technically, we do not need this, but if you ever need to join on more than one variable, `df.join()` requires you to work with indices so we might as well learn it now. "
   ]
  },
  {
   "cell_type": "code",
   "execution_count": 23,
   "metadata": {},
   "outputs": [],
   "source": [
    "both_outer.set_index('municipality', inplace=True)\n",
    "area.set_index('municipality', inplace=True)\n",
    "\n",
    "final = both_outer.join(area).reset_index()"
   ]
  },
  {
   "cell_type": "code",
   "execution_count": 24,
   "metadata": {},
   "outputs": [
    {
     "name": "stdout",
     "output_type": "stream",
     "text": [
      "(1381, 4)\n",
      "(100, 1)\n",
      "Before, both_outer has shape: (1381, 4)\n",
      "Final has shape: (1381, 6)\n"
     ]
    },
    {
     "data": {
      "text/html": [
       "<div>\n",
       "<style scoped>\n",
       "    .dataframe tbody tr th:only-of-type {\n",
       "        vertical-align: middle;\n",
       "    }\n",
       "\n",
       "    .dataframe tbody tr th {\n",
       "        vertical-align: top;\n",
       "    }\n",
       "\n",
       "    .dataframe thead th {\n",
       "        text-align: right;\n",
       "    }\n",
       "</style>\n",
       "<table border=\"1\" class=\"dataframe\">\n",
       "  <thead>\n",
       "    <tr style=\"text-align: right;\">\n",
       "      <th></th>\n",
       "      <th>municipality</th>\n",
       "      <th>year</th>\n",
       "      <th>2017</th>\n",
       "      <th>e</th>\n",
       "      <th>inc</th>\n",
       "      <th>km2</th>\n",
       "    </tr>\n",
       "  </thead>\n",
       "  <tbody>\n",
       "    <tr>\n",
       "      <th>0</th>\n",
       "      <td>Aabenraa</td>\n",
       "      <td>2008</td>\n",
       "      <td>72.9</td>\n",
       "      <td>74.6</td>\n",
       "      <td>308611.0</td>\n",
       "      <td>940.7</td>\n",
       "    </tr>\n",
       "    <tr>\n",
       "      <th>1</th>\n",
       "      <td>Aabenraa</td>\n",
       "      <td>2009</td>\n",
       "      <td>72.9</td>\n",
       "      <td>71.6</td>\n",
       "      <td>308226.0</td>\n",
       "      <td>940.7</td>\n",
       "    </tr>\n",
       "    <tr>\n",
       "      <th>2</th>\n",
       "      <td>Aabenraa</td>\n",
       "      <td>2010</td>\n",
       "      <td>72.9</td>\n",
       "      <td>70.9</td>\n",
       "      <td>350112.0</td>\n",
       "      <td>940.7</td>\n",
       "    </tr>\n",
       "    <tr>\n",
       "      <th>3</th>\n",
       "      <td>Aabenraa</td>\n",
       "      <td>2011</td>\n",
       "      <td>72.9</td>\n",
       "      <td>70.2</td>\n",
       "      <td>346564.0</td>\n",
       "      <td>940.7</td>\n",
       "    </tr>\n",
       "  </tbody>\n",
       "</table>\n",
       "</div>"
      ],
      "text/plain": [
       "  municipality  year  2017     e       inc    km2\n",
       "0     Aabenraa  2008  72.9  74.6  308611.0  940.7\n",
       "1     Aabenraa  2009  72.9  71.6  308226.0  940.7\n",
       "2     Aabenraa  2010  72.9  70.9  350112.0  940.7\n",
       "3     Aabenraa  2011  72.9  70.2  346564.0  940.7"
      ]
     },
     "execution_count": 24,
     "metadata": {},
     "output_type": "execute_result"
    }
   ],
   "source": [
    "print(both_outer.shape)\n",
    "print(area.shape)\n",
    "\n",
    "print(f'Before, both_outer has shape: {both_outer.shape}')\n",
    "\n",
    "print(f'Final has shape: {final.shape}')\n",
    "\n",
    "final.head(4)"
   ]
  },
  {
   "cell_type": "markdown",
   "metadata": {},
   "source": [
    "We see that no rows were added (1381 rows both before and after the join). Moreover, rows that were in left frame (`both_outer`) but not in the right (`area`) were kept but will have missing values for the new variables coming from left (area). This is a good way of illustrating a new command: \n",
    "* `df.var.isin(LIST)`: returns a list of integers as long as `df.var` with each element being true if `var` is in the list `LIST` for that row. "
   ]
  },
  {
   "cell_type": "markdown",
   "metadata": {},
   "source": [
    "We can compute the share of all the rows that have missings by using the following function: \n",
    "* `df.var.notnull()`: returns a list of logical variables that are true when the variable is not missing \n",
    "* `df.var.mean()`: computes the mean of a variable \n",
    "\n",
    "We can combine the two to do our calculation in one step: "
   ]
  },
  {
   "cell_type": "code",
   "execution_count": 25,
   "metadata": {},
   "outputs": [
    {
     "data": {
      "text/plain": [
       "0.0"
      ]
     },
     "execution_count": 25,
     "metadata": {},
     "output_type": "execute_result"
    }
   ],
   "source": [
    "final.km2.isnull().mean()"
   ]
  },
  {
   "cell_type": "markdown",
   "metadata": {},
   "source": [
    "## Other programming languages "
   ]
  },
  {
   "cell_type": "markdown",
   "metadata": {},
   "source": [
    "### SQL (including SAS proc sql)"
   ]
  },
  {
   "cell_type": "markdown",
   "metadata": {},
   "source": [
    "SQL is one of the most powerful database languages and many other programming languages embed a version of it. For example, SAS has the Proc SQL, where you can use SQL syntax. "
   ]
  },
  {
   "cell_type": "markdown",
   "metadata": {},
   "source": [
    "SQL is written in statements such as "
   ]
  },
  {
   "cell_type": "markdown",
   "metadata": {},
   "source": [
    "* **left join**   `select * from empl left join inc on empl.municipality = inc.municipality and empl.year = inc.year`\n",
    "* **outer join** `select * from empl full outer join inc on empl.municipality = inc.municipality and empl.year = inc.year`"
   ]
  },
  {
   "cell_type": "markdown",
   "metadata": {},
   "source": [
    "### Stata"
   ]
  },
  {
   "cell_type": "markdown",
   "metadata": {},
   "source": [
    "In Stata, the command `merge` nests many of the commands mentioned above. You specify `merge 1:1`  for a one-to-one merge or `merge m:1`  or `merge 1:m`  for many-to-one or one-to-many merges, and you do not use `merge m:m` (until you are quite advanced). "
   ]
  },
  {
   "cell_type": "markdown",
   "metadata": {},
   "source": [
    "By default, Stata then keeps any variable in either of the two datasets and creates a dummy variable informing you where the individual rows come from. "
   ]
  },
  {
   "cell_type": "markdown",
   "metadata": {
    "toc-hr-collapsed": true
   },
   "source": [
    "# Fetching data using an API\n",
    "\n",
    "API stands for **Application Programming Interface**. In the context of data sources, it is a protocol for communication with a database. Essentially, it is the language that we can use in Python to speak to a source, e.g. Statistics Denmark, and directly receive data without the need to go to their website, download data in Excel format, convert it to python-readable, etc. "
   ]
  },
  {
   "cell_type": "markdown",
   "metadata": {
    "toc-hr-collapsed": true
   },
   "source": [
    "Fetching data from an API requires an internet connection and works directly without saving data to your hard disc (unless you ask Python to do so afterwards). You can use it to automate tasks such as fetching the most recent data, doing some calculations and outputting it in the same manner. This can be useful e.g. for quarterly reports. "
   ]
  },
  {
   "cell_type": "markdown",
   "metadata": {
    "toc-hr-collapsed": true
   },
   "source": [
    "**Pros:** Automatic; smart; everything is done from Python (so no need to remember steps in between). \n",
    "\n",
    "**Cons:** The connection can be slow or drop out, which may lead to errors. If e.g. 100 students simultaneously fetch data (during, say, a lecture), the host server may not be able to service all the requests and may drop out. "
   ]
  },
  {
   "cell_type": "markdown",
   "metadata": {
    "toc-hr-collapsed": true
   },
   "source": [
    "The raw output data from an API could look like this: https://stats.oecd.org/SDMX-JSON/data/NAAG. It is a log list of non-human-readable gobledygook in the so-called \"JSON\" format. "
   ]
  },
  {
   "cell_type": "markdown",
   "metadata": {},
   "source": [
    "**Import the packages** we need. If you do not have `pandas_datareader`, install it by typing in a terminal: \n",
    "\n",
    "`pip install pandas-datareader`"
   ]
  },
  {
   "cell_type": "code",
   "execution_count": 26,
   "metadata": {},
   "outputs": [],
   "source": [
    "import pandas_datareader\n",
    "import datetime"
   ]
  },
  {
   "cell_type": "code",
   "execution_count": 27,
   "metadata": {},
   "outputs": [],
   "source": [
    "# This should work in principle, but the OECD server takes *AGES* to respond... \n",
    "# To test whether you have the right table, use \n",
    "#    https://stats.oecd.org/SDMX-JSON/data/NAMEOFTALBE, e.g. https://stats.oecd.org/SDMX-JSON/data/NAAG\n",
    "# dat = pandas_datareader.data.DataReader('NAAG','oecd')"
   ]
  },
  {
   "cell_type": "markdown",
   "metadata": {},
   "source": [
    "## pydst (Statistics Denmark)\n",
    "\n",
    "To install, open a terminal and run the command: `pip install git+https://github.com/elben10/pydst`"
   ]
  },
  {
   "cell_type": "code",
   "execution_count": 28,
   "metadata": {},
   "outputs": [],
   "source": [
    "import pydst"
   ]
  },
  {
   "cell_type": "markdown",
   "metadata": {},
   "source": [
    "Data from DST are organized into: \n",
    "1. Subjects: indexed by numbers. Use `Dst.get_subjects()` to see the list. \n",
    "2. Tables: with names like \"INDKP107\". Use `Dst.get_tables(subjects=['X'])` to see all tables in a subject. \n",
    "\n",
    "Data is extracted eventually with `Dst.get_data(table_id = 'NAME', variables = DICT)`. "
   ]
  },
  {
   "cell_type": "code",
   "execution_count": 29,
   "metadata": {},
   "outputs": [],
   "source": [
    "Dst = pydst.Dst(lang='en')"
   ]
  },
  {
   "cell_type": "markdown",
   "metadata": {},
   "source": [
    "The command `Dst.get_subjects()` provides a list of all the top-level subjects that data falls under"
   ]
  },
  {
   "cell_type": "code",
   "execution_count": 30,
   "metadata": {},
   "outputs": [
    {
     "data": {
      "text/html": [
       "<div>\n",
       "<style scoped>\n",
       "    .dataframe tbody tr th:only-of-type {\n",
       "        vertical-align: middle;\n",
       "    }\n",
       "\n",
       "    .dataframe tbody tr th {\n",
       "        vertical-align: top;\n",
       "    }\n",
       "\n",
       "    .dataframe thead th {\n",
       "        text-align: right;\n",
       "    }\n",
       "</style>\n",
       "<table border=\"1\" class=\"dataframe\">\n",
       "  <thead>\n",
       "    <tr style=\"text-align: right;\">\n",
       "      <th></th>\n",
       "      <th>active</th>\n",
       "      <th>desc</th>\n",
       "      <th>hasSubjects</th>\n",
       "      <th>id</th>\n",
       "    </tr>\n",
       "  </thead>\n",
       "  <tbody>\n",
       "    <tr>\n",
       "      <th>0</th>\n",
       "      <td>True</td>\n",
       "      <td>Population and elections</td>\n",
       "      <td>True</td>\n",
       "      <td>02</td>\n",
       "    </tr>\n",
       "    <tr>\n",
       "      <th>1</th>\n",
       "      <td>True</td>\n",
       "      <td>Living conditions</td>\n",
       "      <td>True</td>\n",
       "      <td>05</td>\n",
       "    </tr>\n",
       "    <tr>\n",
       "      <th>2</th>\n",
       "      <td>True</td>\n",
       "      <td>Education and knowledge</td>\n",
       "      <td>True</td>\n",
       "      <td>03</td>\n",
       "    </tr>\n",
       "    <tr>\n",
       "      <th>3</th>\n",
       "      <td>True</td>\n",
       "      <td>Culture and National Church</td>\n",
       "      <td>True</td>\n",
       "      <td>18</td>\n",
       "    </tr>\n",
       "    <tr>\n",
       "      <th>4</th>\n",
       "      <td>True</td>\n",
       "      <td>Labour, income and wealth</td>\n",
       "      <td>True</td>\n",
       "      <td>04</td>\n",
       "    </tr>\n",
       "    <tr>\n",
       "      <th>5</th>\n",
       "      <td>True</td>\n",
       "      <td>Prices and consumption</td>\n",
       "      <td>True</td>\n",
       "      <td>06</td>\n",
       "    </tr>\n",
       "    <tr>\n",
       "      <th>6</th>\n",
       "      <td>True</td>\n",
       "      <td>National accounts and government finances</td>\n",
       "      <td>True</td>\n",
       "      <td>14</td>\n",
       "    </tr>\n",
       "    <tr>\n",
       "      <th>7</th>\n",
       "      <td>True</td>\n",
       "      <td>Money and credit market</td>\n",
       "      <td>True</td>\n",
       "      <td>16</td>\n",
       "    </tr>\n",
       "    <tr>\n",
       "      <th>8</th>\n",
       "      <td>True</td>\n",
       "      <td>External economy</td>\n",
       "      <td>True</td>\n",
       "      <td>13</td>\n",
       "    </tr>\n",
       "    <tr>\n",
       "      <th>9</th>\n",
       "      <td>True</td>\n",
       "      <td>Business sector in general</td>\n",
       "      <td>True</td>\n",
       "      <td>07</td>\n",
       "    </tr>\n",
       "    <tr>\n",
       "      <th>10</th>\n",
       "      <td>True</td>\n",
       "      <td>Business sectors</td>\n",
       "      <td>True</td>\n",
       "      <td>11</td>\n",
       "    </tr>\n",
       "    <tr>\n",
       "      <th>11</th>\n",
       "      <td>True</td>\n",
       "      <td>Geography, environment and energy</td>\n",
       "      <td>True</td>\n",
       "      <td>01</td>\n",
       "    </tr>\n",
       "    <tr>\n",
       "      <th>12</th>\n",
       "      <td>True</td>\n",
       "      <td>Other</td>\n",
       "      <td>True</td>\n",
       "      <td>19</td>\n",
       "    </tr>\n",
       "  </tbody>\n",
       "</table>\n",
       "</div>"
      ],
      "text/plain": [
       "    active                                       desc  hasSubjects  id\n",
       "0     True                   Population and elections         True  02\n",
       "1     True                          Living conditions         True  05\n",
       "2     True                    Education and knowledge         True  03\n",
       "3     True                Culture and National Church         True  18\n",
       "4     True                  Labour, income and wealth         True  04\n",
       "5     True                     Prices and consumption         True  06\n",
       "6     True  National accounts and government finances         True  14\n",
       "7     True                    Money and credit market         True  16\n",
       "8     True                           External economy         True  13\n",
       "9     True                 Business sector in general         True  07\n",
       "10    True                           Business sectors         True  11\n",
       "11    True          Geography, environment and energy         True  01\n",
       "12    True                                      Other         True  19"
      ]
     },
     "execution_count": 30,
     "metadata": {},
     "output_type": "execute_result"
    }
   ],
   "source": [
    "Dst.get_subjects()"
   ]
  },
  {
   "cell_type": "markdown",
   "metadata": {},
   "source": [
    "With `get_tables()`, we can list all the available tables under one subject. The column `id` is what we will use to fetch the data eventually (it is also the name we use to refer to DST tables from academic writing). "
   ]
  },
  {
   "cell_type": "code",
   "execution_count": 31,
   "metadata": {},
   "outputs": [
    {
     "data": {
      "text/html": [
       "<div>\n",
       "<style scoped>\n",
       "    .dataframe tbody tr th:only-of-type {\n",
       "        vertical-align: middle;\n",
       "    }\n",
       "\n",
       "    .dataframe tbody tr th {\n",
       "        vertical-align: top;\n",
       "    }\n",
       "\n",
       "    .dataframe thead th {\n",
       "        text-align: right;\n",
       "    }\n",
       "</style>\n",
       "<table border=\"1\" class=\"dataframe\">\n",
       "  <thead>\n",
       "    <tr style=\"text-align: right;\">\n",
       "      <th></th>\n",
       "      <th>active</th>\n",
       "      <th>firstPeriod</th>\n",
       "      <th>id</th>\n",
       "      <th>latestPeriod</th>\n",
       "      <th>text</th>\n",
       "      <th>unit</th>\n",
       "      <th>updated</th>\n",
       "      <th>variables</th>\n",
       "    </tr>\n",
       "  </thead>\n",
       "  <tbody>\n",
       "    <tr>\n",
       "      <th>256</th>\n",
       "      <td>True</td>\n",
       "      <td>1981</td>\n",
       "      <td>LIGEHB5</td>\n",
       "      <td>2017</td>\n",
       "      <td>Deaths</td>\n",
       "      <td>number</td>\n",
       "      <td>2019-03-12 08:00:00</td>\n",
       "      <td>[cause of death, age, sex, time]</td>\n",
       "    </tr>\n",
       "    <tr>\n",
       "      <th>665</th>\n",
       "      <td>True</td>\n",
       "      <td>1996</td>\n",
       "      <td>PHD1</td>\n",
       "      <td>2018</td>\n",
       "      <td>Entrants, doctorate students</td>\n",
       "      <td>number</td>\n",
       "      <td>2019-05-29 08:00:00</td>\n",
       "      <td>[main areas, sex, time]</td>\n",
       "    </tr>\n",
       "    <tr>\n",
       "      <th>1810</th>\n",
       "      <td>True</td>\n",
       "      <td>2012</td>\n",
       "      <td>BYGT1</td>\n",
       "      <td>2017</td>\n",
       "      <td>Purchase of services in the construction industry</td>\n",
       "      <td>-</td>\n",
       "      <td>2019-05-03 08:00:00</td>\n",
       "      <td>[servicegroup, industry (DB07), unit, time]</td>\n",
       "    </tr>\n",
       "    <tr>\n",
       "      <th>1185</th>\n",
       "      <td>True</td>\n",
       "      <td>2006</td>\n",
       "      <td>BIL611</td>\n",
       "      <td>2017</td>\n",
       "      <td>Families purchase of vehicles</td>\n",
       "      <td>per cent</td>\n",
       "      <td>2018-06-29 08:00:00</td>\n",
       "      <td>[region, unit, patteren of purchase, time]</td>\n",
       "    </tr>\n",
       "    <tr>\n",
       "      <th>338</th>\n",
       "      <td>True</td>\n",
       "      <td>2015</td>\n",
       "      <td>LIVFO3</td>\n",
       "      <td>2015</td>\n",
       "      <td>Quality of life</td>\n",
       "      <td>-</td>\n",
       "      <td>2016-11-07 09:00:00</td>\n",
       "      <td>[state of mind, unit, wealth, region, sex, time]</td>\n",
       "    </tr>\n",
       "    <tr>\n",
       "      <th>229</th>\n",
       "      <td>True</td>\n",
       "      <td>2010</td>\n",
       "      <td>LIGEKB2</td>\n",
       "      <td>2018</td>\n",
       "      <td>Payments by the Ministry of Culture to persona...</td>\n",
       "      <td>DKK 1,000</td>\n",
       "      <td>2019-05-16 08:00:00</td>\n",
       "      <td>[region, cultural domains, sex, age groups, time]</td>\n",
       "    </tr>\n",
       "    <tr>\n",
       "      <th>1033</th>\n",
       "      <td>True</td>\n",
       "      <td>2008</td>\n",
       "      <td>AFSTA3</td>\n",
       "      <td>2017</td>\n",
       "      <td>Employed persons (end November)</td>\n",
       "      <td>number</td>\n",
       "      <td>2019-05-24 08:00:00</td>\n",
       "      <td>[area of workplace, socioeconomic status, sex,...</td>\n",
       "    </tr>\n",
       "    <tr>\n",
       "      <th>1542</th>\n",
       "      <td>True</td>\n",
       "      <td>2008</td>\n",
       "      <td>ERHV6</td>\n",
       "      <td>2017</td>\n",
       "      <td>Workplaces</td>\n",
       "      <td>number</td>\n",
       "      <td>2019-03-27 08:00:00</td>\n",
       "      <td>[region, industry (DB07 10-grouping), size of ...</td>\n",
       "    </tr>\n",
       "    <tr>\n",
       "      <th>1204</th>\n",
       "      <td>True</td>\n",
       "      <td>2000</td>\n",
       "      <td>BIL86</td>\n",
       "      <td>2017</td>\n",
       "      <td>Families disposal of vehicles</td>\n",
       "      <td>number</td>\n",
       "      <td>2018-07-02 08:00:00</td>\n",
       "      <td>[stock, income, pattern of disposal, time]</td>\n",
       "    </tr>\n",
       "    <tr>\n",
       "      <th>48</th>\n",
       "      <td>True</td>\n",
       "      <td>2007</td>\n",
       "      <td>FODIE</td>\n",
       "      <td>2018</td>\n",
       "      <td>Live births</td>\n",
       "      <td>number</td>\n",
       "      <td>2019-02-11 08:00:00</td>\n",
       "      <td>[region, mothers ancestry, mothers country of ...</td>\n",
       "    </tr>\n",
       "  </tbody>\n",
       "</table>\n",
       "</div>"
      ],
      "text/plain": [
       "      active firstPeriod       id latestPeriod  \\\n",
       "256     True        1981  LIGEHB5         2017   \n",
       "665     True        1996     PHD1         2018   \n",
       "1810    True        2012    BYGT1         2017   \n",
       "1185    True        2006   BIL611         2017   \n",
       "338     True        2015   LIVFO3         2015   \n",
       "229     True        2010  LIGEKB2         2018   \n",
       "1033    True        2008   AFSTA3         2017   \n",
       "1542    True        2008    ERHV6         2017   \n",
       "1204    True        2000    BIL86         2017   \n",
       "48      True        2007    FODIE         2018   \n",
       "\n",
       "                                                   text       unit  \\\n",
       "256                                              Deaths     number   \n",
       "665                        Entrants, doctorate students     number   \n",
       "1810  Purchase of services in the construction industry          -   \n",
       "1185                      Families purchase of vehicles   per cent   \n",
       "338                                     Quality of life          -   \n",
       "229   Payments by the Ministry of Culture to persona...  DKK 1,000   \n",
       "1033                    Employed persons (end November)     number   \n",
       "1542                                         Workplaces     number   \n",
       "1204                      Families disposal of vehicles     number   \n",
       "48                                          Live births     number   \n",
       "\n",
       "                 updated                                          variables  \n",
       "256  2019-03-12 08:00:00                   [cause of death, age, sex, time]  \n",
       "665  2019-05-29 08:00:00                            [main areas, sex, time]  \n",
       "1810 2019-05-03 08:00:00        [servicegroup, industry (DB07), unit, time]  \n",
       "1185 2018-06-29 08:00:00         [region, unit, patteren of purchase, time]  \n",
       "338  2016-11-07 09:00:00   [state of mind, unit, wealth, region, sex, time]  \n",
       "229  2019-05-16 08:00:00  [region, cultural domains, sex, age groups, time]  \n",
       "1033 2019-05-24 08:00:00  [area of workplace, socioeconomic status, sex,...  \n",
       "1542 2019-03-27 08:00:00  [region, industry (DB07 10-grouping), size of ...  \n",
       "1204 2018-07-02 08:00:00         [stock, income, pattern of disposal, time]  \n",
       "48   2019-02-11 08:00:00  [region, mothers ancestry, mothers country of ...  "
      ]
     },
     "execution_count": 31,
     "metadata": {},
     "output_type": "execute_result"
    }
   ],
   "source": [
    "Dst.get_tables(subjects=['14']).sample(10)"
   ]
  },
  {
   "cell_type": "markdown",
   "metadata": {},
   "source": [
    "Let's pick the table with `id` INDKP107. If we do not specify anything, then `get_data()` will fecth only one row of data from the table. "
   ]
  },
  {
   "cell_type": "code",
   "execution_count": 34,
   "metadata": {},
   "outputs": [
    {
     "data": {
      "text/html": [
       "<div>\n",
       "<style scoped>\n",
       "    .dataframe tbody tr th:only-of-type {\n",
       "        vertical-align: middle;\n",
       "    }\n",
       "\n",
       "    .dataframe tbody tr th {\n",
       "        vertical-align: top;\n",
       "    }\n",
       "\n",
       "    .dataframe thead th {\n",
       "        text-align: right;\n",
       "    }\n",
       "</style>\n",
       "<table border=\"1\" class=\"dataframe\">\n",
       "  <thead>\n",
       "    <tr style=\"text-align: right;\">\n",
       "      <th></th>\n",
       "      <th>OMRÅDE</th>\n",
       "      <th>ENHED</th>\n",
       "      <th>KOEN</th>\n",
       "      <th>UDDNIV</th>\n",
       "      <th>INDKOMSTTYPE</th>\n",
       "      <th>TID</th>\n",
       "      <th>INDHOLD</th>\n",
       "    </tr>\n",
       "  </thead>\n",
       "  <tbody>\n",
       "    <tr>\n",
       "      <th>0</th>\n",
       "      <td>All Denmark</td>\n",
       "      <td>People with type of income (number)</td>\n",
       "      <td>Men and women, total</td>\n",
       "      <td>10 BASIC SCHOOL 8-10 grade</td>\n",
       "      <td>1 Disposable income (2+30-31-32-35)</td>\n",
       "      <td>2004</td>\n",
       "      <td>1487917</td>\n",
       "    </tr>\n",
       "  </tbody>\n",
       "</table>\n",
       "</div>"
      ],
      "text/plain": [
       "        OMRÅDE                                ENHED                  KOEN  \\\n",
       "0  All Denmark  People with type of income (number)  Men and women, total   \n",
       "\n",
       "                       UDDNIV                         INDKOMSTTYPE   TID  \\\n",
       "0  10 BASIC SCHOOL 8-10 grade  1 Disposable income (2+30-31-32-35)  2004   \n",
       "\n",
       "   INDHOLD  \n",
       "0  1487917  "
      ]
     },
     "execution_count": 34,
     "metadata": {},
     "output_type": "execute_result"
    }
   ],
   "source": [
    "Dst.get_data(table_id = 'INDKP107')"
   ]
  },
  {
   "cell_type": "markdown",
   "metadata": {},
   "source": [
    "`get_variables()` lists all the values that can be attained. "
   ]
  },
  {
   "cell_type": "code",
   "execution_count": 35,
   "metadata": {},
   "outputs": [],
   "source": [
    "indk_vars = Dst.get_variables(table_id='INDKP107')"
   ]
  },
  {
   "cell_type": "code",
   "execution_count": 36,
   "metadata": {},
   "outputs": [
    {
     "data": {
      "text/html": [
       "<div>\n",
       "<style scoped>\n",
       "    .dataframe tbody tr th:only-of-type {\n",
       "        vertical-align: middle;\n",
       "    }\n",
       "\n",
       "    .dataframe tbody tr th {\n",
       "        vertical-align: top;\n",
       "    }\n",
       "\n",
       "    .dataframe thead th {\n",
       "        text-align: right;\n",
       "    }\n",
       "</style>\n",
       "<table border=\"1\" class=\"dataframe\">\n",
       "  <thead>\n",
       "    <tr style=\"text-align: right;\">\n",
       "      <th></th>\n",
       "      <th>elimination</th>\n",
       "      <th>id</th>\n",
       "      <th>map</th>\n",
       "      <th>text</th>\n",
       "      <th>time</th>\n",
       "      <th>values</th>\n",
       "    </tr>\n",
       "  </thead>\n",
       "  <tbody>\n",
       "    <tr>\n",
       "      <th>0</th>\n",
       "      <td>True</td>\n",
       "      <td>OMRÅDE</td>\n",
       "      <td>denmark_municipality_07</td>\n",
       "      <td>region</td>\n",
       "      <td>False</td>\n",
       "      <td>[{'id': '000', 'text': 'All Denmark'}, {'id': ...</td>\n",
       "    </tr>\n",
       "    <tr>\n",
       "      <th>1</th>\n",
       "      <td>False</td>\n",
       "      <td>ENHED</td>\n",
       "      <td>NaN</td>\n",
       "      <td>unit</td>\n",
       "      <td>False</td>\n",
       "      <td>[{'id': '101', 'text': 'People with type of in...</td>\n",
       "    </tr>\n",
       "    <tr>\n",
       "      <th>2</th>\n",
       "      <td>True</td>\n",
       "      <td>KOEN</td>\n",
       "      <td>NaN</td>\n",
       "      <td>sex</td>\n",
       "      <td>False</td>\n",
       "      <td>[{'id': 'MOK', 'text': 'Men and women, total'}...</td>\n",
       "    </tr>\n",
       "    <tr>\n",
       "      <th>3</th>\n",
       "      <td>False</td>\n",
       "      <td>UDDNIV</td>\n",
       "      <td>NaN</td>\n",
       "      <td>level of education</td>\n",
       "      <td>False</td>\n",
       "      <td>[{'id': '10', 'text': '10 BASIC SCHOOL 8-10 gr...</td>\n",
       "    </tr>\n",
       "    <tr>\n",
       "      <th>4</th>\n",
       "      <td>False</td>\n",
       "      <td>INDKOMSTTYPE</td>\n",
       "      <td>NaN</td>\n",
       "      <td>type of income</td>\n",
       "      <td>False</td>\n",
       "      <td>[{'id': '100', 'text': '1 Disposable income (2...</td>\n",
       "    </tr>\n",
       "    <tr>\n",
       "      <th>5</th>\n",
       "      <td>False</td>\n",
       "      <td>Tid</td>\n",
       "      <td>NaN</td>\n",
       "      <td>time</td>\n",
       "      <td>True</td>\n",
       "      <td>[{'id': '2004', 'text': '2004'}, {'id': '2005'...</td>\n",
       "    </tr>\n",
       "  </tbody>\n",
       "</table>\n",
       "</div>"
      ],
      "text/plain": [
       "   elimination            id                      map                text  \\\n",
       "0         True        OMRÅDE  denmark_municipality_07              region   \n",
       "1        False         ENHED                      NaN                unit   \n",
       "2         True          KOEN                      NaN                 sex   \n",
       "3        False        UDDNIV                      NaN  level of education   \n",
       "4        False  INDKOMSTTYPE                      NaN      type of income   \n",
       "5        False           Tid                      NaN                time   \n",
       "\n",
       "    time                                             values  \n",
       "0  False  [{'id': '000', 'text': 'All Denmark'}, {'id': ...  \n",
       "1  False  [{'id': '101', 'text': 'People with type of in...  \n",
       "2  False  [{'id': 'MOK', 'text': 'Men and women, total'}...  \n",
       "3  False  [{'id': '10', 'text': '10 BASIC SCHOOL 8-10 gr...  \n",
       "4  False  [{'id': '100', 'text': '1 Disposable income (2...  \n",
       "5   True  [{'id': '2004', 'text': '2004'}, {'id': '2005'...  "
      ]
     },
     "execution_count": 36,
     "metadata": {},
     "output_type": "execute_result"
    }
   ],
   "source": [
    "indk_vars"
   ]
  },
  {
   "cell_type": "code",
   "execution_count": 37,
   "metadata": {},
   "outputs": [
    {
     "data": {
      "text/plain": [
       "[{'id': '000', 'text': 'All Denmark'},\n",
       " {'id': '084', 'text': 'Region Hovedstaden'},\n",
       " {'id': '01', 'text': 'Province Byen København'},\n",
       " {'id': '101', 'text': 'Copenhagen'},\n",
       " {'id': '147', 'text': 'Frederiksberg'},\n",
       " {'id': '155', 'text': 'Dragør'},\n",
       " {'id': '185', 'text': 'Tårnby'},\n",
       " {'id': '02', 'text': 'Province Københavns omegn'},\n",
       " {'id': '165', 'text': 'Albertslund'},\n",
       " {'id': '151', 'text': 'Ballerup'}]"
      ]
     },
     "execution_count": 37,
     "metadata": {},
     "output_type": "execute_result"
    }
   ],
   "source": [
    "indk_vars['values'][0][:10]"
   ]
  },
  {
   "cell_type": "markdown",
   "metadata": {},
   "source": [
    "To get the municipality \"Lejre\", we need to fecth the variable `OMRÅDE`, where it equals `350`. Note that we have to specify the value as a list. "
   ]
  },
  {
   "cell_type": "code",
   "execution_count": 38,
   "metadata": {},
   "outputs": [
    {
     "data": {
      "text/html": [
       "<div>\n",
       "<style scoped>\n",
       "    .dataframe tbody tr th:only-of-type {\n",
       "        vertical-align: middle;\n",
       "    }\n",
       "\n",
       "    .dataframe tbody tr th {\n",
       "        vertical-align: top;\n",
       "    }\n",
       "\n",
       "    .dataframe thead th {\n",
       "        text-align: right;\n",
       "    }\n",
       "</style>\n",
       "<table border=\"1\" class=\"dataframe\">\n",
       "  <thead>\n",
       "    <tr style=\"text-align: right;\">\n",
       "      <th></th>\n",
       "      <th>OMRÅDE</th>\n",
       "      <th>ENHED</th>\n",
       "      <th>KOEN</th>\n",
       "      <th>UDDNIV</th>\n",
       "      <th>INDKOMSTTYPE</th>\n",
       "      <th>TID</th>\n",
       "      <th>INDHOLD</th>\n",
       "    </tr>\n",
       "  </thead>\n",
       "  <tbody>\n",
       "    <tr>\n",
       "      <th>0</th>\n",
       "      <td>Lejre</td>\n",
       "      <td>People with type of income (number)</td>\n",
       "      <td>Men and women, total</td>\n",
       "      <td>10 BASIC SCHOOL 8-10 grade</td>\n",
       "      <td>1 Disposable income (2+30-31-32-35)</td>\n",
       "      <td>2004</td>\n",
       "      <td>6060</td>\n",
       "    </tr>\n",
       "  </tbody>\n",
       "</table>\n",
       "</div>"
      ],
      "text/plain": [
       "  OMRÅDE                                ENHED                  KOEN  \\\n",
       "0  Lejre  People with type of income (number)  Men and women, total   \n",
       "\n",
       "                       UDDNIV                         INDKOMSTTYPE   TID  \\\n",
       "0  10 BASIC SCHOOL 8-10 grade  1 Disposable income (2+30-31-32-35)  2004   \n",
       "\n",
       "   INDHOLD  \n",
       "0     6060  "
      ]
     },
     "execution_count": 38,
     "metadata": {},
     "output_type": "execute_result"
    }
   ],
   "source": [
    "Dst.get_data(table_id = 'INDKP107', variables={'OMRÅDE':['350']})"
   ]
  },
  {
   "cell_type": "markdown",
   "metadata": {},
   "source": [
    "To include all years "
   ]
  },
  {
   "cell_type": "code",
   "execution_count": 39,
   "metadata": {},
   "outputs": [
    {
     "data": {
      "text/html": [
       "<div>\n",
       "<style scoped>\n",
       "    .dataframe tbody tr th:only-of-type {\n",
       "        vertical-align: middle;\n",
       "    }\n",
       "\n",
       "    .dataframe tbody tr th {\n",
       "        vertical-align: top;\n",
       "    }\n",
       "\n",
       "    .dataframe thead th {\n",
       "        text-align: right;\n",
       "    }\n",
       "</style>\n",
       "<table border=\"1\" class=\"dataframe\">\n",
       "  <thead>\n",
       "    <tr style=\"text-align: right;\">\n",
       "      <th></th>\n",
       "      <th>OMRÅDE</th>\n",
       "      <th>TID</th>\n",
       "      <th>ENHED</th>\n",
       "      <th>KOEN</th>\n",
       "      <th>UDDNIV</th>\n",
       "      <th>INDKOMSTTYPE</th>\n",
       "      <th>INDHOLD</th>\n",
       "    </tr>\n",
       "  </thead>\n",
       "  <tbody>\n",
       "    <tr>\n",
       "      <th>0</th>\n",
       "      <td>Lejre</td>\n",
       "      <td>2004</td>\n",
       "      <td>People with type of income (number)</td>\n",
       "      <td>Men and women, total</td>\n",
       "      <td>10 BASIC SCHOOL 8-10 grade</td>\n",
       "      <td>1 Disposable income (2+30-31-32-35)</td>\n",
       "      <td>6060</td>\n",
       "    </tr>\n",
       "    <tr>\n",
       "      <th>1</th>\n",
       "      <td>Lejre</td>\n",
       "      <td>2005</td>\n",
       "      <td>People with type of income (number)</td>\n",
       "      <td>Men and women, total</td>\n",
       "      <td>10 BASIC SCHOOL 8-10 grade</td>\n",
       "      <td>1 Disposable income (2+30-31-32-35)</td>\n",
       "      <td>5985</td>\n",
       "    </tr>\n",
       "    <tr>\n",
       "      <th>2</th>\n",
       "      <td>Lejre</td>\n",
       "      <td>2006</td>\n",
       "      <td>People with type of income (number)</td>\n",
       "      <td>Men and women, total</td>\n",
       "      <td>10 BASIC SCHOOL 8-10 grade</td>\n",
       "      <td>1 Disposable income (2+30-31-32-35)</td>\n",
       "      <td>6058</td>\n",
       "    </tr>\n",
       "    <tr>\n",
       "      <th>3</th>\n",
       "      <td>Lejre</td>\n",
       "      <td>2007</td>\n",
       "      <td>People with type of income (number)</td>\n",
       "      <td>Men and women, total</td>\n",
       "      <td>10 BASIC SCHOOL 8-10 grade</td>\n",
       "      <td>1 Disposable income (2+30-31-32-35)</td>\n",
       "      <td>6041</td>\n",
       "    </tr>\n",
       "    <tr>\n",
       "      <th>4</th>\n",
       "      <td>Lejre</td>\n",
       "      <td>2008</td>\n",
       "      <td>People with type of income (number)</td>\n",
       "      <td>Men and women, total</td>\n",
       "      <td>10 BASIC SCHOOL 8-10 grade</td>\n",
       "      <td>1 Disposable income (2+30-31-32-35)</td>\n",
       "      <td>6053</td>\n",
       "    </tr>\n",
       "    <tr>\n",
       "      <th>5</th>\n",
       "      <td>Lejre</td>\n",
       "      <td>2009</td>\n",
       "      <td>People with type of income (number)</td>\n",
       "      <td>Men and women, total</td>\n",
       "      <td>10 BASIC SCHOOL 8-10 grade</td>\n",
       "      <td>1 Disposable income (2+30-31-32-35)</td>\n",
       "      <td>6081</td>\n",
       "    </tr>\n",
       "    <tr>\n",
       "      <th>6</th>\n",
       "      <td>Lejre</td>\n",
       "      <td>2010</td>\n",
       "      <td>People with type of income (number)</td>\n",
       "      <td>Men and women, total</td>\n",
       "      <td>10 BASIC SCHOOL 8-10 grade</td>\n",
       "      <td>1 Disposable income (2+30-31-32-35)</td>\n",
       "      <td>6014</td>\n",
       "    </tr>\n",
       "    <tr>\n",
       "      <th>7</th>\n",
       "      <td>Lejre</td>\n",
       "      <td>2011</td>\n",
       "      <td>People with type of income (number)</td>\n",
       "      <td>Men and women, total</td>\n",
       "      <td>10 BASIC SCHOOL 8-10 grade</td>\n",
       "      <td>1 Disposable income (2+30-31-32-35)</td>\n",
       "      <td>6030</td>\n",
       "    </tr>\n",
       "    <tr>\n",
       "      <th>8</th>\n",
       "      <td>Lejre</td>\n",
       "      <td>2012</td>\n",
       "      <td>People with type of income (number)</td>\n",
       "      <td>Men and women, total</td>\n",
       "      <td>10 BASIC SCHOOL 8-10 grade</td>\n",
       "      <td>1 Disposable income (2+30-31-32-35)</td>\n",
       "      <td>6020</td>\n",
       "    </tr>\n",
       "    <tr>\n",
       "      <th>9</th>\n",
       "      <td>Lejre</td>\n",
       "      <td>2013</td>\n",
       "      <td>People with type of income (number)</td>\n",
       "      <td>Men and women, total</td>\n",
       "      <td>10 BASIC SCHOOL 8-10 grade</td>\n",
       "      <td>1 Disposable income (2+30-31-32-35)</td>\n",
       "      <td>5987</td>\n",
       "    </tr>\n",
       "    <tr>\n",
       "      <th>10</th>\n",
       "      <td>Lejre</td>\n",
       "      <td>2014</td>\n",
       "      <td>People with type of income (number)</td>\n",
       "      <td>Men and women, total</td>\n",
       "      <td>10 BASIC SCHOOL 8-10 grade</td>\n",
       "      <td>1 Disposable income (2+30-31-32-35)</td>\n",
       "      <td>5948</td>\n",
       "    </tr>\n",
       "    <tr>\n",
       "      <th>11</th>\n",
       "      <td>Lejre</td>\n",
       "      <td>2015</td>\n",
       "      <td>People with type of income (number)</td>\n",
       "      <td>Men and women, total</td>\n",
       "      <td>10 BASIC SCHOOL 8-10 grade</td>\n",
       "      <td>1 Disposable income (2+30-31-32-35)</td>\n",
       "      <td>5858</td>\n",
       "    </tr>\n",
       "    <tr>\n",
       "      <th>12</th>\n",
       "      <td>Lejre</td>\n",
       "      <td>2016</td>\n",
       "      <td>People with type of income (number)</td>\n",
       "      <td>Men and women, total</td>\n",
       "      <td>10 BASIC SCHOOL 8-10 grade</td>\n",
       "      <td>1 Disposable income (2+30-31-32-35)</td>\n",
       "      <td>5865</td>\n",
       "    </tr>\n",
       "    <tr>\n",
       "      <th>13</th>\n",
       "      <td>Lejre</td>\n",
       "      <td>2017</td>\n",
       "      <td>People with type of income (number)</td>\n",
       "      <td>Men and women, total</td>\n",
       "      <td>10 BASIC SCHOOL 8-10 grade</td>\n",
       "      <td>1 Disposable income (2+30-31-32-35)</td>\n",
       "      <td>5837</td>\n",
       "    </tr>\n",
       "  </tbody>\n",
       "</table>\n",
       "</div>"
      ],
      "text/plain": [
       "   OMRÅDE   TID                                ENHED                  KOEN  \\\n",
       "0   Lejre  2004  People with type of income (number)  Men and women, total   \n",
       "1   Lejre  2005  People with type of income (number)  Men and women, total   \n",
       "2   Lejre  2006  People with type of income (number)  Men and women, total   \n",
       "3   Lejre  2007  People with type of income (number)  Men and women, total   \n",
       "4   Lejre  2008  People with type of income (number)  Men and women, total   \n",
       "5   Lejre  2009  People with type of income (number)  Men and women, total   \n",
       "6   Lejre  2010  People with type of income (number)  Men and women, total   \n",
       "7   Lejre  2011  People with type of income (number)  Men and women, total   \n",
       "8   Lejre  2012  People with type of income (number)  Men and women, total   \n",
       "9   Lejre  2013  People with type of income (number)  Men and women, total   \n",
       "10  Lejre  2014  People with type of income (number)  Men and women, total   \n",
       "11  Lejre  2015  People with type of income (number)  Men and women, total   \n",
       "12  Lejre  2016  People with type of income (number)  Men and women, total   \n",
       "13  Lejre  2017  People with type of income (number)  Men and women, total   \n",
       "\n",
       "                        UDDNIV                         INDKOMSTTYPE  INDHOLD  \n",
       "0   10 BASIC SCHOOL 8-10 grade  1 Disposable income (2+30-31-32-35)     6060  \n",
       "1   10 BASIC SCHOOL 8-10 grade  1 Disposable income (2+30-31-32-35)     5985  \n",
       "2   10 BASIC SCHOOL 8-10 grade  1 Disposable income (2+30-31-32-35)     6058  \n",
       "3   10 BASIC SCHOOL 8-10 grade  1 Disposable income (2+30-31-32-35)     6041  \n",
       "4   10 BASIC SCHOOL 8-10 grade  1 Disposable income (2+30-31-32-35)     6053  \n",
       "5   10 BASIC SCHOOL 8-10 grade  1 Disposable income (2+30-31-32-35)     6081  \n",
       "6   10 BASIC SCHOOL 8-10 grade  1 Disposable income (2+30-31-32-35)     6014  \n",
       "7   10 BASIC SCHOOL 8-10 grade  1 Disposable income (2+30-31-32-35)     6030  \n",
       "8   10 BASIC SCHOOL 8-10 grade  1 Disposable income (2+30-31-32-35)     6020  \n",
       "9   10 BASIC SCHOOL 8-10 grade  1 Disposable income (2+30-31-32-35)     5987  \n",
       "10  10 BASIC SCHOOL 8-10 grade  1 Disposable income (2+30-31-32-35)     5948  \n",
       "11  10 BASIC SCHOOL 8-10 grade  1 Disposable income (2+30-31-32-35)     5858  \n",
       "12  10 BASIC SCHOOL 8-10 grade  1 Disposable income (2+30-31-32-35)     5865  \n",
       "13  10 BASIC SCHOOL 8-10 grade  1 Disposable income (2+30-31-32-35)     5837  "
      ]
     },
     "execution_count": 39,
     "metadata": {},
     "output_type": "execute_result"
    }
   ],
   "source": [
    "Dst.get_data(table_id = 'INDKP107', variables={'OMRÅDE':['350'], 'TID':['*']})"
   ]
  },
  {
   "cell_type": "markdown",
   "metadata": {},
   "source": [
    "To get the full dataset, all genders, all regions, all years, but only the top level of `UDDNIV` and `INDKOMSTTYPE`: "
   ]
  },
  {
   "cell_type": "code",
   "execution_count": 40,
   "metadata": {},
   "outputs": [],
   "source": [
    "inc_api = Dst.get_data(table_id = 'INDKP107', variables={'OMRÅDE':['*'], 'KOEN':['*'], 'TID':['*']})"
   ]
  },
  {
   "cell_type": "code",
   "execution_count": 41,
   "metadata": {},
   "outputs": [
    {
     "data": {
      "text/html": [
       "<div>\n",
       "<style scoped>\n",
       "    .dataframe tbody tr th:only-of-type {\n",
       "        vertical-align: middle;\n",
       "    }\n",
       "\n",
       "    .dataframe tbody tr th {\n",
       "        vertical-align: top;\n",
       "    }\n",
       "\n",
       "    .dataframe thead th {\n",
       "        text-align: right;\n",
       "    }\n",
       "</style>\n",
       "<table border=\"1\" class=\"dataframe\">\n",
       "  <thead>\n",
       "    <tr style=\"text-align: right;\">\n",
       "      <th></th>\n",
       "      <th>OMRÅDE</th>\n",
       "      <th>KOEN</th>\n",
       "      <th>TID</th>\n",
       "      <th>ENHED</th>\n",
       "      <th>UDDNIV</th>\n",
       "      <th>INDKOMSTTYPE</th>\n",
       "      <th>INDHOLD</th>\n",
       "    </tr>\n",
       "  </thead>\n",
       "  <tbody>\n",
       "    <tr>\n",
       "      <th>4579</th>\n",
       "      <td>Vejen</td>\n",
       "      <td>Women</td>\n",
       "      <td>2017</td>\n",
       "      <td>People with type of income (number)</td>\n",
       "      <td>10 BASIC SCHOOL 8-10 grade</td>\n",
       "      <td>1 Disposable income (2+30-31-32-35)</td>\n",
       "      <td>6293</td>\n",
       "    </tr>\n",
       "    <tr>\n",
       "      <th>900</th>\n",
       "      <td>Province Vest- og Sydsjælland</td>\n",
       "      <td>Men and women, total</td>\n",
       "      <td>2011</td>\n",
       "      <td>People with type of income (number)</td>\n",
       "      <td>10 BASIC SCHOOL 8-10 grade</td>\n",
       "      <td>1 Disposable income (2+30-31-32-35)</td>\n",
       "      <td>178052</td>\n",
       "    </tr>\n",
       "    <tr>\n",
       "      <th>4114</th>\n",
       "      <td>Gentofte</td>\n",
       "      <td>Men and women, total</td>\n",
       "      <td>2016</td>\n",
       "      <td>People with type of income (number)</td>\n",
       "      <td>10 BASIC SCHOOL 8-10 grade</td>\n",
       "      <td>1 Disposable income (2+30-31-32-35)</td>\n",
       "      <td>10169</td>\n",
       "    </tr>\n",
       "    <tr>\n",
       "      <th>2278</th>\n",
       "      <td>Region Nordjylland</td>\n",
       "      <td>Women</td>\n",
       "      <td>2006</td>\n",
       "      <td>People with type of income (number)</td>\n",
       "      <td>10 BASIC SCHOOL 8-10 grade</td>\n",
       "      <td>1 Disposable income (2+30-31-32-35)</td>\n",
       "      <td>96211</td>\n",
       "    </tr>\n",
       "    <tr>\n",
       "      <th>4194</th>\n",
       "      <td>Viborg</td>\n",
       "      <td>Men and women, total</td>\n",
       "      <td>2016</td>\n",
       "      <td>People with type of income (number)</td>\n",
       "      <td>10 BASIC SCHOOL 8-10 grade</td>\n",
       "      <td>1 Disposable income (2+30-31-32-35)</td>\n",
       "      <td>24389</td>\n",
       "    </tr>\n",
       "    <tr>\n",
       "      <th>2747</th>\n",
       "      <td>Holbæk</td>\n",
       "      <td>Men</td>\n",
       "      <td>2004</td>\n",
       "      <td>People with type of income (number)</td>\n",
       "      <td>10 BASIC SCHOOL 8-10 grade</td>\n",
       "      <td>1 Disposable income (2+30-31-32-35)</td>\n",
       "      <td>9206</td>\n",
       "    </tr>\n",
       "    <tr>\n",
       "      <th>1690</th>\n",
       "      <td>Hvidovre</td>\n",
       "      <td>Men</td>\n",
       "      <td>2009</td>\n",
       "      <td>People with type of income (number)</td>\n",
       "      <td>10 BASIC SCHOOL 8-10 grade</td>\n",
       "      <td>1 Disposable income (2+30-31-32-35)</td>\n",
       "      <td>6432</td>\n",
       "    </tr>\n",
       "    <tr>\n",
       "      <th>4536</th>\n",
       "      <td>Jammerbugt</td>\n",
       "      <td>Men and women, total</td>\n",
       "      <td>2017</td>\n",
       "      <td>People with type of income (number)</td>\n",
       "      <td>10 BASIC SCHOOL 8-10 grade</td>\n",
       "      <td>1 Disposable income (2+30-31-32-35)</td>\n",
       "      <td>11330</td>\n",
       "    </tr>\n",
       "    <tr>\n",
       "      <th>4274</th>\n",
       "      <td>Province Sydjylland</td>\n",
       "      <td>Men and women, total</td>\n",
       "      <td>2016</td>\n",
       "      <td>People with type of income (number)</td>\n",
       "      <td>10 BASIC SCHOOL 8-10 grade</td>\n",
       "      <td>1 Disposable income (2+30-31-32-35)</td>\n",
       "      <td>194871</td>\n",
       "    </tr>\n",
       "    <tr>\n",
       "      <th>1889</th>\n",
       "      <td>Norddjurs</td>\n",
       "      <td>Women</td>\n",
       "      <td>2008</td>\n",
       "      <td>People with type of income (number)</td>\n",
       "      <td>10 BASIC SCHOOL 8-10 grade</td>\n",
       "      <td>1 Disposable income (2+30-31-32-35)</td>\n",
       "      <td>6752</td>\n",
       "    </tr>\n",
       "  </tbody>\n",
       "</table>\n",
       "</div>"
      ],
      "text/plain": [
       "                             OMRÅDE                  KOEN   TID  \\\n",
       "4579                          Vejen                 Women  2017   \n",
       "900   Province Vest- og Sydsjælland  Men and women, total  2011   \n",
       "4114                       Gentofte  Men and women, total  2016   \n",
       "2278             Region Nordjylland                 Women  2006   \n",
       "4194                         Viborg  Men and women, total  2016   \n",
       "2747                         Holbæk                   Men  2004   \n",
       "1690                       Hvidovre                   Men  2009   \n",
       "4536                     Jammerbugt  Men and women, total  2017   \n",
       "4274            Province Sydjylland  Men and women, total  2016   \n",
       "1889                      Norddjurs                 Women  2008   \n",
       "\n",
       "                                    ENHED                      UDDNIV  \\\n",
       "4579  People with type of income (number)  10 BASIC SCHOOL 8-10 grade   \n",
       "900   People with type of income (number)  10 BASIC SCHOOL 8-10 grade   \n",
       "4114  People with type of income (number)  10 BASIC SCHOOL 8-10 grade   \n",
       "2278  People with type of income (number)  10 BASIC SCHOOL 8-10 grade   \n",
       "4194  People with type of income (number)  10 BASIC SCHOOL 8-10 grade   \n",
       "2747  People with type of income (number)  10 BASIC SCHOOL 8-10 grade   \n",
       "1690  People with type of income (number)  10 BASIC SCHOOL 8-10 grade   \n",
       "4536  People with type of income (number)  10 BASIC SCHOOL 8-10 grade   \n",
       "4274  People with type of income (number)  10 BASIC SCHOOL 8-10 grade   \n",
       "1889  People with type of income (number)  10 BASIC SCHOOL 8-10 grade   \n",
       "\n",
       "                             INDKOMSTTYPE  INDHOLD  \n",
       "4579  1 Disposable income (2+30-31-32-35)     6293  \n",
       "900   1 Disposable income (2+30-31-32-35)   178052  \n",
       "4114  1 Disposable income (2+30-31-32-35)    10169  \n",
       "2278  1 Disposable income (2+30-31-32-35)    96211  \n",
       "4194  1 Disposable income (2+30-31-32-35)    24389  \n",
       "2747  1 Disposable income (2+30-31-32-35)     9206  \n",
       "1690  1 Disposable income (2+30-31-32-35)     6432  \n",
       "4536  1 Disposable income (2+30-31-32-35)    11330  \n",
       "4274  1 Disposable income (2+30-31-32-35)   194871  \n",
       "1889  1 Disposable income (2+30-31-32-35)     6752  "
      ]
     },
     "execution_count": 41,
     "metadata": {},
     "output_type": "execute_result"
    }
   ],
   "source": [
    "inc_api.sample(10)"
   ]
  },
  {
   "cell_type": "markdown",
   "metadata": {},
   "source": [
    "## Stock exchange data (IEX daily)\n",
    "\n",
    "There are various sources for stock data. It changes all the time which one should be used, so consult the pandas_datareader help page: https://pandas-datareader.readthedocs.io/en/latest/. IEX appears stable and fast at the time of writing this. "
   ]
  },
  {
   "cell_type": "code",
   "execution_count": 42,
   "metadata": {},
   "outputs": [],
   "source": [
    "start = datetime.datetime(2015,1,1)\n",
    "end   = datetime.datetime(2018,1,1)"
   ]
  },
  {
   "cell_type": "code",
   "execution_count": 43,
   "metadata": {},
   "outputs": [
    {
     "data": {
      "text/html": [
       "<div>\n",
       "<style scoped>\n",
       "    .dataframe tbody tr th:only-of-type {\n",
       "        vertical-align: middle;\n",
       "    }\n",
       "\n",
       "    .dataframe tbody tr th {\n",
       "        vertical-align: top;\n",
       "    }\n",
       "\n",
       "    .dataframe thead th {\n",
       "        text-align: right;\n",
       "    }\n",
       "</style>\n",
       "<table border=\"1\" class=\"dataframe\">\n",
       "  <thead>\n",
       "    <tr style=\"text-align: right;\">\n",
       "      <th></th>\n",
       "      <th>open</th>\n",
       "      <th>high</th>\n",
       "      <th>low</th>\n",
       "      <th>close</th>\n",
       "      <th>volume</th>\n",
       "    </tr>\n",
       "    <tr>\n",
       "      <th>date</th>\n",
       "      <th></th>\n",
       "      <th></th>\n",
       "      <th></th>\n",
       "      <th></th>\n",
       "      <th></th>\n",
       "    </tr>\n",
       "  </thead>\n",
       "  <tbody>\n",
       "    <tr>\n",
       "      <th>2015-01-02</th>\n",
       "      <td>135.3839</td>\n",
       "      <td>137.0624</td>\n",
       "      <td>135.1237</td>\n",
       "      <td>136.0133</td>\n",
       "      <td>5525466</td>\n",
       "    </tr>\n",
       "    <tr>\n",
       "      <th>2015-01-05</th>\n",
       "      <td>135.3503</td>\n",
       "      <td>135.3503</td>\n",
       "      <td>133.6046</td>\n",
       "      <td>133.8732</td>\n",
       "      <td>4880389</td>\n",
       "    </tr>\n",
       "    <tr>\n",
       "      <th>2015-01-06</th>\n",
       "      <td>134.0075</td>\n",
       "      <td>134.2509</td>\n",
       "      <td>130.2307</td>\n",
       "      <td>130.9861</td>\n",
       "      <td>6146712</td>\n",
       "    </tr>\n",
       "  </tbody>\n",
       "</table>\n",
       "</div>"
      ],
      "text/plain": [
       "                open      high       low     close   volume\n",
       "date                                                       \n",
       "2015-01-02  135.3839  137.0624  135.1237  136.0133  5525466\n",
       "2015-01-05  135.3503  135.3503  133.6046  133.8732  4880389\n",
       "2015-01-06  134.0075  134.2509  130.2307  130.9861  6146712"
      ]
     },
     "execution_count": 43,
     "metadata": {},
     "output_type": "execute_result"
    }
   ],
   "source": [
    "ibm = pandas_datareader.iex.daily.IEXDailyReader('IBM', start, end).read()\n",
    "ibm.head(3)"
   ]
  },
  {
   "cell_type": "markdown",
   "metadata": {},
   "source": [
    "Let's add the firm name "
   ]
  },
  {
   "cell_type": "code",
   "execution_count": 44,
   "metadata": {},
   "outputs": [],
   "source": [
    "ibm['firm'] = 'IBM'"
   ]
  },
  {
   "cell_type": "code",
   "execution_count": 45,
   "metadata": {},
   "outputs": [],
   "source": [
    "# Apple \n",
    "apl = pandas_datareader.iex.daily.IEXDailyReader('AAPL', start, end).read()\n",
    "apl['firm'] = 'Apple'\n",
    "\n",
    "# Tesla Motors \n",
    "tsl = pandas_datareader.iex.daily.IEXDailyReader('TSLA', start, end).read()\n",
    "tsl['firm'] = 'Tesla'"
   ]
  },
  {
   "cell_type": "markdown",
   "metadata": {},
   "source": [
    "Now we join the data. Since all three dataframes have the same columns, we will just \"stack\" them (i.e. concatenate)"
   ]
  },
  {
   "cell_type": "code",
   "execution_count": 46,
   "metadata": {},
   "outputs": [],
   "source": [
    "stocks = pd.concat([ibm,tsl,apl])\n",
    "\n",
    "# convert index from type 'O' to 'datetime' \n",
    "stocks.index = pd.to_datetime(stocks.index)"
   ]
  },
  {
   "cell_type": "markdown",
   "metadata": {},
   "source": [
    "The average levels for each stock is easily computed using `df.groupby()` (the subject of the next section in this notebook) "
   ]
  },
  {
   "cell_type": "code",
   "execution_count": 47,
   "metadata": {},
   "outputs": [
    {
     "data": {
      "text/html": [
       "<div>\n",
       "<style scoped>\n",
       "    .dataframe tbody tr th:only-of-type {\n",
       "        vertical-align: middle;\n",
       "    }\n",
       "\n",
       "    .dataframe tbody tr th {\n",
       "        vertical-align: top;\n",
       "    }\n",
       "\n",
       "    .dataframe thead th {\n",
       "        text-align: right;\n",
       "    }\n",
       "</style>\n",
       "<table border=\"1\" class=\"dataframe\">\n",
       "  <thead>\n",
       "    <tr style=\"text-align: right;\">\n",
       "      <th></th>\n",
       "      <th>open</th>\n",
       "      <th>high</th>\n",
       "      <th>low</th>\n",
       "      <th>close</th>\n",
       "      <th>volume</th>\n",
       "    </tr>\n",
       "    <tr>\n",
       "      <th>firm</th>\n",
       "      <th></th>\n",
       "      <th></th>\n",
       "      <th></th>\n",
       "      <th></th>\n",
       "      <th></th>\n",
       "    </tr>\n",
       "  </thead>\n",
       "  <tbody>\n",
       "    <tr>\n",
       "      <th>Apple</th>\n",
       "      <td>119.205955</td>\n",
       "      <td>120.141163</td>\n",
       "      <td>118.228927</td>\n",
       "      <td>119.229302</td>\n",
       "      <td>3.914138e+07</td>\n",
       "    </tr>\n",
       "    <tr>\n",
       "      <th>IBM</th>\n",
       "      <td>136.691332</td>\n",
       "      <td>137.610171</td>\n",
       "      <td>135.778766</td>\n",
       "      <td>136.711784</td>\n",
       "      <td>4.230723e+06</td>\n",
       "    </tr>\n",
       "    <tr>\n",
       "      <th>Tesla</th>\n",
       "      <td>251.312173</td>\n",
       "      <td>255.004597</td>\n",
       "      <td>247.331908</td>\n",
       "      <td>251.292066</td>\n",
       "      <td>5.087067e+06</td>\n",
       "    </tr>\n",
       "  </tbody>\n",
       "</table>\n",
       "</div>"
      ],
      "text/plain": [
       "             open        high         low       close        volume\n",
       "firm                                                               \n",
       "Apple  119.205955  120.141163  118.228927  119.229302  3.914138e+07\n",
       "IBM    136.691332  137.610171  135.778766  136.711784  4.230723e+06\n",
       "Tesla  251.312173  255.004597  247.331908  251.292066  5.087067e+06"
      ]
     },
     "execution_count": 47,
     "metadata": {},
     "output_type": "execute_result"
    }
   ],
   "source": [
    "stocks.groupby('firm').mean()"
   ]
  },
  {
   "cell_type": "code",
   "execution_count": 48,
   "metadata": {},
   "outputs": [
    {
     "data": {
      "image/png": "[encoded data removed]",
      "text/plain": [
       "<Figure size 432x288 with 1 Axes>"
      ]
     },
     "metadata": {
      "needs_background": "light"
     },
     "output_type": "display_data"
    }
   ],
   "source": [
    "fig,ax = plt.subplots()\n",
    "stocks.groupby('firm')['close'].plot(legend=True); "
   ]
  },
  {
   "cell_type": "markdown",
   "metadata": {},
   "source": [
    "## FRED (Federal Reserve Economic Data)"
   ]
  },
  {
   "cell_type": "markdown",
   "metadata": {},
   "source": [
    "**GDP data** for the US"
   ]
  },
  {
   "cell_type": "code",
   "execution_count": 49,
   "metadata": {},
   "outputs": [],
   "source": [
    "start = datetime.datetime(2005,1,1)\n",
    "end = datetime.datetime(2017,1,1)\n",
    "gdp = pandas_datareader.data.DataReader('GDP', 'fred', start, end)"
   ]
  },
  {
   "cell_type": "code",
   "execution_count": 50,
   "metadata": {},
   "outputs": [
    {
     "data": {
      "text/html": [
       "<div>\n",
       "<style scoped>\n",
       "    .dataframe tbody tr th:only-of-type {\n",
       "        vertical-align: middle;\n",
       "    }\n",
       "\n",
       "    .dataframe tbody tr th {\n",
       "        vertical-align: top;\n",
       "    }\n",
       "\n",
       "    .dataframe thead th {\n",
       "        text-align: right;\n",
       "    }\n",
       "</style>\n",
       "<table border=\"1\" class=\"dataframe\">\n",
       "  <thead>\n",
       "    <tr style=\"text-align: right;\">\n",
       "      <th></th>\n",
       "      <th>GDP</th>\n",
       "    </tr>\n",
       "    <tr>\n",
       "      <th>DATE</th>\n",
       "      <th></th>\n",
       "    </tr>\n",
       "  </thead>\n",
       "  <tbody>\n",
       "    <tr>\n",
       "      <th>2005-01-01</th>\n",
       "      <td>12761.337</td>\n",
       "    </tr>\n",
       "    <tr>\n",
       "      <th>2005-04-01</th>\n",
       "      <td>12910.022</td>\n",
       "    </tr>\n",
       "    <tr>\n",
       "      <th>2005-07-01</th>\n",
       "      <td>13142.873</td>\n",
       "    </tr>\n",
       "    <tr>\n",
       "      <th>2005-10-01</th>\n",
       "      <td>13332.316</td>\n",
       "    </tr>\n",
       "    <tr>\n",
       "      <th>2006-01-01</th>\n",
       "      <td>13603.933</td>\n",
       "    </tr>\n",
       "    <tr>\n",
       "      <th>2006-04-01</th>\n",
       "      <td>13749.806</td>\n",
       "    </tr>\n",
       "    <tr>\n",
       "      <th>2006-07-01</th>\n",
       "      <td>13867.469</td>\n",
       "    </tr>\n",
       "    <tr>\n",
       "      <th>2006-10-01</th>\n",
       "      <td>14037.228</td>\n",
       "    </tr>\n",
       "    <tr>\n",
       "      <th>2007-01-01</th>\n",
       "      <td>14208.569</td>\n",
       "    </tr>\n",
       "    <tr>\n",
       "      <th>2007-04-01</th>\n",
       "      <td>14382.363</td>\n",
       "    </tr>\n",
       "  </tbody>\n",
       "</table>\n",
       "</div>"
      ],
      "text/plain": [
       "                  GDP\n",
       "DATE                 \n",
       "2005-01-01  12761.337\n",
       "2005-04-01  12910.022\n",
       "2005-07-01  13142.873\n",
       "2005-10-01  13332.316\n",
       "2006-01-01  13603.933\n",
       "2006-04-01  13749.806\n",
       "2006-07-01  13867.469\n",
       "2006-10-01  14037.228\n",
       "2007-01-01  14208.569\n",
       "2007-04-01  14382.363"
      ]
     },
     "execution_count": 50,
     "metadata": {},
     "output_type": "execute_result"
    }
   ],
   "source": [
    "gdp.head(10)"
   ]
  },
  {
   "cell_type": "markdown",
   "metadata": {},
   "source": [
    "By going to https://fred.stlouisfed.org, I found the employment data in the table PAYEMS\n",
    "\n",
    "1. go to website, \n",
    "2. search for employment, \n",
    "3. click first link, \n",
    "4. table name is next to header. "
   ]
  },
  {
   "cell_type": "code",
   "execution_count": 51,
   "metadata": {},
   "outputs": [],
   "source": [
    "empl_us = pandas_datareader.data.DataReader('PAYEMS', 'fred', datetime.datetime(1939,1,1), datetime.datetime(2018,12,1))"
   ]
  },
  {
   "cell_type": "code",
   "execution_count": 52,
   "metadata": {},
   "outputs": [
    {
     "data": {
      "text/html": [
       "<div>\n",
       "<style scoped>\n",
       "    .dataframe tbody tr th:only-of-type {\n",
       "        vertical-align: middle;\n",
       "    }\n",
       "\n",
       "    .dataframe tbody tr th {\n",
       "        vertical-align: top;\n",
       "    }\n",
       "\n",
       "    .dataframe thead th {\n",
       "        text-align: right;\n",
       "    }\n",
       "</style>\n",
       "<table border=\"1\" class=\"dataframe\">\n",
       "  <thead>\n",
       "    <tr style=\"text-align: right;\">\n",
       "      <th></th>\n",
       "      <th>PAYEMS</th>\n",
       "    </tr>\n",
       "    <tr>\n",
       "      <th>DATE</th>\n",
       "      <th></th>\n",
       "    </tr>\n",
       "  </thead>\n",
       "  <tbody>\n",
       "    <tr>\n",
       "      <th>1965-08-01</th>\n",
       "      <td>61228</td>\n",
       "    </tr>\n",
       "    <tr>\n",
       "      <th>1948-01-01</th>\n",
       "      <td>44679</td>\n",
       "    </tr>\n",
       "    <tr>\n",
       "      <th>1962-04-01</th>\n",
       "      <td>55602</td>\n",
       "    </tr>\n",
       "    <tr>\n",
       "      <th>1973-09-01</th>\n",
       "      <td>77276</td>\n",
       "    </tr>\n",
       "    <tr>\n",
       "      <th>2010-09-01</th>\n",
       "      <td>130373</td>\n",
       "    </tr>\n",
       "    <tr>\n",
       "      <th>1959-11-01</th>\n",
       "      <td>53634</td>\n",
       "    </tr>\n",
       "    <tr>\n",
       "      <th>2001-06-01</th>\n",
       "      <td>132312</td>\n",
       "    </tr>\n",
       "    <tr>\n",
       "      <th>2013-07-01</th>\n",
       "      <td>136400</td>\n",
       "    </tr>\n",
       "    <tr>\n",
       "      <th>1989-08-01</th>\n",
       "      <td>108120</td>\n",
       "    </tr>\n",
       "    <tr>\n",
       "      <th>2012-02-01</th>\n",
       "      <td>133531</td>\n",
       "    </tr>\n",
       "  </tbody>\n",
       "</table>\n",
       "</div>"
      ],
      "text/plain": [
       "            PAYEMS\n",
       "DATE              \n",
       "1965-08-01   61228\n",
       "1948-01-01   44679\n",
       "1962-04-01   55602\n",
       "1973-09-01   77276\n",
       "2010-09-01  130373\n",
       "1959-11-01   53634\n",
       "2001-06-01  132312\n",
       "2013-07-01  136400\n",
       "1989-08-01  108120\n",
       "2012-02-01  133531"
      ]
     },
     "execution_count": 52,
     "metadata": {},
     "output_type": "execute_result"
    },
    {
     "data": {
      "image/png": "[encoded data removed]",
      "text/plain": [
       "<Figure size 432x288 with 1 Axes>"
      ]
     },
     "metadata": {
      "needs_background": "light"
     },
     "output_type": "display_data"
    }
   ],
   "source": [
    "ax = empl_us.plot()\n",
    "ax.set_ylabel('Employment (US)')\n",
    "empl_us.sample(10)"
   ]
  },
  {
   "cell_type": "markdown",
   "metadata": {},
   "source": [
    "## World Bank indicators: `wb`"
   ]
  },
  {
   "cell_type": "markdown",
   "metadata": {},
   "source": [
    "Go to https://data.worldbank.org/indicator/ to find the indicator you care for. They will have weird names like \"NY.GDP.PCAP.KD\".\n",
    "\n",
    "1. go to website \n",
    "2. search for GDP \n",
    "3. variable name (\"NY.GDP.PCAP.KD\") is in the URL"
   ]
  },
  {
   "cell_type": "code",
   "execution_count": 53,
   "metadata": {},
   "outputs": [],
   "source": [
    "# shorthand\n",
    "from pandas_datareader import wb"
   ]
  },
  {
   "cell_type": "code",
   "execution_count": 54,
   "metadata": {},
   "outputs": [
    {
     "data": {
      "text/html": [
       "<div>\n",
       "<style scoped>\n",
       "    .dataframe tbody tr th:only-of-type {\n",
       "        vertical-align: middle;\n",
       "    }\n",
       "\n",
       "    .dataframe tbody tr th {\n",
       "        vertical-align: top;\n",
       "    }\n",
       "\n",
       "    .dataframe thead th {\n",
       "        text-align: right;\n",
       "    }\n",
       "</style>\n",
       "<table border=\"1\" class=\"dataframe\">\n",
       "  <thead>\n",
       "    <tr style=\"text-align: right;\">\n",
       "      <th></th>\n",
       "      <th>country</th>\n",
       "      <th>year</th>\n",
       "      <th>gdp</th>\n",
       "    </tr>\n",
       "  </thead>\n",
       "  <tbody>\n",
       "    <tr>\n",
       "      <th>0</th>\n",
       "      <td>Denmark</td>\n",
       "      <td>2017</td>\n",
       "      <td>62356.751713</td>\n",
       "    </tr>\n",
       "    <tr>\n",
       "      <th>1</th>\n",
       "      <td>Denmark</td>\n",
       "      <td>2016</td>\n",
       "      <td>61370.785706</td>\n",
       "    </tr>\n",
       "    <tr>\n",
       "      <th>2</th>\n",
       "      <td>Denmark</td>\n",
       "      <td>2015</td>\n",
       "      <td>60402.133220</td>\n",
       "    </tr>\n",
       "  </tbody>\n",
       "</table>\n",
       "</div>"
      ],
      "text/plain": [
       "   country  year           gdp\n",
       "0  Denmark  2017  62356.751713\n",
       "1  Denmark  2016  61370.785706\n",
       "2  Denmark  2015  60402.133220"
      ]
     },
     "execution_count": 54,
     "metadata": {},
     "output_type": "execute_result"
    }
   ],
   "source": [
    "gdps_wb = wb.download(indicator='NY.GDP.PCAP.KD', country=['SE','DK','NO'], start=1990, end=2017)\n",
    "gdps_wb = gdps_wb.rename(columns = {'NY.GDP.PCAP.KD':'gdp'})\n",
    "gdps_wb = gdps_wb.reset_index()\n",
    "gdps_wb.head(3)"
   ]
  },
  {
   "cell_type": "markdown",
   "metadata": {},
   "source": [
    "Unfortunately, it turns out that the dataframe has stored the variable year as an \"object\", meaning that it is a string. Country is an object because it is a string but that cannot be helped. Fortunately, gdp is a float (i.e. a number). \n",
    "\n",
    "**Try** not changing the datatype and see what happens in the merge later. "
   ]
  },
  {
   "cell_type": "code",
   "execution_count": 55,
   "metadata": {},
   "outputs": [
    {
     "data": {
      "text/plain": [
       "country     object\n",
       "year        object\n",
       "gdp        float64\n",
       "dtype: object"
      ]
     },
     "execution_count": 55,
     "metadata": {},
     "output_type": "execute_result"
    }
   ],
   "source": [
    "gdps_wb.dtypes"
   ]
  },
  {
   "cell_type": "markdown",
   "metadata": {},
   "source": [
    "Let's convert year to make it an integer. "
   ]
  },
  {
   "cell_type": "code",
   "execution_count": 56,
   "metadata": {},
   "outputs": [],
   "source": [
    "gdps_wb.year = gdps_wb.year.astype(int)"
   ]
  },
  {
   "cell_type": "code",
   "execution_count": 57,
   "metadata": {},
   "outputs": [
    {
     "data": {
      "text/html": [
       "<div>\n",
       "<style scoped>\n",
       "    .dataframe tbody tr th:only-of-type {\n",
       "        vertical-align: middle;\n",
       "    }\n",
       "\n",
       "    .dataframe tbody tr th {\n",
       "        vertical-align: top;\n",
       "    }\n",
       "\n",
       "    .dataframe thead th {\n",
       "        text-align: right;\n",
       "    }\n",
       "</style>\n",
       "<table border=\"1\" class=\"dataframe\">\n",
       "  <thead>\n",
       "    <tr style=\"text-align: right;\">\n",
       "      <th></th>\n",
       "      <th>country</th>\n",
       "      <th>year</th>\n",
       "      <th>employment_to_pop</th>\n",
       "    </tr>\n",
       "  </thead>\n",
       "  <tbody>\n",
       "    <tr>\n",
       "      <th>0</th>\n",
       "      <td>Denmark</td>\n",
       "      <td>2017</td>\n",
       "      <td>58.459000</td>\n",
       "    </tr>\n",
       "    <tr>\n",
       "      <th>1</th>\n",
       "      <td>Denmark</td>\n",
       "      <td>2016</td>\n",
       "      <td>59.394001</td>\n",
       "    </tr>\n",
       "    <tr>\n",
       "      <th>2</th>\n",
       "      <td>Denmark</td>\n",
       "      <td>2015</td>\n",
       "      <td>58.196999</td>\n",
       "    </tr>\n",
       "  </tbody>\n",
       "</table>\n",
       "</div>"
      ],
      "text/plain": [
       "   country  year  employment_to_pop\n",
       "0  Denmark  2017          58.459000\n",
       "1  Denmark  2016          59.394001\n",
       "2  Denmark  2015          58.196999"
      ]
     },
     "execution_count": 57,
     "metadata": {},
     "output_type": "execute_result"
    }
   ],
   "source": [
    "empl_wb = wb.download(indicator='SL.EMP.TOTL.SP.ZS', country=['SE','DK','NO'], start=1990, end=2017)\n",
    "empl_wb.rename(columns = {'SL.EMP.TOTL.SP.ZS':'employment_to_pop'}, inplace=True)\n",
    "empl_wb.reset_index(inplace = True)\n",
    "empl_wb.year = empl_wb.year.astype(int)\n",
    "empl_wb.head(3)"
   ]
  },
  {
   "cell_type": "markdown",
   "metadata": {},
   "source": [
    "Now let's merge the two tables"
   ]
  },
  {
   "cell_type": "code",
   "execution_count": 58,
   "metadata": {},
   "outputs": [
    {
     "name": "stdout",
     "output_type": "stream",
     "text": [
      "(84, 3)\n",
      "(84, 3)\n",
      "(84, 4)\n"
     ]
    },
    {
     "data": {
      "text/html": [
       "<div>\n",
       "<style scoped>\n",
       "    .dataframe tbody tr th:only-of-type {\n",
       "        vertical-align: middle;\n",
       "    }\n",
       "\n",
       "    .dataframe tbody tr th {\n",
       "        vertical-align: top;\n",
       "    }\n",
       "\n",
       "    .dataframe thead th {\n",
       "        text-align: right;\n",
       "    }\n",
       "</style>\n",
       "<table border=\"1\" class=\"dataframe\">\n",
       "  <thead>\n",
       "    <tr style=\"text-align: right;\">\n",
       "      <th></th>\n",
       "      <th>country</th>\n",
       "      <th>year</th>\n",
       "      <th>gdp</th>\n",
       "      <th>employment_to_pop</th>\n",
       "    </tr>\n",
       "  </thead>\n",
       "  <tbody>\n",
       "    <tr>\n",
       "      <th>39</th>\n",
       "      <td>Norway</td>\n",
       "      <td>2006</td>\n",
       "      <td>89887.019517</td>\n",
       "      <td>63.449001</td>\n",
       "    </tr>\n",
       "    <tr>\n",
       "      <th>29</th>\n",
       "      <td>Norway</td>\n",
       "      <td>2016</td>\n",
       "      <td>90402.602193</td>\n",
       "      <td>61.360001</td>\n",
       "    </tr>\n",
       "    <tr>\n",
       "      <th>73</th>\n",
       "      <td>Sweden</td>\n",
       "      <td>2000</td>\n",
       "      <td>44693.736597</td>\n",
       "      <td>58.952000</td>\n",
       "    </tr>\n",
       "  </tbody>\n",
       "</table>\n",
       "</div>"
      ],
      "text/plain": [
       "   country  year           gdp  employment_to_pop\n",
       "39  Norway  2006  89887.019517          63.449001\n",
       "29  Norway  2016  90402.602193          61.360001\n",
       "73  Sweden  2000  44693.736597          58.952000"
      ]
     },
     "execution_count": 58,
     "metadata": {},
     "output_type": "execute_result"
    }
   ],
   "source": [
    "wb_merged = pd.merge(gdps_wb, empl_wb, how='outer', on = ['country','year'])\n",
    "print(gdps_wb.shape)\n",
    "print(empl_wb.shape)\n",
    "print(wb_merged.shape)\n",
    "wb_merged.sample(3)"
   ]
  },
  {
   "cell_type": "markdown",
   "metadata": {},
   "source": [
    "## Other data sources \n",
    "\n",
    "* https://www.gapminder.org/data/\n",
    "* medicinpriser.dk \n",
    "* ... "
   ]
  },
  {
   "cell_type": "markdown",
   "metadata": {
    "toc-hr-collapsed": true
   },
   "source": [
    "# Split-apply-combine"
   ]
  },
  {
   "cell_type": "markdown",
   "metadata": {
    "toc-hr-collapsed": true
   },
   "source": [
    "One of the most useful skills to learn is the split-apply-combine process. For example, we may want to compute the average employment rate within a municipality over time and calculate whether the employment rate in each year is above or below the average. We calculate this variable using a split-apply-combine procedure: \n",
    "\n",
    "1. **split**: divide the dataset into units (one for each municipality), \n",
    "2. **apply**: compute the average employment rate for each unit, \n",
    "3. **combine**: merge this new variable back onto the original dataset"
   ]
  },
  {
   "cell_type": "markdown",
   "metadata": {
    "toc-hr-collapsed": true
   },
   "source": [
    "## Groupby"
   ]
  },
  {
   "cell_type": "markdown",
   "metadata": {
    "toc-hr-collapsed": true
   },
   "source": [
    "The most central function to learn is \n",
    "\n",
    "* `df.groupby(VARS)`: returns a \"groupby object\", which comes born with a range of different special functions. `VARS` can be either a single variable or a list of variables. "
   ]
  },
  {
   "cell_type": "markdown",
   "metadata": {
    "toc-hr-collapsed": true
   },
   "source": [
    "The logic behind a groupby object relies on there being a key ID variable that denotes a unit (e.g. a municipality, a firm, a year, ...). Groupby functions then operate within units of that variable. "
   ]
  },
  {
   "cell_type": "markdown",
   "metadata": {},
   "source": [
    "### Within-means\n",
    "\n",
    "For example, we can compute means within groups like so: "
   ]
  },
  {
   "cell_type": "code",
   "execution_count": 59,
   "metadata": {},
   "outputs": [
    {
     "data": {
      "text/plain": [
       "municipality\n",
       "Aabenraa       71.000000\n",
       "Aalborg        69.411111\n",
       "Aarhus         68.855556\n",
       "Albertslund    68.400000\n",
       "Allerød        81.277778\n",
       "Assens         71.977778\n",
       "Ballerup       72.588889\n",
       "Billund        76.477778\n",
       "Bornholm       67.011111\n",
       "Brøndby        68.633333\n",
       "Name: e, dtype: float64"
      ]
     },
     "execution_count": 59,
     "metadata": {},
     "output_type": "execute_result"
    }
   ],
   "source": [
    "# average employment across all years of data\n",
    "empl.groupby('municipality')['e'].mean().head(10)"
   ]
  },
  {
   "cell_type": "code",
   "execution_count": 60,
   "metadata": {},
   "outputs": [
    {
     "data": {
      "text/plain": [
       "year\n",
       "2008    76.629293\n",
       "2009    73.419192\n",
       "2010    72.794949\n",
       "2011    72.591919\n",
       "2012    72.020202\n",
       "2013    72.091919\n",
       "2014    72.431313\n",
       "2015    72.876768\n",
       "2016    73.669697\n",
       "Name: e, dtype: float64"
      ]
     },
     "execution_count": 60,
     "metadata": {},
     "output_type": "execute_result"
    }
   ],
   "source": [
    "# average employment rate within a given year \n",
    "empl.groupby('year')['e'].mean()"
   ]
  },
  {
   "cell_type": "markdown",
   "metadata": {},
   "source": [
    "### Within-statistics"
   ]
  },
  {
   "cell_type": "markdown",
   "metadata": {},
   "source": [
    "**Median** stock *volume* by firm"
   ]
  },
  {
   "cell_type": "code",
   "execution_count": 61,
   "metadata": {},
   "outputs": [
    {
     "data": {
      "text/plain": [
       "firm\n",
       "Apple    33710411\n",
       "IBM       3707538\n",
       "Tesla     4428651\n",
       "Name: volume, dtype: int64"
      ]
     },
     "execution_count": 61,
     "metadata": {},
     "output_type": "execute_result"
    }
   ],
   "source": [
    "stocks.groupby('firm')['volume'].median()"
   ]
  },
  {
   "cell_type": "markdown",
   "metadata": {},
   "source": [
    "**Custom functions** can be specified by using the `lambda` notation: \n",
    "* Example: \"`lambda x : 2*np.exp(x)`\" is the function $f(x) = 2 \\exp(x)$. \n",
    "* Example: \"`lambda x : x.diff(1).mean()`\" will first take a first-difference and then the mean. Note that this function can only be called on an object that has the method `diff()`, such as a `df.var`. "
   ]
  },
  {
   "cell_type": "code",
   "execution_count": 62,
   "metadata": {},
   "outputs": [
    {
     "data": {
      "text/plain": [
       "country\n",
       "Denmark    0.102077\n",
       "Norway    -0.094885\n",
       "Sweden     0.186308\n",
       "Name: employment_to_pop, dtype: float64"
      ]
     },
     "execution_count": 62,
     "metadata": {},
     "output_type": "execute_result"
    }
   ],
   "source": [
    "# compute average growth \n",
    "wb_merged.groupby('country')['employment_to_pop'].apply(lambda x : x.diff(1).mean())"
   ]
  },
  {
   "cell_type": "markdown",
   "metadata": {},
   "source": [
    "We can also **plot** statistics. Let's do a plot of the dispersion in employment rate across Danish municipalities over time: "
   ]
  },
  {
   "cell_type": "code",
   "execution_count": 63,
   "metadata": {},
   "outputs": [
    {
     "data": {
      "image/png": "[encoded data removed]",
      "text/plain": [
       "<Figure size 432x288 with 1 Axes>"
      ]
     },
     "metadata": {
      "needs_background": "light"
     },
     "output_type": "display_data"
    }
   ],
   "source": [
    "# inequality across municipalities in employment over time \n",
    "ax = empl.groupby('year')['e'].std().plot(style='-o');\n",
    "ax.set_ylabel('std.dev.');\n",
    "ax.set_title('std.dev. across municipalities in the employment rate');"
   ]
  },
  {
   "cell_type": "markdown",
   "metadata": {},
   "source": [
    "### Groupby with date variables"
   ]
  },
  {
   "cell_type": "markdown",
   "metadata": {},
   "source": [
    "If a variable in our dataframe is a datetime variable (like in `stocks`), we have access to some cool functions. We can use these properties for a datetime variable \n",
    "\n",
    "* `df.datevar.year`, or instead of `year`, we can specify `month`, `quarter`, `weekday`, etc. "
   ]
  },
  {
   "cell_type": "markdown",
   "metadata": {},
   "source": [
    "In `stocks` it is the index, so we just write `stocks.index.year`, e.g. "
   ]
  },
  {
   "cell_type": "code",
   "execution_count": 64,
   "metadata": {},
   "outputs": [
    {
     "data": {
      "text/plain": [
       "date  date\n",
       "2015  1       149.408137\n",
       "      2       166.353947\n",
       "      3       165.577032\n",
       "      4       151.043185\n",
       "2016  1       135.974459\n",
       "      2       151.174171\n",
       "      3       152.915640\n",
       "      4       149.608538\n",
       "2017  1       179.784491\n",
       "      2       205.735670\n",
       "      3       210.444897\n",
       "      4       210.289618\n",
       "Name: close, dtype: float64"
      ]
     },
     "execution_count": 64,
     "metadata": {},
     "output_type": "execute_result"
    }
   ],
   "source": [
    "# quarterly averages of the closing price \n",
    "stocks['close'].groupby([stocks.index.year, stocks.index.quarter]).mean()"
   ]
  },
  {
   "cell_type": "code",
   "execution_count": 65,
   "metadata": {},
   "outputs": [
    {
     "name": "stdout",
     "output_type": "stream",
     "text": [
      "date  date\n",
      "2015  2       166.353947\n",
      "Name: close, dtype: float64\n",
      "MultiIndex(levels=[[2015, 2016, 2017], [1, 2, 3, 4]],\n",
      "           labels=[[0, 0, 0, 0, 1, 1, 1, 1, 2, 2, 2, 2], [0, 1, 2, 3, 0, 1, 2, 3, 0, 1, 2, 3]],\n",
      "           names=['date', 'date'])\n"
     ]
    }
   ],
   "source": [
    "# here is how we subset a \"multi-index dataframe\"\n",
    "a = stocks['close'].groupby([stocks.index.year, stocks.index.quarter]).mean()\n",
    "print(a.loc[2015,2, :]) # year=2015, quarter=2, all variables\n",
    "print(a.index)"
   ]
  },
  {
   "cell_type": "markdown",
   "metadata": {},
   "source": [
    "## Split-Apply-Combine\n",
    "\n",
    "Say we want to compute deviations between the stock price and the company's average stock price for all of our stock observations. "
   ]
  },
  {
   "cell_type": "markdown",
   "metadata": {},
   "source": [
    "### 1. Split\n",
    "\n",
    "Create the grouped dataframe and select only the variable we need"
   ]
  },
  {
   "cell_type": "code",
   "execution_count": 66,
   "metadata": {},
   "outputs": [],
   "source": [
    "stocks_grouped = stocks.groupby('firm')['close']"
   ]
  },
  {
   "cell_type": "markdown",
   "metadata": {},
   "source": [
    "### 2. Apply\n",
    "\n",
    "Call the builtin functions on the groupby object."
   ]
  },
  {
   "cell_type": "code",
   "execution_count": 67,
   "metadata": {},
   "outputs": [
    {
     "name": "stdout",
     "output_type": "stream",
     "text": [
      "stocks has shape = (2265, 6), stocks_mean has shape (3,)\n"
     ]
    },
    {
     "data": {
      "text/plain": [
       "firm\n",
       "Apple    119.229302\n",
       "IBM      136.711784\n",
       "Tesla    251.292066\n",
       "Name: close, dtype: float64"
      ]
     },
     "execution_count": 67,
     "metadata": {},
     "output_type": "execute_result"
    }
   ],
   "source": [
    "stocks_mean = stocks_grouped.mean()\n",
    "print(f'stocks has shape = {stocks.shape}, stocks_mean has shape {stocks_mean.shape}')\n",
    "stocks_mean.head()"
   ]
  },
  {
   "cell_type": "markdown",
   "metadata": {},
   "source": [
    "Let's change the name of this variable. "
   ]
  },
  {
   "cell_type": "code",
   "execution_count": 68,
   "metadata": {},
   "outputs": [],
   "source": [
    "stocks_mean.name = 'close_mean'"
   ]
  },
  {
   "cell_type": "markdown",
   "metadata": {},
   "source": [
    "### 3. Combine\n",
    "\n",
    "Finally, we merge the results back onto the original dataframe. Since there are many rows with each firm in `stocks` but only one row per firm in `stocks_mean`, it is a **left join**. Fortunately, `stocks_mean` already has `firm`  as the index, so we just have to change that index for `stocks`. "
   ]
  },
  {
   "cell_type": "code",
   "execution_count": 69,
   "metadata": {},
   "outputs": [],
   "source": [
    "stocks2 = stocks.reset_index().set_index('firm').join(stocks_mean, how='left')\n",
    "\n",
    "# set index back to date\n",
    "stocks2 = stocks2.reset_index().set_index('date')\n",
    "\n",
    "# create new variable \n",
    "stocks2['close_demeaned'] = stocks2.close - stocks2.close_mean"
   ]
  },
  {
   "cell_type": "code",
   "execution_count": 70,
   "metadata": {},
   "outputs": [
    {
     "data": {
      "text/html": [
       "<div>\n",
       "<style scoped>\n",
       "    .dataframe tbody tr th:only-of-type {\n",
       "        vertical-align: middle;\n",
       "    }\n",
       "\n",
       "    .dataframe tbody tr th {\n",
       "        vertical-align: top;\n",
       "    }\n",
       "\n",
       "    .dataframe thead th {\n",
       "        text-align: right;\n",
       "    }\n",
       "</style>\n",
       "<table border=\"1\" class=\"dataframe\">\n",
       "  <thead>\n",
       "    <tr style=\"text-align: right;\">\n",
       "      <th></th>\n",
       "      <th>firm</th>\n",
       "      <th>open</th>\n",
       "      <th>high</th>\n",
       "      <th>low</th>\n",
       "      <th>close</th>\n",
       "      <th>volume</th>\n",
       "      <th>close_mean</th>\n",
       "      <th>close_demeaned</th>\n",
       "    </tr>\n",
       "    <tr>\n",
       "      <th>date</th>\n",
       "      <th></th>\n",
       "      <th></th>\n",
       "      <th></th>\n",
       "      <th></th>\n",
       "      <th></th>\n",
       "      <th></th>\n",
       "      <th></th>\n",
       "      <th></th>\n",
       "    </tr>\n",
       "  </thead>\n",
       "  <tbody>\n",
       "    <tr>\n",
       "      <th>2015-01-02</th>\n",
       "      <td>Apple</td>\n",
       "      <td>103.0442</td>\n",
       "      <td>103.0904</td>\n",
       "      <td>99.3069</td>\n",
       "      <td>101.1385</td>\n",
       "      <td>53204626</td>\n",
       "      <td>119.229302</td>\n",
       "      <td>-18.090802</td>\n",
       "    </tr>\n",
       "    <tr>\n",
       "      <th>2015-01-05</th>\n",
       "      <td>Apple</td>\n",
       "      <td>100.1765</td>\n",
       "      <td>100.5095</td>\n",
       "      <td>97.5122</td>\n",
       "      <td>98.2893</td>\n",
       "      <td>64285491</td>\n",
       "      <td>119.229302</td>\n",
       "      <td>-20.940002</td>\n",
       "    </tr>\n",
       "    <tr>\n",
       "      <th>2015-01-06</th>\n",
       "      <td>Apple</td>\n",
       "      <td>98.5576</td>\n",
       "      <td>99.3809</td>\n",
       "      <td>96.7907</td>\n",
       "      <td>98.2985</td>\n",
       "      <td>65797116</td>\n",
       "      <td>119.229302</td>\n",
       "      <td>-20.930802</td>\n",
       "    </tr>\n",
       "  </tbody>\n",
       "</table>\n",
       "</div>"
      ],
      "text/plain": [
       "             firm      open      high      low     close    volume  \\\n",
       "date                                                                 \n",
       "2015-01-02  Apple  103.0442  103.0904  99.3069  101.1385  53204626   \n",
       "2015-01-05  Apple  100.1765  100.5095  97.5122   98.2893  64285491   \n",
       "2015-01-06  Apple   98.5576   99.3809  96.7907   98.2985  65797116   \n",
       "\n",
       "            close_mean  close_demeaned  \n",
       "date                                    \n",
       "2015-01-02  119.229302      -18.090802  \n",
       "2015-01-05  119.229302      -20.940002  \n",
       "2015-01-06  119.229302      -20.930802  "
      ]
     },
     "execution_count": 70,
     "metadata": {},
     "output_type": "execute_result"
    }
   ],
   "source": [
    "stocks2.head(3)"
   ]
  },
  {
   "cell_type": "code",
   "execution_count": 71,
   "metadata": {},
   "outputs": [
    {
     "data": {
      "image/png": "[encoded data removed]",
      "text/plain": [
       "<Figure size 432x288 with 1 Axes>"
      ]
     },
     "metadata": {
      "needs_background": "light"
     },
     "output_type": "display_data"
    }
   ],
   "source": [
    "stocks2.groupby('firm')['close_demeaned'].plot(legend=True); \n",
    "plt.title('Stock price: deviation from time-average'); "
   ]
  },
  {
   "cell_type": "markdown",
   "metadata": {},
   "source": [
    "### Single-step split-apply-combine with `transform()`"
   ]
  },
  {
   "cell_type": "markdown",
   "metadata": {},
   "source": [
    "One interesting groupby function is \n",
    "\n",
    "* `df.groupby()[VARIABLE].transform(STATISTIC)`: This will return a vector of the same dimension as the original variable. This means that we can directly insert the result into our dataframe, performing the *split-apply-combine* in a single step!! "
   ]
  },
  {
   "cell_type": "markdown",
   "metadata": {},
   "source": [
    "Let's do all the above in a fast way: "
   ]
  },
  {
   "cell_type": "code",
   "execution_count": 72,
   "metadata": {},
   "outputs": [
    {
     "data": {
      "image/png": "[encoded data removed]",
      "text/plain": [
       "<Figure size 432x288 with 1 Axes>"
      ]
     },
     "metadata": {
      "needs_background": "light"
     },
     "output_type": "display_data"
    }
   ],
   "source": [
    "stocks3 = stocks.copy()\n",
    "\n",
    "# split-apply-combine in a single step! \n",
    "stocks3['close_demeaned'] = stocks3.groupby('firm')['close'].transform(lambda x: x - x.mean())\n",
    "\n",
    "# plot\n",
    "stocks3.groupby('firm')['close_demeaned'].plot(legend=True); "
   ]
  },
  {
   "cell_type": "markdown",
   "metadata": {},
   "source": [
    "Let us normalize by the first observation. To do this, we transform with the function `lambda x: x/x[0]`, which takes every observation in the vector `x` and divides by the first element. Since the function is called inside the groupby, each vector will be the observations pertaining to that group. Note that the dataframe is sorted by date so that the first observation will be the first date."
   ]
  },
  {
   "cell_type": "code",
   "execution_count": 73,
   "metadata": {},
   "outputs": [
    {
     "data": {
      "image/png": "[encoded data removed]",
      "text/plain": [
       "<Figure size 432x288 with 1 Axes>"
      ]
     },
     "metadata": {
      "needs_background": "light"
     },
     "output_type": "display_data"
    }
   ],
   "source": [
    "stocks3['close_norm'] = stocks3.groupby('firm')['close'].transform(lambda x: x/x[0])\n",
    "stocks3.groupby('firm')['close_norm'].plot(legend=True);"
   ]
  },
  {
   "cell_type": "markdown",
   "metadata": {},
   "source": [
    "**Question:** How do we normalize by the last year? "
   ]
  },
  {
   "cell_type": "markdown",
   "metadata": {},
   "source": [
    "**Another example--group by (year,month):** We can use the fact that the index has the datatype `datetime` to extract the year and the month of each. "
   ]
  },
  {
   "cell_type": "code",
   "execution_count": 74,
   "metadata": {},
   "outputs": [],
   "source": [
    "# now, we compute the mean within (year,month) and thus across all days and firm observations in each group\n",
    "stocks['close_dem_monthly'] = stocks.groupby([stocks.index.year, stocks.index.month])['close'].transform(lambda x: x - x.mean())"
   ]
  },
  {
   "cell_type": "markdown",
   "metadata": {},
   "source": [
    "Now we just create the new variable and plot it. "
   ]
  },
  {
   "cell_type": "code",
   "execution_count": 75,
   "metadata": {},
   "outputs": [
    {
     "data": {
      "image/png": "[encoded data removed]",
      "text/plain": [
       "<Figure size 432x288 with 1 Axes>"
      ]
     },
     "metadata": {
      "needs_background": "light"
     },
     "output_type": "display_data"
    }
   ],
   "source": [
    "stocks.groupby('firm')['close_dem_monthly'].plot(legend=True); \n",
    "plt.title('Stock prices: demeaned with the monthly mean'); "
   ]
  },
  {
   "cell_type": "markdown",
   "metadata": {},
   "source": [
    "**Task:** For each municipality, compute the deviation from the country-average employment rate within each year. "
   ]
  },
  {
   "cell_type": "markdown",
   "metadata": {},
   "source": [
    "# Summary"
   ]
  },
  {
   "cell_type": "markdown",
   "metadata": {},
   "source": [
    "**This lecture:** We have discussed\n",
    "\n",
    "1. Combining datasets (merging and concatenating)\n",
    "2. Fatching data using an API (DST, IEX, FRED, World Bank etc.)\n",
    "3. Split-apply-combine (groupby, agg, transform)"
   ]
  },
  {
   "cell_type": "markdown",
   "metadata": {},
   "source": [
    "**Next lecture:** Next week cancelled (work on your model project). After that: Searching and sorting algorithms."
   ]
  },
  {
   "cell_type": "markdown",
   "metadata": {},
   "source": [
    "**Additionally:** See the notebook **Fun_applications.ipynb** in this folder."
   ]
  }
 ],
 "metadata": {
  "kernelspec": {
   "display_name": "Python 3",
   "language": "python",
   "name": "python3"
  },
  "language_info": {
   "codemirror_mode": {
    "name": "ipython",
    "version": 3
   },
   "file_extension": ".py",
   "mimetype": "text/x-python",
   "name": "python",
   "nbconvert_exporter": "python",
   "pygments_lexer": "ipython3",
   "version": "3.7.1"
  },
  "toc-autonumbering": true,
  "toc-showmarkdowntxt": false
 },
 "nbformat": 4,
 "nbformat_minor": 2
}
