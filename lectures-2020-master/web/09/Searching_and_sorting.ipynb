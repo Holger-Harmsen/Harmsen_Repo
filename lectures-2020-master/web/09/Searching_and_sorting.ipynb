{
 "cells": [
  {
   "cell_type": "markdown",
   "metadata": {},
   "source": [
    "# Lecture 9: Searching and sorting"
   ]
  },
  {
   "cell_type": "markdown",
   "metadata": {},
   "source": [
    "[Download on GitHub](https://github.com/NumEconCopenhagen/lectures-2020)\n",
    "\n",
    "[<img src=\"https://mybinder.org/badge_logo.svg\">](https://mybinder.org/v2/gh/NumEconCopenhagen/lectures-2020/master?urlpath=lab/tree/09/Searching_and_sorting.ipynb)"
   ]
  },
  {
   "cell_type": "markdown",
   "metadata": {},
   "source": [
    "1. [Algorithms](#Algorithms)\n",
    "2. [Seaching](#Seaching)\n",
    "3. [Recursion](#Recursion)\n",
    "4. [Sorting](#Sorting)\n",
    "5. [Summary](#Summary)\n"
   ]
  },
  {
   "cell_type": "markdown",
   "metadata": {},
   "source": [
    "You will learn how to write **pseudo code** and a bit about **computational complexity** (big-O notion). You will learn about **functional recursion** and some illustrative **search** (sequential, binary) and **sort** (bubble, insertion, quick) algorithms."
   ]
  },
  {
   "cell_type": "markdown",
   "metadata": {},
   "source": [
    "**Note:** I will be live-coding a lot today. Have your computer ready to code along with me."
   ]
  },
  {
   "cell_type": "markdown",
   "metadata": {},
   "source": [
    "**Link:**\n",
    "\n",
    "1. [Problem solving with algorithms and data structures using Python](http://interactivepython.org/runestone/static/pythonds/index.html) [illustrations below are taken from here]\n",
    "2. [How expensive is an operation on a CPU?](https://streamhpc.com/blog/2012-07-16/how-expensive-is-an-operation-on-a-cpu/)"
   ]
  },
  {
   "cell_type": "code",
   "execution_count": 1,
   "metadata": {},
   "outputs": [],
   "source": [
    "import numpy as np\n",
    "import matplotlib.pyplot as plt\n",
    "plt.style.use('seaborn')\n",
    "import time"
   ]
  },
  {
   "cell_type": "markdown",
   "metadata": {},
   "source": [
    "<a id=\"Algorithms\"></a>\n",
    "\n",
    "# 1. Algorithms"
   ]
  },
  {
   "cell_type": "markdown",
   "metadata": {},
   "source": [
    "**Technically:** An unambigious specification of how to solve a class of problems."
   ]
  },
  {
   "cell_type": "markdown",
   "metadata": {},
   "source": [
    "**In a nut shell:** A cooking recipe.\n",
    "\n",
    "    1. Preheat the oven\n",
    "    2. Mix flour, sugar and eggs\n",
    "    3. Pour into a baking pan\n",
    "    etc."
   ]
  },
  {
   "cell_type": "markdown",
   "metadata": {},
   "source": [
    "**Properties of an algorithm:**\n",
    "\n",
    "1. Unambigious termination criteria\n",
    "1. Pre-defined inputs\n",
    "2. Pre-defined ouputs\n",
    "3. Guaranteed finite runtime\n",
    "4. Correct result"
   ]
  },
  {
   "cell_type": "markdown",
   "metadata": {},
   "source": [
    "## 1.1 Simple example"
   ]
  },
  {
   "cell_type": "markdown",
   "metadata": {},
   "source": [
    "**Problem:** Given a list of positive numbers, return the largest number in the list.\n",
    "\n",
    "**Inputs:** A list `L` of positive numbers.\n",
    "\n",
    "**Outputs:** A number.\n",
    "\n",
    "**Algorithm:** `find_max()`\n",
    "    \n",
    "  1. Set `max` to 0.\n",
    "  2. For each `x` in the list `L`, compare it to `max`. If `x` is larger, set `max` to `x`.\n",
    "  3. `max` is now set to the largest number in the list.\n",
    "  \n",
    "> **Note:** The above is called **pseudo-code** (understandable across programming languages)."
   ]
  },
  {
   "cell_type": "markdown",
   "metadata": {},
   "source": [
    "Implementation in Python:"
   ]
  },
  {
   "cell_type": "code",
   "execution_count": 2,
   "metadata": {},
   "outputs": [],
   "source": [
    "def find_max(L):\n",
    "    max = 0\n",
    "    for x in L:\n",
    "        if x > max:\n",
    "            max = x\n",
    "    return max"
   ]
  },
  {
   "cell_type": "markdown",
   "metadata": {},
   "source": [
    "**Question:** Why should `L` only contain positive numbers?"
   ]
  },
  {
   "cell_type": "markdown",
   "metadata": {},
   "source": [
    "## 1.2 Algorithmic complexity"
   ]
  },
  {
   "cell_type": "markdown",
   "metadata": {},
   "source": [
    "The `find_max()` algorithm has `n = len(L)` operations each making a *comparison* (`x > max`) and (perhaps) an *assignment* (`max = x`).\n",
    "\n",
    "The number of operations increase linearily in the length of the input list (the order of the function is linear)."
   ]
  },
  {
   "cell_type": "markdown",
   "metadata": {},
   "source": [
    "**Mathematically** we say that `find_max()` has linear complexity, \\\\(O(n)\\\\) where $n$ is the input size (length of L)."
   ]
  },
  {
   "cell_type": "markdown",
   "metadata": {},
   "source": [
    "Other **common levels of complexity** are:\n",
    "\n",
    "1. Constant, $O(1)$ (i.e. independent of input size)\n",
    "2. Logarithmic, $O(\\log n)$\n",
    "3. Linear, $O(n)$\n",
    "4. Log-linear, $O(n \\log n)$\n",
    "5. Quadratic, $O(n^2)$\n",
    "6. Cubic, $O(n^3)$\n",
    "7. Exponential, $O(2^n)$ (**curse of dimensionality**)"
   ]
  },
  {
   "cell_type": "markdown",
   "metadata": {},
   "source": [
    "<img src=\"https://github.com/NumEconCopenhagen/lectures-2019/raw/master/08/bigO.png\" alt=\"bigO\" width=60% />"
   ]
  },
  {
   "cell_type": "markdown",
   "metadata": {},
   "source": [
    "If the performance of an algorithm **depends on the exact values of the input** we differentiate between\n",
    "\n",
    "1. **Best** case\n",
    "2. **Average** case (across all possible inputs)\n",
    "3. **Worst** case"
   ]
  },
  {
   "cell_type": "markdown",
   "metadata": {},
   "source": [
    "## 1.3 Example of a complexity calculation"
   ]
  },
  {
   "cell_type": "code",
   "execution_count": 3,
   "metadata": {},
   "outputs": [],
   "source": [
    "def my_algorithm(n):\n",
    "    \n",
    "    # a. 3 assignments\n",
    "    a = 5\n",
    "    b = 6\n",
    "    c = 10\n",
    "    \n",
    "    # b. 3*n^2 multiplications and assignments\n",
    "    for i in range(n):\n",
    "        for j in range(n):\n",
    "            x = i * i\n",
    "            y = j * j\n",
    "            z = i * j\n",
    "            \n",
    "    # c. n multiplications, additions, and assignments\n",
    "    #    + n multiplications and assignments\n",
    "    for k in range(n):\n",
    "        w = a*k + 45\n",
    "        v = b*b\n",
    "        \n",
    "    # d. 1 assignment\n",
    "    d = 33"
   ]
  },
  {
   "cell_type": "markdown",
   "metadata": {},
   "source": [
    "The **total number of operations** are:  $T(n) = 3 + 3n^2 + 3n + 3n + 1 = 3n^2 + 6n + 4$"
   ]
  },
  {
   "cell_type": "markdown",
   "metadata": {},
   "source": [
    "**Note**: Complexity is an *asymptotic* measure,\n",
    "\n",
    "1. Only the number of operations matter (not their type or cost)\n",
    "2. Only the highest order matter"
   ]
  },
  {
   "cell_type": "markdown",
   "metadata": {},
   "source": [
    "**BigO-notation**: `my_algorithm()` is $O(n^2)$, i.e. *quadratic complexity*"
   ]
  },
  {
   "cell_type": "markdown",
   "metadata": {},
   "source": [
    "**In practice:** \n",
    "\n",
    "1. The cost of each operation matter for fixed input size.\n",
    "2. The amount and flow of memory matter for speed (cache vs. RAM vs. disc). "
   ]
  },
  {
   "cell_type": "markdown",
   "metadata": {},
   "source": [
    "[How expensive is an operation on a CPU?](https://streamhpc.com/blog/2012-07-16/how-expensive-is-an-operation-on-a-cpu/)"
   ]
  },
  {
   "cell_type": "markdown",
   "metadata": {},
   "source": [
    "**Question:** What is the complexity of these two algoritms?\n"
   ]
  },
  {
   "cell_type": "code",
   "execution_count": 4,
   "metadata": {},
   "outputs": [],
   "source": [
    "def algorithm_a(n):\n",
    "    s = 0\n",
    "    for i in range(n):\n",
    "        for j in range(n):\n",
    "            for k in range(n):\n",
    "                s += 1\n",
    "\n",
    "def algorithm_b(n):\n",
    "    s = 0\n",
    "    for i in range(n):\n",
    "        s *= 2\n",
    "    for j in range(n):\n",
    "        s *= 2\n",
    "    for k in range(n):\n",
    "        s *= 2"
   ]
  },
  {
   "cell_type": "markdown",
   "metadata": {},
   "source": [
    "<a id=\"Seaching\"></a>\n",
    "\n",
    "# 2. Seaching"
   ]
  },
  {
   "cell_type": "markdown",
   "metadata": {},
   "source": [
    "## 2.1 Linear search (also called sequential search)"
   ]
  },
  {
   "cell_type": "markdown",
   "metadata": {},
   "source": [
    "**Problem:** Check whether element is in list.\n",
    "\n",
    "**Inputs:** A list `L` and a potential element `x`.\n",
    "    \n",
    "**Outputs:** Boolean.\n",
    "\n",
    "**Algorithm:** `linear_search()`\n",
    "\n",
    "  1. Set `found` to `False`\n",
    "  2. For each `y` in the list `L`, compare it to `x`. If `x == y` set `found = True` and break loop.\n",
    "  3. `found` now shows whether the element is in the list or not"
   ]
  },
  {
   "cell_type": "code",
   "execution_count": 5,
   "metadata": {},
   "outputs": [
    {
     "name": "stdout",
     "output_type": "stream",
     "text": [
      "found  3: None\n",
      "found 13: None\n"
     ]
    }
   ],
   "source": [
    "L = [1, 2, 32, 8, 17, 19, 42, 13, 0] # test list\n",
    "\n",
    "def linear_search(L,x):\n",
    "    pass\n",
    "    \n",
    "print('found  3:',linear_search(L,3))\n",
    "print('found 13:',linear_search(L,13))"
   ]
  },
  {
   "cell_type": "code",
   "execution_count": 6,
   "metadata": {
    "jupyter": {
     "source_hidden": true
    }
   },
   "outputs": [],
   "source": [
    "def linear_search(L,x):\n",
    "    \"\"\" linear search\n",
    "    \n",
    "    Args:\n",
    "    \n",
    "        L (list): List to search in.\n",
    "        x (any): Element to search for.\n",
    "        \n",
    "    Returns:\n",
    "    \n",
    "        found (bool): Boolean for whether element is in list or not.\n",
    "    \n",
    "    \"\"\"\n",
    "    \n",
    "    # a. prep\n",
    "    i = 0\n",
    "    N = len(L)\n",
    "    found = False\n",
    "\n",
    "    # b. main\n",
    "    while i < N and not found:\n",
    "        if L[i] == x: # comparison\n",
    "            found = True\n",
    "        else:\n",
    "            i += 1 # increment\n",
    "\n",
    "    # c. return\n",
    "    return found"
   ]
  },
  {
   "cell_type": "code",
   "execution_count": 7,
   "metadata": {},
   "outputs": [
    {
     "name": "stdout",
     "output_type": "stream",
     "text": [
      "found  3: False\n",
      "found 13: True\n"
     ]
    }
   ],
   "source": [
    "print('found  3:',linear_search(L,3))\n",
    "print('found 13:',linear_search(L,13))"
   ]
  },
  {
   "cell_type": "markdown",
   "metadata": {},
   "source": [
    "**Terminology:** The linear search algorithm is called a **brute force** algorithm (we solve the problem without any intermediate steps)."
   ]
  },
  {
   "cell_type": "markdown",
   "metadata": {},
   "source": [
    "**Analysis:** Each operation consists of a *comparision* and an *incremenet*:\n",
    "\n",
    "1. **Best case:** $O(1)$ (element present and first in list)\n",
    "2. **Average case:** \n",
    "  * $O(\\frac{n}{2})=O(n)$ (if element present), or \n",
    "  * $O(n)$ (if element *not* present) \n",
    "3. **Worst case:** $O(n)$ (element not present or last in list)"
   ]
  },
  {
   "cell_type": "markdown",
   "metadata": {},
   "source": [
    "## 2.2 Binary search"
   ]
  },
  {
   "cell_type": "markdown",
   "metadata": {},
   "source": [
    "**Problem:** Check whether element is in a *sorted* list.\n",
    "\n",
    "**Inputs:** A list `L` and a potential element `x`.\n",
    "    \n",
    "**Outputs:** Boolean.\n",
    "\n",
    "**Algorithm:** `binary_search()`\n",
    "\n",
    "  1. Set `found` to `False`, \n",
    "  2. Check whether the middle element is the one we are searching for:\n",
    "    * If yes, set `found=True` and go to step 3.\n",
    "    * If no, and the middle element is *smaller*, restrict attention to the *left* part of the list and restart step 2 if not empty.\n",
    "    * If no, and the middle element is *larger*, restrict attention to the *right* part of the list and restart step 2 if not empty.\n",
    "  3. `found` now shows whether the element is in the list or not"
   ]
  },
  {
   "cell_type": "markdown",
   "metadata": {},
   "source": [
    "**Middle element:** Define the midpoint between index `i` and index `j >= i` as `i + (j-i)/2` (rounded down if necessary)."
   ]
  },
  {
   "cell_type": "code",
   "execution_count": 8,
   "metadata": {},
   "outputs": [
    {
     "name": "stdout",
     "output_type": "stream",
     "text": [
      "(i,j) = (1, 4) -> midpoint = 2\n",
      "(i,j) = (1, 5) -> midpoint = 3\n",
      "(i,j) = (1, 6) -> midpoint = 3\n",
      "(i,j) = (2, 4) -> midpoint = 3\n",
      "(i,j) = (2, 5) -> midpoint = 3\n",
      "(i,j) = (2, 6) -> midpoint = 4\n",
      "(i,j) = (4, 4) -> midpoint = 4\n",
      "(i,j) = (4, 5) -> midpoint = 4\n",
      "(i,j) = (4, 6) -> midpoint = 5\n"
     ]
    }
   ],
   "source": [
    "for i in [1,2,4]:\n",
    "    for j in [4,5,6]:\n",
    "        print(f'(i,j) = {i,j} -> midpoint = {i+(j-i)//2}')"
   ]
  },
  {
   "cell_type": "code",
   "execution_count": 9,
   "metadata": {},
   "outputs": [
    {
     "name": "stdout",
     "output_type": "stream",
     "text": [
      "found  3: None\n",
      "found 13: None\n"
     ]
    }
   ],
   "source": [
    "L = [0, 1, 2, 8, 13, 17, 19, 32, 42] # test list\n",
    "\n",
    "def binary_search(L,x):    \n",
    "    pass\n",
    "\n",
    "print('found  3:',binary_search(L,3))\n",
    "print('found 13:',binary_search(L,13))"
   ]
  },
  {
   "cell_type": "code",
   "execution_count": 10,
   "metadata": {
    "jupyter": {
     "source_hidden": true
    }
   },
   "outputs": [],
   "source": [
    "def binary_search(L,x,do_print=False):\n",
    "    \"\"\" binary search\n",
    "    \n",
    "    Args:\n",
    "    \n",
    "        L (list): List to search in.\n",
    "        x (any): Element to search for.\n",
    "        do_print (bool): Indicator for printing progress.\n",
    "        \n",
    "    Returns:\n",
    "    \n",
    "        found (bool): Boolean for whether element is in list or not.\n",
    "    \n",
    "    \"\"\"\n",
    "    \n",
    "    # a. initialize\n",
    "    found = False\n",
    "    \n",
    "    # b. start with whole list\n",
    "    first = 0\n",
    "    last = len(L)-1\n",
    "    \n",
    "    # c. main\n",
    "    while first <= last and not found:\n",
    "\n",
    "        # i. find midpoint\n",
    "        midpoint = first + (last - first) // 2 # // is integer division\n",
    "    \n",
    "        if do_print:\n",
    "            print(L[first:last+1],L[midpoint])\n",
    "            \n",
    "        # ii. check if x found or smaller or larger than midpoint\n",
    "        if L[midpoint] == x:\n",
    "            found = True\n",
    "        else:\n",
    "            if x < L[midpoint]:\n",
    "                last = midpoint-1\n",
    "            else:\n",
    "                first = midpoint+1\n",
    "    \n",
    "    return found"
   ]
  },
  {
   "cell_type": "code",
   "execution_count": 11,
   "metadata": {},
   "outputs": [
    {
     "name": "stdout",
     "output_type": "stream",
     "text": [
      "found  3: False\n",
      "found 13: True\n"
     ]
    }
   ],
   "source": [
    "print('found  3:',binary_search(L,3))\n",
    "print('found 13:',binary_search(L,13))"
   ]
  },
  {
   "cell_type": "code",
   "execution_count": 12,
   "metadata": {},
   "outputs": [
    {
     "name": "stdout",
     "output_type": "stream",
     "text": [
      "[0, 1, 2, 8, 13, 17, 19, 32, 42] 13\n",
      "[17, 19, 32, 42] 19\n",
      "[32, 42] 32\n"
     ]
    },
    {
     "data": {
      "text/plain": [
       "True"
      ]
     },
     "execution_count": 12,
     "metadata": {},
     "output_type": "execute_result"
    }
   ],
   "source": [
    "binary_search(L,32,do_print=True)"
   ]
  },
  {
   "cell_type": "markdown",
   "metadata": {},
   "source": [
    "**Terminology:** This is called a **divide-and-conquer** algorithm."
   ]
  },
  {
   "cell_type": "markdown",
   "metadata": {},
   "source": [
    "**Analysis:**\n",
    "\n",
    "* After 1 comparison there is approximately $\\frac{n}{2}$ elements left.\n",
    "* After 2 comparisons there is approximately $\\frac{n}{4}$ elements left.\n",
    "* After 3 comparisons there is approximately $\\frac{n}{8}$ elements left.\n",
    "* ...\n",
    "* After $j$ comparisons there is approximately $\\frac{n}{2^j}$ number of elements left.\n",
    "\n",
    "**When is there one element left?**  $\\frac{n}{2^j} = 1 \\Leftrightarrow j = \\frac{\\log n}{\\log 2}$\n",
    "\n",
    "**Result:** The binary search algorithm is $O(\\log n)$, i.e. logarithmic complexity."
   ]
  },
  {
   "cell_type": "markdown",
   "metadata": {},
   "source": [
    "<a id=\"Recursion\"></a>\n",
    "\n",
    "# 3. Recursion"
   ]
  },
  {
   "cell_type": "markdown",
   "metadata": {},
   "source": [
    "**Problem:** Sum the elements in a list."
   ]
  },
  {
   "cell_type": "code",
   "execution_count": 13,
   "metadata": {},
   "outputs": [],
   "source": [
    "L = [1,3,5,7,9]"
   ]
  },
  {
   "cell_type": "markdown",
   "metadata": {},
   "source": [
    "**Simple:** Just sum them:"
   ]
  },
  {
   "cell_type": "code",
   "execution_count": 14,
   "metadata": {},
   "outputs": [
    {
     "name": "stdout",
     "output_type": "stream",
     "text": [
      "25\n"
     ]
    }
   ],
   "source": [
    "def listsum(L):\n",
    "    result = 0\n",
    "    for x in L:\n",
    "        result += x\n",
    "    return result\n",
    "\n",
    "print(listsum(L))"
   ]
  },
  {
   "cell_type": "markdown",
   "metadata": {},
   "source": [
    "**Recursion:** The sum of a list is the sum of the first element and the sum of the rest of the list:"
   ]
  },
  {
   "cell_type": "code",
   "execution_count": 15,
   "metadata": {},
   "outputs": [
    {
     "name": "stdout",
     "output_type": "stream",
     "text": [
      "25\n"
     ]
    }
   ],
   "source": [
    "def listsum_recursive(L):\n",
    "    if len(L) == 1:\n",
    "        return L[0]\n",
    "    else:\n",
    "        return L[0] + listsum_recursive(L[1:])\n",
    "\n",
    "print(listsum(L))"
   ]
  },
  {
   "cell_type": "markdown",
   "metadata": {},
   "source": [
    "This is also a divide-and-conquor strategy. Avoids loops."
   ]
  },
  {
   "cell_type": "markdown",
   "metadata": {},
   "source": [
    "## 3.1 Fibonacci numbers"
   ]
  },
  {
   "cell_type": "markdown",
   "metadata": {},
   "source": [
    "**Definition:**\n",
    "\n",
    "$$\n",
    "\\begin{aligned}\n",
    "F_0 &= 0 \\\\\n",
    "F_1 &= 1 \\\\\n",
    "F_n &= F_{n-1} + F_{n-2} \\\\\n",
    "\\end{aligned}\n",
    "$$\n",
    "\n",
    "**Implementation:**"
   ]
  },
  {
   "cell_type": "code",
   "execution_count": 16,
   "metadata": {},
   "outputs": [
    {
     "name": "stdout",
     "output_type": "stream",
     "text": [
      "0\n",
      "1\n",
      "1\n",
      "2\n",
      "3\n",
      "5\n",
      "8\n",
      "13\n",
      "21\n",
      "34\n"
     ]
    }
   ],
   "source": [
    "def fibonacci(n):\n",
    "    if n == 0:\n",
    "        return 0\n",
    "    elif n == 1:\n",
    "        return 1\n",
    "    return fibonacci(n-1)+fibonacci(n-2)\n",
    "\n",
    "for n in range(10):\n",
    "    print(fibonacci(n))"
   ]
  },
  {
   "cell_type": "markdown",
   "metadata": {},
   "source": [
    "**Test approximate formula:**"
   ]
  },
  {
   "cell_type": "code",
   "execution_count": 17,
   "metadata": {},
   "outputs": [
    {
     "name": "stdout",
     "output_type": "stream",
     "text": [
      "n =   5: true =      5, approximate =       5.000000000000\n",
      "n =  10: true =     55, approximate =      55.000000000000\n",
      "n =  15: true =    610, approximate =     610.000000000000\n",
      "n =  20: true =   6765, approximate =    6765.000000000005\n",
      "n =  25: true =  75025, approximate =   75025.000000000058\n"
     ]
    }
   ],
   "source": [
    "def fibonacci_approx(n):\n",
    "    return 1/np.sqrt(5)*( ((1+np.sqrt(5))/2)**n - ((1-np.sqrt(5))/2)**n)\n",
    "\n",
    "for n in [5,10,15,20,25]:\n",
    "    print(f'n = {n:3d}: true = {fibonacci(n):6d}, approximate = {fibonacci_approx(n):20.12f}')"
   ]
  },
  {
   "cell_type": "markdown",
   "metadata": {},
   "source": [
    "## 3.2 Binary search with recursion"
   ]
  },
  {
   "cell_type": "code",
   "execution_count": 18,
   "metadata": {},
   "outputs": [
    {
     "name": "stdout",
     "output_type": "stream",
     "text": [
      "found  3: None\n",
      "found 13: None\n"
     ]
    }
   ],
   "source": [
    "L = [0, 1, 2, 8, 13, 17, 19, 32, 42,] # test list\n",
    "\n",
    "def binary_search_recursive(L,x):\n",
    "    pass\n",
    "\n",
    "print('found  3:',binary_search_recursive(L,3))\n",
    "print('found 13:',binary_search_recursive(L,13))"
   ]
  },
  {
   "cell_type": "code",
   "execution_count": 19,
   "metadata": {
    "jupyter": {
     "source_hidden": true
    }
   },
   "outputs": [],
   "source": [
    "def binary_search_recursive(L,x):\n",
    "    \"\"\" recursive binary search\n",
    "    \n",
    "    Args:\n",
    "    \n",
    "        L (list): List to search in.\n",
    "        x (any): Element to search for.\n",
    "        \n",
    "    Returns:\n",
    "    \n",
    "        found (bool): Boolean for whether element is in list or not.\n",
    "    \n",
    "    \"\"\"\n",
    "    \n",
    "    if len(L) == 0: \n",
    "    \n",
    "        return False # not found\n",
    "    \n",
    "    else:\n",
    "        \n",
    "        # a. find midpoint\n",
    "        midpoint = len(L)//2\n",
    "        \n",
    "        # b. check if x found or smaller or larger than midpoint\n",
    "        if L[midpoint] == x: # found\n",
    "            return True\n",
    "        else:\n",
    "            if x < L[midpoint]:\n",
    "                newL = L[:midpoint]\n",
    "            else:\n",
    "                newL = L[midpoint+1:]\n",
    "            return binary_search_recursive(newL,x)"
   ]
  },
  {
   "cell_type": "code",
   "execution_count": 20,
   "metadata": {},
   "outputs": [
    {
     "name": "stdout",
     "output_type": "stream",
     "text": [
      "found  3: False\n",
      "found 13: True\n"
     ]
    }
   ],
   "source": [
    "print('found  3:',binary_search_recursive(L,3))\n",
    "print('found 13:',binary_search_recursive(L,13))"
   ]
  },
  {
   "cell_type": "markdown",
   "metadata": {},
   "source": [
    "<a id=\"Sorting\"></a>\n",
    "\n",
    "# 4. Sorting"
   ]
  },
  {
   "cell_type": "markdown",
   "metadata": {},
   "source": [
    "Function for **swapping** element `L[i]` with element `L[j]` in-place:"
   ]
  },
  {
   "cell_type": "code",
   "execution_count": 21,
   "metadata": {},
   "outputs": [],
   "source": [
    "def swap(L,i,j):\n",
    "    temp = L[i] # save value at i\n",
    "    L[i] = L[j] # overwrite value at i with value at j\n",
    "    L[j] = temp # write original value at i to value at j"
   ]
  },
  {
   "cell_type": "markdown",
   "metadata": {},
   "source": [
    "**Example:**"
   ]
  },
  {
   "cell_type": "code",
   "execution_count": 22,
   "metadata": {},
   "outputs": [
    {
     "name": "stdout",
     "output_type": "stream",
     "text": [
      "after swap [1, 4, 3, 9, 13]\n"
     ]
    }
   ],
   "source": [
    "L = [1, 3, 4, 9, 13] \n",
    "i = 1\n",
    "j = 2\n",
    "swap(L,i,j)\n",
    "print('after swap',L)"
   ]
  },
  {
   "cell_type": "markdown",
   "metadata": {},
   "source": [
    "## 4.1 Bubble sort"
   ]
  },
  {
   "cell_type": "markdown",
   "metadata": {},
   "source": [
    "**Problem:** Sort a list of numbers in-place.\n",
    "\n",
    "**Inputs:** List of numbers.\n",
    "\n",
    "**Outputs:** None.\n",
    "\n",
    "**Algorithm:** `bubble_sort()`\n",
    "\n",
    "  1. Loop through the first n-1 elements in list, swap with next element if current is larger.\n",
    "  2. Loop through the first n-2 elements in list, swap with next element if current is larger.\n",
    "  <br>\n",
    "  ...\n",
    "  <br>\n",
    "  4. Loop through the first 3 elements in list, swap with next element if current is larger.\n",
    "  5. Swap the two first elements if the first is larger than the second\n",
    "  6. List is sorted\n",
    "  "
   ]
  },
  {
   "cell_type": "code",
   "execution_count": 23,
   "metadata": {},
   "outputs": [
    {
     "name": "stdout",
     "output_type": "stream",
     "text": [
      "[54, 26, 93, 17, 77, 31, 44, 55, 20]\n"
     ]
    }
   ],
   "source": [
    "L = [54, 26, 93, 17, 77, 31, 44, 55, 20] # test list       \n",
    "\n",
    "def bubble_sort(L):\n",
    "    pass\n",
    "\n",
    "bubble_sort(L)\n",
    "print(L)"
   ]
  },
  {
   "cell_type": "code",
   "execution_count": 24,
   "metadata": {
    "jupyter": {
     "source_hidden": true
    }
   },
   "outputs": [
    {
     "name": "stdout",
     "output_type": "stream",
     "text": [
      "sorted [17, 20, 26, 31, 44, 54, 55, 77, 93]\n"
     ]
    }
   ],
   "source": [
    "def bubble_sort(L):\n",
    "    \"\"\" bubble sort\n",
    "    \n",
    "    Args:\n",
    "    \n",
    "        L (list): List of numbers\n",
    "        \n",
    "    \"\"\"\n",
    "    \n",
    "    for k in range(len(L)-1,0,-1):\n",
    "        for i in range(k):\n",
    "            if L[i] > L[i+1]:\n",
    "                swap(L,i,i+1)\n",
    "\n",
    "L = [54, 26, 93, 17, 77, 31, 44, 55, 20]      \n",
    "bubble_sort(L)\n",
    "print('sorted',L)"
   ]
  },
  {
   "cell_type": "markdown",
   "metadata": {},
   "source": [
    "**Illustration:**"
   ]
  },
  {
   "cell_type": "code",
   "execution_count": 25,
   "metadata": {
    "jupyter": {
     "source_hidden": true
    }
   },
   "outputs": [
    {
     "name": "stdout",
     "output_type": "stream",
     "text": [
      "original [54, 26, 93, 17, 77, 31, 44, 55, 20] \n",
      "\n",
      "step = 1\n",
      "[26, 54, 93, 17, 77, 31, 44, 55, 20]\n",
      "[26, 54, 93, 17, 77, 31, 44, 55, 20]\n",
      "[26, 54, 17, 93, 77, 31, 44, 55, 20]\n",
      "[26, 54, 17, 77, 93, 31, 44, 55, 20]\n",
      "[26, 54, 17, 77, 31, 93, 44, 55, 20]\n",
      "[26, 54, 17, 77, 31, 44, 93, 55, 20]\n",
      "[26, 54, 17, 77, 31, 44, 55, 93, 20]\n",
      "[26, 54, 17, 77, 31, 44, 55, 20, 93]\n",
      "\n",
      "step = 2\n",
      "[26, 54, 17, 77, 31, 44, 55, 20, 93]\n",
      "[26, 17, 54, 77, 31, 44, 55, 20, 93]\n",
      "[26, 17, 54, 77, 31, 44, 55, 20, 93]\n",
      "[26, 17, 54, 31, 77, 44, 55, 20, 93]\n",
      "[26, 17, 54, 31, 44, 77, 55, 20, 93]\n",
      "[26, 17, 54, 31, 44, 55, 77, 20, 93]\n",
      "[26, 17, 54, 31, 44, 55, 20, 77, 93]\n",
      "\n",
      "step = 3\n",
      "[17, 26, 54, 31, 44, 55, 20, 77, 93]\n",
      "[17, 26, 54, 31, 44, 55, 20, 77, 93]\n",
      "[17, 26, 31, 54, 44, 55, 20, 77, 93]\n",
      "[17, 26, 31, 44, 54, 55, 20, 77, 93]\n",
      "[17, 26, 31, 44, 54, 55, 20, 77, 93]\n",
      "[17, 26, 31, 44, 54, 20, 55, 77, 93]\n",
      "\n",
      "step = 4\n",
      "[17, 26, 31, 44, 54, 20, 55, 77, 93]\n",
      "[17, 26, 31, 44, 54, 20, 55, 77, 93]\n",
      "[17, 26, 31, 44, 54, 20, 55, 77, 93]\n",
      "[17, 26, 31, 44, 54, 20, 55, 77, 93]\n",
      "[17, 26, 31, 44, 20, 54, 55, 77, 93]\n",
      "\n",
      "step = 5\n",
      "[17, 26, 31, 44, 20, 54, 55, 77, 93]\n",
      "[17, 26, 31, 44, 20, 54, 55, 77, 93]\n",
      "[17, 26, 31, 44, 20, 54, 55, 77, 93]\n",
      "[17, 26, 31, 20, 44, 54, 55, 77, 93]\n",
      "\n",
      "step = 6\n",
      "[17, 26, 31, 20, 44, 54, 55, 77, 93]\n",
      "[17, 26, 31, 20, 44, 54, 55, 77, 93]\n",
      "[17, 26, 20, 31, 44, 54, 55, 77, 93]\n",
      "\n",
      "step = 7\n",
      "[17, 26, 20, 31, 44, 54, 55, 77, 93]\n",
      "[17, 20, 26, 31, 44, 54, 55, 77, 93]\n",
      "\n",
      "step = 8\n",
      "[17, 20, 26, 31, 44, 54, 55, 77, 93]\n",
      "\n"
     ]
    }
   ],
   "source": [
    "def bubble_sort_with_print(L):\n",
    "    for k in range(len(L)-1,0,-1):\n",
    "        print(f'step = {len(L)-k}')\n",
    "        for i in range(k):\n",
    "            if L[i] > L[i+1]:\n",
    "                swap(L,i,i+1)\n",
    "            print(L)                \n",
    "        print('')\n",
    "        \n",
    "L = [54, 26, 93, 17, 77, 31, 44, 55, 20]        \n",
    "print('original',L,'\\n')\n",
    "bubble_sort_with_print(L)"
   ]
  },
  {
   "cell_type": "markdown",
   "metadata": {},
   "source": [
    "**Analysis:** Bubble sort is $O(n^2)$ [we don't derive this, just trust me].\n",
    "\n",
    "**Fun fact:** It is a popular [dance](https://www.youtube.com/watch?v=WuGvUFvG7yo)..."
   ]
  },
  {
   "cell_type": "markdown",
   "metadata": {},
   "source": [
    "## 4.2 Insertion sort"
   ]
  },
  {
   "cell_type": "markdown",
   "metadata": {},
   "source": [
    "**Algorithm:** `insertion_sort()`\n",
    "\n",
    "  1. Consider the *second* element. Insert it correctly in the list of the numbers before the *second* element.\n",
    "  2. Consider the *third*  element. Insert it correctly in the list of the numbers before the *third* element.\n",
    "  <br>\n",
    "  ...\n",
    "  <br>\n",
    "  4. Consider the n'th element. Insert it correctly in the list of the numbers before the *n'th* element.\n",
    "  5. List is sorted\n",
    "  "
   ]
  },
  {
   "cell_type": "markdown",
   "metadata": {},
   "source": [
    "**Illustration:**\n",
    "\n",
    "<img src=\"https://github.com/NumEconCopenhagen/lectures-2019/raw/master/08/insertionsort.png\" alt=\"insertionsort\" width=50% />"
   ]
  },
  {
   "cell_type": "code",
   "execution_count": 26,
   "metadata": {},
   "outputs": [
    {
     "name": "stdout",
     "output_type": "stream",
     "text": [
      "[54, 26, 93, 17, 77, 31, 44, 55, 20]\n"
     ]
    }
   ],
   "source": [
    "L = [54, 26, 93, 17, 77, 31, 44, 55, 20] # test list\n",
    "\n",
    "def insertion_sort(L):\n",
    "    pass\n",
    "\n",
    "insertion_sort(L)\n",
    "print(L)"
   ]
  },
  {
   "cell_type": "code",
   "execution_count": 27,
   "metadata": {
    "jupyter": {
     "source_hidden": true
    }
   },
   "outputs": [
    {
     "name": "stdout",
     "output_type": "stream",
     "text": [
      "sorted [17, 20, 26, 31, 44, 54, 55, 77, 93]\n"
     ]
    }
   ],
   "source": [
    "def insertion_sort(L):\n",
    "    \"\"\" insertion sort\n",
    "    \n",
    "    Args:\n",
    "    \n",
    "        L (list): List of numbers\n",
    "        \n",
    "    \"\"\"\n",
    "    \n",
    "    # loop over last n-1 elements\n",
    "    n = len(L)\n",
    "    for k in range(1,n):\n",
    "        \n",
    "        # a. current value and position\n",
    "        x = L[k]\n",
    "        i = k\n",
    "        \n",
    "        # b. move left while larger\n",
    "        while i > 0 and L[i-1] > x:         \n",
    "            L[i] = L[i-1] # move\n",
    "            i = i-1\n",
    "        \n",
    "        # c. insert current vlaue\n",
    "        L[i] = x\n",
    "\n",
    "L = [54, 26, 93, 17, 77, 31, 44, 55, 20]\n",
    "insertion_sort(L)\n",
    "print('sorted',L)        "
   ]
  },
  {
   "cell_type": "markdown",
   "metadata": {},
   "source": [
    "**Analysis:** Still $O(n^2)$ [we don't derive this, just trust me]."
   ]
  },
  {
   "cell_type": "markdown",
   "metadata": {},
   "source": [
    "**Benefits relative to bubble sort:**\n",
    "\n",
    "1. Moves instead of swaps.\n",
    "2. For an already sorted list only one comparison per element."
   ]
  },
  {
   "cell_type": "markdown",
   "metadata": {},
   "source": [
    "## 4.3 Partition (+)"
   ]
  },
  {
   "cell_type": "markdown",
   "metadata": {},
   "source": [
    "*Intermezzo: Solving the partition problem is useful for a so-called quicksort.*"
   ]
  },
  {
   "cell_type": "markdown",
   "metadata": {},
   "source": [
    "**Problem:** Permute a list and return a splitpoint, such that all elements before is larger than or equal to the first element in the original list, and all elements afterwards are strictly larger.\n",
    "\n",
    "**Input:** List of numbers.\n",
    "\n",
    "**Output:** Integer.\n",
    "\n",
    "**Algorithm:**\n",
    "\n",
    "1. From the *left* find first element larger than the first element (leftmark).\n",
    "2. From the *right* find the the first elment smaller than the last element (rightmark).\n",
    "3. Swap these two elements.\n",
    "4. Repeat 1-3 starting from previous leftmark and rightmark. Continue until leftmark is larger than rightmark.\n",
    "5. Swap first and rigtmark element.\n",
    "6. Return the rightmark."
   ]
  },
  {
   "cell_type": "markdown",
   "metadata": {},
   "source": [
    "<img src=\"https://github.com/NumEconCopenhagen/lectures-2019/raw/master/08/quicksort.png\" alt=\"quicksort\" width=60% />"
   ]
  },
  {
   "cell_type": "code",
   "execution_count": 28,
   "metadata": {},
   "outputs": [],
   "source": [
    "def partition(L,first,last):\n",
    "    \"\"\" partition\n",
    "    \n",
    "    Permute a list and return a splitpoint, such that all elements before \n",
    "    is larger than or equal to the first element in the original list, \n",
    "    and all elements afterwards are strictly larger.\n",
    "    \n",
    "    Args:\n",
    "    \n",
    "        L (list): List of numbers\n",
    "        first (integer): Startpoint\n",
    "        last (integer): Endpoint\n",
    "    \n",
    "    Returns:\n",
    "    \n",
    "        splitpoint (integer): \n",
    "        \n",
    "    \"\"\"\n",
    "    \n",
    "    # a. initialize\n",
    "    splitvalue = L[first]\n",
    "    leftmark = first+1\n",
    "    rightmark = last\n",
    "\n",
    "    # b. find splitpoint\n",
    "    done = False\n",
    "    while not done:\n",
    "\n",
    "        # i. find leftmark\n",
    "        while leftmark <= rightmark and L[leftmark] <= splitvalue:\n",
    "            leftmark = leftmark + 1\n",
    "        \n",
    "        # i. find rightmark\n",
    "        while L[rightmark] >= splitvalue and rightmark >= leftmark:\n",
    "            rightmark = rightmark -1\n",
    "\n",
    "        # iii. check if done or swap left and right\n",
    "        if rightmark < leftmark:\n",
    "            done = True\n",
    "        else:\n",
    "            swap(L,leftmark,rightmark)\n",
    "\n",
    "    # c. final swap\n",
    "    swap(L,first,rightmark)\n",
    "\n",
    "    return rightmark"
   ]
  },
  {
   "cell_type": "code",
   "execution_count": 29,
   "metadata": {},
   "outputs": [
    {
     "name": "stdout",
     "output_type": "stream",
     "text": [
      "before [54, 26, 93, 17, 77, 31, 44, 55, 20]\n",
      "after [31, 26, 20, 17, 44, 54, 77, 55, 93]\n",
      "split [31, 26, 20, 17, 44, 54] [77, 55, 93]\n"
     ]
    }
   ],
   "source": [
    "L = [54, 26, 93, 17, 77, 31, 44, 55, 20]\n",
    "print('before',L)\n",
    "splitpoint = partition(L,0,len(L)-1)\n",
    "print('after',L)\n",
    "print('split',L[:splitpoint+1],L[splitpoint+1:])"
   ]
  },
  {
   "cell_type": "markdown",
   "metadata": {},
   "source": [
    "## 4.4 Quicksort (+)"
   ]
  },
  {
   "cell_type": "markdown",
   "metadata": {},
   "source": [
    "**Algorithm:** `quick_sort()`\n",
    "\n",
    "1. Recursively partition the list and the sub-lists when splitting at the splitpoint.\n",
    "2. The list is now sorted."
   ]
  },
  {
   "cell_type": "code",
   "execution_count": 30,
   "metadata": {},
   "outputs": [],
   "source": [
    "def quick_sort(L):\n",
    "    _quick_sort(L,0,len(L)-1)\n",
    "\n",
    "def _quick_sort(L,first,last):\n",
    "   \n",
    "    if first < last:\n",
    "\n",
    "        splitpoint = partition(L,first,last)    \n",
    "        _quick_sort(L,first,splitpoint-1) # left part\n",
    "        _quick_sort(L,splitpoint+1,last) # right part"
   ]
  },
  {
   "cell_type": "code",
   "execution_count": 31,
   "metadata": {},
   "outputs": [
    {
     "name": "stdout",
     "output_type": "stream",
     "text": [
      "sorted [17, 20, 26, 31, 44, 54, 55, 77, 93]\n"
     ]
    }
   ],
   "source": [
    "L = [54, 26, 93, 17, 77, 31, 44, 55, 20]\n",
    "quick_sort(L)\n",
    "print('sorted',L)"
   ]
  },
  {
   "cell_type": "markdown",
   "metadata": {},
   "source": [
    "**Analysis:** $O(n \\log n)$ on average, but still $O(n^2)$ in the worst case [we don't derive this, just trust me]."
   ]
  },
  {
   "cell_type": "markdown",
   "metadata": {},
   "source": [
    "## 4.5 Comparision"
   ]
  },
  {
   "cell_type": "markdown",
   "metadata": {},
   "source": [
    "Lets us compare the different sorting algorithm:\n",
    "\n",
    "1. Bubble\n",
    "2. Insertion\n",
    "3. Quick\n",
    "4. Quick (as implemented in Numpy)"
   ]
  },
  {
   "cell_type": "code",
   "execution_count": 32,
   "metadata": {},
   "outputs": [
    {
     "data": {
      "image/png": "[encoded data removed]",
      "text/plain": [
       "<Figure size 432x288 with 1 Axes>"
      ]
     },
     "metadata": {
      "needs_background": "light"
     },
     "output_type": "display_data"
    }
   ],
   "source": [
    "# a. settings\n",
    "n_vec = np.array([100,200,300,400,500,750,1000,1500,2000,4000,8000,16000]) # number of elements in list\n",
    "K = 50 # number of repetitions when timing\n",
    "\n",
    "# b. allocate vectors for results\n",
    "bubble = np.empty(len(n_vec))\n",
    "insertion = np.empty(len(n_vec))\n",
    "quick = np.empty(len(n_vec))\n",
    "quicknp = np.empty(len(n_vec))\n",
    "\n",
    "# c. run time trials\n",
    "np.random.seed(1999)\n",
    "for i,n in enumerate(n_vec):\n",
    "    \n",
    "    # i. draw K random lists of lenght n\n",
    "    L_bubble = []\n",
    "    L_insertion = []\n",
    "    L_quick = []\n",
    "    L_quicknp = []\n",
    "    for k in range(K):\n",
    "        L = np.random.uniform(size=n)\n",
    "        np.random.shuffle(L)\n",
    "        L_bubble.append(L.copy())\n",
    "        L_insertion.append(L.copy())\n",
    "        L_quick.append(L.copy())\n",
    "        L_quicknp.append(L.copy())\n",
    "        \n",
    "    # ii. bubble sort\n",
    "    if n <= 500:\n",
    "        t0 = time.time() # start timer\n",
    "        for k in range(K):\n",
    "            bubble_sort(L_bubble[k])\n",
    "        bubble[i] = time.time()-t0 # calculate time since start\n",
    "    else: \n",
    "        bubble[i] = np.nan\n",
    "        \n",
    "    # ii. insertion sort\n",
    "    if n <= 500:\n",
    "        t0 = time.time()\n",
    "        for k in range(K):\n",
    "            insertion_sort(L_insertion[k])\n",
    "        insertion[i] = time.time()-t0\n",
    "    else: \n",
    "        insertion[i] = np.nan\n",
    "        \n",
    "    # iii. quicksort\n",
    "    if n <= 2000:\n",
    "        t0 = time.time()\n",
    "        for k in range(K):\n",
    "            quick_sort(L_quick[k])\n",
    "        quick[i] = time.time()-t0\n",
    "    else: \n",
    "        quick[i] = np.nan\n",
    "        \n",
    "    # iii. quicksort (numpy implementation)    \n",
    "    t0 = time.time()\n",
    "    for k in range(K):\n",
    "        L_quicknp[k].sort() # built-in numpy method\n",
    "    quicknp[i] = time.time()-t0\n",
    "    \n",
    "    # iv. check that all sorted lists are the same\n",
    "    for k in range(K):\n",
    "        if n <= 500:\n",
    "            assert np.all(L_bubble[k] == L_quick[k])\n",
    "            assert np.all(L_insertion[k] == L_quick[k])\n",
    "        if n <= 2000:\n",
    "            assert np.all(L_quicknp[k] == L_quick[k])\n",
    "    \n",
    "# d. figure    \n",
    "I = n_vec <= 2000\n",
    "fig = plt.figure()\n",
    "ax = fig.add_subplot(1,1,1)\n",
    "ax.plot(n_vec[I],bubble[I],label='bubble')\n",
    "ax.plot(n_vec[I],insertion[I],label='insertion')\n",
    "ax.plot(n_vec[I],quick[I],label='quick')\n",
    "ax.plot(n_vec[I],quicknp[I],label='quick (numpy)')\n",
    "ax.set_xlabel('number of elements')\n",
    "ax.set_ylabel('seconds')\n",
    "ax.legend(facecolor='white',frameon=True);"
   ]
  },
  {
   "cell_type": "code",
   "execution_count": 33,
   "metadata": {},
   "outputs": [
    {
     "data": {
      "image/png": "[encoded data removed]",
      "text/plain": [
       "<Figure size 432x288 with 1 Axes>"
      ]
     },
     "metadata": {
      "needs_background": "light"
     },
     "output_type": "display_data"
    }
   ],
   "source": [
    "fig = plt.figure()\n",
    "ax = fig.add_subplot(1,1,1)\n",
    "ax.plot(n_vec,quicknp,label='quick (numpy)')\n",
    "ax.set_xlabel('number of elements')\n",
    "ax.set_ylabel('seconds')\n",
    "ax.legend(facecolor='white',frameon=True);"
   ]
  },
  {
   "cell_type": "markdown",
   "metadata": {},
   "source": [
    "**Take-aways:** \n",
    "\n",
    "1. Complexity matters\n",
    "2. Implementation matter (and the built-in functions and methods are hard to beat)"
   ]
  },
  {
   "cell_type": "markdown",
   "metadata": {},
   "source": [
    "<a id=\"Summary\"></a>\n",
    "\n",
    "# 5. Summary"
   ]
  },
  {
   "cell_type": "markdown",
   "metadata": {},
   "source": [
    "**This lecture:**\n",
    "\n",
    "1. Algorithms and their complexity (big-O notation)\n",
    "2. Function recursion (functions calling themselves)\n",
    "3. Searching algorithms (linear, bineary)\n",
    "4. Sorting algorithm (bubble, insertion, quick)"
   ]
  },
  {
   "cell_type": "markdown",
   "metadata": {},
   "source": [
    "**Your work:** The problem set is closely related to the algorithms presented here."
   ]
  },
  {
   "cell_type": "markdown",
   "metadata": {},
   "source": [
    "**Next lecture:** Solving equations (single vs. system, linear vs. non-linear, numerically vs. symbolically)"
   ]
  }
 ],
 "metadata": {
  "kernelspec": {
   "display_name": "Python 3",
   "language": "python",
   "name": "python3"
  },
  "language_info": {
   "codemirror_mode": {
    "name": "ipython",
    "version": 3
   },
   "file_extension": ".py",
   "mimetype": "text/x-python",
   "name": "python",
   "nbconvert_exporter": "python",
   "pygments_lexer": "ipython3",
   "version": "3.7.1"
  },
  "toc-autonumbering": false
 },
 "nbformat": 4,
 "nbformat_minor": 2
}
