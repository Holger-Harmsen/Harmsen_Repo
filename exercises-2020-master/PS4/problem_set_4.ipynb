{
 "cells": [
  {
   "cell_type": "markdown",
   "metadata": {},
   "source": [
    "# Problem set 4: Analyzing data"
   ]
  },
  {
   "cell_type": "markdown",
   "metadata": {},
   "source": [
    "[<img src=\"https://mybinder.org/badge_logo.svg\">](https://mybinder.org/v2/gh/NumEconCopenhagen/exercises-2019/master?urlpath=lab/tree/PS4/problem_set_4.ipynb)"
   ]
  },
  {
   "cell_type": "code",
   "execution_count": 1,
   "metadata": {},
   "outputs": [],
   "source": [
    "import numpy as np\n",
    "import matplotlib.pyplot as plt\n",
    "plt.style.use('seaborn')\n",
    "import pandas as pd\n",
    "import pydst\n",
    "dst = pydst.Dst(lang='en')"
   ]
  },
  {
   "cell_type": "markdown",
   "metadata": {},
   "source": [
    "# Tasks"
   ]
  },
  {
   "cell_type": "markdown",
   "metadata": {},
   "source": [
    "## Import national account data from Denmark Statistics"
   ]
  },
  {
   "cell_type": "markdown",
   "metadata": {},
   "source": [
    "Consider the following dictionary definitions:"
   ]
  },
  {
   "cell_type": "code",
   "execution_count": 2,
   "metadata": {},
   "outputs": [],
   "source": [
    "columns_dict = {}\n",
    "columns_dict['TRANSAKT'] = 'variable'\n",
    "columns_dict['PRISENHED'] = 'unit'\n",
    "columns_dict['TID'] = 'year'\n",
    "columns_dict['INDHOLD'] = 'value'\n",
    "\n",
    "var_dict = {} # var is for variable\n",
    "var_dict['P.1 Output'] = 'Y'\n",
    "var_dict['P.3 Final consumption expenditure'] = 'C'\n",
    "var_dict['P.3 Government consumption expenditure'] = 'G'\n",
    "var_dict['P.5 Gross capital formation'] = 'I'\n",
    "var_dict['P.6 Export of goods and services'] = 'X'\n",
    "var_dict['P.7 Import of goods and services'] = 'M'\n",
    "\n",
    "unit_dict = {}\n",
    "unit_dict['2010-prices, chained values'] = 'real'\n",
    "unit_dict['Current prices'] = 'nominal'"
   ]
  },
  {
   "cell_type": "markdown",
   "metadata": {},
   "source": [
    "**Step 1:** Download all of table `nah1`."
   ]
  },
  {
   "cell_type": "code",
   "execution_count": 3,
   "metadata": {},
   "outputs": [],
   "source": [
    "# hint, nah1 = dst.get_data(table_id = '?', variables={'TRANSAKT':[?], 'PRISENHED':[?], 'TID':[?]})"
   ]
  },
  {
   "cell_type": "markdown",
   "metadata": {},
   "source": [
    "**Step 2:** Rename the columns using `columns_dict` and replace data using `var_dict` and `unit_dict`."
   ]
  },
  {
   "cell_type": "code",
   "execution_count": 4,
   "metadata": {},
   "outputs": [],
   "source": [
    "# hint, nah1_true.rename(?,inplace=True)\n",
    "\n",
    "# for key,value in var_dict.items():\n",
    "#   nah1.variable.replace(?)\n",
    "\n",
    "#for key,value in unit_dict.items():\n",
    "#   nah1.unit.replace(?)"
   ]
  },
  {
   "cell_type": "markdown",
   "metadata": {},
   "source": [
    "**Step 3:** Only keep rows where the variable is in `[Y, C, G, I, X, M]`. Afterwards convert the `value` column to a float."
   ]
  },
  {
   "cell_type": "code",
   "execution_count": 5,
   "metadata": {},
   "outputs": [],
   "source": [
    "# write you code here\n",
    "# nah1.value = nah1.value.astype('float')"
   ]
  },
  {
   "cell_type": "markdown",
   "metadata": {},
   "source": [
    "**Step 4:** Discuss what the following summary statistics show."
   ]
  },
  {
   "cell_type": "code",
   "execution_count": 6,
   "metadata": {},
   "outputs": [],
   "source": [
    "# nah1_true.groupby(['variable','unit']).describe()"
   ]
  },
  {
   "cell_type": "markdown",
   "metadata": {},
   "source": [
    "**Answer:**"
   ]
  },
  {
   "cell_type": "code",
   "execution_count": 7,
   "metadata": {
    "jupyter": {
     "source_hidden": true
    }
   },
   "outputs": [
    {
     "data": {
      "text/html": [
       "<div>\n",
       "<style scoped>\n",
       "    .dataframe tbody tr th:only-of-type {\n",
       "        vertical-align: middle;\n",
       "    }\n",
       "\n",
       "    .dataframe tbody tr th {\n",
       "        vertical-align: top;\n",
       "    }\n",
       "\n",
       "    .dataframe thead tr th {\n",
       "        text-align: left;\n",
       "    }\n",
       "\n",
       "    .dataframe thead tr:last-of-type th {\n",
       "        text-align: right;\n",
       "    }\n",
       "</style>\n",
       "<table border=\"1\" class=\"dataframe\">\n",
       "  <thead>\n",
       "    <tr>\n",
       "      <th></th>\n",
       "      <th></th>\n",
       "      <th colspan=\"8\" halign=\"left\">value</th>\n",
       "      <th colspan=\"8\" halign=\"left\">year</th>\n",
       "    </tr>\n",
       "    <tr>\n",
       "      <th></th>\n",
       "      <th></th>\n",
       "      <th>count</th>\n",
       "      <th>mean</th>\n",
       "      <th>std</th>\n",
       "      <th>min</th>\n",
       "      <th>25%</th>\n",
       "      <th>50%</th>\n",
       "      <th>75%</th>\n",
       "      <th>max</th>\n",
       "      <th>count</th>\n",
       "      <th>mean</th>\n",
       "      <th>std</th>\n",
       "      <th>min</th>\n",
       "      <th>25%</th>\n",
       "      <th>50%</th>\n",
       "      <th>75%</th>\n",
       "      <th>max</th>\n",
       "    </tr>\n",
       "    <tr>\n",
       "      <th>variable</th>\n",
       "      <th>unit</th>\n",
       "      <th></th>\n",
       "      <th></th>\n",
       "      <th></th>\n",
       "      <th></th>\n",
       "      <th></th>\n",
       "      <th></th>\n",
       "      <th></th>\n",
       "      <th></th>\n",
       "      <th></th>\n",
       "      <th></th>\n",
       "      <th></th>\n",
       "      <th></th>\n",
       "      <th></th>\n",
       "      <th></th>\n",
       "      <th></th>\n",
       "      <th></th>\n",
       "    </tr>\n",
       "  </thead>\n",
       "  <tbody>\n",
       "    <tr>\n",
       "      <th rowspan=\"2\" valign=\"top\">C</th>\n",
       "      <th>nominal</th>\n",
       "      <td>53.0</td>\n",
       "      <td>7.359192e+05</td>\n",
       "      <td>4.839760e+05</td>\n",
       "      <td>62576.0</td>\n",
       "      <td>293432.0</td>\n",
       "      <td>684449.0</td>\n",
       "      <td>1146493.0</td>\n",
       "      <td>1595950.0</td>\n",
       "      <td>53.0</td>\n",
       "      <td>1992.0</td>\n",
       "      <td>15.443445</td>\n",
       "      <td>1966.0</td>\n",
       "      <td>1979.0</td>\n",
       "      <td>1992.0</td>\n",
       "      <td>2005.0</td>\n",
       "      <td>2018.0</td>\n",
       "    </tr>\n",
       "    <tr>\n",
       "      <th>real</th>\n",
       "      <td>53.0</td>\n",
       "      <td>1.032705e+06</td>\n",
       "      <td>2.638538e+05</td>\n",
       "      <td>549491.0</td>\n",
       "      <td>846984.0</td>\n",
       "      <td>981584.0</td>\n",
       "      <td>1283510.0</td>\n",
       "      <td>1482029.0</td>\n",
       "      <td>53.0</td>\n",
       "      <td>1992.0</td>\n",
       "      <td>15.443445</td>\n",
       "      <td>1966.0</td>\n",
       "      <td>1979.0</td>\n",
       "      <td>1992.0</td>\n",
       "      <td>2005.0</td>\n",
       "      <td>2018.0</td>\n",
       "    </tr>\n",
       "    <tr>\n",
       "      <th rowspan=\"2\" valign=\"top\">G</th>\n",
       "      <th>nominal</th>\n",
       "      <td>53.0</td>\n",
       "      <td>2.491618e+05</td>\n",
       "      <td>1.725699e+05</td>\n",
       "      <td>14768.0</td>\n",
       "      <td>92219.0</td>\n",
       "      <td>223028.0</td>\n",
       "      <td>388545.0</td>\n",
       "      <td>546484.0</td>\n",
       "      <td>53.0</td>\n",
       "      <td>1992.0</td>\n",
       "      <td>15.443445</td>\n",
       "      <td>1966.0</td>\n",
       "      <td>1979.0</td>\n",
       "      <td>1992.0</td>\n",
       "      <td>2005.0</td>\n",
       "      <td>2018.0</td>\n",
       "    </tr>\n",
       "    <tr>\n",
       "      <th>real</th>\n",
       "      <td>53.0</td>\n",
       "      <td>3.624659e+05</td>\n",
       "      <td>9.903745e+04</td>\n",
       "      <td>171307.0</td>\n",
       "      <td>300440.0</td>\n",
       "      <td>334893.0</td>\n",
       "      <td>441847.0</td>\n",
       "      <td>522414.0</td>\n",
       "      <td>53.0</td>\n",
       "      <td>1992.0</td>\n",
       "      <td>15.443445</td>\n",
       "      <td>1966.0</td>\n",
       "      <td>1979.0</td>\n",
       "      <td>1992.0</td>\n",
       "      <td>2005.0</td>\n",
       "      <td>2018.0</td>\n",
       "    </tr>\n",
       "    <tr>\n",
       "      <th rowspan=\"2\" valign=\"top\">I</th>\n",
       "      <th>nominal</th>\n",
       "      <td>53.0</td>\n",
       "      <td>2.117046e+05</td>\n",
       "      <td>1.431401e+05</td>\n",
       "      <td>21134.0</td>\n",
       "      <td>77012.0</td>\n",
       "      <td>175220.0</td>\n",
       "      <td>327344.0</td>\n",
       "      <td>503868.0</td>\n",
       "      <td>53.0</td>\n",
       "      <td>1992.0</td>\n",
       "      <td>15.443445</td>\n",
       "      <td>1966.0</td>\n",
       "      <td>1979.0</td>\n",
       "      <td>1992.0</td>\n",
       "      <td>2005.0</td>\n",
       "      <td>2018.0</td>\n",
       "    </tr>\n",
       "    <tr>\n",
       "      <th>real</th>\n",
       "      <td>53.0</td>\n",
       "      <td>2.655367e+05</td>\n",
       "      <td>9.925924e+04</td>\n",
       "      <td>127631.0</td>\n",
       "      <td>182647.0</td>\n",
       "      <td>228800.0</td>\n",
       "      <td>345198.0</td>\n",
       "      <td>465874.0</td>\n",
       "      <td>53.0</td>\n",
       "      <td>1992.0</td>\n",
       "      <td>15.443445</td>\n",
       "      <td>1966.0</td>\n",
       "      <td>1979.0</td>\n",
       "      <td>1992.0</td>\n",
       "      <td>2005.0</td>\n",
       "      <td>2018.0</td>\n",
       "    </tr>\n",
       "    <tr>\n",
       "      <th rowspan=\"2\" valign=\"top\">M</th>\n",
       "      <th>nominal</th>\n",
       "      <td>53.0</td>\n",
       "      <td>4.027814e+05</td>\n",
       "      <td>3.341102e+05</td>\n",
       "      <td>24406.0</td>\n",
       "      <td>117037.0</td>\n",
       "      <td>277343.0</td>\n",
       "      <td>665283.0</td>\n",
       "      <td>1094407.0</td>\n",
       "      <td>53.0</td>\n",
       "      <td>1992.0</td>\n",
       "      <td>15.443445</td>\n",
       "      <td>1966.0</td>\n",
       "      <td>1979.0</td>\n",
       "      <td>1992.0</td>\n",
       "      <td>2005.0</td>\n",
       "      <td>2018.0</td>\n",
       "    </tr>\n",
       "    <tr>\n",
       "      <th>real</th>\n",
       "      <td>53.0</td>\n",
       "      <td>4.542078e+05</td>\n",
       "      <td>2.939807e+05</td>\n",
       "      <td>112171.0</td>\n",
       "      <td>211920.0</td>\n",
       "      <td>325129.0</td>\n",
       "      <td>705349.0</td>\n",
       "      <td>1064511.0</td>\n",
       "      <td>53.0</td>\n",
       "      <td>1992.0</td>\n",
       "      <td>15.443445</td>\n",
       "      <td>1966.0</td>\n",
       "      <td>1979.0</td>\n",
       "      <td>1992.0</td>\n",
       "      <td>2005.0</td>\n",
       "      <td>2018.0</td>\n",
       "    </tr>\n",
       "    <tr>\n",
       "      <th rowspan=\"2\" valign=\"top\">X</th>\n",
       "      <th>nominal</th>\n",
       "      <td>53.0</td>\n",
       "      <td>4.518299e+05</td>\n",
       "      <td>3.806990e+05</td>\n",
       "      <td>23110.0</td>\n",
       "      <td>108220.0</td>\n",
       "      <td>339505.0</td>\n",
       "      <td>752583.0</td>\n",
       "      <td>1212911.0</td>\n",
       "      <td>53.0</td>\n",
       "      <td>1992.0</td>\n",
       "      <td>15.443445</td>\n",
       "      <td>1966.0</td>\n",
       "      <td>1979.0</td>\n",
       "      <td>1992.0</td>\n",
       "      <td>2005.0</td>\n",
       "      <td>2018.0</td>\n",
       "    </tr>\n",
       "    <tr>\n",
       "      <th>real</th>\n",
       "      <td>53.0</td>\n",
       "      <td>5.305470e+05</td>\n",
       "      <td>3.333376e+05</td>\n",
       "      <td>123594.0</td>\n",
       "      <td>232309.0</td>\n",
       "      <td>433602.0</td>\n",
       "      <td>824193.0</td>\n",
       "      <td>1165491.0</td>\n",
       "      <td>53.0</td>\n",
       "      <td>1992.0</td>\n",
       "      <td>15.443445</td>\n",
       "      <td>1966.0</td>\n",
       "      <td>1979.0</td>\n",
       "      <td>1992.0</td>\n",
       "      <td>2005.0</td>\n",
       "      <td>2018.0</td>\n",
       "    </tr>\n",
       "    <tr>\n",
       "      <th rowspan=\"2\" valign=\"top\">Y</th>\n",
       "      <th>nominal</th>\n",
       "      <td>53.0</td>\n",
       "      <td>1.692284e+06</td>\n",
       "      <td>1.176483e+06</td>\n",
       "      <td>144582.0</td>\n",
       "      <td>613364.0</td>\n",
       "      <td>1489571.0</td>\n",
       "      <td>2696588.0</td>\n",
       "      <td>3861691.0</td>\n",
       "      <td>53.0</td>\n",
       "      <td>1992.0</td>\n",
       "      <td>15.443445</td>\n",
       "      <td>1966.0</td>\n",
       "      <td>1979.0</td>\n",
       "      <td>1992.0</td>\n",
       "      <td>2005.0</td>\n",
       "      <td>2018.0</td>\n",
       "    </tr>\n",
       "    <tr>\n",
       "      <th>real</th>\n",
       "      <td>53.0</td>\n",
       "      <td>2.256787e+06</td>\n",
       "      <td>7.734025e+05</td>\n",
       "      <td>1089347.0</td>\n",
       "      <td>1594442.0</td>\n",
       "      <td>2080460.0</td>\n",
       "      <td>3042633.0</td>\n",
       "      <td>3579610.0</td>\n",
       "      <td>53.0</td>\n",
       "      <td>1992.0</td>\n",
       "      <td>15.443445</td>\n",
       "      <td>1966.0</td>\n",
       "      <td>1979.0</td>\n",
       "      <td>1992.0</td>\n",
       "      <td>2005.0</td>\n",
       "      <td>2018.0</td>\n",
       "    </tr>\n",
       "  </tbody>\n",
       "</table>\n",
       "</div>"
      ],
      "text/plain": [
       "                 value                                                    \\\n",
       "                 count          mean           std        min        25%   \n",
       "variable unit                                                              \n",
       "C        nominal  53.0  7.359192e+05  4.839760e+05    62576.0   293432.0   \n",
       "         real     53.0  1.032705e+06  2.638538e+05   549491.0   846984.0   \n",
       "G        nominal  53.0  2.491618e+05  1.725699e+05    14768.0    92219.0   \n",
       "         real     53.0  3.624659e+05  9.903745e+04   171307.0   300440.0   \n",
       "I        nominal  53.0  2.117046e+05  1.431401e+05    21134.0    77012.0   \n",
       "         real     53.0  2.655367e+05  9.925924e+04   127631.0   182647.0   \n",
       "M        nominal  53.0  4.027814e+05  3.341102e+05    24406.0   117037.0   \n",
       "         real     53.0  4.542078e+05  2.939807e+05   112171.0   211920.0   \n",
       "X        nominal  53.0  4.518299e+05  3.806990e+05    23110.0   108220.0   \n",
       "         real     53.0  5.305470e+05  3.333376e+05   123594.0   232309.0   \n",
       "Y        nominal  53.0  1.692284e+06  1.176483e+06   144582.0   613364.0   \n",
       "         real     53.0  2.256787e+06  7.734025e+05  1089347.0  1594442.0   \n",
       "\n",
       "                                                   year                     \\\n",
       "                        50%        75%        max count    mean        std   \n",
       "variable unit                                                                \n",
       "C        nominal   684449.0  1146493.0  1595950.0  53.0  1992.0  15.443445   \n",
       "         real      981584.0  1283510.0  1482029.0  53.0  1992.0  15.443445   \n",
       "G        nominal   223028.0   388545.0   546484.0  53.0  1992.0  15.443445   \n",
       "         real      334893.0   441847.0   522414.0  53.0  1992.0  15.443445   \n",
       "I        nominal   175220.0   327344.0   503868.0  53.0  1992.0  15.443445   \n",
       "         real      228800.0   345198.0   465874.0  53.0  1992.0  15.443445   \n",
       "M        nominal   277343.0   665283.0  1094407.0  53.0  1992.0  15.443445   \n",
       "         real      325129.0   705349.0  1064511.0  53.0  1992.0  15.443445   \n",
       "X        nominal   339505.0   752583.0  1212911.0  53.0  1992.0  15.443445   \n",
       "         real      433602.0   824193.0  1165491.0  53.0  1992.0  15.443445   \n",
       "Y        nominal  1489571.0  2696588.0  3861691.0  53.0  1992.0  15.443445   \n",
       "         real     2080460.0  3042633.0  3579610.0  53.0  1992.0  15.443445   \n",
       "\n",
       "                                                          \n",
       "                     min     25%     50%     75%     max  \n",
       "variable unit                                             \n",
       "C        nominal  1966.0  1979.0  1992.0  2005.0  2018.0  \n",
       "         real     1966.0  1979.0  1992.0  2005.0  2018.0  \n",
       "G        nominal  1966.0  1979.0  1992.0  2005.0  2018.0  \n",
       "         real     1966.0  1979.0  1992.0  2005.0  2018.0  \n",
       "I        nominal  1966.0  1979.0  1992.0  2005.0  2018.0  \n",
       "         real     1966.0  1979.0  1992.0  2005.0  2018.0  \n",
       "M        nominal  1966.0  1979.0  1992.0  2005.0  2018.0  \n",
       "         real     1966.0  1979.0  1992.0  2005.0  2018.0  \n",
       "X        nominal  1966.0  1979.0  1992.0  2005.0  2018.0  \n",
       "         real     1966.0  1979.0  1992.0  2005.0  2018.0  \n",
       "Y        nominal  1966.0  1979.0  1992.0  2005.0  2018.0  \n",
       "         real     1966.0  1979.0  1992.0  2005.0  2018.0  "
      ]
     },
     "execution_count": 7,
     "metadata": {},
     "output_type": "execute_result"
    }
   ],
   "source": [
    "# a. load\n",
    "nah1_true = dst.get_data(table_id = 'NAH1', variables={'TRANSAKT':['*'], 'PRISENHED':['*'], 'TID':['*']})\n",
    "\n",
    "# b. rename and replace\n",
    "nah1_true.rename(columns=columns_dict,inplace=True)\n",
    "\n",
    "# c. replace data\n",
    "for key,value in var_dict.items():\n",
    "   nah1_true.variable.replace(key,value,inplace=True)\n",
    "\n",
    "for key,value in unit_dict.items():\n",
    "   nah1_true.unit.replace(key,value,inplace=True)\n",
    "\n",
    "# d. keep if in var_dict\n",
    "I = False\n",
    "for key,value in var_dict.items():\n",
    "    I = I | (nah1_true.variable == value)\n",
    "nah1_true = nah1_true[I]\n",
    "   \n",
    "# e. convert values to numeric\n",
    "nah1_true.value = nah1_true.value.astype('float')\n",
    "\n",
    "# d. summary statistics\n",
    "nah1_true.groupby(['variable','unit']).describe()"
   ]
  },
  {
   "cell_type": "markdown",
   "metadata": {},
   "source": [
    "## Merge with population data from Denmark Statistics"
   ]
  },
  {
   "cell_type": "markdown",
   "metadata": {},
   "source": [
    "Load population data from Denmark Statistics:"
   ]
  },
  {
   "cell_type": "code",
   "execution_count": 8,
   "metadata": {},
   "outputs": [
    {
     "data": {
      "text/html": [
       "<div>\n",
       "<style scoped>\n",
       "    .dataframe tbody tr th:only-of-type {\n",
       "        vertical-align: middle;\n",
       "    }\n",
       "\n",
       "    .dataframe tbody tr th {\n",
       "        vertical-align: top;\n",
       "    }\n",
       "\n",
       "    .dataframe thead th {\n",
       "        text-align: right;\n",
       "    }\n",
       "</style>\n",
       "<table border=\"1\" class=\"dataframe\">\n",
       "  <thead>\n",
       "    <tr style=\"text-align: right;\">\n",
       "      <th></th>\n",
       "      <th>year</th>\n",
       "      <th>population</th>\n",
       "    </tr>\n",
       "  </thead>\n",
       "  <tbody>\n",
       "    <tr>\n",
       "      <th>0</th>\n",
       "      <td>1769</td>\n",
       "      <td>797584</td>\n",
       "    </tr>\n",
       "    <tr>\n",
       "      <th>8</th>\n",
       "      <td>1787</td>\n",
       "      <td>841806</td>\n",
       "    </tr>\n",
       "    <tr>\n",
       "      <th>16</th>\n",
       "      <td>1801</td>\n",
       "      <td>929001</td>\n",
       "    </tr>\n",
       "    <tr>\n",
       "      <th>24</th>\n",
       "      <td>1834</td>\n",
       "      <td>1230964</td>\n",
       "    </tr>\n",
       "    <tr>\n",
       "      <th>32</th>\n",
       "      <td>1840</td>\n",
       "      <td>1289075</td>\n",
       "    </tr>\n",
       "  </tbody>\n",
       "</table>\n",
       "</div>"
      ],
      "text/plain": [
       "    year  population\n",
       "0   1769      797584\n",
       "8   1787      841806\n",
       "16  1801      929001\n",
       "24  1834     1230964\n",
       "32  1840     1289075"
      ]
     },
     "execution_count": 8,
     "metadata": {},
     "output_type": "execute_result"
    }
   ],
   "source": [
    "pop = dst.get_data(table_id = 'FT', variables={'HOVEDDELE':['*'], 'TID':['*']})\n",
    "pop.rename(columns={'TID':'year','INDHOLD':'population'},inplace=True)\n",
    "I = pop.HOVEDDELE == 'All Denmark'\n",
    "pop =  pop.loc[I,['year','population']]\n",
    "pop.head()"
   ]
  },
  {
   "cell_type": "markdown",
   "metadata": {},
   "source": [
    "**Question 1:** Merge the population and the national account data, so there is a new column called `population`. Use the **merge function**."
   ]
  },
  {
   "cell_type": "code",
   "execution_count": 9,
   "metadata": {},
   "outputs": [],
   "source": [
    "# hint, merged = pd.merge(?,?,how='?',on=[?])\n",
    "# merged_true.tail(10)"
   ]
  },
  {
   "cell_type": "markdown",
   "metadata": {},
   "source": [
    "**Answer:**"
   ]
  },
  {
   "cell_type": "code",
   "execution_count": 10,
   "metadata": {
    "jupyter": {
     "source_hidden": true
    }
   },
   "outputs": [
    {
     "data": {
      "text/html": [
       "<div>\n",
       "<style scoped>\n",
       "    .dataframe tbody tr th:only-of-type {\n",
       "        vertical-align: middle;\n",
       "    }\n",
       "\n",
       "    .dataframe tbody tr th {\n",
       "        vertical-align: top;\n",
       "    }\n",
       "\n",
       "    .dataframe thead th {\n",
       "        text-align: right;\n",
       "    }\n",
       "</style>\n",
       "<table border=\"1\" class=\"dataframe\">\n",
       "  <thead>\n",
       "    <tr style=\"text-align: right;\">\n",
       "      <th></th>\n",
       "      <th>variable</th>\n",
       "      <th>unit</th>\n",
       "      <th>year</th>\n",
       "      <th>value</th>\n",
       "      <th>population</th>\n",
       "    </tr>\n",
       "  </thead>\n",
       "  <tbody>\n",
       "    <tr>\n",
       "      <th>626</th>\n",
       "      <td>C</td>\n",
       "      <td>real</td>\n",
       "      <td>2018</td>\n",
       "      <td>1482029.0</td>\n",
       "      <td>5781190.0</td>\n",
       "    </tr>\n",
       "    <tr>\n",
       "      <th>627</th>\n",
       "      <td>C</td>\n",
       "      <td>nominal</td>\n",
       "      <td>2018</td>\n",
       "      <td>1595950.0</td>\n",
       "      <td>5781190.0</td>\n",
       "    </tr>\n",
       "    <tr>\n",
       "      <th>628</th>\n",
       "      <td>G</td>\n",
       "      <td>real</td>\n",
       "      <td>2018</td>\n",
       "      <td>522414.0</td>\n",
       "      <td>5781190.0</td>\n",
       "    </tr>\n",
       "    <tr>\n",
       "      <th>629</th>\n",
       "      <td>G</td>\n",
       "      <td>nominal</td>\n",
       "      <td>2018</td>\n",
       "      <td>546484.0</td>\n",
       "      <td>5781190.0</td>\n",
       "    </tr>\n",
       "    <tr>\n",
       "      <th>630</th>\n",
       "      <td>I</td>\n",
       "      <td>real</td>\n",
       "      <td>2018</td>\n",
       "      <td>465874.0</td>\n",
       "      <td>5781190.0</td>\n",
       "    </tr>\n",
       "    <tr>\n",
       "      <th>631</th>\n",
       "      <td>I</td>\n",
       "      <td>nominal</td>\n",
       "      <td>2018</td>\n",
       "      <td>503868.0</td>\n",
       "      <td>5781190.0</td>\n",
       "    </tr>\n",
       "    <tr>\n",
       "      <th>632</th>\n",
       "      <td>X</td>\n",
       "      <td>real</td>\n",
       "      <td>2018</td>\n",
       "      <td>1165491.0</td>\n",
       "      <td>5781190.0</td>\n",
       "    </tr>\n",
       "    <tr>\n",
       "      <th>633</th>\n",
       "      <td>X</td>\n",
       "      <td>nominal</td>\n",
       "      <td>2018</td>\n",
       "      <td>1212911.0</td>\n",
       "      <td>5781190.0</td>\n",
       "    </tr>\n",
       "    <tr>\n",
       "      <th>634</th>\n",
       "      <td>M</td>\n",
       "      <td>real</td>\n",
       "      <td>2018</td>\n",
       "      <td>1064511.0</td>\n",
       "      <td>5781190.0</td>\n",
       "    </tr>\n",
       "    <tr>\n",
       "      <th>635</th>\n",
       "      <td>M</td>\n",
       "      <td>nominal</td>\n",
       "      <td>2018</td>\n",
       "      <td>1094407.0</td>\n",
       "      <td>5781190.0</td>\n",
       "    </tr>\n",
       "  </tbody>\n",
       "</table>\n",
       "</div>"
      ],
      "text/plain": [
       "    variable     unit  year      value  population\n",
       "626        C     real  2018  1482029.0   5781190.0\n",
       "627        C  nominal  2018  1595950.0   5781190.0\n",
       "628        G     real  2018   522414.0   5781190.0\n",
       "629        G  nominal  2018   546484.0   5781190.0\n",
       "630        I     real  2018   465874.0   5781190.0\n",
       "631        I  nominal  2018   503868.0   5781190.0\n",
       "632        X     real  2018  1165491.0   5781190.0\n",
       "633        X  nominal  2018  1212911.0   5781190.0\n",
       "634        M     real  2018  1064511.0   5781190.0\n",
       "635        M  nominal  2018  1094407.0   5781190.0"
      ]
     },
     "execution_count": 10,
     "metadata": {},
     "output_type": "execute_result"
    }
   ],
   "source": [
    "merged_true = pd.merge(nah1_true,pop,how='left',on=['year'])\n",
    "merged_true.tail(10)"
   ]
  },
  {
   "cell_type": "markdown",
   "metadata": {},
   "source": [
    "**Question 2:** Merge the population on again, so there is a new column called `population_alt`. Use the **join method**."
   ]
  },
  {
   "cell_type": "code",
   "execution_count": 11,
   "metadata": {},
   "outputs": [],
   "source": [
    "# pop_with_index = pop.set_index(?)\n",
    "# pop_with_index.rename(columns={'population':'population_alt'},inplace=True)\n",
    "# merged_with_index = merged.set_index(?)\n",
    "# merged_alt = merged_with_index.join(?)\n",
    "# merged_alt.tail(10)"
   ]
  },
  {
   "cell_type": "markdown",
   "metadata": {},
   "source": [
    "**Answer:**"
   ]
  },
  {
   "cell_type": "code",
   "execution_count": 12,
   "metadata": {
    "jupyter": {
     "source_hidden": true
    }
   },
   "outputs": [
    {
     "data": {
      "text/html": [
       "<div>\n",
       "<style scoped>\n",
       "    .dataframe tbody tr th:only-of-type {\n",
       "        vertical-align: middle;\n",
       "    }\n",
       "\n",
       "    .dataframe tbody tr th {\n",
       "        vertical-align: top;\n",
       "    }\n",
       "\n",
       "    .dataframe thead th {\n",
       "        text-align: right;\n",
       "    }\n",
       "</style>\n",
       "<table border=\"1\" class=\"dataframe\">\n",
       "  <thead>\n",
       "    <tr style=\"text-align: right;\">\n",
       "      <th></th>\n",
       "      <th>variable</th>\n",
       "      <th>unit</th>\n",
       "      <th>value</th>\n",
       "      <th>population</th>\n",
       "      <th>population_alt</th>\n",
       "    </tr>\n",
       "    <tr>\n",
       "      <th>year</th>\n",
       "      <th></th>\n",
       "      <th></th>\n",
       "      <th></th>\n",
       "      <th></th>\n",
       "      <th></th>\n",
       "    </tr>\n",
       "  </thead>\n",
       "  <tbody>\n",
       "    <tr>\n",
       "      <th>2018</th>\n",
       "      <td>C</td>\n",
       "      <td>real</td>\n",
       "      <td>1482029.0</td>\n",
       "      <td>5781190.0</td>\n",
       "      <td>5781190.0</td>\n",
       "    </tr>\n",
       "    <tr>\n",
       "      <th>2018</th>\n",
       "      <td>C</td>\n",
       "      <td>nominal</td>\n",
       "      <td>1595950.0</td>\n",
       "      <td>5781190.0</td>\n",
       "      <td>5781190.0</td>\n",
       "    </tr>\n",
       "    <tr>\n",
       "      <th>2018</th>\n",
       "      <td>G</td>\n",
       "      <td>real</td>\n",
       "      <td>522414.0</td>\n",
       "      <td>5781190.0</td>\n",
       "      <td>5781190.0</td>\n",
       "    </tr>\n",
       "    <tr>\n",
       "      <th>2018</th>\n",
       "      <td>G</td>\n",
       "      <td>nominal</td>\n",
       "      <td>546484.0</td>\n",
       "      <td>5781190.0</td>\n",
       "      <td>5781190.0</td>\n",
       "    </tr>\n",
       "    <tr>\n",
       "      <th>2018</th>\n",
       "      <td>I</td>\n",
       "      <td>real</td>\n",
       "      <td>465874.0</td>\n",
       "      <td>5781190.0</td>\n",
       "      <td>5781190.0</td>\n",
       "    </tr>\n",
       "    <tr>\n",
       "      <th>2018</th>\n",
       "      <td>I</td>\n",
       "      <td>nominal</td>\n",
       "      <td>503868.0</td>\n",
       "      <td>5781190.0</td>\n",
       "      <td>5781190.0</td>\n",
       "    </tr>\n",
       "    <tr>\n",
       "      <th>2018</th>\n",
       "      <td>X</td>\n",
       "      <td>real</td>\n",
       "      <td>1165491.0</td>\n",
       "      <td>5781190.0</td>\n",
       "      <td>5781190.0</td>\n",
       "    </tr>\n",
       "    <tr>\n",
       "      <th>2018</th>\n",
       "      <td>X</td>\n",
       "      <td>nominal</td>\n",
       "      <td>1212911.0</td>\n",
       "      <td>5781190.0</td>\n",
       "      <td>5781190.0</td>\n",
       "    </tr>\n",
       "    <tr>\n",
       "      <th>2018</th>\n",
       "      <td>M</td>\n",
       "      <td>real</td>\n",
       "      <td>1064511.0</td>\n",
       "      <td>5781190.0</td>\n",
       "      <td>5781190.0</td>\n",
       "    </tr>\n",
       "    <tr>\n",
       "      <th>2018</th>\n",
       "      <td>M</td>\n",
       "      <td>nominal</td>\n",
       "      <td>1094407.0</td>\n",
       "      <td>5781190.0</td>\n",
       "      <td>5781190.0</td>\n",
       "    </tr>\n",
       "  </tbody>\n",
       "</table>\n",
       "</div>"
      ],
      "text/plain": [
       "     variable     unit      value  population  population_alt\n",
       "year                                                         \n",
       "2018        C     real  1482029.0   5781190.0       5781190.0\n",
       "2018        C  nominal  1595950.0   5781190.0       5781190.0\n",
       "2018        G     real   522414.0   5781190.0       5781190.0\n",
       "2018        G  nominal   546484.0   5781190.0       5781190.0\n",
       "2018        I     real   465874.0   5781190.0       5781190.0\n",
       "2018        I  nominal   503868.0   5781190.0       5781190.0\n",
       "2018        X     real  1165491.0   5781190.0       5781190.0\n",
       "2018        X  nominal  1212911.0   5781190.0       5781190.0\n",
       "2018        M     real  1064511.0   5781190.0       5781190.0\n",
       "2018        M  nominal  1094407.0   5781190.0       5781190.0"
      ]
     },
     "execution_count": 12,
     "metadata": {},
     "output_type": "execute_result"
    }
   ],
   "source": [
    "pop_with_index = pop.set_index('year')\n",
    "pop_with_index.rename(columns={'population':'population_alt'},inplace=True)\n",
    "merged_true_with_index = merged_true.set_index('year')\n",
    "merged_true_alt = merged_true_with_index.join(pop_with_index)\n",
    "merged_true_alt.tail(10)"
   ]
  },
  {
   "cell_type": "markdown",
   "metadata": {},
   "source": [
    "## Split-apply-combine-(plot)"
   ]
  },
  {
   "cell_type": "markdown",
   "metadata": {},
   "source": [
    "Consider the following **split-apply-combine-plot:**"
   ]
  },
  {
   "cell_type": "code",
   "execution_count": 13,
   "metadata": {},
   "outputs": [
    {
     "data": {
      "image/png": "[encoded data removed]",
      "text/plain": [
       "<Figure size 432x288 with 1 Axes>"
      ]
     },
     "metadata": {
      "needs_background": "light"
     },
     "output_type": "display_data"
    }
   ],
   "source": [
    "# a. split\n",
    "nah1_true_grouped = nah1_true.groupby(['variable','unit'])\n",
    "nah1_true_grouped_first = nah1_true_grouped.value.first()\n",
    "nah1_true_grouped_first.name = 'first'\n",
    "\n",
    "# b. apply\n",
    "nah1_true.set_index(['variable','unit','year'],inplace=True)\n",
    "nah1_true = nah1_true.join(nah1_true_grouped_first,how='left',on=['variable','unit'])\n",
    "nah1_true.reset_index(inplace=True)\n",
    "\n",
    "# c. combine\n",
    "nah1_true['indexed'] = nah1_true['value']/nah1_true['first']\n",
    "\n",
    "# d. plot\n",
    "def plot(df):\n",
    "    df_indexed = df.set_index('year')\n",
    "    I = df_indexed.unit == 'real'\n",
    "    df_indexed[I].groupby(['variable'])['indexed'].plot(legend=True);\n",
    "    \n",
    "plot(nah1_true)"
   ]
  },
  {
   "cell_type": "markdown",
   "metadata": {},
   "source": [
    "**Question** Implement the same split-apply-combine as above using `transform`."
   ]
  },
  {
   "cell_type": "code",
   "execution_count": 14,
   "metadata": {},
   "outputs": [],
   "source": [
    "def first(x): # select the first element in a series\n",
    "    return x.iloc[0]\n",
    "\n",
    "# nah1_alt = nah1_final.copy()\n",
    "# grouped = nah1_alt.groupby(?)\n",
    "#nah1_alt[?] = ?.transform(lambda x: ?)\n",
    "#nah1_alt.head()"
   ]
  },
  {
   "cell_type": "markdown",
   "metadata": {},
   "source": [
    "**Answer:**"
   ]
  },
  {
   "cell_type": "code",
   "execution_count": 15,
   "metadata": {
    "jupyter": {
     "source_hidden": true
    }
   },
   "outputs": [
    {
     "data": {
      "text/html": [
       "<div>\n",
       "<style scoped>\n",
       "    .dataframe tbody tr th:only-of-type {\n",
       "        vertical-align: middle;\n",
       "    }\n",
       "\n",
       "    .dataframe tbody tr th {\n",
       "        vertical-align: top;\n",
       "    }\n",
       "\n",
       "    .dataframe thead th {\n",
       "        text-align: right;\n",
       "    }\n",
       "</style>\n",
       "<table border=\"1\" class=\"dataframe\">\n",
       "  <thead>\n",
       "    <tr style=\"text-align: right;\">\n",
       "      <th></th>\n",
       "      <th>variable</th>\n",
       "      <th>unit</th>\n",
       "      <th>year</th>\n",
       "      <th>value</th>\n",
       "      <th>first</th>\n",
       "      <th>indexed</th>\n",
       "      <th>index_transform</th>\n",
       "    </tr>\n",
       "  </thead>\n",
       "  <tbody>\n",
       "    <tr>\n",
       "      <th>0</th>\n",
       "      <td>Y</td>\n",
       "      <td>real</td>\n",
       "      <td>1966</td>\n",
       "      <td>1089347.0</td>\n",
       "      <td>1089347.0</td>\n",
       "      <td>1.0</td>\n",
       "      <td>1.0</td>\n",
       "    </tr>\n",
       "    <tr>\n",
       "      <th>1</th>\n",
       "      <td>Y</td>\n",
       "      <td>nominal</td>\n",
       "      <td>1966</td>\n",
       "      <td>144582.0</td>\n",
       "      <td>144582.0</td>\n",
       "      <td>1.0</td>\n",
       "      <td>1.0</td>\n",
       "    </tr>\n",
       "    <tr>\n",
       "      <th>2</th>\n",
       "      <td>C</td>\n",
       "      <td>real</td>\n",
       "      <td>1966</td>\n",
       "      <td>549491.0</td>\n",
       "      <td>549491.0</td>\n",
       "      <td>1.0</td>\n",
       "      <td>1.0</td>\n",
       "    </tr>\n",
       "    <tr>\n",
       "      <th>3</th>\n",
       "      <td>C</td>\n",
       "      <td>nominal</td>\n",
       "      <td>1966</td>\n",
       "      <td>62576.0</td>\n",
       "      <td>62576.0</td>\n",
       "      <td>1.0</td>\n",
       "      <td>1.0</td>\n",
       "    </tr>\n",
       "    <tr>\n",
       "      <th>4</th>\n",
       "      <td>G</td>\n",
       "      <td>real</td>\n",
       "      <td>1966</td>\n",
       "      <td>171307.0</td>\n",
       "      <td>171307.0</td>\n",
       "      <td>1.0</td>\n",
       "      <td>1.0</td>\n",
       "    </tr>\n",
       "  </tbody>\n",
       "</table>\n",
       "</div>"
      ],
      "text/plain": [
       "  variable     unit  year      value      first  indexed  index_transform\n",
       "0        Y     real  1966  1089347.0  1089347.0      1.0              1.0\n",
       "1        Y  nominal  1966   144582.0   144582.0      1.0              1.0\n",
       "2        C     real  1966   549491.0   549491.0      1.0              1.0\n",
       "3        C  nominal  1966    62576.0    62576.0      1.0              1.0\n",
       "4        G     real  1966   171307.0   171307.0      1.0              1.0"
      ]
     },
     "execution_count": 15,
     "metadata": {},
     "output_type": "execute_result"
    }
   ],
   "source": [
    "nah1_true_alt = nah1_true.copy()\n",
    "grouped = nah1_true_alt.groupby(['variable','unit'])\n",
    "nah1_true_alt['index_transform'] = grouped['value'].transform(lambda x: x/first(x))\n",
    "nah1_true_alt.head()"
   ]
  },
  {
   "cell_type": "markdown",
   "metadata": {},
   "source": [
    "# Problem: The Housing market\n"
   ]
  },
  {
   "cell_type": "markdown",
   "metadata": {},
   "source": [
    "## Housing data"
   ]
  },
  {
   "cell_type": "markdown",
   "metadata": {},
   "source": [
    "**Note:** The file `data/bm010_parcel.xlsx` has been downloaded from http://rkr.statistikbank.dk/201.\n",
    "\n",
    "**Question:** Go through the cell below and ensure you understand ALL commands."
   ]
  },
  {
   "cell_type": "code",
   "execution_count": 16,
   "metadata": {},
   "outputs": [
    {
     "data": {
      "text/html": [
       "<div>\n",
       "<style scoped>\n",
       "    .dataframe tbody tr th:only-of-type {\n",
       "        vertical-align: middle;\n",
       "    }\n",
       "\n",
       "    .dataframe tbody tr th {\n",
       "        vertical-align: top;\n",
       "    }\n",
       "\n",
       "    .dataframe thead th {\n",
       "        text-align: right;\n",
       "    }\n",
       "</style>\n",
       "<table border=\"1\" class=\"dataframe\">\n",
       "  <thead>\n",
       "    <tr style=\"text-align: right;\">\n",
       "      <th></th>\n",
       "      <th>municipality</th>\n",
       "      <th>price</th>\n",
       "      <th>date</th>\n",
       "    </tr>\n",
       "  </thead>\n",
       "  <tbody>\n",
       "    <tr>\n",
       "      <th>0</th>\n",
       "      <td>Hele landet</td>\n",
       "      <td>4021.0</td>\n",
       "      <td>1992-01-01</td>\n",
       "    </tr>\n",
       "    <tr>\n",
       "      <th>1</th>\n",
       "      <td>Region Hovedstaden</td>\n",
       "      <td>5836.0</td>\n",
       "      <td>1992-01-01</td>\n",
       "    </tr>\n",
       "    <tr>\n",
       "      <th>2</th>\n",
       "      <td>Landsdel København by</td>\n",
       "      <td>5658.0</td>\n",
       "      <td>1992-01-01</td>\n",
       "    </tr>\n",
       "    <tr>\n",
       "      <th>3</th>\n",
       "      <td>København</td>\n",
       "      <td>5355.0</td>\n",
       "      <td>1992-01-01</td>\n",
       "    </tr>\n",
       "    <tr>\n",
       "      <th>4</th>\n",
       "      <td>Frederiksberg</td>\n",
       "      <td>5183.0</td>\n",
       "      <td>1992-01-01</td>\n",
       "    </tr>\n",
       "  </tbody>\n",
       "</table>\n",
       "</div>"
      ],
      "text/plain": [
       "            municipality   price       date\n",
       "0            Hele landet  4021.0 1992-01-01\n",
       "1     Region Hovedstaden  5836.0 1992-01-01\n",
       "2  Landsdel København by  5658.0 1992-01-01\n",
       "3              København  5355.0 1992-01-01\n",
       "4          Frederiksberg  5183.0 1992-01-01"
      ]
     },
     "execution_count": 16,
     "metadata": {},
     "output_type": "execute_result"
    }
   ],
   "source": [
    "# a. load data\n",
    "prices = pd.read_excel('data/bm010_parcel.xlsx', skiprows=2)\n",
    "prices.rename(columns={'Unnamed: 2': 'municipality'}, inplace=True)\n",
    "\n",
    "# b. delete columns\n",
    "del prices['Unnamed: 0']\n",
    "del prices['Unnamed: 1']\n",
    "\n",
    "# c. rename time columns: 1992K1 -> price19921\n",
    "time_dict = {} \n",
    "for y in range(1992,2018+1): \n",
    "    for k in range(1,4+1): \n",
    "        str_from = f'{y}K{k}'\n",
    "        str_to   = f'price{y}{k}'\n",
    "        time_dict[str_from] = str_to\n",
    "prices = prices.rename(columns = time_dict)        \n",
    "\n",
    "# d. drop missing\n",
    "prices = prices.dropna()\n",
    "\n",
    "# e. convert to long\n",
    "prices_long = pd.wide_to_long(prices, stubnames='price', i='municipality', j='year_quarter')\n",
    "prices_long.reset_index(inplace=True)\n",
    "\n",
    "# f. drop missing and convert to float\n",
    "I = prices_long.loc[prices_long.price == '..']\n",
    "prices_long.drop(I.index, inplace=True)\n",
    "prices_long.price = prices_long.price.astype('float')\n",
    "\n",
    "# g. create date variable\n",
    "prices_long['d'] = (prices_long.year_quarter.astype(str).str[:4] # grab the year, first four digits\n",
    "          + 'Q' # add the letter Q \n",
    "          + prices_long.year_quarter.astype(str).str[4]) # the quarter (fifth digit)\n",
    "prices_long['date'] = pd.to_datetime(prices_long.d)\n",
    "\n",
    "# h. cleanup \n",
    "del prices_long['year_quarter']\n",
    "del prices_long['d']\n",
    "\n",
    "prices_long.head()"
   ]
  },
  {
   "cell_type": "markdown",
   "metadata": {},
   "source": [
    "## Population data"
   ]
  },
  {
   "cell_type": "markdown",
   "metadata": {},
   "source": [
    "**Question:** Go through the cell below and ensure you understand ALL commands."
   ]
  },
  {
   "cell_type": "code",
   "execution_count": 17,
   "metadata": {},
   "outputs": [
    {
     "data": {
      "text/html": [
       "<div>\n",
       "<style scoped>\n",
       "    .dataframe tbody tr th:only-of-type {\n",
       "        vertical-align: middle;\n",
       "    }\n",
       "\n",
       "    .dataframe tbody tr th {\n",
       "        vertical-align: top;\n",
       "    }\n",
       "\n",
       "    .dataframe thead th {\n",
       "        text-align: right;\n",
       "    }\n",
       "</style>\n",
       "<table border=\"1\" class=\"dataframe\">\n",
       "  <thead>\n",
       "    <tr style=\"text-align: right;\">\n",
       "      <th></th>\n",
       "      <th>municipality</th>\n",
       "      <th>population</th>\n",
       "      <th>date</th>\n",
       "    </tr>\n",
       "  </thead>\n",
       "  <tbody>\n",
       "    <tr>\n",
       "      <th>0</th>\n",
       "      <td>Brøndby</td>\n",
       "      <td>35050</td>\n",
       "      <td>2015-01-01</td>\n",
       "    </tr>\n",
       "    <tr>\n",
       "      <th>1</th>\n",
       "      <td>Brøndby</td>\n",
       "      <td>34084</td>\n",
       "      <td>2012-01-01</td>\n",
       "    </tr>\n",
       "    <tr>\n",
       "      <th>2</th>\n",
       "      <td>Hvidovre</td>\n",
       "      <td>51270</td>\n",
       "      <td>2012-10-01</td>\n",
       "    </tr>\n",
       "    <tr>\n",
       "      <th>3</th>\n",
       "      <td>Gentofte</td>\n",
       "      <td>75365</td>\n",
       "      <td>2016-04-01</td>\n",
       "    </tr>\n",
       "    <tr>\n",
       "      <th>4</th>\n",
       "      <td>Brøndby</td>\n",
       "      <td>33856</td>\n",
       "      <td>2010-07-01</td>\n",
       "    </tr>\n",
       "  </tbody>\n",
       "</table>\n",
       "</div>"
      ],
      "text/plain": [
       "  municipality  population       date\n",
       "0      Brøndby       35050 2015-01-01\n",
       "1      Brøndby       34084 2012-01-01\n",
       "2     Hvidovre       51270 2012-10-01\n",
       "3     Gentofte       75365 2016-04-01\n",
       "4      Brøndby       33856 2010-07-01"
      ]
     },
     "execution_count": 17,
     "metadata": {},
     "output_type": "execute_result"
    }
   ],
   "source": [
    "# a. load data\n",
    "pop = dst.get_data(table_id='FOLK1A', variables={'Alder':['IALT'], 'CIVILSTAND':['TOT'], 'Køn':['TOT'], 'Tid':['*'], 'OMRÅDE':['*']})\n",
    "\n",
    "# b. drop and rename columns\n",
    "for v in ['ALDER', 'CIVILSTAND', 'KØN']: \n",
    "    del pop[v]\n",
    "pop = pop.rename(columns = {'INDHOLD':'population', 'OMRÅDE': 'municipality'})\n",
    "\n",
    "# c. drop non-municipalities\n",
    "for val in ['Region', 'All']: \n",
    "    I = pop['municipality'].str.contains(val)\n",
    "    pop.drop(pop[I].index, inplace=True)\n",
    "\n",
    "# d. convert to date\n",
    "pop['date'] = pd.to_datetime(pop.TID)\n",
    "del pop['TID']\n",
    "\n",
    "pop.head()"
   ]
  },
  {
   "cell_type": "markdown",
   "metadata": {},
   "source": [
    "## Analysis"
   ]
  },
  {
   "cell_type": "markdown",
   "metadata": {},
   "source": [
    "**Problem:** Analyze the co-variation betwen population growth and house price growth. Reproduce the graphs below. \n",
    "\n",
    "**Hint:** For the second one consider the `agg` method (similar to but different from `transform`, Google it)."
   ]
  },
  {
   "cell_type": "code",
   "execution_count": 18,
   "metadata": {},
   "outputs": [],
   "source": [
    "# write your code here "
   ]
  },
  {
   "cell_type": "markdown",
   "metadata": {},
   "source": [
    "**Answer:**"
   ]
  },
  {
   "cell_type": "code",
   "execution_count": 19,
   "metadata": {
    "jupyter": {
     "source_hidden": true
    }
   },
   "outputs": [
    {
     "data": {
      "image/png": "[encoded data removed]",
      "text/plain": [
       "<Figure size 432x288 with 1 Axes>"
      ]
     },
     "metadata": {
      "needs_background": "light"
     },
     "output_type": "display_data"
    },
    {
     "data": {
      "image/png": "[encoded data removed]",
      "text/plain": [
       "<Figure size 432x288 with 1 Axes>"
      ]
     },
     "metadata": {
      "needs_background": "light"
     },
     "output_type": "display_data"
    }
   ],
   "source": [
    "# a. merge\n",
    "full = pd.merge(pop, prices_long, on=['date','municipality'], how='left')\n",
    "full.sort_values(['municipality','date'], inplace=True)\n",
    "\n",
    "# b. take logs\n",
    "full['log_population'] =  np.log(full['population'])\n",
    "full['log_price'] =  np.log(full['price'])\n",
    "\n",
    "# c. figur 1: log differences\n",
    "ax = full.groupby('municipality').diff(1).plot(x = 'log_population', y = 'log_price', kind = 'scatter'); \n",
    "ax.set_xlabel('log difference in population') \n",
    "ax.set_ylabel('log difference in price')\n",
    "\n",
    "# c. figur 2: mean log differences\n",
    "ax = full.groupby('municipality').agg(lambda x: np.mean(x.diff())).plot(x = 'log_population', y = 'log_price', kind = 'scatter'); \n",
    "ax.set_xlabel('within-municipality mean log difference in population')\n",
    "ax.set_ylabel('within-municipality mean log difference in price'); "
   ]
  }
 ],
 "metadata": {
  "kernelspec": {
   "display_name": "Python 3",
   "language": "python",
   "name": "python3"
  },
  "language_info": {
   "codemirror_mode": {
    "name": "ipython",
    "version": 3
   },
   "file_extension": ".py",
   "mimetype": "text/x-python",
   "name": "python",
   "nbconvert_exporter": "python",
   "pygments_lexer": "ipython3",
   "version": "3.7.1"
  },
  "toc-autonumbering": true
 },
 "nbformat": 4,
 "nbformat_minor": 2
}
